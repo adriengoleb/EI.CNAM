{
 "cells": [
  {
   "cell_type": "markdown",
   "id": "interested-passport",
   "metadata": {},
   "source": [
    "# Projet Défis EGC - Fouille de données "
   ]
  },
  {
   "cell_type": "markdown",
   "id": "cordless-salvation",
   "metadata": {},
   "source": [
    "## Import des librairies "
   ]
  },
  {
   "cell_type": "code",
   "execution_count": 1,
   "id": "pending-integer",
   "metadata": {},
   "outputs": [],
   "source": [
    "import csv\n",
    "\n",
    "from math import *\n",
    "import pandas as pd\n",
    "import numpy as np\n",
    "\n",
    "import matplotlib\n",
    "from scipy import stats\n",
    "import scipy.stats\n",
    "import scipy\n",
    "\n",
    "import matplotlib.pyplot as plt\n",
    "import matplotlib.pyplot as plt\n",
    "import seaborn as sns\n",
    "\n",
    "import re"
   ]
  },
  {
   "cell_type": "markdown",
   "id": "studied-participant",
   "metadata": {},
   "source": [
    "## Import et présentation des données"
   ]
  },
  {
   "cell_type": "code",
   "execution_count": 2,
   "id": "enhanced-romance",
   "metadata": {},
   "outputs": [
    {
     "data": {
      "text/html": [
       "<div>\n",
       "<style scoped>\n",
       "    .dataframe tbody tr th:only-of-type {\n",
       "        vertical-align: middle;\n",
       "    }\n",
       "\n",
       "    .dataframe tbody tr th {\n",
       "        vertical-align: top;\n",
       "    }\n",
       "\n",
       "    .dataframe thead th {\n",
       "        text-align: right;\n",
       "    }\n",
       "</style>\n",
       "<table border=\"1\" class=\"dataframe\">\n",
       "  <thead>\n",
       "    <tr style=\"text-align: right;\">\n",
       "      <th></th>\n",
       "      <th>ADR_SECTEUR</th>\n",
       "      <th>ANNEEDEPLANTATION</th>\n",
       "      <th>ANNEEREALISATIONDIAGNOSTIC</th>\n",
       "      <th>ANNEETRAVAUXPRECONISESDIAG</th>\n",
       "      <th>CODE</th>\n",
       "      <th>CODE_PARENT</th>\n",
       "      <th>CODE_PARENT_DESC</th>\n",
       "      <th>DIAMETREARBREAUNMETRE</th>\n",
       "      <th>ESPECE</th>\n",
       "      <th>FREQUENTATIONCIBLE</th>\n",
       "      <th>...</th>\n",
       "      <th>TYPEIMPLANTATIONPLU</th>\n",
       "      <th>VARIETE</th>\n",
       "      <th>VIGUEUR</th>\n",
       "      <th>coord_x</th>\n",
       "      <th>coord_y</th>\n",
       "      <th>DEFAUT</th>\n",
       "      <th>Collet</th>\n",
       "      <th>Houppier</th>\n",
       "      <th>Racine</th>\n",
       "      <th>Tronc</th>\n",
       "    </tr>\n",
       "  </thead>\n",
       "  <tbody>\n",
       "    <tr>\n",
       "      <th>0</th>\n",
       "      <td>5</td>\n",
       "      <td>2014</td>\n",
       "      <td>2014</td>\n",
       "      <td>2019</td>\n",
       "      <td>ESP33155</td>\n",
       "      <td>ESP385</td>\n",
       "      <td>R D Fontanelle ang Essen JO</td>\n",
       "      <td>10 à 20 cm</td>\n",
       "      <td>cordata</td>\n",
       "      <td>passages fréquents ou arrêts</td>\n",
       "      <td>...</td>\n",
       "      <td>?</td>\n",
       "      <td>?</td>\n",
       "      <td>vigoureux</td>\n",
       "      <td>1.915371e+06</td>\n",
       "      <td>4.222837e+06</td>\n",
       "      <td>0</td>\n",
       "      <td>0</td>\n",
       "      <td>0</td>\n",
       "      <td>0</td>\n",
       "      <td>0</td>\n",
       "    </tr>\n",
       "    <tr>\n",
       "      <th>1</th>\n",
       "      <td>3</td>\n",
       "      <td>2004</td>\n",
       "      <td>2013</td>\n",
       "      <td>?</td>\n",
       "      <td>ESP2079</td>\n",
       "      <td>ESP116</td>\n",
       "      <td>Crs Libération Beauvert Alliés</td>\n",
       "      <td>30 à 40 cm</td>\n",
       "      <td>acerifolia</td>\n",
       "      <td>passages fréquents et arrêts fréquents</td>\n",
       "      <td>...</td>\n",
       "      <td>?</td>\n",
       "      <td>?</td>\n",
       "      <td>vigoureux</td>\n",
       "      <td>1.913250e+06</td>\n",
       "      <td>4.222531e+06</td>\n",
       "      <td>0</td>\n",
       "      <td>0</td>\n",
       "      <td>0</td>\n",
       "      <td>0</td>\n",
       "      <td>0</td>\n",
       "    </tr>\n",
       "    <tr>\n",
       "      <th>2</th>\n",
       "      <td>3</td>\n",
       "      <td>2004</td>\n",
       "      <td>?</td>\n",
       "      <td>2014</td>\n",
       "      <td>ESP26205</td>\n",
       "      <td>ESP635</td>\n",
       "      <td>Pl R Frappat ang Eaux Claires</td>\n",
       "      <td>10 à 20 cm</td>\n",
       "      <td>grandiflora</td>\n",
       "      <td>passages fréquents ou arrêts</td>\n",
       "      <td>...</td>\n",
       "      <td>?</td>\n",
       "      <td>?</td>\n",
       "      <td>vigoureux</td>\n",
       "      <td>1.913087e+06</td>\n",
       "      <td>4.223524e+06</td>\n",
       "      <td>0</td>\n",
       "      <td>0</td>\n",
       "      <td>0</td>\n",
       "      <td>0</td>\n",
       "      <td>0</td>\n",
       "    </tr>\n",
       "    <tr>\n",
       "      <th>3</th>\n",
       "      <td>2</td>\n",
       "      <td>2004</td>\n",
       "      <td>2014</td>\n",
       "      <td>2014</td>\n",
       "      <td>ESP7496</td>\n",
       "      <td>ESP109</td>\n",
       "      <td>R François Raoult</td>\n",
       "      <td>40 à 50 cm</td>\n",
       "      <td>japonica</td>\n",
       "      <td>passages fréquents et arrêts fréquents</td>\n",
       "      <td>...</td>\n",
       "      <td>?</td>\n",
       "      <td>?</td>\n",
       "      <td>vigoureux</td>\n",
       "      <td>1.914187e+06</td>\n",
       "      <td>4.224275e+06</td>\n",
       "      <td>1</td>\n",
       "      <td>0</td>\n",
       "      <td>1</td>\n",
       "      <td>1</td>\n",
       "      <td>0</td>\n",
       "    </tr>\n",
       "    <tr>\n",
       "      <th>4</th>\n",
       "      <td>1</td>\n",
       "      <td>2004</td>\n",
       "      <td>2013</td>\n",
       "      <td>?</td>\n",
       "      <td>ESP2547</td>\n",
       "      <td>ESP194</td>\n",
       "      <td>Terminus Tram Esclangon</td>\n",
       "      <td>20 à 30 cm</td>\n",
       "      <td>americana</td>\n",
       "      <td>passages fréquents et arrêts fréquents</td>\n",
       "      <td>...</td>\n",
       "      <td>?</td>\n",
       "      <td>?</td>\n",
       "      <td>vigoureux</td>\n",
       "      <td>1.912975e+06</td>\n",
       "      <td>4.225210e+06</td>\n",
       "      <td>0</td>\n",
       "      <td>0</td>\n",
       "      <td>0</td>\n",
       "      <td>0</td>\n",
       "      <td>0</td>\n",
       "    </tr>\n",
       "    <tr>\n",
       "      <th>...</th>\n",
       "      <td>...</td>\n",
       "      <td>...</td>\n",
       "      <td>...</td>\n",
       "      <td>...</td>\n",
       "      <td>...</td>\n",
       "      <td>...</td>\n",
       "      <td>...</td>\n",
       "      <td>...</td>\n",
       "      <td>...</td>\n",
       "      <td>...</td>\n",
       "      <td>...</td>\n",
       "      <td>...</td>\n",
       "      <td>...</td>\n",
       "      <td>...</td>\n",
       "      <td>...</td>\n",
       "      <td>...</td>\n",
       "      <td>...</td>\n",
       "      <td>...</td>\n",
       "      <td>...</td>\n",
       "      <td>...</td>\n",
       "      <td>...</td>\n",
       "    </tr>\n",
       "    <tr>\n",
       "      <th>15370</th>\n",
       "      <td>3</td>\n",
       "      <td>2004</td>\n",
       "      <td>2013</td>\n",
       "      <td>?</td>\n",
       "      <td>ESP29359</td>\n",
       "      <td>ESP84</td>\n",
       "      <td>Hôtel Lesdiguières</td>\n",
       "      <td>0 à 10 cm</td>\n",
       "      <td>?</td>\n",
       "      <td>passages fréquents et arrêts fréquents</td>\n",
       "      <td>...</td>\n",
       "      <td>?</td>\n",
       "      <td>?</td>\n",
       "      <td>vigoureux</td>\n",
       "      <td>1.912985e+06</td>\n",
       "      <td>4.222215e+06</td>\n",
       "      <td>0</td>\n",
       "      <td>0</td>\n",
       "      <td>0</td>\n",
       "      <td>0</td>\n",
       "      <td>0</td>\n",
       "    </tr>\n",
       "    <tr>\n",
       "      <th>15371</th>\n",
       "      <td>4</td>\n",
       "      <td>2004</td>\n",
       "      <td>2014</td>\n",
       "      <td>2014</td>\n",
       "      <td>ESP12605</td>\n",
       "      <td>ESP1023</td>\n",
       "      <td>R Gén Mangin Alliés Jacquart</td>\n",
       "      <td>40 à 50 cm</td>\n",
       "      <td>acerifolia</td>\n",
       "      <td>passages fréquents et arrêts fréquents</td>\n",
       "      <td>...</td>\n",
       "      <td>?</td>\n",
       "      <td>?</td>\n",
       "      <td>vigoureux</td>\n",
       "      <td>1.913534e+06</td>\n",
       "      <td>4.223000e+06</td>\n",
       "      <td>0</td>\n",
       "      <td>0</td>\n",
       "      <td>0</td>\n",
       "      <td>0</td>\n",
       "      <td>0</td>\n",
       "    </tr>\n",
       "    <tr>\n",
       "      <th>15372</th>\n",
       "      <td>1</td>\n",
       "      <td>2004</td>\n",
       "      <td>2013</td>\n",
       "      <td>?</td>\n",
       "      <td>ESP15840</td>\n",
       "      <td>ESP1277</td>\n",
       "      <td>A DL Weill Arménie à Esclangon</td>\n",
       "      <td>10 à 20 cm</td>\n",
       "      <td>?</td>\n",
       "      <td>passages fréquents et arrêts fréquents</td>\n",
       "      <td>...</td>\n",
       "      <td>?</td>\n",
       "      <td>Flame</td>\n",
       "      <td>vigoureux</td>\n",
       "      <td>1.913037e+06</td>\n",
       "      <td>4.225100e+06</td>\n",
       "      <td>0</td>\n",
       "      <td>0</td>\n",
       "      <td>0</td>\n",
       "      <td>0</td>\n",
       "      <td>0</td>\n",
       "    </tr>\n",
       "    <tr>\n",
       "      <th>15373</th>\n",
       "      <td>4</td>\n",
       "      <td>2004</td>\n",
       "      <td>2014</td>\n",
       "      <td>?</td>\n",
       "      <td>ESP1436</td>\n",
       "      <td>ESP877</td>\n",
       "      <td>Av Berthelot arrêt tram MC2</td>\n",
       "      <td>10 à 20 cm</td>\n",
       "      <td>styraciflua</td>\n",
       "      <td>passages fréquents et arrêts fréquents</td>\n",
       "      <td>...</td>\n",
       "      <td>?</td>\n",
       "      <td>?</td>\n",
       "      <td>vigoureux</td>\n",
       "      <td>1.914695e+06</td>\n",
       "      <td>4.222890e+06</td>\n",
       "      <td>0</td>\n",
       "      <td>0</td>\n",
       "      <td>0</td>\n",
       "      <td>0</td>\n",
       "      <td>0</td>\n",
       "    </tr>\n",
       "    <tr>\n",
       "      <th>15374</th>\n",
       "      <td>1</td>\n",
       "      <td>2014</td>\n",
       "      <td>2014</td>\n",
       "      <td>2019</td>\n",
       "      <td>ESP33333</td>\n",
       "      <td>ESP33623</td>\n",
       "      <td>Av Martyrs Tram Nord Horowitz</td>\n",
       "      <td>10 à 20 cm</td>\n",
       "      <td>mandshurica</td>\n",
       "      <td>passages fréquents ou arrêts</td>\n",
       "      <td>...</td>\n",
       "      <td>?</td>\n",
       "      <td>Mancana</td>\n",
       "      <td>vigoureux</td>\n",
       "      <td>1.911907e+06</td>\n",
       "      <td>4.226534e+06</td>\n",
       "      <td>0</td>\n",
       "      <td>0</td>\n",
       "      <td>0</td>\n",
       "      <td>0</td>\n",
       "      <td>0</td>\n",
       "    </tr>\n",
       "  </tbody>\n",
       "</table>\n",
       "<p>15375 rows × 34 columns</p>\n",
       "</div>"
      ],
      "text/plain": [
       "       ADR_SECTEUR  ANNEEDEPLANTATION ANNEEREALISATIONDIAGNOSTIC  \\\n",
       "0                5               2014                       2014   \n",
       "1                3               2004                       2013   \n",
       "2                3               2004                          ?   \n",
       "3                2               2004                       2014   \n",
       "4                1               2004                       2013   \n",
       "...            ...                ...                        ...   \n",
       "15370            3               2004                       2013   \n",
       "15371            4               2004                       2014   \n",
       "15372            1               2004                       2013   \n",
       "15373            4               2004                       2014   \n",
       "15374            1               2014                       2014   \n",
       "\n",
       "      ANNEETRAVAUXPRECONISESDIAG      CODE CODE_PARENT  \\\n",
       "0                           2019  ESP33155      ESP385   \n",
       "1                              ?   ESP2079      ESP116   \n",
       "2                           2014  ESP26205      ESP635   \n",
       "3                           2014   ESP7496      ESP109   \n",
       "4                              ?   ESP2547      ESP194   \n",
       "...                          ...       ...         ...   \n",
       "15370                          ?  ESP29359       ESP84   \n",
       "15371                       2014  ESP12605     ESP1023   \n",
       "15372                          ?  ESP15840     ESP1277   \n",
       "15373                          ?   ESP1436      ESP877   \n",
       "15374                       2019  ESP33333    ESP33623   \n",
       "\n",
       "                     CODE_PARENT_DESC DIAMETREARBREAUNMETRE       ESPECE  \\\n",
       "0         R D Fontanelle ang Essen JO            10 à 20 cm      cordata   \n",
       "1      Crs Libération Beauvert Alliés            30 à 40 cm   acerifolia   \n",
       "2       Pl R Frappat ang Eaux Claires            10 à 20 cm  grandiflora   \n",
       "3                   R François Raoult            40 à 50 cm     japonica   \n",
       "4             Terminus Tram Esclangon            20 à 30 cm    americana   \n",
       "...                               ...                   ...          ...   \n",
       "15370              Hôtel Lesdiguières             0 à 10 cm            ?   \n",
       "15371    R Gén Mangin Alliés Jacquart            40 à 50 cm   acerifolia   \n",
       "15372  A DL Weill Arménie à Esclangon            10 à 20 cm            ?   \n",
       "15373     Av Berthelot arrêt tram MC2            10 à 20 cm  styraciflua   \n",
       "15374   Av Martyrs Tram Nord Horowitz            10 à 20 cm  mandshurica   \n",
       "\n",
       "                           FREQUENTATIONCIBLE  ... TYPEIMPLANTATIONPLU  \\\n",
       "0                passages fréquents ou arrêts  ...                   ?   \n",
       "1      passages fréquents et arrêts fréquents  ...                   ?   \n",
       "2                passages fréquents ou arrêts  ...                   ?   \n",
       "3      passages fréquents et arrêts fréquents  ...                   ?   \n",
       "4      passages fréquents et arrêts fréquents  ...                   ?   \n",
       "...                                       ...  ...                 ...   \n",
       "15370  passages fréquents et arrêts fréquents  ...                   ?   \n",
       "15371  passages fréquents et arrêts fréquents  ...                   ?   \n",
       "15372  passages fréquents et arrêts fréquents  ...                   ?   \n",
       "15373  passages fréquents et arrêts fréquents  ...                   ?   \n",
       "15374            passages fréquents ou arrêts  ...                   ?   \n",
       "\n",
       "       VARIETE    VIGUEUR       coord_x       coord_y DEFAUT Collet Houppier  \\\n",
       "0            ?  vigoureux  1.915371e+06  4.222837e+06      0      0        0   \n",
       "1            ?  vigoureux  1.913250e+06  4.222531e+06      0      0        0   \n",
       "2            ?  vigoureux  1.913087e+06  4.223524e+06      0      0        0   \n",
       "3            ?  vigoureux  1.914187e+06  4.224275e+06      1      0        1   \n",
       "4            ?  vigoureux  1.912975e+06  4.225210e+06      0      0        0   \n",
       "...        ...        ...           ...           ...    ...    ...      ...   \n",
       "15370        ?  vigoureux  1.912985e+06  4.222215e+06      0      0        0   \n",
       "15371        ?  vigoureux  1.913534e+06  4.223000e+06      0      0        0   \n",
       "15372    Flame  vigoureux  1.913037e+06  4.225100e+06      0      0        0   \n",
       "15373        ?  vigoureux  1.914695e+06  4.222890e+06      0      0        0   \n",
       "15374  Mancana  vigoureux  1.911907e+06  4.226534e+06      0      0        0   \n",
       "\n",
       "      Racine Tronc  \n",
       "0          0     0  \n",
       "1          0     0  \n",
       "2          0     0  \n",
       "3          1     0  \n",
       "4          0     0  \n",
       "...      ...   ...  \n",
       "15370      0     0  \n",
       "15371      0     0  \n",
       "15372      0     0  \n",
       "15373      0     0  \n",
       "15374      0     0  \n",
       "\n",
       "[15375 rows x 34 columns]"
      ]
     },
     "execution_count": 2,
     "metadata": {},
     "output_type": "execute_result"
    }
   ],
   "source": [
    "df_arbres = pd.read_csv('donnees-defi-egc.csv')\n",
    "df_arbres"
   ]
  },
  {
   "cell_type": "code",
   "execution_count": 3,
   "id": "middle-affect",
   "metadata": {},
   "outputs": [
    {
     "data": {
      "text/plain": [
       "pandas.core.frame.DataFrame"
      ]
     },
     "execution_count": 3,
     "metadata": {},
     "output_type": "execute_result"
    }
   ],
   "source": [
    "type(df_arbres)"
   ]
  },
  {
   "cell_type": "code",
   "execution_count": 4,
   "id": "radical-spoke",
   "metadata": {},
   "outputs": [
    {
     "name": "stdout",
     "output_type": "stream",
     "text": [
      "(15375, 34)\n"
     ]
    }
   ],
   "source": [
    "#15375 lignes/arbres et 34 colonnes/variables, caractéristiques\n",
    "print(df_arbres.shape)"
   ]
  },
  {
   "cell_type": "code",
   "execution_count": 5,
   "id": "typical-colors",
   "metadata": {},
   "outputs": [
    {
     "name": "stdout",
     "output_type": "stream",
     "text": [
      "<class 'pandas.core.frame.DataFrame'>\n",
      "RangeIndex: 15375 entries, 0 to 15374\n",
      "Data columns (total 34 columns):\n",
      " #   Column                      Non-Null Count  Dtype  \n",
      "---  ------                      --------------  -----  \n",
      " 0   ADR_SECTEUR                 15375 non-null  int64  \n",
      " 1   ANNEEDEPLANTATION           15375 non-null  int64  \n",
      " 2   ANNEEREALISATIONDIAGNOSTIC  15375 non-null  object \n",
      " 3   ANNEETRAVAUXPRECONISESDIAG  15375 non-null  object \n",
      " 4   CODE                        15375 non-null  object \n",
      " 5   CODE_PARENT                 15375 non-null  object \n",
      " 6   CODE_PARENT_DESC            15375 non-null  object \n",
      " 7   DIAMETREARBREAUNMETRE       15375 non-null  object \n",
      " 8   ESPECE                      15375 non-null  object \n",
      " 9   FREQUENTATIONCIBLE          15375 non-null  object \n",
      " 10  GENRE_BOTA                  15375 non-null  object \n",
      " 11  IDENTIFIANTPLU              15375 non-null  object \n",
      " 12  INTITULEPROTECTIONPLU       15375 non-null  object \n",
      " 13  NOTEDIAGNOSTIC              15375 non-null  object \n",
      " 14  PRIORITEDERENOUVELLEMENT    15375 non-null  object \n",
      " 15  RAISONDEPLANTATION          15375 non-null  object \n",
      " 16  REMARQUES                   15375 non-null  object \n",
      " 17  SOUS_CATEGORIE              15375 non-null  object \n",
      " 18  SOUS_CATEGORIE_DESC         15375 non-null  object \n",
      " 19  STADEDEDEVELOPPEMENT        15375 non-null  object \n",
      " 20  STADEDEVELOPPEMENTDIAG      15375 non-null  object \n",
      " 21  TRAITEMENTCHENILLES         15375 non-null  object \n",
      " 22  TRAVAUXPRECONISESDIAG       15375 non-null  object \n",
      " 23  TROTTOIR                    15375 non-null  object \n",
      " 24  TYPEIMPLANTATIONPLU         15375 non-null  object \n",
      " 25  VARIETE                     15375 non-null  object \n",
      " 26  VIGUEUR                     15375 non-null  object \n",
      " 27  coord_x                     15375 non-null  float64\n",
      " 28  coord_y                     15375 non-null  float64\n",
      " 29  DEFAUT                      15375 non-null  int64  \n",
      " 30  Collet                      15375 non-null  int64  \n",
      " 31  Houppier                    15375 non-null  int64  \n",
      " 32  Racine                      15375 non-null  int64  \n",
      " 33  Tronc                       15375 non-null  int64  \n",
      "dtypes: float64(2), int64(7), object(25)\n",
      "memory usage: 4.0+ MB\n",
      "None\n"
     ]
    }
   ],
   "source": [
    "#Info sur chacune des variables\n",
    "print(df_arbres.info())"
   ]
  },
  {
   "cell_type": "markdown",
   "id": "requested-customs",
   "metadata": {},
   "source": [
    "## Aperçu des valeurs manquantes "
   ]
  },
  {
   "cell_type": "code",
   "execution_count": 6,
   "id": "metric-gentleman",
   "metadata": {},
   "outputs": [],
   "source": [
    "#Remplacement des valeurs ? par NaN pour profiter des fonction spécifiques python dédiées aux valeurs manquantes\n",
    "df_arbres = df_arbres.replace('?', np.nan)"
   ]
  },
  {
   "cell_type": "code",
   "execution_count": 7,
   "id": "underlying-opening",
   "metadata": {},
   "outputs": [
    {
     "data": {
      "text/plain": [
       "109234"
      ]
     },
     "execution_count": 7,
     "metadata": {},
     "output_type": "execute_result"
    }
   ],
   "source": [
    "#Nombre total de valeurs manquantes dans le data frame\n",
    "nbtotal_valeursNaN = df_arbres.isnull().sum().sum()\n",
    "nbtotal_valeursNaN "
   ]
  },
  {
   "cell_type": "code",
   "execution_count": 8,
   "id": "atmospheric-barrel",
   "metadata": {},
   "outputs": [
    {
     "data": {
      "text/plain": [
       "20.896030607364896"
      ]
     },
     "execution_count": 8,
     "metadata": {},
     "output_type": "execute_result"
    }
   ],
   "source": [
    "#Pourcentage de valeurs manquantes dans le data frame\n",
    "(nbtotal_valeursNaN/(len(df_arbres.index)*len(df_arbres.columns)))*100"
   ]
  },
  {
   "cell_type": "code",
   "execution_count": 9,
   "id": "universal-error",
   "metadata": {},
   "outputs": [
    {
     "data": {
      "text/plain": [
       "RAISONDEPLANTATION            15145\n",
       "INTITULEPROTECTIONPLU         15014\n",
       "IDENTIFIANTPLU                15014\n",
       "TYPEIMPLANTATIONPLU           15014\n",
       "TRAITEMENTCHENILLES           14287\n",
       "VARIETE                       13212\n",
       "REMARQUES                     11176\n",
       "TRAVAUXPRECONISESDIAG          4525\n",
       "ANNEETRAVAUXPRECONISESDIAG     4511\n",
       "ESPECE                         1018\n",
       "PRIORITEDERENOUVELLEMENT        127\n",
       "DIAMETREARBREAUNMETRE            67\n",
       "STADEDEDEVELOPPEMENT             51\n",
       "NOTEDIAGNOSTIC                   40\n",
       "STADEDEVELOPPEMENTDIAG           13\n",
       "VIGUEUR                          11\n",
       "ANNEEREALISATIONDIAGNOSTIC        8\n",
       "FREQUENTATIONCIBLE                1\n",
       "Racine                            0\n",
       "coord_x                           0\n",
       "coord_y                           0\n",
       "Houppier                          0\n",
       "DEFAUT                            0\n",
       "Collet                            0\n",
       "ADR_SECTEUR                       0\n",
       "SOUS_CATEGORIE                    0\n",
       "TROTTOIR                          0\n",
       "SOUS_CATEGORIE_DESC               0\n",
       "ANNEEDEPLANTATION                 0\n",
       "GENRE_BOTA                        0\n",
       "CODE_PARENT_DESC                  0\n",
       "CODE_PARENT                       0\n",
       "CODE                              0\n",
       "Tronc                             0\n",
       "dtype: int64"
      ]
     },
     "execution_count": 9,
     "metadata": {},
     "output_type": "execute_result"
    }
   ],
   "source": [
    "#Nombre de valeurs manquantes par features/colonnes et par ordre décroissant\n",
    "(df_arbres.isnull().sum()).sort_values(ascending=False)"
   ]
  },
  {
   "cell_type": "code",
   "execution_count": 10,
   "id": "industrial-lesson",
   "metadata": {},
   "outputs": [
    {
     "data": {
      "text/plain": [
       "RAISONDEPLANTATION            98.504065\n",
       "INTITULEPROTECTIONPLU         97.652033\n",
       "IDENTIFIANTPLU                97.652033\n",
       "TYPEIMPLANTATIONPLU           97.652033\n",
       "TRAITEMENTCHENILLES           92.923577\n",
       "VARIETE                       85.931707\n",
       "REMARQUES                     72.689431\n",
       "TRAVAUXPRECONISESDIAG         29.430894\n",
       "ANNEETRAVAUXPRECONISESDIAG    29.339837\n",
       "ESPECE                         6.621138\n",
       "PRIORITEDERENOUVELLEMENT       0.826016\n",
       "DIAMETREARBREAUNMETRE          0.435772\n",
       "STADEDEDEVELOPPEMENT           0.331707\n",
       "NOTEDIAGNOSTIC                 0.260163\n",
       "STADEDEVELOPPEMENTDIAG         0.084553\n",
       "VIGUEUR                        0.071545\n",
       "ANNEEREALISATIONDIAGNOSTIC     0.052033\n",
       "FREQUENTATIONCIBLE             0.006504\n",
       "Racine                         0.000000\n",
       "coord_x                        0.000000\n",
       "coord_y                        0.000000\n",
       "Houppier                       0.000000\n",
       "DEFAUT                         0.000000\n",
       "Collet                         0.000000\n",
       "ADR_SECTEUR                    0.000000\n",
       "SOUS_CATEGORIE                 0.000000\n",
       "TROTTOIR                       0.000000\n",
       "SOUS_CATEGORIE_DESC            0.000000\n",
       "ANNEEDEPLANTATION              0.000000\n",
       "GENRE_BOTA                     0.000000\n",
       "CODE_PARENT_DESC               0.000000\n",
       "CODE_PARENT                    0.000000\n",
       "CODE                           0.000000\n",
       "Tronc                          0.000000\n",
       "dtype: float64"
      ]
     },
     "execution_count": 10,
     "metadata": {},
     "output_type": "execute_result"
    }
   ],
   "source": [
    "#Nombre de valeurs manquantes par features en pourcentage et par ordre décroissant\n",
    "(df_arbres.isnull().sum()/len(df_arbres)*100).sort_values(ascending=False)"
   ]
  },
  {
   "cell_type": "code",
   "execution_count": 11,
   "id": "competitive-lucas",
   "metadata": {},
   "outputs": [
    {
     "data": {
      "text/plain": [
       "<AxesSubplot:title={'center':'Nombre de valeurs manquantes par features'}, xlabel='Features', ylabel='Nombre de valeurs manquantes (%)'>"
      ]
     },
     "execution_count": 11,
     "metadata": {},
     "output_type": "execute_result"
    },
    {
     "data": {
      "image/png": "[encoded data removed]",
      "text/plain": [
       "<Figure size 720x720 with 1 Axes>"
      ]
     },
     "metadata": {
      "needs_background": "light"
     },
     "output_type": "display_data"
    }
   ],
   "source": [
    "#Histogramme du nb de NaN values par variables - Utilisation librairie pandas Dataframe\n",
    "\n",
    "# Calcul du nombre de valeurs manquantes par colonne du data frame\n",
    "vc_nulls = df_arbres.apply(lambda x: x.isnull().sum()/len(df_arbres)*100)\n",
    "\n",
    "# Affichage du nombre de valeurs manquantes par variables dans l'ordre décroissant\n",
    "vc_nulls = vc_nulls.sort_values(ascending=False)\n",
    "\n",
    "#Affichage du nombre de valeurs manquantes par features\n",
    "vc_nulls.plot(kind = 'bar', figsize=(10,10), fontsize=11, \n",
    "              xlabel = \"Features\", ylabel=\"Nombre de valeurs manquantes (%)\",\n",
    "              title = 'Nombre de valeurs manquantes par features')"
   ]
  },
  {
   "cell_type": "markdown",
   "id": "mental-patrick",
   "metadata": {},
   "source": [
    "#  Data Management - Nettoyage des données"
   ]
  },
  {
   "cell_type": "markdown",
   "id": "resident-registration",
   "metadata": {},
   "source": [
    "### Suppression de variables non pertinentes dans notre cas d'étude "
   ]
  },
  {
   "cell_type": "markdown",
   "id": "becoming-sheep",
   "metadata": {},
   "source": [
    "Les variables **Code_Parent** et **Code_Parent_Desc** sont redondantes, et décrivent, pour un arbre, la station parente à laquelle il est rattaché. Ces deux variables ont été supprimées du corpus pour deux raisons. D’une part, le nombre de valeurs distinctes est très important (près de 1 140). D’autre part, l’information de la station d’un arbre, étant de nature géographique, elle est redondante avec les variables Adr_Secteur ainsi que coord_x et coord_y."
   ]
  },
  {
   "cell_type": "code",
   "execution_count": 12,
   "id": "stable-dodge",
   "metadata": {},
   "outputs": [],
   "source": [
    "del df_arbres['CODE_PARENT_DESC']\n",
    "del df_arbres['CODE_PARENT']"
   ]
  },
  {
   "cell_type": "markdown",
   "id": "digital-channels",
   "metadata": {},
   "source": [
    "La variable **IntituléProtectionPlus** est également supprimée car près de 90% des valeurs sont abscentes donc inexploitables. De plus, cete variable n'apporte rien de plus dans la définition de l'arbre ou de son diagnostque."
   ]
  },
  {
   "cell_type": "code",
   "execution_count": 13,
   "id": "municipal-syndicate",
   "metadata": {},
   "outputs": [],
   "source": [
    "del df_arbres['INTITULEPROTECTIONPLU']"
   ]
  },
  {
   "cell_type": "markdown",
   "id": "surface-instruction",
   "metadata": {},
   "source": [
    "### Remplacement simple des NaN Values"
   ]
  },
  {
   "cell_type": "code",
   "execution_count": 14,
   "id": "emerging-board",
   "metadata": {},
   "outputs": [],
   "source": [
    "#Variables ANNEETRAVAUXPRECONISESDIAG et ANNEEREALISATIONDIAGNOSTIC\n",
    "#Remplacement par la médiane de la variable\n",
    "\n",
    "#Médiane de ANNEEREALISATIONDIAGNOSTIC --> 2014\n",
    "#Médiane de ANNEETRAVAUXPRECONISESDIAG --> 2015\n",
    "\n",
    "df_arbres['ANNEETRAVAUXPRECONISESDIAG'] = df_arbres['ANNEETRAVAUXPRECONISESDIAG'].replace(np.nan,df_arbres['ANNEETRAVAUXPRECONISESDIAG'].median())\n",
    "df_arbres['ANNEEREALISATIONDIAGNOSTIC'] = df_arbres['ANNEEREALISATIONDIAGNOSTIC'].replace(np.nan,df_arbres['ANNEEREALISATIONDIAGNOSTIC'].median())"
   ]
  },
  {
   "cell_type": "code",
   "execution_count": 15,
   "id": "nervous-price",
   "metadata": {},
   "outputs": [],
   "source": [
    "#Variable IDENTIFIANTPLU\n",
    "df_arbres['IDENTIFIANTPLU'] = df_arbres['IDENTIFIANTPLU'].replace(np.nan,0)"
   ]
  },
  {
   "cell_type": "code",
   "execution_count": 16,
   "id": "minute-repair",
   "metadata": {},
   "outputs": [],
   "source": [
    "#Variable TYPEIMPLANTATIONPLU\n",
    "df_arbres['TYPEIMPLANTATIONPLU'] = df_arbres['TYPEIMPLANTATIONPLU'].replace(np.nan,0)"
   ]
  },
  {
   "cell_type": "code",
   "execution_count": 17,
   "id": "automotive-confirmation",
   "metadata": {},
   "outputs": [],
   "source": [
    "#Variable Variété\n",
    "df_arbres['VARIETE'] = df_arbres['VARIETE'].replace(np.nan,0)"
   ]
  },
  {
   "cell_type": "code",
   "execution_count": 18,
   "id": "neutral-spain",
   "metadata": {},
   "outputs": [],
   "source": [
    "#Variable DIAGNOSTIC\n",
    "#Remplacement par l'indication \"aucune note\"\n",
    "df_arbres['NOTEDIAGNOSTIC'] = df_arbres['NOTEDIAGNOSTIC'].replace(np.nan,\"Aucune note\")"
   ]
  },
  {
   "cell_type": "code",
   "execution_count": 19,
   "id": "bizarre-conservative",
   "metadata": {},
   "outputs": [],
   "source": [
    "#Variable FREQUENTATIONCIBLE\n",
    "df_arbres['FREQUENTATIONCIBLE'] = df_arbres['FREQUENTATIONCIBLE'].replace(np.nan,0)"
   ]
  },
  {
   "cell_type": "code",
   "execution_count": 20,
   "id": "empirical-category",
   "metadata": {},
   "outputs": [],
   "source": [
    "#Variable RAISONDEPLANTATION\n",
    "df_arbres['RAISONDEPLANTATION'] = df_arbres['RAISONDEPLANTATION'].replace(np.nan,0)"
   ]
  },
  {
   "cell_type": "code",
   "execution_count": 21,
   "id": "acting-quest",
   "metadata": {},
   "outputs": [],
   "source": [
    "#Variable VIGUEUR\n",
    "df_arbres['VIGUEUR'] = df_arbres['VIGUEUR'].replace(np.nan,0)"
   ]
  },
  {
   "cell_type": "code",
   "execution_count": 22,
   "id": "verified-macedonia",
   "metadata": {},
   "outputs": [],
   "source": [
    "#Variable TRAITEMENTCHENILLES\n",
    "df_arbres['TRAITEMENTCHENILLES'] = df_arbres['TRAITEMENTCHENILLES'].replace(np.nan,0)"
   ]
  },
  {
   "cell_type": "code",
   "execution_count": 23,
   "id": "balanced-warrant",
   "metadata": {},
   "outputs": [],
   "source": [
    "#Variable TRAVAUXPRECONISEDIAG\n",
    "df_arbres['TRAVAUXPRECONISESDIAG'] = df_arbres['TRAVAUXPRECONISESDIAG'].replace(np.nan,0)"
   ]
  },
  {
   "cell_type": "code",
   "execution_count": 24,
   "id": "aggressive-situation",
   "metadata": {},
   "outputs": [],
   "source": [
    "#Variable PRIORITEDERENOUVELLEMENT\n",
    "df_arbres['PRIORITEDERENOUVELLEMENT'] = df_arbres['PRIORITEDERENOUVELLEMENT'].replace(np.nan,0)"
   ]
  },
  {
   "cell_type": "markdown",
   "id": "hybrid-procurement",
   "metadata": {},
   "source": [
    "### Remplacement complexe des NaN Values"
   ]
  },
  {
   "cell_type": "markdown",
   "id": "concrete-bowling",
   "metadata": {},
   "source": [
    "Nécessite un traitement avant le remplacement des NaN values"
   ]
  },
  {
   "cell_type": "markdown",
   "id": "closing-frontier",
   "metadata": {},
   "source": [
    "#### Cas de la variable DIAMETREARBREAUNMETRE  - Gestion de l'intervalle"
   ]
  },
  {
   "cell_type": "markdown",
   "id": "elect-translation",
   "metadata": {},
   "source": [
    "On récupère le minimum de l'intervalle en splitant la chaine de caractère et en prenant le premier élément"
   ]
  },
  {
   "cell_type": "code",
   "execution_count": 25,
   "id": "hybrid-gospel",
   "metadata": {},
   "outputs": [
    {
     "data": {
      "text/plain": [
       "0        [10, à, 20, cm]\n",
       "1        [30, à, 40, cm]\n",
       "2        [10, à, 20, cm]\n",
       "3        [40, à, 50, cm]\n",
       "4        [20, à, 30, cm]\n",
       "              ...       \n",
       "15370     [0, à, 10, cm]\n",
       "15371    [40, à, 50, cm]\n",
       "15372    [10, à, 20, cm]\n",
       "15373    [10, à, 20, cm]\n",
       "15374    [10, à, 20, cm]\n",
       "Name: DIAMETREARBREAUNMETRE, Length: 15375, dtype: object"
      ]
     },
     "execution_count": 25,
     "metadata": {},
     "output_type": "execute_result"
    }
   ],
   "source": [
    "#Variable DIAMETREARBREAUNMETRE : Récupérer le minimum de l'intervalle\n",
    "\n",
    "#Split des valeurs pour découpage. Aucun argument dans split --> séparation à chaque espace\n",
    "\n",
    "df_arbres['DIAMETREARBREAUNMETRE'] = df_arbres['DIAMETREARBREAUNMETRE'].str.split()\n",
    "df_arbres['DIAMETREARBREAUNMETRE']"
   ]
  },
  {
   "cell_type": "code",
   "execution_count": 26,
   "id": "positive-stopping",
   "metadata": {},
   "outputs": [],
   "source": [
    "#Puis récupération du premier élément\n",
    "df_arbres[\"DIAMETREARBREAUNMETRE\"]= df_arbres['DIAMETREARBREAUNMETRE'].str[0] "
   ]
  },
  {
   "cell_type": "code",
   "execution_count": 27,
   "id": "romance-vancouver",
   "metadata": {},
   "outputs": [
    {
     "data": {
      "text/plain": [
       "0        10\n",
       "1        30\n",
       "2        10\n",
       "3        40\n",
       "4        20\n",
       "         ..\n",
       "15370     0\n",
       "15371    40\n",
       "15372    10\n",
       "15373    10\n",
       "15374    10\n",
       "Name: DIAMETREARBREAUNMETRE, Length: 15375, dtype: object"
      ]
     },
     "execution_count": 27,
     "metadata": {},
     "output_type": "execute_result"
    }
   ],
   "source": [
    "df_arbres[\"DIAMETREARBREAUNMETRE\"]"
   ]
  },
  {
   "cell_type": "markdown",
   "id": "concrete-outdoors",
   "metadata": {},
   "source": [
    "#### Cas de la variable DIAMETREARBREAUNMETRE  - Remplacement des NaN Values"
   ]
  },
  {
   "cell_type": "markdown",
   "id": "obvious-shelf",
   "metadata": {},
   "source": [
    "Nous avons dans un premier temps défini les GENRES_BOTA pour lesquels les diamètres à un mètre des arbres ne sont pas définies.\n",
    "\n",
    "Puis pour chaque GENRE_BOTA, nous avons trouvé le diamètre de l'arbre à un mètre le plus fréquent, valeur que nous avons sélectionné pour remplacé la NaN Value selon le GENRE_BOTA de l'arbre."
   ]
  },
  {
   "cell_type": "code",
   "execution_count": 28,
   "id": "measured-concentration",
   "metadata": {},
   "outputs": [
    {
     "data": {
      "text/plain": [
       "Populus         15\n",
       "Acer            14\n",
       "Platanus         9\n",
       "Salix            5\n",
       "Sophora          5\n",
       "Tilia            3\n",
       "Chionanthus      2\n",
       "Betula           2\n",
       "Prunus           2\n",
       "Taxus            2\n",
       "Robinia          1\n",
       "Liquidambar      1\n",
       "Amélanchier      1\n",
       "Malus            1\n",
       "Liriodendron     1\n",
       "Carpinus         1\n",
       "Cupressus        1\n",
       "Tetradium        1\n",
       "Name: GENRE_BOTA, dtype: int64"
      ]
     },
     "execution_count": 28,
     "metadata": {},
     "output_type": "execute_result"
    }
   ],
   "source": [
    "#Récupérer genre botanique pour les arbres dont les diamètres ne sont pas préciser\n",
    "\n",
    "no_diametres = df_arbres[df_arbres['DIAMETREARBREAUNMETRE'].isnull()]\n",
    "no_diametres['GENRE_BOTA'].value_counts()"
   ]
  },
  {
   "cell_type": "code",
   "execution_count": 29,
   "id": "ordered-hotel",
   "metadata": {},
   "outputs": [
    {
     "data": {
      "text/plain": [
       "40     145\n",
       "50     126\n",
       "60      81\n",
       "30      62\n",
       "70      55\n",
       "90      50\n",
       "20      44\n",
       "80      38\n",
       "10      31\n",
       "100     14\n",
       "110      9\n",
       "130      5\n",
       "0        4\n",
       "160      3\n",
       "120      3\n",
       "140      2\n",
       "150      2\n",
       "180      1\n",
       "Name: DIAMETREARBREAUNMETRE, dtype: int64"
      ]
     },
     "execution_count": 29,
     "metadata": {},
     "output_type": "execute_result"
    }
   ],
   "source": [
    "#Diamètre le plus fréquent pour chaque genre botanique listé ci-dessus :\n",
    "\n",
    "# Exemple avec le Genre Populus \n",
    "\n",
    "#Genre Populus = 40 cm de diamètre en général le plus fréquent\n",
    "df_arbres_populus = df_arbres[df_arbres['GENRE_BOTA'] == 'Populus']\n",
    "df_arbres_populus['DIAMETREARBREAUNMETRE'].value_counts()"
   ]
  },
  {
   "cell_type": "code",
   "execution_count": 30,
   "id": "based-shepherd",
   "metadata": {},
   "outputs": [
    {
     "data": {
      "text/plain": [
       "10    655\n",
       "20    591\n",
       "30    472\n",
       "40    339\n",
       "0     125\n",
       "50     86\n",
       "60     36\n",
       "70     13\n",
       "80      7\n",
       "90      1\n",
       "Name: DIAMETREARBREAUNMETRE, dtype: int64"
      ]
     },
     "execution_count": 30,
     "metadata": {},
     "output_type": "execute_result"
    }
   ],
   "source": [
    "#Exemple avec le Genre Acer\n",
    "\n",
    "#Variable Acer = 10 cm de diamètre en général le plus fréquent\n",
    "df_arbres_acer = df_arbres[df_arbres['GENRE_BOTA'] == 'Acer']\n",
    "df_arbres_acer['DIAMETREARBREAUNMETRE'].value_counts()"
   ]
  },
  {
   "cell_type": "code",
   "execution_count": 31,
   "id": "norman-attitude",
   "metadata": {},
   "outputs": [],
   "source": [
    "# etc etc , pour chacune des variables GENRE_BOTA"
   ]
  },
  {
   "cell_type": "markdown",
   "id": "increased-colleague",
   "metadata": {},
   "source": [
    "Puis en fonction des valeurs de diamètre le plus fréquent trouvé pour chaque GENRE_BOTA, une série de conditions a été développée en fonction du GENRE_BOTA pour remplacer les NaN Values"
   ]
  },
  {
   "cell_type": "code",
   "execution_count": 32,
   "id": "surprised-synthesis",
   "metadata": {},
   "outputs": [],
   "source": [
    "#Remplacement des valeurs NaN du diamètre par les valeurs les plus fréquentes en fonction du Genre Botanique\n",
    "#Variable par variable\n",
    "\n",
    "#Value 40\n",
    "df_arbres['DIAMETREARBREAUNMETRE'] = np.where(df_arbres['GENRE_BOTA']== \"Populus\", \n",
    "                                         df_arbres['DIAMETREARBREAUNMETRE'].replace(np.nan,40),\n",
    "                                         df_arbres['DIAMETREARBREAUNMETRE'])\n",
    "\n",
    "df_arbres['DIAMETREARBREAUNMETRE'] = np.where(df_arbres['GENRE_BOTA']== \"Platanus\", \n",
    "                                         df_arbres['DIAMETREARBREAUNMETRE'].replace(np.nan,40),\n",
    "                                         df_arbres['DIAMETREARBREAUNMETRE'])\n",
    "\n",
    "#Value 20\n",
    "df_arbres['DIAMETREARBREAUNMETRE'] = np.where(df_arbres['GENRE_BOTA']== \"Cupressus\", \n",
    "                                         df_arbres['DIAMETREARBREAUNMETRE'].replace(np.nan,20),\n",
    "                                         df_arbres['DIAMETREARBREAUNMETRE'])\n",
    "\n",
    "#Value 10\n",
    "df_arbres['DIAMETREARBREAUNMETRE'] = np.where(df_arbres['GENRE_BOTA']== \"Acer\" ,\n",
    "                                              df_arbres['DIAMETREARBREAUNMETRE'].replace(np.nan,10),\n",
    "                                         df_arbres['DIAMETREARBREAUNMETRE'])\n",
    "\n",
    "\n",
    "df_arbres['DIAMETREARBREAUNMETRE'] = np.where(df_arbres['GENRE_BOTA']== \"Salix\" ,\n",
    "                                              df_arbres['DIAMETREARBREAUNMETRE'].replace(np.nan,10),\n",
    "                                         df_arbres['DIAMETREARBREAUNMETRE'])\n",
    "\n",
    "df_arbres['DIAMETREARBREAUNMETRE'] = np.where(df_arbres['GENRE_BOTA']== \"Prunus\" ,\n",
    "                                              df_arbres['DIAMETREARBREAUNMETRE'].replace(np.nan,10),\n",
    "                                         df_arbres['DIAMETREARBREAUNMETRE'])\n",
    "\n",
    "\n",
    "df_arbres['DIAMETREARBREAUNMETRE'] = np.where(df_arbres['GENRE_BOTA']== \"Taxus\" ,\n",
    "                                              df_arbres['DIAMETREARBREAUNMETRE'].replace(np.nan,10),\n",
    "                                         df_arbres['DIAMETREARBREAUNMETRE'])\n",
    "\n",
    "df_arbres['DIAMETREARBREAUNMETRE'] = np.where(df_arbres['GENRE_BOTA']== \"Chionanthus\" ,\n",
    "                                              df_arbres['DIAMETREARBREAUNMETRE'].replace(np.nan,10),\n",
    "                                         df_arbres['DIAMETREARBREAUNMETRE'])\n",
    "\n",
    "df_arbres['DIAMETREARBREAUNMETRE'] = np.where(df_arbres['GENRE_BOTA']== \"Betula\" ,\n",
    "                                              df_arbres['DIAMETREARBREAUNMETRE'].replace(np.nan,10),\n",
    "                                         df_arbres['DIAMETREARBREAUNMETRE'])\n",
    "\n",
    "df_arbres['DIAMETREARBREAUNMETRE'] = np.where(df_arbres['GENRE_BOTA']== \"Liquidambar\" ,\n",
    "                                              df_arbres['DIAMETREARBREAUNMETRE'].replace(np.nan,10),\n",
    "                                         df_arbres['DIAMETREARBREAUNMETRE'])\n",
    "\n",
    "df_arbres['DIAMETREARBREAUNMETRE'] = np.where(df_arbres['GENRE_BOTA']== \"Amélanchier\" ,\n",
    "                                              df_arbres['DIAMETREARBREAUNMETRE'].replace(np.nan,10),\n",
    "                                         df_arbres['DIAMETREARBREAUNMETRE'])\n",
    "\n",
    "df_arbres['DIAMETREARBREAUNMETRE'] = np.where(df_arbres['GENRE_BOTA']== \"Liriodendron\" ,\n",
    "                                              df_arbres['DIAMETREARBREAUNMETRE'].replace(np.nan,10),\n",
    "                                         df_arbres['DIAMETREARBREAUNMETRE'])\n",
    "\n",
    "df_arbres['DIAMETREARBREAUNMETRE'] = np.where(df_arbres['GENRE_BOTA']== \"Malus\" ,\n",
    "                                              df_arbres['DIAMETREARBREAUNMETRE'].replace(np.nan,10),\n",
    "                                         df_arbres['DIAMETREARBREAUNMETRE'])\n",
    "                                              \n",
    "df_arbres['DIAMETREARBREAUNMETRE'] = np.where(df_arbres['GENRE_BOTA']== \"Carpinus\" ,\n",
    "                                              df_arbres['DIAMETREARBREAUNMETRE'].replace(np.nan,10),\n",
    "                                         df_arbres['DIAMETREARBREAUNMETRE'])    \n",
    "\n",
    "df_arbres['DIAMETREARBREAUNMETRE'] = np.where(df_arbres['GENRE_BOTA']== \"Tetradium\" ,\n",
    "                                              df_arbres['DIAMETREARBREAUNMETRE'].replace(np.nan,10),\n",
    "                                         df_arbres['DIAMETREARBREAUNMETRE'])    \n",
    "\n",
    "#Value 30\n",
    "\n",
    "df_arbres['DIAMETREARBREAUNMETRE'] = np.where(df_arbres['GENRE_BOTA']== \"Sophora\" ,\n",
    "                                              df_arbres['DIAMETREARBREAUNMETRE'].replace(np.nan,30),\n",
    "                                         df_arbres['DIAMETREARBREAUNMETRE']) \n",
    "\n",
    "df_arbres['DIAMETREARBREAUNMETRE'] = np.where(df_arbres['GENRE_BOTA']== \"Tilia\" ,\n",
    "                                              df_arbres['DIAMETREARBREAUNMETRE'].replace(np.nan,30),\n",
    "                                         df_arbres['DIAMETREARBREAUNMETRE']) \n",
    "\n",
    "df_arbres['DIAMETREARBREAUNMETRE'] = np.where(df_arbres['GENRE_BOTA']== \"Robinia\" ,\n",
    "                                              df_arbres['DIAMETREARBREAUNMETRE'].replace(np.nan,30),\n",
    "                                         df_arbres['DIAMETREARBREAUNMETRE']) "
   ]
  },
  {
   "cell_type": "markdown",
   "id": "grand-deputy",
   "metadata": {},
   "source": [
    "Les valeurs manquantes ont donc été remplacées par le mode en fonction du genre botanique de l’arbre (GENRE_BOTA), autrement dit le diamètre le plus fréquent par rapport au genre botanique de l’arbre en question"
   ]
  },
  {
   "cell_type": "code",
   "execution_count": 33,
   "id": "dutch-macedonia",
   "metadata": {},
   "outputs": [
    {
     "data": {
      "text/plain": [
       "0"
      ]
     },
     "execution_count": 33,
     "metadata": {},
     "output_type": "execute_result"
    }
   ],
   "source": [
    "#Plus de NaN values\n",
    "df_arbres.DIAMETREARBREAUNMETRE.isna().sum() "
   ]
  },
  {
   "cell_type": "markdown",
   "id": "nonprofit-break",
   "metadata": {},
   "source": [
    "Nous avons réalisé le même principe avec la gestion des NaN Values pour la variable ESPECE"
   ]
  },
  {
   "cell_type": "markdown",
   "id": "substantial-department",
   "metadata": {},
   "source": [
    "#### Cas de la variable ESPECE"
   ]
  },
  {
   "cell_type": "markdown",
   "id": "minus-championship",
   "metadata": {},
   "source": [
    "Nous avons dans un premier temps défini les GENRES_BOTA pourlesquels les Espèces des arbres ne sont pas définies.\n",
    "\n",
    "Puis pour chaque GENRE_BOTA, nous avons trouvé l'espèce de l'arbre la plus fréquent, valeur que nous avons sélectionné pour remplacé la NaN Value selon le GENRE_BOTA de l'arbre"
   ]
  },
  {
   "cell_type": "code",
   "execution_count": 34,
   "id": "veterinary-recommendation",
   "metadata": {},
   "outputs": [
    {
     "data": {
      "text/plain": [
       "Acer             368\n",
       "Fraxinus         134\n",
       "Pinus            107\n",
       "Carpinus          67\n",
       "Populus           62\n",
       "Prunus            43\n",
       "Salix             29\n",
       "Alnus             28\n",
       "Tilia             28\n",
       "Crataegus         20\n",
       "Quercus           20\n",
       "Thuja             16\n",
       "Aesculus          12\n",
       "Cedrus             9\n",
       "Cupressus          9\n",
       "Malus              9\n",
       "Zelkova            8\n",
       "Amélanchier        6\n",
       "Magnolia           5\n",
       "Ulmus              5\n",
       "Betula             5\n",
       "Sorbus             4\n",
       "Pyrus              4\n",
       "Metasequoia        4\n",
       "Chamaecyparis      3\n",
       "Picea              2\n",
       "Clerodendron       2\n",
       "Gleditsia          2\n",
       "Lonicera           2\n",
       "Juniperus          1\n",
       "Abies              1\n",
       "Pterocarya         1\n",
       "Araucaria          1\n",
       "Poncinos           1\n",
       "Name: GENRE_BOTA, dtype: int64"
      ]
     },
     "execution_count": 34,
     "metadata": {},
     "output_type": "execute_result"
    }
   ],
   "source": [
    "#Récupérer genre botanique pour les arbres dont les espèces ne sont pas préciser\n",
    "\n",
    "no_especes = df_arbres[df_arbres['ESPECE'].isnull()]\n",
    "no_especes['GENRE_BOTA'].value_counts()"
   ]
  },
  {
   "cell_type": "markdown",
   "id": "italian-finger",
   "metadata": {},
   "source": [
    "Quelques exemples ci-dessous pour deux variables :"
   ]
  },
  {
   "cell_type": "code",
   "execution_count": 35,
   "id": "explicit-cursor",
   "metadata": {},
   "outputs": [
    {
     "data": {
      "text/plain": [
       "platanoides          583\n",
       "pseudoplatanus       416\n",
       "campestris           332\n",
       "saccharinum          276\n",
       "cappadocicum         123\n",
       "negundo               95\n",
       "monspessulanum        38\n",
       "campestre             28\n",
       "freemani              25\n",
       "ginnala               24\n",
       "rubrum                13\n",
       "buergerianum           5\n",
       "saccharum              4\n",
       "saccharinum wieri      2\n",
       "japonicum              2\n",
       "capillipes             2\n",
       "griseum                1\n",
       "opalus                 1\n",
       "tartarica              1\n",
       "Name: ESPECE, dtype: int64"
      ]
     },
     "execution_count": 35,
     "metadata": {},
     "output_type": "execute_result"
    }
   ],
   "source": [
    "# Exemple Variable GENRE BOTA Acer --> Espèces Platanoides en général la plus fréquente\n",
    "#Remplacement des NaN values\n",
    "\n",
    "df_arbres_Acer  = df_arbres[df_arbres['GENRE_BOTA'] == 'Acer']\n",
    "df_arbres_Acer ['ESPECE'].value_counts()"
   ]
  },
  {
   "cell_type": "code",
   "execution_count": 36,
   "id": "aggressive-uncle",
   "metadata": {},
   "outputs": [
    {
     "data": {
      "text/plain": [
       "excelsior       275\n",
       "americana        68\n",
       "ornus            59\n",
       "angustifolia     47\n",
       "oxycarpa         23\n",
       "pensylvanica     16\n",
       "velutina         14\n",
       "mandshurica      11\n",
       "Name: ESPECE, dtype: int64"
      ]
     },
     "execution_count": 36,
     "metadata": {},
     "output_type": "execute_result"
    }
   ],
   "source": [
    "#Exemple - Variable GENRE BOTA Fraxinus--> Espèces excelsior en général la plus fréquente\n",
    "#Remplacement des NaN values\n",
    "\n",
    "df_arbres_Pinus  = df_arbres[df_arbres['GENRE_BOTA'] == 'Fraxinus']\n",
    "df_arbres_Pinus ['ESPECE'].value_counts()"
   ]
  },
  {
   "cell_type": "code",
   "execution_count": 37,
   "id": "twenty-treasury",
   "metadata": {},
   "outputs": [],
   "source": [
    "#Remplacement des valeurs NaN de l'espèce par les valeurs les plus fréquentes en fonction du Genre Botanique\n",
    "#Variable par variable\n",
    "\n",
    "\n",
    "df_arbres['ESPECE'] = np.where(df_arbres['GENRE_BOTA']== \"Acer\" ,\n",
    "                                              df_arbres['ESPECE'].replace(np.nan,\"platanoides\"),\n",
    "                                         df_arbres['ESPECE'])    \n",
    "\n",
    "df_arbres['ESPECE'] = np.where(df_arbres['GENRE_BOTA']== \"Fraxinus\" ,\n",
    "                                              df_arbres['ESPECE'].replace(np.nan,\"excelsior\"),\n",
    "                                         df_arbres['ESPECE'])    \n",
    "\n",
    "df_arbres['ESPECE'] = np.where(df_arbres['GENRE_BOTA']== \"Pinus\" ,\n",
    "                                              df_arbres['ESPECE'].replace(np.nan,\"nigra\"),\n",
    "                                         df_arbres['ESPECE'])    \n",
    "\n",
    "df_arbres['ESPECE'] = np.where(df_arbres['GENRE_BOTA']== \"Carpinus\" ,\n",
    "                                              df_arbres['ESPECE'].replace(np.nan,\"betulus\"),\n",
    "                                         df_arbres['ESPECE']) \n",
    "\n",
    "df_arbres['ESPECE'] = np.where(df_arbres['GENRE_BOTA']== \"Populus\" ,\n",
    "                                              df_arbres['ESPECE'].replace(np.nan,\"nigra\"),\n",
    "                                         df_arbres['ESPECE']) \n",
    "\n",
    "df_arbres['ESPECE'] = np.where(df_arbres['GENRE_BOTA']== \"Prunus\" ,\n",
    "                                              df_arbres['ESPECE'].replace(np.nan,\"serrulata\"),\n",
    "                                         df_arbres['ESPECE']) \n",
    "\n",
    "df_arbres['ESPECE'] = np.where(df_arbres['GENRE_BOTA']== \"Salix\" ,\n",
    "                                              df_arbres['ESPECE'].replace(np.nan,\"alba\"),\n",
    "                                         df_arbres['ESPECE']) \n",
    "\n",
    "df_arbres['ESPECE'] = np.where(df_arbres['GENRE_BOTA']== \"Alnus\" ,\n",
    "                                              df_arbres['ESPECE'].replace(np.nan,\"cordata\"),\n",
    "                                         df_arbres['ESPECE']) \n",
    "\n",
    "df_arbres['ESPECE'] = np.where(df_arbres['GENRE_BOTA']== \"Tilia\" ,\n",
    "                                              df_arbres['ESPECE'].replace(np.nan,\"tomentosa\"),\n",
    "                                         df_arbres['ESPECE']) \n",
    "\n",
    "df_arbres['ESPECE'] = np.where(df_arbres['GENRE_BOTA']== \"Quercus\" ,\n",
    "                                              df_arbres['ESPECE'].replace(np.nan,\"cerris\"),\n",
    "                                         df_arbres['ESPECE'])\n",
    "\n",
    "df_arbres['ESPECE'] = np.where(df_arbres['GENRE_BOTA']== \"Crataegus\" ,\n",
    "                                              df_arbres['ESPECE'].replace(np.nan,\"oxyacantha\"),\n",
    "                                         df_arbres['ESPECE']) \n",
    "\n",
    "df_arbres['ESPECE'] = np.where(df_arbres['GENRE_BOTA']== \"Thuja\" ,\n",
    "                                              df_arbres['ESPECE'].replace(np.nan,\"plicata\"),\n",
    "                                         df_arbres['ESPECE']) \n",
    "\n",
    "df_arbres['ESPECE'] = np.where(df_arbres['GENRE_BOTA']== \"Aesculus\" ,\n",
    "                                              df_arbres['ESPECE'].replace(np.nan,\"hippocastanum\"),\n",
    "                                         df_arbres['ESPECE']) \n",
    "\n",
    "df_arbres['ESPECE'] = np.where(df_arbres['GENRE_BOTA']== \"Cupressus\" ,\n",
    "                                              df_arbres['ESPECE'].replace(np.nan,\"sempervirens\"),\n",
    "                                         df_arbres['ESPECE']) \n",
    "\n",
    "df_arbres['ESPECE'] = np.where(df_arbres['GENRE_BOTA']== \"Cedrus\" ,\n",
    "                                              df_arbres['ESPECE'].replace(np.nan,\"atlantica\"),\n",
    "                                         df_arbres['ESPECE']) \n",
    "\n",
    "df_arbres['ESPECE'] = np.where(df_arbres['GENRE_BOTA']== \"Malus\" ,\n",
    "                                              df_arbres['ESPECE'].replace(np.nan,\"floribunda\"),\n",
    "                                         df_arbres['ESPECE']) \n",
    "\n",
    "df_arbres['ESPECE'] = np.where(df_arbres['GENRE_BOTA']== \"Zelkova\" ,\n",
    "                                              df_arbres['ESPECE'].replace(np.nan,\"serrata \"),\n",
    "                                         df_arbres['ESPECE']) \n",
    "df_arbres['ESPECE'] = np.where(df_arbres['GENRE_BOTA']== \"Amélanchier\" ,\n",
    "                                              df_arbres['ESPECE'].replace(np.nan,\"canadensis\"),\n",
    "                                         df_arbres['ESPECE']) \n",
    "\n",
    "df_arbres['ESPECE'] = np.where(df_arbres['GENRE_BOTA']== \"Magnolia\" ,\n",
    "                                              df_arbres['ESPECE'].replace(np.nan,\"grandiflora\"),\n",
    "                                         df_arbres['ESPECE'])\n",
    "\n",
    "df_arbres['ESPECE'] = np.where(df_arbres['GENRE_BOTA']== \"Ulmus\" ,\n",
    "                                              df_arbres['ESPECE'].replace(np.nan,\"minor\"),\n",
    "                                         df_arbres['ESPECE']) \n",
    "\n",
    "df_arbres['ESPECE'] = np.where(df_arbres['GENRE_BOTA']== \"Betula\" ,\n",
    "                                              df_arbres['ESPECE'].replace(np.nan,\"verrucosa\"),\n",
    "                                         df_arbres['ESPECE']) \n",
    "\n",
    "df_arbres['ESPECE'] = np.where(df_arbres['GENRE_BOTA']== \"Pyrus\" ,\n",
    "                                              df_arbres['ESPECE'].replace(np.nan,\"calleryana\"),\n",
    "                                         df_arbres['ESPECE']) \n",
    "\n",
    "df_arbres['ESPECE'] = np.where(df_arbres['GENRE_BOTA']== \"Metasequoia\" ,\n",
    "                                              df_arbres['ESPECE'].replace(np.nan,\"sempervirens\"),\n",
    "                                         df_arbres['ESPECE']) \n",
    "\n",
    "df_arbres['ESPECE'] = np.where(df_arbres['GENRE_BOTA']== \"Sorbus\" ,\n",
    "                                              df_arbres['ESPECE'].replace(np.nan,\"aria\"),\n",
    "                                         df_arbres['ESPECE']) \n",
    "\n",
    "df_arbres['ESPECE'] = np.where(df_arbres['GENRE_BOTA']== \"Chamaecyparis\" ,\n",
    "                                              df_arbres['ESPECE'].replace(np.nan,\"lawsoniana\"),\n",
    "                                         df_arbres['ESPECE']) \n",
    "\n",
    "df_arbres['ESPECE'] = np.where(df_arbres['GENRE_BOTA']== \"Gleditsia\" ,\n",
    "                                              df_arbres['ESPECE'].replace(np.nan,\"triacanthos\"),\n",
    "                                         df_arbres['ESPECE']) \n",
    "\n",
    "df_arbres['ESPECE'] = np.where(df_arbres['GENRE_BOTA']== \"Picea\" ,\n",
    "                                              df_arbres['ESPECE'].replace(np.nan,\"abies\"),\n",
    "                                         df_arbres['ESPECE']) \n",
    "\n",
    "df_arbres['ESPECE'] = np.where(df_arbres['GENRE_BOTA']== \"Lonicera\" ,\n",
    "                                              df_arbres['ESPECE'].replace(np.nan,\"fragmantissima\"),\n",
    "                                         df_arbres['ESPECE']) \n",
    "\n",
    "df_arbres['ESPECE'] = np.where(df_arbres['GENRE_BOTA']== \"Clerodendron\" ,\n",
    "                                              df_arbres['ESPECE'].replace(np.nan,\"tricotonum\"),\n",
    "                                         df_arbres['ESPECE']) \n",
    "\n",
    "df_arbres['ESPECE'] = np.where(df_arbres['GENRE_BOTA']== \"Pterocarya\" ,\n",
    "                                              df_arbres['ESPECE'].replace(np.nan,\"fraxinifolia\"),\n",
    "                                         df_arbres['ESPECE']) \n",
    "\n",
    "df_arbres['ESPECE'] = np.where(df_arbres['GENRE_BOTA']== \"Araucaria\" ,\n",
    "                                              df_arbres['ESPECE'].replace(np.nan,\"acerifolia\"),\n",
    "                                         df_arbres['ESPECE']) \n",
    "\n",
    "df_arbres['ESPECE'] = np.where(df_arbres['GENRE_BOTA']== \"Abies\" ,\n",
    "                                              df_arbres['ESPECE'].replace(np.nan,\"nordmaniana\"),\n",
    "                                         df_arbres['ESPECE']) \n",
    "\n",
    "df_arbres['ESPECE'] = np.where(df_arbres['GENRE_BOTA']== \"Poncinos\" ,\n",
    "                                              df_arbres['ESPECE'].replace(np.nan,\"cerifolia\"),\n",
    "                                         df_arbres['ESPECE']) \n",
    "\n",
    "df_arbres['ESPECE'] = np.where(df_arbres['GENRE_BOTA']== \"Juniperus\" ,\n",
    "                                              df_arbres['ESPECE'].replace(np.nan,\"drupacea\"),\n",
    "                                         df_arbres['ESPECE']) "
   ]
  },
  {
   "cell_type": "code",
   "execution_count": 38,
   "id": "electric-weapon",
   "metadata": {},
   "outputs": [
    {
     "data": {
      "text/plain": [
       "0"
      ]
     },
     "execution_count": 38,
     "metadata": {},
     "output_type": "execute_result"
    }
   ],
   "source": [
    "#Plus aucune NaN Value pour la colonne Especes\n",
    "df_arbres.ESPECE.isna().sum() "
   ]
  },
  {
   "cell_type": "markdown",
   "id": "official-double",
   "metadata": {},
   "source": [
    "#### Cas de la variable STADEDEDEVELOPPEMENT et STADEDEVELOPPEMENTDIAG"
   ]
  },
  {
   "cell_type": "markdown",
   "id": "potential-insulation",
   "metadata": {},
   "source": [
    "Premièrement, **codification** : **StadeDeDéveloppemen**t et **StadeDévelopementDiag** codifiées par les entiers 1, 2 et 3, correspondant respectivement aux valeurs \"arbre jeune\", \"arbre adulte\" et \"arbre viellissant\".\n"
   ]
  },
  {
   "cell_type": "markdown",
   "id": "upset-harrison",
   "metadata": {},
   "source": [
    "Puis deuxièmement, remplacement des NaN value en fonction du nombre le plus élevé de type de stade"
   ]
  },
  {
   "cell_type": "code",
   "execution_count": 39,
   "id": "victorian-lighting",
   "metadata": {},
   "outputs": [
    {
     "data": {
      "text/plain": [
       "Arbre adulte          13250\n",
       "Arbre jeune            1954\n",
       "Arbre vieillissant      120\n",
       "Name: STADEDEDEVELOPPEMENT, dtype: int64"
      ]
     },
     "execution_count": 39,
     "metadata": {},
     "output_type": "execute_result"
    }
   ],
   "source": [
    "#Variable STADEDEVELOPPEMENT\n",
    "#Le plus courant : Arbre adulte\n",
    "\n",
    "df_arbres['STADEDEDEVELOPPEMENT'].value_counts()"
   ]
  },
  {
   "cell_type": "code",
   "execution_count": 40,
   "id": "lightweight-headquarters",
   "metadata": {},
   "outputs": [],
   "source": [
    "# DOnc NaN Value par 2\n",
    "df_arbres['STADEDEDEVELOPPEMENT'] = df_arbres['STADEDEDEVELOPPEMENT'].replace(np.nan,2)"
   ]
  },
  {
   "cell_type": "code",
   "execution_count": 41,
   "id": "threaded-grammar",
   "metadata": {},
   "outputs": [],
   "source": [
    "#Puis codification\n",
    "df_arbres['STADEDEDEVELOPPEMENT'] = df_arbres['STADEDEDEVELOPPEMENT'].replace(\"Arbre adulte\",2)\n",
    "df_arbres['STADEDEDEVELOPPEMENT'] = df_arbres['STADEDEDEVELOPPEMENT'].replace(\"Arbre jeune\",1)\n",
    "df_arbres['STADEDEDEVELOPPEMENT'] = df_arbres['STADEDEDEVELOPPEMENT'].replace(\"Arbre vieillissant\",3)"
   ]
  },
  {
   "cell_type": "code",
   "execution_count": 42,
   "id": "laughing-trout",
   "metadata": {},
   "outputs": [
    {
     "data": {
      "text/plain": [
       "Arbre adulte          12290\n",
       "Arbre jeune            2659\n",
       "Arbre vieillissant      413\n",
       "Name: STADEDEVELOPPEMENTDIAG, dtype: int64"
      ]
     },
     "execution_count": 42,
     "metadata": {},
     "output_type": "execute_result"
    }
   ],
   "source": [
    "#Variable STADEDEVELOPPEMENTDIAG - Même fonctionnement que pour STADEDEDEVELOPPEMENT\n",
    "\n",
    "df_arbres['STADEDEVELOPPEMENTDIAG'].value_counts()"
   ]
  },
  {
   "cell_type": "code",
   "execution_count": 43,
   "id": "hired-psychiatry",
   "metadata": {},
   "outputs": [],
   "source": [
    "df_arbres['STADEDEVELOPPEMENTDIAG'] = df_arbres['STADEDEVELOPPEMENTDIAG'].replace(np.nan,2)"
   ]
  },
  {
   "cell_type": "code",
   "execution_count": 44,
   "id": "clean-forum",
   "metadata": {},
   "outputs": [],
   "source": [
    "df_arbres['STADEDEVELOPPEMENTDIAG'] = df_arbres['STADEDEVELOPPEMENTDIAG'].replace(\"Arbre adulte\",2)\n",
    "df_arbres['STADEDEVELOPPEMENTDIAG'] = df_arbres['STADEDEVELOPPEMENTDIAG'].replace(\"Arbre jeune\",1)\n",
    "df_arbres['STADEDEVELOPPEMENTDIAG'] = df_arbres['STADEDEVELOPPEMENTDIAG'].replace(\"Arbre vieillissant\",3)"
   ]
  },
  {
   "cell_type": "code",
   "execution_count": 45,
   "id": "streaming-methodology",
   "metadata": {},
   "outputs": [
    {
     "data": {
      "text/plain": [
       "2    12303\n",
       "1     2659\n",
       "3      413\n",
       "Name: STADEDEVELOPPEMENTDIAG, dtype: int64"
      ]
     },
     "execution_count": 45,
     "metadata": {},
     "output_type": "execute_result"
    }
   ],
   "source": [
    "df_arbres['STADEDEVELOPPEMENTDIAG'].value_counts()"
   ]
  },
  {
   "cell_type": "markdown",
   "id": "endless-athletics",
   "metadata": {},
   "source": [
    "### Modification du format de la variable PrioritéRenouvellement "
   ]
  },
  {
   "cell_type": "code",
   "execution_count": 46,
   "id": "interesting-tablet",
   "metadata": {},
   "outputs": [
    {
     "data": {
      "text/plain": [
       "0        plus de 20 ans\n",
       "1        plus de 20 ans\n",
       "2        plus de 20 ans\n",
       "3        plus de 20 ans\n",
       "4        plus de 20 ans\n",
       "              ...      \n",
       "15370    plus de 20 ans\n",
       "15371    plus de 20 ans\n",
       "15372    plus de 20 ans\n",
       "15373    plus de 20 ans\n",
       "15374    plus de 20 ans\n",
       "Name: PRIORITEDERENOUVELLEMENT, Length: 15375, dtype: object"
      ]
     },
     "execution_count": 46,
     "metadata": {},
     "output_type": "execute_result"
    }
   ],
   "source": [
    "df_arbres['PRIORITEDERENOUVELLEMENT']"
   ]
  },
  {
   "cell_type": "markdown",
   "id": "colonial-result",
   "metadata": {},
   "source": [
    "Mise sous format d'intervales"
   ]
  },
  {
   "cell_type": "code",
   "execution_count": 47,
   "id": "eleven-pricing",
   "metadata": {},
   "outputs": [],
   "source": [
    "df_arbres['PRIORITEDERENOUVELLEMENT'] = df_arbres['PRIORITEDERENOUVELLEMENT'].replace(\"plus de 20 ans\",\"20-100\")\n",
    "df_arbres['PRIORITEDERENOUVELLEMENT'] = df_arbres['PRIORITEDERENOUVELLEMENT'].replace(\"de 11 à 20 ans\",\"0-20\")\n",
    "df_arbres['PRIORITEDERENOUVELLEMENT'] = df_arbres['PRIORITEDERENOUVELLEMENT'].replace(\"de 6 à 10 ans\",\"0-20\")\n",
    "df_arbres['PRIORITEDERENOUVELLEMENT'] = df_arbres['PRIORITEDERENOUVELLEMENT'].replace(\"de 1 à 5 ans\",\"0-20\")\n",
    "df_arbres['PRIORITEDERENOUVELLEMENT'] = df_arbres['PRIORITEDERENOUVELLEMENT'].replace(\"de 1 à 5 ans\",\"0-20\")"
   ]
  },
  {
   "cell_type": "code",
   "execution_count": 48,
   "id": "informational-russia",
   "metadata": {},
   "outputs": [
    {
     "data": {
      "text/plain": [
       "20-100    11371\n",
       "0-20       3877\n",
       "0           127\n",
       "Name: PRIORITEDERENOUVELLEMENT, dtype: int64"
      ]
     },
     "execution_count": 48,
     "metadata": {},
     "output_type": "execute_result"
    }
   ],
   "source": [
    "df_arbres['PRIORITEDERENOUVELLEMENT'].value_counts()"
   ]
  },
  {
   "cell_type": "markdown",
   "id": "dangerous-exercise",
   "metadata": {},
   "source": [
    "### Cas de la variable REMARQUES - Modification de la variable  et traitement des NaN Values"
   ]
  },
  {
   "cell_type": "markdown",
   "id": "fixed-thought",
   "metadata": {},
   "source": [
    "Premièrement, nous avons Testé l'algo StringToWordVector --> Découpage du texte en plusieurs mots + fréquence d'apparition de chacun. Pour les mots à la plus haute fréquence --> Deviennent des attributs 0 ou 1 selon l'apparition.\n",
    "Malheusement, l'algo ne marche pas, ne fonctionne pas. Nous somme donc parti sur :\n",
    "\n",
    "Présence de remarque --> **1**\n",
    "\n",
    "Abscence de remarque --> **0**"
   ]
  },
  {
   "cell_type": "code",
   "execution_count": 49,
   "id": "circular-destruction",
   "metadata": {},
   "outputs": [],
   "source": [
    "#Utilisation de la fonction notna\n",
    "\n",
    "#False --> NaN Value\n",
    "#True --> Chaînes de caractères\n",
    "\n",
    "df_arbres['REMARQUES'] = df_arbres['REMARQUES'].notna()"
   ]
  },
  {
   "cell_type": "code",
   "execution_count": 50,
   "id": "swedish-senate",
   "metadata": {},
   "outputs": [
    {
     "data": {
      "text/plain": [
       "0        False\n",
       "1        False\n",
       "2        False\n",
       "3         True\n",
       "4        False\n",
       "         ...  \n",
       "15370    False\n",
       "15371    False\n",
       "15372    False\n",
       "15373     True\n",
       "15374    False\n",
       "Name: REMARQUES, Length: 15375, dtype: bool"
      ]
     },
     "execution_count": 50,
     "metadata": {},
     "output_type": "execute_result"
    }
   ],
   "source": [
    "df_arbres['REMARQUES']"
   ]
  },
  {
   "cell_type": "code",
   "execution_count": 51,
   "id": "likely-weekly",
   "metadata": {},
   "outputs": [],
   "source": [
    "#Puis on caste en int pour avoir les 0 ou 1\n",
    "df_arbres['REMARQUES'] = df_arbres['REMARQUES'].astype('int')"
   ]
  },
  {
   "cell_type": "code",
   "execution_count": 52,
   "id": "piano-correlation",
   "metadata": {},
   "outputs": [
    {
     "data": {
      "text/plain": [
       "0    11176\n",
       "1     4199\n",
       "Name: REMARQUES, dtype: int64"
      ]
     },
     "execution_count": 52,
     "metadata": {},
     "output_type": "execute_result"
    }
   ],
   "source": [
    "df_arbres['REMARQUES'].value_counts()"
   ]
  },
  {
   "cell_type": "code",
   "execution_count": 53,
   "id": "nasty-clone",
   "metadata": {},
   "outputs": [
    {
     "data": {
      "text/plain": [
       "0        0\n",
       "1        0\n",
       "2        0\n",
       "3        1\n",
       "4        0\n",
       "        ..\n",
       "15370    0\n",
       "15371    0\n",
       "15372    0\n",
       "15373    1\n",
       "15374    0\n",
       "Name: REMARQUES, Length: 15375, dtype: int32"
      ]
     },
     "execution_count": 53,
     "metadata": {},
     "output_type": "execute_result"
    }
   ],
   "source": [
    "df_arbres['REMARQUES']"
   ]
  },
  {
   "cell_type": "markdown",
   "id": "wicked-thesaurus",
   "metadata": {},
   "source": [
    "### Nombre de NaN Values total dans le data frame revenu à 0"
   ]
  },
  {
   "cell_type": "code",
   "execution_count": 54,
   "id": "intended-thickness",
   "metadata": {},
   "outputs": [
    {
     "data": {
      "text/plain": [
       "0"
      ]
     },
     "execution_count": 54,
     "metadata": {},
     "output_type": "execute_result"
    }
   ],
   "source": [
    "df_arbres.isnull().sum().sum()"
   ]
  },
  {
   "cell_type": "code",
   "execution_count": 55,
   "id": "familiar-marine",
   "metadata": {},
   "outputs": [
    {
     "data": {
      "text/html": [
       "<div>\n",
       "<style scoped>\n",
       "    .dataframe tbody tr th:only-of-type {\n",
       "        vertical-align: middle;\n",
       "    }\n",
       "\n",
       "    .dataframe tbody tr th {\n",
       "        vertical-align: top;\n",
       "    }\n",
       "\n",
       "    .dataframe thead th {\n",
       "        text-align: right;\n",
       "    }\n",
       "</style>\n",
       "<table border=\"1\" class=\"dataframe\">\n",
       "  <thead>\n",
       "    <tr style=\"text-align: right;\">\n",
       "      <th></th>\n",
       "      <th>ADR_SECTEUR</th>\n",
       "      <th>ANNEEDEPLANTATION</th>\n",
       "      <th>ANNEEREALISATIONDIAGNOSTIC</th>\n",
       "      <th>ANNEETRAVAUXPRECONISESDIAG</th>\n",
       "      <th>CODE</th>\n",
       "      <th>DIAMETREARBREAUNMETRE</th>\n",
       "      <th>ESPECE</th>\n",
       "      <th>FREQUENTATIONCIBLE</th>\n",
       "      <th>GENRE_BOTA</th>\n",
       "      <th>IDENTIFIANTPLU</th>\n",
       "      <th>...</th>\n",
       "      <th>TYPEIMPLANTATIONPLU</th>\n",
       "      <th>VARIETE</th>\n",
       "      <th>VIGUEUR</th>\n",
       "      <th>coord_x</th>\n",
       "      <th>coord_y</th>\n",
       "      <th>DEFAUT</th>\n",
       "      <th>Collet</th>\n",
       "      <th>Houppier</th>\n",
       "      <th>Racine</th>\n",
       "      <th>Tronc</th>\n",
       "    </tr>\n",
       "  </thead>\n",
       "  <tbody>\n",
       "    <tr>\n",
       "      <th>0</th>\n",
       "      <td>5</td>\n",
       "      <td>2014</td>\n",
       "      <td>2014</td>\n",
       "      <td>2019</td>\n",
       "      <td>ESP33155</td>\n",
       "      <td>10</td>\n",
       "      <td>cordata</td>\n",
       "      <td>passages fréquents ou arrêts</td>\n",
       "      <td>Alnus</td>\n",
       "      <td>0</td>\n",
       "      <td>...</td>\n",
       "      <td>0</td>\n",
       "      <td>0</td>\n",
       "      <td>vigoureux</td>\n",
       "      <td>1.915371e+06</td>\n",
       "      <td>4.222837e+06</td>\n",
       "      <td>0</td>\n",
       "      <td>0</td>\n",
       "      <td>0</td>\n",
       "      <td>0</td>\n",
       "      <td>0</td>\n",
       "    </tr>\n",
       "    <tr>\n",
       "      <th>1</th>\n",
       "      <td>3</td>\n",
       "      <td>2004</td>\n",
       "      <td>2013</td>\n",
       "      <td>2017.0</td>\n",
       "      <td>ESP2079</td>\n",
       "      <td>30</td>\n",
       "      <td>acerifolia</td>\n",
       "      <td>passages fréquents et arrêts fréquents</td>\n",
       "      <td>Platanus</td>\n",
       "      <td>0</td>\n",
       "      <td>...</td>\n",
       "      <td>0</td>\n",
       "      <td>0</td>\n",
       "      <td>vigoureux</td>\n",
       "      <td>1.913250e+06</td>\n",
       "      <td>4.222531e+06</td>\n",
       "      <td>0</td>\n",
       "      <td>0</td>\n",
       "      <td>0</td>\n",
       "      <td>0</td>\n",
       "      <td>0</td>\n",
       "    </tr>\n",
       "    <tr>\n",
       "      <th>2</th>\n",
       "      <td>3</td>\n",
       "      <td>2004</td>\n",
       "      <td>2014.0</td>\n",
       "      <td>2014</td>\n",
       "      <td>ESP26205</td>\n",
       "      <td>10</td>\n",
       "      <td>grandiflora</td>\n",
       "      <td>passages fréquents ou arrêts</td>\n",
       "      <td>Magnolia</td>\n",
       "      <td>0</td>\n",
       "      <td>...</td>\n",
       "      <td>0</td>\n",
       "      <td>0</td>\n",
       "      <td>vigoureux</td>\n",
       "      <td>1.913087e+06</td>\n",
       "      <td>4.223524e+06</td>\n",
       "      <td>0</td>\n",
       "      <td>0</td>\n",
       "      <td>0</td>\n",
       "      <td>0</td>\n",
       "      <td>0</td>\n",
       "    </tr>\n",
       "    <tr>\n",
       "      <th>3</th>\n",
       "      <td>2</td>\n",
       "      <td>2004</td>\n",
       "      <td>2014</td>\n",
       "      <td>2014</td>\n",
       "      <td>ESP7496</td>\n",
       "      <td>40</td>\n",
       "      <td>japonica</td>\n",
       "      <td>passages fréquents et arrêts fréquents</td>\n",
       "      <td>Sophora</td>\n",
       "      <td>0</td>\n",
       "      <td>...</td>\n",
       "      <td>0</td>\n",
       "      <td>0</td>\n",
       "      <td>vigoureux</td>\n",
       "      <td>1.914187e+06</td>\n",
       "      <td>4.224275e+06</td>\n",
       "      <td>1</td>\n",
       "      <td>0</td>\n",
       "      <td>1</td>\n",
       "      <td>1</td>\n",
       "      <td>0</td>\n",
       "    </tr>\n",
       "    <tr>\n",
       "      <th>4</th>\n",
       "      <td>1</td>\n",
       "      <td>2004</td>\n",
       "      <td>2013</td>\n",
       "      <td>2017.0</td>\n",
       "      <td>ESP2547</td>\n",
       "      <td>20</td>\n",
       "      <td>americana</td>\n",
       "      <td>passages fréquents et arrêts fréquents</td>\n",
       "      <td>Fraxinus</td>\n",
       "      <td>0</td>\n",
       "      <td>...</td>\n",
       "      <td>0</td>\n",
       "      <td>0</td>\n",
       "      <td>vigoureux</td>\n",
       "      <td>1.912975e+06</td>\n",
       "      <td>4.225210e+06</td>\n",
       "      <td>0</td>\n",
       "      <td>0</td>\n",
       "      <td>0</td>\n",
       "      <td>0</td>\n",
       "      <td>0</td>\n",
       "    </tr>\n",
       "    <tr>\n",
       "      <th>...</th>\n",
       "      <td>...</td>\n",
       "      <td>...</td>\n",
       "      <td>...</td>\n",
       "      <td>...</td>\n",
       "      <td>...</td>\n",
       "      <td>...</td>\n",
       "      <td>...</td>\n",
       "      <td>...</td>\n",
       "      <td>...</td>\n",
       "      <td>...</td>\n",
       "      <td>...</td>\n",
       "      <td>...</td>\n",
       "      <td>...</td>\n",
       "      <td>...</td>\n",
       "      <td>...</td>\n",
       "      <td>...</td>\n",
       "      <td>...</td>\n",
       "      <td>...</td>\n",
       "      <td>...</td>\n",
       "      <td>...</td>\n",
       "      <td>...</td>\n",
       "    </tr>\n",
       "    <tr>\n",
       "      <th>15370</th>\n",
       "      <td>3</td>\n",
       "      <td>2004</td>\n",
       "      <td>2013</td>\n",
       "      <td>2017.0</td>\n",
       "      <td>ESP29359</td>\n",
       "      <td>0</td>\n",
       "      <td>nigra</td>\n",
       "      <td>passages fréquents et arrêts fréquents</td>\n",
       "      <td>Pinus</td>\n",
       "      <td>0</td>\n",
       "      <td>...</td>\n",
       "      <td>0</td>\n",
       "      <td>0</td>\n",
       "      <td>vigoureux</td>\n",
       "      <td>1.912985e+06</td>\n",
       "      <td>4.222215e+06</td>\n",
       "      <td>0</td>\n",
       "      <td>0</td>\n",
       "      <td>0</td>\n",
       "      <td>0</td>\n",
       "      <td>0</td>\n",
       "    </tr>\n",
       "    <tr>\n",
       "      <th>15371</th>\n",
       "      <td>4</td>\n",
       "      <td>2004</td>\n",
       "      <td>2014</td>\n",
       "      <td>2014</td>\n",
       "      <td>ESP12605</td>\n",
       "      <td>40</td>\n",
       "      <td>acerifolia</td>\n",
       "      <td>passages fréquents et arrêts fréquents</td>\n",
       "      <td>Platanus</td>\n",
       "      <td>0</td>\n",
       "      <td>...</td>\n",
       "      <td>0</td>\n",
       "      <td>0</td>\n",
       "      <td>vigoureux</td>\n",
       "      <td>1.913534e+06</td>\n",
       "      <td>4.223000e+06</td>\n",
       "      <td>0</td>\n",
       "      <td>0</td>\n",
       "      <td>0</td>\n",
       "      <td>0</td>\n",
       "      <td>0</td>\n",
       "    </tr>\n",
       "    <tr>\n",
       "      <th>15372</th>\n",
       "      <td>1</td>\n",
       "      <td>2004</td>\n",
       "      <td>2013</td>\n",
       "      <td>2017.0</td>\n",
       "      <td>ESP15840</td>\n",
       "      <td>10</td>\n",
       "      <td>excelsior</td>\n",
       "      <td>passages fréquents et arrêts fréquents</td>\n",
       "      <td>Fraxinus</td>\n",
       "      <td>0</td>\n",
       "      <td>...</td>\n",
       "      <td>0</td>\n",
       "      <td>Flame</td>\n",
       "      <td>vigoureux</td>\n",
       "      <td>1.913037e+06</td>\n",
       "      <td>4.225100e+06</td>\n",
       "      <td>0</td>\n",
       "      <td>0</td>\n",
       "      <td>0</td>\n",
       "      <td>0</td>\n",
       "      <td>0</td>\n",
       "    </tr>\n",
       "    <tr>\n",
       "      <th>15373</th>\n",
       "      <td>4</td>\n",
       "      <td>2004</td>\n",
       "      <td>2014</td>\n",
       "      <td>2017.0</td>\n",
       "      <td>ESP1436</td>\n",
       "      <td>10</td>\n",
       "      <td>styraciflua</td>\n",
       "      <td>passages fréquents et arrêts fréquents</td>\n",
       "      <td>Liquidambar</td>\n",
       "      <td>0</td>\n",
       "      <td>...</td>\n",
       "      <td>0</td>\n",
       "      <td>0</td>\n",
       "      <td>vigoureux</td>\n",
       "      <td>1.914695e+06</td>\n",
       "      <td>4.222890e+06</td>\n",
       "      <td>0</td>\n",
       "      <td>0</td>\n",
       "      <td>0</td>\n",
       "      <td>0</td>\n",
       "      <td>0</td>\n",
       "    </tr>\n",
       "    <tr>\n",
       "      <th>15374</th>\n",
       "      <td>1</td>\n",
       "      <td>2014</td>\n",
       "      <td>2014</td>\n",
       "      <td>2019</td>\n",
       "      <td>ESP33333</td>\n",
       "      <td>10</td>\n",
       "      <td>mandshurica</td>\n",
       "      <td>passages fréquents ou arrêts</td>\n",
       "      <td>Fraxinus</td>\n",
       "      <td>0</td>\n",
       "      <td>...</td>\n",
       "      <td>0</td>\n",
       "      <td>Mancana</td>\n",
       "      <td>vigoureux</td>\n",
       "      <td>1.911907e+06</td>\n",
       "      <td>4.226534e+06</td>\n",
       "      <td>0</td>\n",
       "      <td>0</td>\n",
       "      <td>0</td>\n",
       "      <td>0</td>\n",
       "      <td>0</td>\n",
       "    </tr>\n",
       "  </tbody>\n",
       "</table>\n",
       "<p>15375 rows × 31 columns</p>\n",
       "</div>"
      ],
      "text/plain": [
       "       ADR_SECTEUR  ANNEEDEPLANTATION ANNEEREALISATIONDIAGNOSTIC  \\\n",
       "0                5               2014                       2014   \n",
       "1                3               2004                       2013   \n",
       "2                3               2004                     2014.0   \n",
       "3                2               2004                       2014   \n",
       "4                1               2004                       2013   \n",
       "...            ...                ...                        ...   \n",
       "15370            3               2004                       2013   \n",
       "15371            4               2004                       2014   \n",
       "15372            1               2004                       2013   \n",
       "15373            4               2004                       2014   \n",
       "15374            1               2014                       2014   \n",
       "\n",
       "      ANNEETRAVAUXPRECONISESDIAG      CODE DIAMETREARBREAUNMETRE       ESPECE  \\\n",
       "0                           2019  ESP33155                    10      cordata   \n",
       "1                         2017.0   ESP2079                    30   acerifolia   \n",
       "2                           2014  ESP26205                    10  grandiflora   \n",
       "3                           2014   ESP7496                    40     japonica   \n",
       "4                         2017.0   ESP2547                    20    americana   \n",
       "...                          ...       ...                   ...          ...   \n",
       "15370                     2017.0  ESP29359                     0        nigra   \n",
       "15371                       2014  ESP12605                    40   acerifolia   \n",
       "15372                     2017.0  ESP15840                    10    excelsior   \n",
       "15373                     2017.0   ESP1436                    10  styraciflua   \n",
       "15374                       2019  ESP33333                    10  mandshurica   \n",
       "\n",
       "                           FREQUENTATIONCIBLE   GENRE_BOTA IDENTIFIANTPLU  \\\n",
       "0                passages fréquents ou arrêts        Alnus              0   \n",
       "1      passages fréquents et arrêts fréquents     Platanus              0   \n",
       "2                passages fréquents ou arrêts     Magnolia              0   \n",
       "3      passages fréquents et arrêts fréquents      Sophora              0   \n",
       "4      passages fréquents et arrêts fréquents     Fraxinus              0   \n",
       "...                                       ...          ...            ...   \n",
       "15370  passages fréquents et arrêts fréquents        Pinus              0   \n",
       "15371  passages fréquents et arrêts fréquents     Platanus              0   \n",
       "15372  passages fréquents et arrêts fréquents     Fraxinus              0   \n",
       "15373  passages fréquents et arrêts fréquents  Liquidambar              0   \n",
       "15374            passages fréquents ou arrêts     Fraxinus              0   \n",
       "\n",
       "       ... TYPEIMPLANTATIONPLU  VARIETE    VIGUEUR       coord_x  \\\n",
       "0      ...                   0        0  vigoureux  1.915371e+06   \n",
       "1      ...                   0        0  vigoureux  1.913250e+06   \n",
       "2      ...                   0        0  vigoureux  1.913087e+06   \n",
       "3      ...                   0        0  vigoureux  1.914187e+06   \n",
       "4      ...                   0        0  vigoureux  1.912975e+06   \n",
       "...    ...                 ...      ...        ...           ...   \n",
       "15370  ...                   0        0  vigoureux  1.912985e+06   \n",
       "15371  ...                   0        0  vigoureux  1.913534e+06   \n",
       "15372  ...                   0    Flame  vigoureux  1.913037e+06   \n",
       "15373  ...                   0        0  vigoureux  1.914695e+06   \n",
       "15374  ...                   0  Mancana  vigoureux  1.911907e+06   \n",
       "\n",
       "            coord_y DEFAUT  Collet  Houppier Racine Tronc  \n",
       "0      4.222837e+06      0       0         0      0     0  \n",
       "1      4.222531e+06      0       0         0      0     0  \n",
       "2      4.223524e+06      0       0         0      0     0  \n",
       "3      4.224275e+06      1       0         1      1     0  \n",
       "4      4.225210e+06      0       0         0      0     0  \n",
       "...             ...    ...     ...       ...    ...   ...  \n",
       "15370  4.222215e+06      0       0         0      0     0  \n",
       "15371  4.223000e+06      0       0         0      0     0  \n",
       "15372  4.225100e+06      0       0         0      0     0  \n",
       "15373  4.222890e+06      0       0         0      0     0  \n",
       "15374  4.226534e+06      0       0         0      0     0  \n",
       "\n",
       "[15375 rows x 31 columns]"
      ]
     },
     "execution_count": 55,
     "metadata": {},
     "output_type": "execute_result"
    }
   ],
   "source": [
    "df_arbres"
   ]
  },
  {
   "cell_type": "markdown",
   "id": "moved-appliance",
   "metadata": {},
   "source": [
    "## Création de 2 nouvelles variables, colonnes dans le Data Frame "
   ]
  },
  {
   "cell_type": "markdown",
   "id": "renewable-brook",
   "metadata": {},
   "source": [
    "**1)** Création nouvelle Variable : **NbAnnéesAvantProchainDiag** est  une différence, qui\n",
    "mesure, par un nombre d’années, la nécessité plus ou moins importante d’un prochain diagnostic,\n",
    "conséquence d’éventuels défauts ayant endommagé l’arbre. \n",
    "\n",
    "Il se définit de la façon suivante :\n",
    "NbAnnéesAvantProchainDiag = AnnéeTravauxPréconisésDiag - AnnéeRéalisationDiagnostic\n",
    "\n",
    "Plus c'est proche de 0 --> plus c'est urgent sinon non urgent"
   ]
  },
  {
   "cell_type": "code",
   "execution_count": 56,
   "id": "exclusive-warrior",
   "metadata": {},
   "outputs": [],
   "source": [
    "df_arbres['ANNEETRAVAUXPRECONISESDIAG'] = df_arbres['ANNEETRAVAUXPRECONISESDIAG'].astype(int)\n",
    "df_arbres['ANNEEREALISATIONDIAGNOSTIC'] = df_arbres['ANNEEREALISATIONDIAGNOSTIC'].astype(int)\n",
    "\n",
    "df_arbres['NbAnnéesAvantProchainDiag'] = df_arbres['ANNEETRAVAUXPRECONISESDIAG'] - df_arbres['ANNEEREALISATIONDIAGNOSTIC']"
   ]
  },
  {
   "cell_type": "code",
   "execution_count": 57,
   "id": "tired-alloy",
   "metadata": {},
   "outputs": [
    {
     "data": {
      "text/plain": [
       " 2     3746\n",
       " 3     2908\n",
       " 4     2268\n",
       " 0     2123\n",
       " 1     1936\n",
       " 5     1669\n",
       " 6      449\n",
       "-1      184\n",
       " 7       69\n",
       " 10      22\n",
       " 9        1\n",
       "Name: NbAnnéesAvantProchainDiag, dtype: int64"
      ]
     },
     "execution_count": 57,
     "metadata": {},
     "output_type": "execute_result"
    }
   ],
   "source": [
    "df_arbres['NbAnnéesAvantProchainDiag'].value_counts()"
   ]
  },
  {
   "cell_type": "code",
   "execution_count": 58,
   "id": "neither-pride",
   "metadata": {},
   "outputs": [
    {
     "data": {
      "text/plain": [
       "0"
      ]
     },
     "execution_count": 58,
     "metadata": {},
     "output_type": "execute_result"
    }
   ],
   "source": [
    "df_arbres.NbAnnéesAvantProchainDiag.isna().sum()"
   ]
  },
  {
   "cell_type": "markdown",
   "id": "black-savage",
   "metadata": {},
   "source": [
    "**2)** Création nouvele VARIABLE - **EVOLUTIONJSQDIAG**\n",
    "\n",
    "Elle reflète l’évolution de l’arbre, de sa plantation jusqu’au diagnostic.\n",
    "Une différence positive, nulle ou négative, correspond alors à une évolution positive, constante ou négative, du développement de l’arbre.\n",
    "\n",
    "Aucun passage de 1 à 3 (jeune à vieux)\n",
    "ou de 3 à 1 (vieux à jeune)"
   ]
  },
  {
   "cell_type": "code",
   "execution_count": 59,
   "id": "prospective-minister",
   "metadata": {},
   "outputs": [],
   "source": [
    "df_arbres['EVOLUTIONJSQDIAG'] = df_arbres['STADEDEDEVELOPPEMENT'] - df_arbres['STADEDEVELOPPEMENTDIAG']"
   ]
  },
  {
   "cell_type": "code",
   "execution_count": 60,
   "id": "fifth-farmer",
   "metadata": {},
   "outputs": [
    {
     "data": {
      "text/plain": [
       " 0    13433\n",
       " 1     1177\n",
       "-1      765\n",
       "Name: EVOLUTIONJSQDIAG, dtype: int64"
      ]
     },
     "execution_count": 60,
     "metadata": {},
     "output_type": "execute_result"
    }
   ],
   "source": [
    "df_arbres['EVOLUTIONJSQDIAG'].value_counts()"
   ]
  },
  {
   "cell_type": "markdown",
   "id": "stuffed-investigator",
   "metadata": {},
   "source": [
    "## Mise à niveau du typage des variables"
   ]
  },
  {
   "cell_type": "markdown",
   "id": "animal-enhancement",
   "metadata": {},
   "source": [
    "### Transformation en Integer "
   ]
  },
  {
   "cell_type": "code",
   "execution_count": 61,
   "id": "arbitrary-stone",
   "metadata": {},
   "outputs": [],
   "source": [
    "df_arbres[\"DIAMETREARBREAUNMETRE\"] = df_arbres[\"DIAMETREARBREAUNMETRE\"].astype(int)\n",
    "df_arbres ['ANNEEREALISATIONDIAGNOSTIC'] = df_arbres ['ANNEEREALISATIONDIAGNOSTIC'].astype(int)\n",
    "df_arbres ['ANNEETRAVAUXPRECONISESDIAG'] = df_arbres ['ANNEETRAVAUXPRECONISESDIAG'].astype(int)\n",
    "df_arbres ['IDENTIFIANTPLU'] = df_arbres ['IDENTIFIANTPLU'].astype(int)\n",
    "df_arbres['NbAnnéesAvantProchainDiag'] = df_arbres['NbAnnéesAvantProchainDiag'].astype(int)"
   ]
  },
  {
   "cell_type": "markdown",
   "id": "extraordinary-piano",
   "metadata": {},
   "source": [
    "### Transformation en catégorielle "
   ]
  },
  {
   "cell_type": "code",
   "execution_count": 62,
   "id": "hairy-uganda",
   "metadata": {},
   "outputs": [],
   "source": [
    "df_arbres ['ADR_SECTEUR'] = df_arbres ['ADR_SECTEUR'].astype(\"category\")\n",
    "df_arbres ['Collet'] = df_arbres ['Collet'].astype(\"category\")\n",
    "df_arbres ['Houppier'] = df_arbres ['Houppier'].astype(\"category\")\n",
    "df_arbres ['Racine'] = df_arbres ['Racine'].astype(\"category\")\n",
    "df_arbres ['Tronc'] = df_arbres ['Tronc'].astype(\"category\")\n",
    "df_arbres ['DEFAUT'] = df_arbres ['DEFAUT'].astype(\"category\")\n",
    "df_arbres ['FREQUENTATIONCIBLE'] = df_arbres ['FREQUENTATIONCIBLE'].astype(\"category\")\n",
    "df_arbres['VARIETE'] = df_arbres ['VARIETE'].astype(\"category\")\n",
    "df_arbres['NOTEDIAGNOSTIC'] = df_arbres ['NOTEDIAGNOSTIC'].astype(\"category\")\n",
    "df_arbres['ESPECE'] = df_arbres ['ESPECE'].astype(\"category\")\n",
    "df_arbres['RAISONDEPLANTATION'] = df_arbres ['RAISONDEPLANTATION'].astype(\"category\")\n",
    "df_arbres['STADEDEDEVELOPPEMENT'] = df_arbres ['STADEDEDEVELOPPEMENT'].astype(\"category\")\n",
    "df_arbres['STADEDEVELOPPEMENTDIAG'] = df_arbres ['STADEDEVELOPPEMENTDIAG'].astype(\"category\")\n",
    "df_arbres['TYPEIMPLANTATIONPLU'] = df_arbres ['TYPEIMPLANTATIONPLU'].astype(\"category\")\n",
    "df_arbres['VIGUEUR'] = df_arbres ['VIGUEUR'].astype(\"category\")\n",
    "df_arbres['SOUS_CATEGORIE'] = df_arbres ['SOUS_CATEGORIE'].astype(\"category\")\n",
    "df_arbres['SOUS_CATEGORIE_DESC'] = df_arbres ['SOUS_CATEGORIE_DESC'].astype(\"category\")\n",
    "df_arbres['IDENTIFIANTPLU'] = df_arbres ['IDENTIFIANTPLU'].astype(\"category\")\n",
    "df_arbres['TRAITEMENTCHENILLES'] = df_arbres ['TRAITEMENTCHENILLES'].astype(\"category\")\n",
    "df_arbres['TRAVAUXPRECONISESDIAG'] = df_arbres ['TRAVAUXPRECONISESDIAG'].astype(\"category\")\n",
    "df_arbres['TROTTOIR'] = df_arbres ['TROTTOIR'].astype(\"category\")\n",
    "df_arbres['GENRE_BOTA'] = df_arbres ['GENRE_BOTA'].astype(\"category\")\n",
    "df_arbres['PRIORITEDERENOUVELLEMENT'] = df_arbres ['PRIORITEDERENOUVELLEMENT'].astype(\"category\")\n",
    "df_arbres['EVOLUTIONJSQDIAG'] = df_arbres ['EVOLUTIONJSQDIAG'].astype(\"category\")\n",
    "df_arbres['REMARQUES'] = df_arbres ['REMARQUES'].astype(\"category\")"
   ]
  },
  {
   "cell_type": "markdown",
   "id": "informational-aquatic",
   "metadata": {},
   "source": [
    "## Etat des lieux des variables après Data Cleaning"
   ]
  },
  {
   "cell_type": "code",
   "execution_count": 63,
   "id": "vertical-depression",
   "metadata": {},
   "outputs": [
    {
     "name": "stdout",
     "output_type": "stream",
     "text": [
      "<class 'pandas.core.frame.DataFrame'>\n",
      "RangeIndex: 15375 entries, 0 to 15374\n",
      "Data columns (total 33 columns):\n",
      " #   Column                      Non-Null Count  Dtype   \n",
      "---  ------                      --------------  -----   \n",
      " 0   ADR_SECTEUR                 15375 non-null  category\n",
      " 1   ANNEEDEPLANTATION           15375 non-null  int64   \n",
      " 2   ANNEEREALISATIONDIAGNOSTIC  15375 non-null  int32   \n",
      " 3   ANNEETRAVAUXPRECONISESDIAG  15375 non-null  int32   \n",
      " 4   CODE                        15375 non-null  object  \n",
      " 5   DIAMETREARBREAUNMETRE       15375 non-null  int32   \n",
      " 6   ESPECE                      15375 non-null  category\n",
      " 7   FREQUENTATIONCIBLE          15375 non-null  category\n",
      " 8   GENRE_BOTA                  15375 non-null  category\n",
      " 9   IDENTIFIANTPLU              15375 non-null  category\n",
      " 10  NOTEDIAGNOSTIC              15375 non-null  category\n",
      " 11  PRIORITEDERENOUVELLEMENT    15375 non-null  category\n",
      " 12  RAISONDEPLANTATION          15375 non-null  category\n",
      " 13  REMARQUES                   15375 non-null  category\n",
      " 14  SOUS_CATEGORIE              15375 non-null  category\n",
      " 15  SOUS_CATEGORIE_DESC         15375 non-null  category\n",
      " 16  STADEDEDEVELOPPEMENT        15375 non-null  category\n",
      " 17  STADEDEVELOPPEMENTDIAG      15375 non-null  category\n",
      " 18  TRAITEMENTCHENILLES         15375 non-null  category\n",
      " 19  TRAVAUXPRECONISESDIAG       15375 non-null  category\n",
      " 20  TROTTOIR                    15375 non-null  category\n",
      " 21  TYPEIMPLANTATIONPLU         15375 non-null  category\n",
      " 22  VARIETE                     15375 non-null  category\n",
      " 23  VIGUEUR                     15375 non-null  category\n",
      " 24  coord_x                     15375 non-null  float64 \n",
      " 25  coord_y                     15375 non-null  float64 \n",
      " 26  DEFAUT                      15375 non-null  category\n",
      " 27  Collet                      15375 non-null  category\n",
      " 28  Houppier                    15375 non-null  category\n",
      " 29  Racine                      15375 non-null  category\n",
      " 30  Tronc                       15375 non-null  category\n",
      " 31  NbAnnéesAvantProchainDiag   15375 non-null  int32   \n",
      " 32  EVOLUTIONJSQDIAG            15375 non-null  category\n",
      "dtypes: category(25), float64(2), int32(4), int64(1), object(1)\n",
      "memory usage: 1.1+ MB\n"
     ]
    }
   ],
   "source": [
    "df_arbres.info()"
   ]
  },
  {
   "cell_type": "markdown",
   "id": "northern-kelly",
   "metadata": {},
   "source": [
    "# Analyse exploratoire des données"
   ]
  },
  {
   "cell_type": "markdown",
   "id": "simple-civilian",
   "metadata": {},
   "source": [
    "Après la partie \"Data Management\" de nos données, nous avons voulu explorer les données pour déterminer quelles méthodes et quels descripteurs (attributs) sont susceptibles d’être intéressants pour le problème de fouille posé. Nous avons ainsi utilisé des outils d’analyse exploratoire de données pour produire des graphiques et des statistiques résumant les données des arbres.\n",
    "\n",
    "Cette partie se découpe en deux :\n",
    "- **Résumé statistique** des données à travers deux fonction python permettant d'analyser les variables qualitatives ou quantitatives de notre data set\n",
    "- **Résumé** des données des arbres par **mapping**"
   ]
  },
  {
   "cell_type": "markdown",
   "id": "solid-proposal",
   "metadata": {},
   "source": [
    "## Résumé statistique"
   ]
  },
  {
   "cell_type": "markdown",
   "id": "present-playlist",
   "metadata": {},
   "source": [
    "Nous allons maintenant décrire chaque variable de notre data set séparement. On peut distinguer 2 types de variables dans notre Data frame : les variables **qualitatives/catégorielles** et les variables **quantitatives** avec pour chacune des moyens de descriptions statistiques différents.\n",
    "\n",
    "Nous avons ainsi développé **deux fonctions** qui permettent de concevoir l'ensemble des statistiques univariées pour une variable qualitative ou quantitative donnée.\n"
   ]
  },
  {
   "cell_type": "markdown",
   "id": "altered-consistency",
   "metadata": {},
   "source": [
    "### Variables quantitatives"
   ]
  },
  {
   "cell_type": "code",
   "execution_count": 67,
   "id": "basic-supplement",
   "metadata": {},
   "outputs": [],
   "source": [
    "def descQuanti(variable):\n",
    "    # description d'une variable quantitative du jeu de données arbres\n",
    "    # récupération des valeurs\n",
    "    val = df_arbres[variable]\n",
    "    # affichage des différentes statistiques univariées demandées\n",
    "    print(\"Variable   :\", variable, \"\\n\")\n",
    "    print(\"Moyenne    : \", np.mean(val))\n",
    "    print(\"Ecart-type : \", np.std(val))\n",
    "    print(\"Médiane    : \", np.median(val))\n",
    "    print(\"Minimum    : \", np.min(val))\n",
    "    print(\"Maximum    : \", np.max(val))\n",
    "    \n",
    "    # création de l'histogramme avec la densité\n",
    "    h = sns.distplot(val,norm_hist = True, kde = True, color = 'navy')\n",
    "    \n",
    "    # Ajout de la p-value du test de normalité\n",
    "    t = scipy.stats.normaltest(val)\n",
    "    plt.text(.9, .9, \"Normalité (p-val) : \" + str(t.pvalue),\n",
    "                           horizontalalignment='right',\n",
    "                           verticalalignment='top',\n",
    "                           transform = h.transAxes)\n",
    "    \n",
    "    # création d'une nouvelle figure\n",
    "    plt.figure()\n",
    "    \n",
    "    # Affichage boîte à moustache\n",
    "    sns.boxplot(x = variable, data = df_arbres,showmeans=True)\n",
    "    plt.title('Boîte à moustache')\n"
   ]
  },
  {
   "cell_type": "code",
   "execution_count": 68,
   "id": "beginning-divide",
   "metadata": {},
   "outputs": [
    {
     "name": "stdout",
     "output_type": "stream",
     "text": [
      "Variable   : DIAMETREARBREAUNMETRE \n",
      "\n",
      "Moyenne    :  27.553821138211383\n",
      "Ecart-type :  20.791022473178653\n",
      "Médiane    :  20.0\n",
      "Minimum    :  0\n",
      "Maximum    :  180\n"
     ]
    },
    {
     "name": "stderr",
     "output_type": "stream",
     "text": [
      "C:\\Users\\adrien\\Anaconda3\\lib\\site-packages\\seaborn\\distributions.py:2557: FutureWarning: `distplot` is a deprecated function and will be removed in a future version. Please adapt your code to use either `displot` (a figure-level function with similar flexibility) or `histplot` (an axes-level function for histograms).\n",
      "  warnings.warn(msg, FutureWarning)\n"
     ]
    },
    {
     "data": {
      "image/png": "[encoded data removed]",
      "text/plain": [
       "<Figure size 432x288 with 1 Axes>"
      ]
     },
     "metadata": {
      "needs_background": "light"
     },
     "output_type": "display_data"
    },
    {
     "data": {
      "image/png": "[encoded data removed]",
      "text/plain": [
       "<Figure size 432x288 with 1 Axes>"
      ]
     },
     "metadata": {
      "needs_background": "light"
     },
     "output_type": "display_data"
    }
   ],
   "source": [
    "#Appel de la fonction avec la variable DIAMETREABREAUNMETRE\n",
    "descQuanti('DIAMETREARBREAUNMETRE')"
   ]
  },
  {
   "cell_type": "code",
   "execution_count": 69,
   "id": "dependent-intensity",
   "metadata": {},
   "outputs": [
    {
     "name": "stdout",
     "output_type": "stream",
     "text": [
      "Variable   : NbAnnéesAvantProchainDiag \n",
      "\n",
      "Moyenne    :  2.522991869918699\n",
      "Ecart-type :  1.7154604942262517\n",
      "Médiane    :  2.0\n",
      "Minimum    :  -1\n",
      "Maximum    :  10\n"
     ]
    },
    {
     "name": "stderr",
     "output_type": "stream",
     "text": [
      "C:\\Users\\adrien\\Anaconda3\\lib\\site-packages\\seaborn\\distributions.py:2557: FutureWarning: `distplot` is a deprecated function and will be removed in a future version. Please adapt your code to use either `displot` (a figure-level function with similar flexibility) or `histplot` (an axes-level function for histograms).\n",
      "  warnings.warn(msg, FutureWarning)\n"
     ]
    },
    {
     "data": {
      "image/png": "[encoded data removed]",
      "text/plain": [
       "<Figure size 432x288 with 1 Axes>"
      ]
     },
     "metadata": {
      "needs_background": "light"
     },
     "output_type": "display_data"
    },
    {
     "data": {
      "image/png": "[encoded data removed]",
      "text/plain": [
       "<Figure size 432x288 with 1 Axes>"
      ]
     },
     "metadata": {
      "needs_background": "light"
     },
     "output_type": "display_data"
    }
   ],
   "source": [
    "##Appel de la fonction avec la variable NbAnnéesAvantProchainDiag\n",
    "descQuanti('NbAnnéesAvantProchainDiag')"
   ]
  },
  {
   "cell_type": "markdown",
   "id": "academic-superior",
   "metadata": {},
   "source": [
    "## Variables qualitatives"
   ]
  },
  {
   "cell_type": "code",
   "execution_count": 98,
   "id": "effective-adventure",
   "metadata": {},
   "outputs": [],
   "source": [
    "def descQuali(variable):\n",
    "    # description d'une variable qualitative du jeu de données arbres\n",
    "    # récupération des valeurs associées\n",
    "    \n",
    "    val = df_arbres[variable]\n",
    "    \n",
    "    # affichage des différentes informations demandées\n",
    "    print(\"Variable   :\", variable, \"\\n\")\n",
    "    \n",
    "    # tableau des effectifs et des proportions\n",
    "    eff = pd.crosstab(val, \"Effectif\")\n",
    "    pro = pd.crosstab(val, \"Pourcentage\", normalize=True) * 100\n",
    "    print(pd.concat([eff, pro.round(2)], axis = 1))\n",
    "    \n",
    "    #Affichage du diagramme en barres\n",
    "    sns.countplot(x=variable, data=df_arbres)\n",
    "    plt.xticks(fontsize=\"10\", rotation=90)\n",
    "    plt.title('Diagramme')\n",
    "\n",
    "    "
   ]
  },
  {
   "cell_type": "code",
   "execution_count": 99,
   "id": "inside-badge",
   "metadata": {},
   "outputs": [
    {
     "name": "stdout",
     "output_type": "stream",
     "text": [
      "Variable   : FREQUENTATIONCIBLE \n",
      "\n",
      "col_0                                   Effectif  Pourcentage\n",
      "FREQUENTATIONCIBLE                                           \n",
      "0                                              1         0.01\n",
      "passages fréquents et arrêts fréquents     12164        79.12\n",
      "passages fréquents ou arrêts                3065        19.93\n",
      "quelques passages                            145         0.94\n"
     ]
    },
    {
     "data": {
      "image/png": "[encoded data removed]",
      "text/plain": [
       "<Figure size 432x288 with 1 Axes>"
      ]
     },
     "metadata": {
      "needs_background": "light"
     },
     "output_type": "display_data"
    }
   ],
   "source": [
    "descQuali(\"FREQUENTATIONCIBLE\")"
   ]
  },
  {
   "cell_type": "code",
   "execution_count": 106,
   "id": "outer-familiar",
   "metadata": {},
   "outputs": [
    {
     "name": "stdout",
     "output_type": "stream",
     "text": [
      "Variable   : NOTEDIAGNOSTIC \n",
      "\n",
      "col_0                            Effectif  Pourcentage\n",
      "NOTEDIAGNOSTIC                                        \n",
      "Arbre davenir incertain              2651        17.24\n",
      "Arbre davenir normal                11716        76.20\n",
      "Arbre à abattre dans les 10 ans       592         3.85\n",
      "Arbre à abattre dans les 5 ans        323         2.10\n",
      "Arbre à abattre immédiatement          53         0.34\n",
      "Aucune note                            40         0.26\n"
     ]
    },
    {
     "data": {
      "image/png": "[encoded data removed]",
      "text/plain": [
       "<Figure size 432x288 with 1 Axes>"
      ]
     },
     "metadata": {
      "needs_background": "light"
     },
     "output_type": "display_data"
    }
   ],
   "source": [
    "descQuali('NOTEDIAGNOSTIC')"
   ]
  },
  {
   "cell_type": "code",
   "execution_count": 108,
   "id": "prerequisite-transcription",
   "metadata": {},
   "outputs": [
    {
     "name": "stdout",
     "output_type": "stream",
     "text": [
      "Variable   : ADR_SECTEUR \n",
      "\n",
      "col_0        Effectif  Pourcentage\n",
      "ADR_SECTEUR                       \n",
      "1                1678        10.91\n",
      "2                3113        20.25\n",
      "3                2518        16.38\n",
      "4                2162        14.06\n",
      "5                2943        19.14\n",
      "6                2961        19.26\n"
     ]
    },
    {
     "data": {
      "image/png": "[encoded data removed]",
      "text/plain": [
       "<Figure size 432x288 with 1 Axes>"
      ]
     },
     "metadata": {
      "needs_background": "light"
     },
     "output_type": "display_data"
    }
   ],
   "source": [
    "descQuali('ADR_SECTEUR')"
   ]
  },
  {
   "cell_type": "code",
   "execution_count": 109,
   "id": "dedicated-negative",
   "metadata": {},
   "outputs": [
    {
     "name": "stdout",
     "output_type": "stream",
     "text": [
      "Variable   : DEFAUT \n",
      "\n",
      "col_0   Effectif  Pourcentage\n",
      "DEFAUT                       \n",
      "0          10374        67.47\n",
      "1           5001        32.53\n"
     ]
    },
    {
     "data": {
      "image/png": "[encoded data removed]",
      "text/plain": [
       "<Figure size 432x288 with 1 Axes>"
      ]
     },
     "metadata": {
      "needs_background": "light"
     },
     "output_type": "display_data"
    }
   ],
   "source": [
    "descQuali('DEFAUT')"
   ]
  },
  {
   "cell_type": "markdown",
   "id": "laughing-repair",
   "metadata": {},
   "source": [
    "## Résumé par mapping"
   ]
  },
  {
   "cell_type": "code",
   "execution_count": null,
   "id": "controlling-arlington",
   "metadata": {},
   "outputs": [],
   "source": []
  },
  {
   "cell_type": "code",
   "execution_count": null,
   "id": "other-munich",
   "metadata": {},
   "outputs": [],
   "source": []
  },
  {
   "cell_type": "code",
   "execution_count": null,
   "id": "suspected-architect",
   "metadata": {},
   "outputs": [],
   "source": []
  },
  {
   "cell_type": "code",
   "execution_count": null,
   "id": "buried-climb",
   "metadata": {},
   "outputs": [],
   "source": []
  },
  {
   "cell_type": "code",
   "execution_count": null,
   "id": "closing-canadian",
   "metadata": {},
   "outputs": [],
   "source": []
  },
  {
   "cell_type": "code",
   "execution_count": null,
   "id": "palestinian-subscription",
   "metadata": {},
   "outputs": [],
   "source": []
  },
  {
   "cell_type": "markdown",
   "id": "expired-developer",
   "metadata": {},
   "source": [
    "3 map :\n",
    "-  Présence de tous les arbres dans la ville\n",
    "- Arbre défault 1 ou 0\n",
    "- Arbre par Adr Secteur (1 à 4)"
   ]
  },
  {
   "cell_type": "code",
   "execution_count": null,
   "id": "unsigned-skiing",
   "metadata": {},
   "outputs": [],
   "source": []
  },
  {
   "cell_type": "code",
   "execution_count": null,
   "id": "loose-enough",
   "metadata": {},
   "outputs": [],
   "source": []
  },
  {
   "cell_type": "code",
   "execution_count": null,
   "id": "committed-uruguay",
   "metadata": {},
   "outputs": [],
   "source": []
  },
  {
   "cell_type": "code",
   "execution_count": null,
   "id": "canadian-sector",
   "metadata": {},
   "outputs": [],
   "source": []
  },
  {
   "cell_type": "code",
   "execution_count": null,
   "id": "ceramic-pledge",
   "metadata": {},
   "outputs": [],
   "source": []
  },
  {
   "cell_type": "code",
   "execution_count": null,
   "id": "bigger-digest",
   "metadata": {},
   "outputs": [],
   "source": []
  },
  {
   "cell_type": "code",
   "execution_count": null,
   "id": "comparable-toyota",
   "metadata": {},
   "outputs": [],
   "source": []
  },
  {
   "cell_type": "code",
   "execution_count": null,
   "id": "musical-philosophy",
   "metadata": {},
   "outputs": [],
   "source": [
    "from sklearn.model_selection import cross_val_score\n",
    "#Grid search\n",
    "X = df_train[df_train.columns[:-1]]\n",
    "y = df_train[df_train.columns[-1]]\n",
    "regressor = RandomForestRegressor(n_estimators=800,min_samples_split =10,min_samples_leaf=2,max_features=\"sqrt\", max_depth=20,bootstrap=False,  random_state=0)\n",
    "scores = cross_val_score(regressor, X, y, cv=5)\n",
    "scores.mean()"
   ]
  },
  {
   "cell_type": "code",
   "execution_count": null,
   "id": "geological-september",
   "metadata": {},
   "outputs": [],
   "source": [
    " rf_random = RandomizedSearchCV(estimator = rf, param_distributions = random_grid, n_iter = 100, cv = 3, verbose=2, random_state=42, n_jobs = -1)"
   ]
  }
 ],
 "metadata": {
  "kernelspec": {
   "display_name": "Python 3",
   "language": "python",
   "name": "python3"
  },
  "language_info": {
   "codemirror_mode": {
    "name": "ipython",
    "version": 3
   },
   "file_extension": ".py",
   "mimetype": "text/x-python",
   "name": "python",
   "nbconvert_exporter": "python",
   "pygments_lexer": "ipython3",
   "version": "3.7.9"
  }
 },
 "nbformat": 4,
 "nbformat_minor": 5
}
