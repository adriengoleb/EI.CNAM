{
 "cells": [
  {
   "cell_type": "code",
   "execution_count": 645,
   "metadata": {},
   "outputs": [],
   "source": [
    "import csv\n",
    "\n",
    "from math import *\n",
    "import pandas as pd\n",
    "import numpy as np\n",
    "\n",
    "import matplotlib\n",
    "from scipy import stats\n",
    "import scipy.stats\n",
    "import scipy\n",
    "\n",
    "import matplotlib.pyplot as plt\n",
    "import matplotlib.pyplot as plt\n",
    "import seaborn as sns\n",
    "\n",
    "import re"
   ]
  },
  {
   "cell_type": "code",
   "execution_count": 646,
   "metadata": {},
   "outputs": [],
   "source": [
    "df_arbres = pd.read_csv('donnees-defi-egc.csv')"
   ]
  },
  {
   "cell_type": "code",
   "execution_count": 647,
   "metadata": {},
   "outputs": [
    {
     "data": {
      "text/html": [
       "<div>\n",
       "<style scoped>\n",
       "    .dataframe tbody tr th:only-of-type {\n",
       "        vertical-align: middle;\n",
       "    }\n",
       "\n",
       "    .dataframe tbody tr th {\n",
       "        vertical-align: top;\n",
       "    }\n",
       "\n",
       "    .dataframe thead th {\n",
       "        text-align: right;\n",
       "    }\n",
       "</style>\n",
       "<table border=\"1\" class=\"dataframe\">\n",
       "  <thead>\n",
       "    <tr style=\"text-align: right;\">\n",
       "      <th></th>\n",
       "      <th>ADR_SECTEUR</th>\n",
       "      <th>ANNEEDEPLANTATION</th>\n",
       "      <th>ANNEEREALISATIONDIAGNOSTIC</th>\n",
       "      <th>ANNEETRAVAUXPRECONISESDIAG</th>\n",
       "      <th>CODE</th>\n",
       "      <th>CODE_PARENT</th>\n",
       "      <th>CODE_PARENT_DESC</th>\n",
       "      <th>DIAMETREARBREAUNMETRE</th>\n",
       "      <th>ESPECE</th>\n",
       "      <th>FREQUENTATIONCIBLE</th>\n",
       "      <th>...</th>\n",
       "      <th>TYPEIMPLANTATIONPLU</th>\n",
       "      <th>VARIETE</th>\n",
       "      <th>VIGUEUR</th>\n",
       "      <th>coord_x</th>\n",
       "      <th>coord_y</th>\n",
       "      <th>DEFAUT</th>\n",
       "      <th>Collet</th>\n",
       "      <th>Houppier</th>\n",
       "      <th>Racine</th>\n",
       "      <th>Tronc</th>\n",
       "    </tr>\n",
       "  </thead>\n",
       "  <tbody>\n",
       "    <tr>\n",
       "      <th>0</th>\n",
       "      <td>5</td>\n",
       "      <td>2014</td>\n",
       "      <td>2014</td>\n",
       "      <td>2019</td>\n",
       "      <td>ESP33155</td>\n",
       "      <td>ESP385</td>\n",
       "      <td>R D Fontanelle ang Essen JO</td>\n",
       "      <td>10 à 20 cm</td>\n",
       "      <td>cordata</td>\n",
       "      <td>passages fréquents ou arrêts</td>\n",
       "      <td>...</td>\n",
       "      <td>?</td>\n",
       "      <td>?</td>\n",
       "      <td>vigoureux</td>\n",
       "      <td>1.915371e+06</td>\n",
       "      <td>4.222837e+06</td>\n",
       "      <td>0</td>\n",
       "      <td>0</td>\n",
       "      <td>0</td>\n",
       "      <td>0</td>\n",
       "      <td>0</td>\n",
       "    </tr>\n",
       "    <tr>\n",
       "      <th>1</th>\n",
       "      <td>3</td>\n",
       "      <td>2004</td>\n",
       "      <td>2013</td>\n",
       "      <td>?</td>\n",
       "      <td>ESP2079</td>\n",
       "      <td>ESP116</td>\n",
       "      <td>Crs Libération Beauvert Alliés</td>\n",
       "      <td>30 à 40 cm</td>\n",
       "      <td>acerifolia</td>\n",
       "      <td>passages fréquents et arrêts fréquents</td>\n",
       "      <td>...</td>\n",
       "      <td>?</td>\n",
       "      <td>?</td>\n",
       "      <td>vigoureux</td>\n",
       "      <td>1.913250e+06</td>\n",
       "      <td>4.222531e+06</td>\n",
       "      <td>0</td>\n",
       "      <td>0</td>\n",
       "      <td>0</td>\n",
       "      <td>0</td>\n",
       "      <td>0</td>\n",
       "    </tr>\n",
       "    <tr>\n",
       "      <th>2</th>\n",
       "      <td>3</td>\n",
       "      <td>2004</td>\n",
       "      <td>?</td>\n",
       "      <td>2014</td>\n",
       "      <td>ESP26205</td>\n",
       "      <td>ESP635</td>\n",
       "      <td>Pl R Frappat ang Eaux Claires</td>\n",
       "      <td>10 à 20 cm</td>\n",
       "      <td>grandiflora</td>\n",
       "      <td>passages fréquents ou arrêts</td>\n",
       "      <td>...</td>\n",
       "      <td>?</td>\n",
       "      <td>?</td>\n",
       "      <td>vigoureux</td>\n",
       "      <td>1.913087e+06</td>\n",
       "      <td>4.223524e+06</td>\n",
       "      <td>0</td>\n",
       "      <td>0</td>\n",
       "      <td>0</td>\n",
       "      <td>0</td>\n",
       "      <td>0</td>\n",
       "    </tr>\n",
       "    <tr>\n",
       "      <th>3</th>\n",
       "      <td>2</td>\n",
       "      <td>2004</td>\n",
       "      <td>2014</td>\n",
       "      <td>2014</td>\n",
       "      <td>ESP7496</td>\n",
       "      <td>ESP109</td>\n",
       "      <td>R François Raoult</td>\n",
       "      <td>40 à 50 cm</td>\n",
       "      <td>japonica</td>\n",
       "      <td>passages fréquents et arrêts fréquents</td>\n",
       "      <td>...</td>\n",
       "      <td>?</td>\n",
       "      <td>?</td>\n",
       "      <td>vigoureux</td>\n",
       "      <td>1.914187e+06</td>\n",
       "      <td>4.224275e+06</td>\n",
       "      <td>1</td>\n",
       "      <td>0</td>\n",
       "      <td>1</td>\n",
       "      <td>1</td>\n",
       "      <td>0</td>\n",
       "    </tr>\n",
       "    <tr>\n",
       "      <th>4</th>\n",
       "      <td>1</td>\n",
       "      <td>2004</td>\n",
       "      <td>2013</td>\n",
       "      <td>?</td>\n",
       "      <td>ESP2547</td>\n",
       "      <td>ESP194</td>\n",
       "      <td>Terminus Tram Esclangon</td>\n",
       "      <td>20 à 30 cm</td>\n",
       "      <td>americana</td>\n",
       "      <td>passages fréquents et arrêts fréquents</td>\n",
       "      <td>...</td>\n",
       "      <td>?</td>\n",
       "      <td>?</td>\n",
       "      <td>vigoureux</td>\n",
       "      <td>1.912975e+06</td>\n",
       "      <td>4.225210e+06</td>\n",
       "      <td>0</td>\n",
       "      <td>0</td>\n",
       "      <td>0</td>\n",
       "      <td>0</td>\n",
       "      <td>0</td>\n",
       "    </tr>\n",
       "    <tr>\n",
       "      <th>...</th>\n",
       "      <td>...</td>\n",
       "      <td>...</td>\n",
       "      <td>...</td>\n",
       "      <td>...</td>\n",
       "      <td>...</td>\n",
       "      <td>...</td>\n",
       "      <td>...</td>\n",
       "      <td>...</td>\n",
       "      <td>...</td>\n",
       "      <td>...</td>\n",
       "      <td>...</td>\n",
       "      <td>...</td>\n",
       "      <td>...</td>\n",
       "      <td>...</td>\n",
       "      <td>...</td>\n",
       "      <td>...</td>\n",
       "      <td>...</td>\n",
       "      <td>...</td>\n",
       "      <td>...</td>\n",
       "      <td>...</td>\n",
       "      <td>...</td>\n",
       "    </tr>\n",
       "    <tr>\n",
       "      <th>15370</th>\n",
       "      <td>3</td>\n",
       "      <td>2004</td>\n",
       "      <td>2013</td>\n",
       "      <td>?</td>\n",
       "      <td>ESP29359</td>\n",
       "      <td>ESP84</td>\n",
       "      <td>Hôtel Lesdiguières</td>\n",
       "      <td>0 à 10 cm</td>\n",
       "      <td>?</td>\n",
       "      <td>passages fréquents et arrêts fréquents</td>\n",
       "      <td>...</td>\n",
       "      <td>?</td>\n",
       "      <td>?</td>\n",
       "      <td>vigoureux</td>\n",
       "      <td>1.912985e+06</td>\n",
       "      <td>4.222215e+06</td>\n",
       "      <td>0</td>\n",
       "      <td>0</td>\n",
       "      <td>0</td>\n",
       "      <td>0</td>\n",
       "      <td>0</td>\n",
       "    </tr>\n",
       "    <tr>\n",
       "      <th>15371</th>\n",
       "      <td>4</td>\n",
       "      <td>2004</td>\n",
       "      <td>2014</td>\n",
       "      <td>2014</td>\n",
       "      <td>ESP12605</td>\n",
       "      <td>ESP1023</td>\n",
       "      <td>R Gén Mangin Alliés Jacquart</td>\n",
       "      <td>40 à 50 cm</td>\n",
       "      <td>acerifolia</td>\n",
       "      <td>passages fréquents et arrêts fréquents</td>\n",
       "      <td>...</td>\n",
       "      <td>?</td>\n",
       "      <td>?</td>\n",
       "      <td>vigoureux</td>\n",
       "      <td>1.913534e+06</td>\n",
       "      <td>4.223000e+06</td>\n",
       "      <td>0</td>\n",
       "      <td>0</td>\n",
       "      <td>0</td>\n",
       "      <td>0</td>\n",
       "      <td>0</td>\n",
       "    </tr>\n",
       "    <tr>\n",
       "      <th>15372</th>\n",
       "      <td>1</td>\n",
       "      <td>2004</td>\n",
       "      <td>2013</td>\n",
       "      <td>?</td>\n",
       "      <td>ESP15840</td>\n",
       "      <td>ESP1277</td>\n",
       "      <td>A DL Weill Arménie à Esclangon</td>\n",
       "      <td>10 à 20 cm</td>\n",
       "      <td>?</td>\n",
       "      <td>passages fréquents et arrêts fréquents</td>\n",
       "      <td>...</td>\n",
       "      <td>?</td>\n",
       "      <td>Flame</td>\n",
       "      <td>vigoureux</td>\n",
       "      <td>1.913037e+06</td>\n",
       "      <td>4.225100e+06</td>\n",
       "      <td>0</td>\n",
       "      <td>0</td>\n",
       "      <td>0</td>\n",
       "      <td>0</td>\n",
       "      <td>0</td>\n",
       "    </tr>\n",
       "    <tr>\n",
       "      <th>15373</th>\n",
       "      <td>4</td>\n",
       "      <td>2004</td>\n",
       "      <td>2014</td>\n",
       "      <td>?</td>\n",
       "      <td>ESP1436</td>\n",
       "      <td>ESP877</td>\n",
       "      <td>Av Berthelot arrêt tram MC2</td>\n",
       "      <td>10 à 20 cm</td>\n",
       "      <td>styraciflua</td>\n",
       "      <td>passages fréquents et arrêts fréquents</td>\n",
       "      <td>...</td>\n",
       "      <td>?</td>\n",
       "      <td>?</td>\n",
       "      <td>vigoureux</td>\n",
       "      <td>1.914695e+06</td>\n",
       "      <td>4.222890e+06</td>\n",
       "      <td>0</td>\n",
       "      <td>0</td>\n",
       "      <td>0</td>\n",
       "      <td>0</td>\n",
       "      <td>0</td>\n",
       "    </tr>\n",
       "    <tr>\n",
       "      <th>15374</th>\n",
       "      <td>1</td>\n",
       "      <td>2014</td>\n",
       "      <td>2014</td>\n",
       "      <td>2019</td>\n",
       "      <td>ESP33333</td>\n",
       "      <td>ESP33623</td>\n",
       "      <td>Av Martyrs Tram Nord Horowitz</td>\n",
       "      <td>10 à 20 cm</td>\n",
       "      <td>mandshurica</td>\n",
       "      <td>passages fréquents ou arrêts</td>\n",
       "      <td>...</td>\n",
       "      <td>?</td>\n",
       "      <td>Mancana</td>\n",
       "      <td>vigoureux</td>\n",
       "      <td>1.911907e+06</td>\n",
       "      <td>4.226534e+06</td>\n",
       "      <td>0</td>\n",
       "      <td>0</td>\n",
       "      <td>0</td>\n",
       "      <td>0</td>\n",
       "      <td>0</td>\n",
       "    </tr>\n",
       "  </tbody>\n",
       "</table>\n",
       "<p>15375 rows × 34 columns</p>\n",
       "</div>"
      ],
      "text/plain": [
       "       ADR_SECTEUR  ANNEEDEPLANTATION ANNEEREALISATIONDIAGNOSTIC  \\\n",
       "0                5               2014                       2014   \n",
       "1                3               2004                       2013   \n",
       "2                3               2004                          ?   \n",
       "3                2               2004                       2014   \n",
       "4                1               2004                       2013   \n",
       "...            ...                ...                        ...   \n",
       "15370            3               2004                       2013   \n",
       "15371            4               2004                       2014   \n",
       "15372            1               2004                       2013   \n",
       "15373            4               2004                       2014   \n",
       "15374            1               2014                       2014   \n",
       "\n",
       "      ANNEETRAVAUXPRECONISESDIAG      CODE CODE_PARENT  \\\n",
       "0                           2019  ESP33155      ESP385   \n",
       "1                              ?   ESP2079      ESP116   \n",
       "2                           2014  ESP26205      ESP635   \n",
       "3                           2014   ESP7496      ESP109   \n",
       "4                              ?   ESP2547      ESP194   \n",
       "...                          ...       ...         ...   \n",
       "15370                          ?  ESP29359       ESP84   \n",
       "15371                       2014  ESP12605     ESP1023   \n",
       "15372                          ?  ESP15840     ESP1277   \n",
       "15373                          ?   ESP1436      ESP877   \n",
       "15374                       2019  ESP33333    ESP33623   \n",
       "\n",
       "                     CODE_PARENT_DESC DIAMETREARBREAUNMETRE       ESPECE  \\\n",
       "0         R D Fontanelle ang Essen JO            10 à 20 cm      cordata   \n",
       "1      Crs Libération Beauvert Alliés            30 à 40 cm   acerifolia   \n",
       "2       Pl R Frappat ang Eaux Claires            10 à 20 cm  grandiflora   \n",
       "3                   R François Raoult            40 à 50 cm     japonica   \n",
       "4             Terminus Tram Esclangon            20 à 30 cm    americana   \n",
       "...                               ...                   ...          ...   \n",
       "15370              Hôtel Lesdiguières             0 à 10 cm            ?   \n",
       "15371    R Gén Mangin Alliés Jacquart            40 à 50 cm   acerifolia   \n",
       "15372  A DL Weill Arménie à Esclangon            10 à 20 cm            ?   \n",
       "15373     Av Berthelot arrêt tram MC2            10 à 20 cm  styraciflua   \n",
       "15374   Av Martyrs Tram Nord Horowitz            10 à 20 cm  mandshurica   \n",
       "\n",
       "                           FREQUENTATIONCIBLE  ... TYPEIMPLANTATIONPLU  \\\n",
       "0                passages fréquents ou arrêts  ...                   ?   \n",
       "1      passages fréquents et arrêts fréquents  ...                   ?   \n",
       "2                passages fréquents ou arrêts  ...                   ?   \n",
       "3      passages fréquents et arrêts fréquents  ...                   ?   \n",
       "4      passages fréquents et arrêts fréquents  ...                   ?   \n",
       "...                                       ...  ...                 ...   \n",
       "15370  passages fréquents et arrêts fréquents  ...                   ?   \n",
       "15371  passages fréquents et arrêts fréquents  ...                   ?   \n",
       "15372  passages fréquents et arrêts fréquents  ...                   ?   \n",
       "15373  passages fréquents et arrêts fréquents  ...                   ?   \n",
       "15374            passages fréquents ou arrêts  ...                   ?   \n",
       "\n",
       "       VARIETE    VIGUEUR       coord_x       coord_y DEFAUT Collet Houppier  \\\n",
       "0            ?  vigoureux  1.915371e+06  4.222837e+06      0      0        0   \n",
       "1            ?  vigoureux  1.913250e+06  4.222531e+06      0      0        0   \n",
       "2            ?  vigoureux  1.913087e+06  4.223524e+06      0      0        0   \n",
       "3            ?  vigoureux  1.914187e+06  4.224275e+06      1      0        1   \n",
       "4            ?  vigoureux  1.912975e+06  4.225210e+06      0      0        0   \n",
       "...        ...        ...           ...           ...    ...    ...      ...   \n",
       "15370        ?  vigoureux  1.912985e+06  4.222215e+06      0      0        0   \n",
       "15371        ?  vigoureux  1.913534e+06  4.223000e+06      0      0        0   \n",
       "15372    Flame  vigoureux  1.913037e+06  4.225100e+06      0      0        0   \n",
       "15373        ?  vigoureux  1.914695e+06  4.222890e+06      0      0        0   \n",
       "15374  Mancana  vigoureux  1.911907e+06  4.226534e+06      0      0        0   \n",
       "\n",
       "      Racine Tronc  \n",
       "0          0     0  \n",
       "1          0     0  \n",
       "2          0     0  \n",
       "3          1     0  \n",
       "4          0     0  \n",
       "...      ...   ...  \n",
       "15370      0     0  \n",
       "15371      0     0  \n",
       "15372      0     0  \n",
       "15373      0     0  \n",
       "15374      0     0  \n",
       "\n",
       "[15375 rows x 34 columns]"
      ]
     },
     "execution_count": 647,
     "metadata": {},
     "output_type": "execute_result"
    }
   ],
   "source": [
    "df_arbres"
   ]
  },
  {
   "cell_type": "code",
   "execution_count": 648,
   "metadata": {},
   "outputs": [
    {
     "data": {
      "text/plain": [
       "pandas.core.frame.DataFrame"
      ]
     },
     "execution_count": 648,
     "metadata": {},
     "output_type": "execute_result"
    }
   ],
   "source": [
    "type(df_arbres)"
   ]
  },
  {
   "cell_type": "code",
   "execution_count": 649,
   "metadata": {},
   "outputs": [
    {
     "name": "stdout",
     "output_type": "stream",
     "text": [
      "(15375, 34)\n"
     ]
    }
   ],
   "source": [
    "print(df_arbres.shape)"
   ]
  },
  {
   "cell_type": "code",
   "execution_count": 650,
   "metadata": {},
   "outputs": [
    {
     "name": "stdout",
     "output_type": "stream",
     "text": [
      "Index(['ADR_SECTEUR', 'ANNEEDEPLANTATION', 'ANNEEREALISATIONDIAGNOSTIC',\n",
      "       'ANNEETRAVAUXPRECONISESDIAG', 'CODE', 'CODE_PARENT', 'CODE_PARENT_DESC',\n",
      "       'DIAMETREARBREAUNMETRE', 'ESPECE', 'FREQUENTATIONCIBLE', 'GENRE_BOTA',\n",
      "       'IDENTIFIANTPLU', 'INTITULEPROTECTIONPLU', 'NOTEDIAGNOSTIC',\n",
      "       'PRIORITEDERENOUVELLEMENT', 'RAISONDEPLANTATION', 'REMARQUES',\n",
      "       'SOUS_CATEGORIE', 'SOUS_CATEGORIE_DESC', 'STADEDEDEVELOPPEMENT',\n",
      "       'STADEDEVELOPPEMENTDIAG', 'TRAITEMENTCHENILLES',\n",
      "       'TRAVAUXPRECONISESDIAG', 'TROTTOIR', 'TYPEIMPLANTATIONPLU', 'VARIETE',\n",
      "       'VIGUEUR', 'coord_x', 'coord_y', 'DEFAUT', 'Collet', 'Houppier',\n",
      "       'Racine', 'Tronc'],\n",
      "      dtype='object')\n"
     ]
    }
   ],
   "source": [
    "print(df_arbres.columns)"
   ]
  },
  {
   "cell_type": "code",
   "execution_count": 651,
   "metadata": {},
   "outputs": [
    {
     "name": "stdout",
     "output_type": "stream",
     "text": [
      "<class 'pandas.core.frame.DataFrame'>\n",
      "RangeIndex: 15375 entries, 0 to 15374\n",
      "Data columns (total 34 columns):\n",
      " #   Column                      Non-Null Count  Dtype  \n",
      "---  ------                      --------------  -----  \n",
      " 0   ADR_SECTEUR                 15375 non-null  int64  \n",
      " 1   ANNEEDEPLANTATION           15375 non-null  int64  \n",
      " 2   ANNEEREALISATIONDIAGNOSTIC  15375 non-null  object \n",
      " 3   ANNEETRAVAUXPRECONISESDIAG  15375 non-null  object \n",
      " 4   CODE                        15375 non-null  object \n",
      " 5   CODE_PARENT                 15375 non-null  object \n",
      " 6   CODE_PARENT_DESC            15375 non-null  object \n",
      " 7   DIAMETREARBREAUNMETRE       15375 non-null  object \n",
      " 8   ESPECE                      15375 non-null  object \n",
      " 9   FREQUENTATIONCIBLE          15375 non-null  object \n",
      " 10  GENRE_BOTA                  15375 non-null  object \n",
      " 11  IDENTIFIANTPLU              15375 non-null  object \n",
      " 12  INTITULEPROTECTIONPLU       15375 non-null  object \n",
      " 13  NOTEDIAGNOSTIC              15375 non-null  object \n",
      " 14  PRIORITEDERENOUVELLEMENT    15375 non-null  object \n",
      " 15  RAISONDEPLANTATION          15375 non-null  object \n",
      " 16  REMARQUES                   15375 non-null  object \n",
      " 17  SOUS_CATEGORIE              15375 non-null  object \n",
      " 18  SOUS_CATEGORIE_DESC         15375 non-null  object \n",
      " 19  STADEDEDEVELOPPEMENT        15375 non-null  object \n",
      " 20  STADEDEVELOPPEMENTDIAG      15375 non-null  object \n",
      " 21  TRAITEMENTCHENILLES         15375 non-null  object \n",
      " 22  TRAVAUXPRECONISESDIAG       15375 non-null  object \n",
      " 23  TROTTOIR                    15375 non-null  object \n",
      " 24  TYPEIMPLANTATIONPLU         15375 non-null  object \n",
      " 25  VARIETE                     15375 non-null  object \n",
      " 26  VIGUEUR                     15375 non-null  object \n",
      " 27  coord_x                     15375 non-null  float64\n",
      " 28  coord_y                     15375 non-null  float64\n",
      " 29  DEFAUT                      15375 non-null  int64  \n",
      " 30  Collet                      15375 non-null  int64  \n",
      " 31  Houppier                    15375 non-null  int64  \n",
      " 32  Racine                      15375 non-null  int64  \n",
      " 33  Tronc                       15375 non-null  int64  \n",
      "dtypes: float64(2), int64(7), object(25)\n",
      "memory usage: 4.0+ MB\n",
      "None\n"
     ]
    }
   ],
   "source": [
    "print(df_arbres.info())"
   ]
  },
  {
   "cell_type": "markdown",
   "metadata": {},
   "source": [
    "# Appercu des valeurs manquantes"
   ]
  },
  {
   "cell_type": "code",
   "execution_count": 652,
   "metadata": {},
   "outputs": [],
   "source": [
    "#Remplacement des valeurs ? par NaN pour profiterdes fonction spécifiques python\n",
    "df_arbres = df_arbres.replace('?', np.nan)"
   ]
  },
  {
   "cell_type": "code",
   "execution_count": 653,
   "metadata": {},
   "outputs": [
    {
     "data": {
      "text/plain": [
       "109234"
      ]
     },
     "execution_count": 653,
     "metadata": {},
     "output_type": "execute_result"
    }
   ],
   "source": [
    "#Nombre total de valeurs manquantes\n",
    "nbtotal_valeursNaN = df_arbres.isnull().sum().sum()\n",
    "nbtotal_valeursNaN "
   ]
  },
  {
   "cell_type": "code",
   "execution_count": 654,
   "metadata": {},
   "outputs": [
    {
     "data": {
      "text/plain": [
       "20.896030607364896"
      ]
     },
     "execution_count": 654,
     "metadata": {},
     "output_type": "execute_result"
    }
   ],
   "source": [
    "#Pourcentage de valeurs manquantes dans le data frame\n",
    "(nbtotal_valeursNaN/(len(df_arbres.index)*len(df_arbres.columns)))*100"
   ]
  },
  {
   "cell_type": "code",
   "execution_count": 655,
   "metadata": {},
   "outputs": [
    {
     "data": {
      "text/plain": [
       "RAISONDEPLANTATION            15145\n",
       "INTITULEPROTECTIONPLU         15014\n",
       "IDENTIFIANTPLU                15014\n",
       "TYPEIMPLANTATIONPLU           15014\n",
       "TRAITEMENTCHENILLES           14287\n",
       "VARIETE                       13212\n",
       "REMARQUES                     11176\n",
       "TRAVAUXPRECONISESDIAG          4525\n",
       "ANNEETRAVAUXPRECONISESDIAG     4511\n",
       "ESPECE                         1018\n",
       "PRIORITEDERENOUVELLEMENT        127\n",
       "DIAMETREARBREAUNMETRE            67\n",
       "STADEDEDEVELOPPEMENT             51\n",
       "NOTEDIAGNOSTIC                   40\n",
       "STADEDEVELOPPEMENTDIAG           13\n",
       "VIGUEUR                          11\n",
       "ANNEEREALISATIONDIAGNOSTIC        8\n",
       "FREQUENTATIONCIBLE                1\n",
       "Racine                            0\n",
       "coord_x                           0\n",
       "coord_y                           0\n",
       "Houppier                          0\n",
       "DEFAUT                            0\n",
       "Collet                            0\n",
       "ADR_SECTEUR                       0\n",
       "SOUS_CATEGORIE                    0\n",
       "TROTTOIR                          0\n",
       "SOUS_CATEGORIE_DESC               0\n",
       "ANNEEDEPLANTATION                 0\n",
       "GENRE_BOTA                        0\n",
       "CODE_PARENT_DESC                  0\n",
       "CODE_PARENT                       0\n",
       "CODE                              0\n",
       "Tronc                             0\n",
       "dtype: int64"
      ]
     },
     "execution_count": 655,
     "metadata": {},
     "output_type": "execute_result"
    }
   ],
   "source": [
    "#Nombre de valeurs manquantes par features et par ordre décroissant\n",
    "(df_arbres.isnull().sum()).sort_values(ascending=False)"
   ]
  },
  {
   "cell_type": "code",
   "execution_count": 656,
   "metadata": {},
   "outputs": [
    {
     "data": {
      "text/plain": [
       "RAISONDEPLANTATION            98.504065\n",
       "INTITULEPROTECTIONPLU         97.652033\n",
       "IDENTIFIANTPLU                97.652033\n",
       "TYPEIMPLANTATIONPLU           97.652033\n",
       "TRAITEMENTCHENILLES           92.923577\n",
       "VARIETE                       85.931707\n",
       "REMARQUES                     72.689431\n",
       "TRAVAUXPRECONISESDIAG         29.430894\n",
       "ANNEETRAVAUXPRECONISESDIAG    29.339837\n",
       "ESPECE                         6.621138\n",
       "PRIORITEDERENOUVELLEMENT       0.826016\n",
       "DIAMETREARBREAUNMETRE          0.435772\n",
       "STADEDEDEVELOPPEMENT           0.331707\n",
       "NOTEDIAGNOSTIC                 0.260163\n",
       "STADEDEVELOPPEMENTDIAG         0.084553\n",
       "VIGUEUR                        0.071545\n",
       "ANNEEREALISATIONDIAGNOSTIC     0.052033\n",
       "FREQUENTATIONCIBLE             0.006504\n",
       "Racine                         0.000000\n",
       "coord_x                        0.000000\n",
       "coord_y                        0.000000\n",
       "Houppier                       0.000000\n",
       "DEFAUT                         0.000000\n",
       "Collet                         0.000000\n",
       "ADR_SECTEUR                    0.000000\n",
       "SOUS_CATEGORIE                 0.000000\n",
       "TROTTOIR                       0.000000\n",
       "SOUS_CATEGORIE_DESC            0.000000\n",
       "ANNEEDEPLANTATION              0.000000\n",
       "GENRE_BOTA                     0.000000\n",
       "CODE_PARENT_DESC               0.000000\n",
       "CODE_PARENT                    0.000000\n",
       "CODE                           0.000000\n",
       "Tronc                          0.000000\n",
       "dtype: float64"
      ]
     },
     "execution_count": 656,
     "metadata": {},
     "output_type": "execute_result"
    }
   ],
   "source": [
    "#Nombre de valeurs manquantes par features en pourcentage et par ordre décroissant\n",
    "(df_arbres.isnull().sum()/len(df_arbres)*100).sort_values(ascending=False)"
   ]
  },
  {
   "cell_type": "code",
   "execution_count": 657,
   "metadata": {},
   "outputs": [
    {
     "data": {
      "text/plain": [
       "<AxesSubplot:title={'center':'Nombre de valeurs manquantes par features'}, xlabel='Features', ylabel='Nombre de valeurs manquantes (%)'>"
      ]
     },
     "execution_count": 657,
     "metadata": {},
     "output_type": "execute_result"
    },
    {
     "data": {
      "image/png": "[encoded data removed]",
      "text/plain": [
       "<Figure size 720x720 with 1 Axes>"
      ]
     },
     "metadata": {
      "needs_background": "light"
     },
     "output_type": "display_data"
    }
   ],
   "source": [
    "#Utilisation librairie pandas Dataframe\n",
    "\n",
    "# Calcul du nombre de valeurs manquantes par colonne du data frame\n",
    "vc_nulls = df_arbres.apply(lambda x: x.isnull().sum()/len(df_arbres)*100)\n",
    "\n",
    "# Affichage du nombre de valeurs manquantes par variables dans l'ordre décroissant\n",
    "vc_nulls = vc_nulls.sort_values(ascending=False)\n",
    "\n",
    "#Affichage du nombre de valeurs manquantes par features\n",
    "vc_nulls.plot(kind = 'bar', figsize=(10,10), fontsize=11, \n",
    "              xlabel = \"Features\", ylabel=\"Nombre de valeurs manquantes (%)\",\n",
    "              title = 'Nombre de valeurs manquantes par features')"
   ]
  },
  {
   "cell_type": "code",
   "execution_count": 658,
   "metadata": {},
   "outputs": [
    {
     "data": {
      "text/html": [
       "<div>\n",
       "<style scoped>\n",
       "    .dataframe tbody tr th:only-of-type {\n",
       "        vertical-align: middle;\n",
       "    }\n",
       "\n",
       "    .dataframe tbody tr th {\n",
       "        vertical-align: top;\n",
       "    }\n",
       "\n",
       "    .dataframe thead th {\n",
       "        text-align: right;\n",
       "    }\n",
       "</style>\n",
       "<table border=\"1\" class=\"dataframe\">\n",
       "  <thead>\n",
       "    <tr style=\"text-align: right;\">\n",
       "      <th></th>\n",
       "      <th>ADR_SECTEUR</th>\n",
       "      <th>ANNEEDEPLANTATION</th>\n",
       "      <th>ANNEEREALISATIONDIAGNOSTIC</th>\n",
       "      <th>ANNEETRAVAUXPRECONISESDIAG</th>\n",
       "      <th>CODE</th>\n",
       "      <th>CODE_PARENT</th>\n",
       "      <th>CODE_PARENT_DESC</th>\n",
       "      <th>DIAMETREARBREAUNMETRE</th>\n",
       "      <th>ESPECE</th>\n",
       "      <th>FREQUENTATIONCIBLE</th>\n",
       "      <th>...</th>\n",
       "      <th>TYPEIMPLANTATIONPLU</th>\n",
       "      <th>VARIETE</th>\n",
       "      <th>VIGUEUR</th>\n",
       "      <th>coord_x</th>\n",
       "      <th>coord_y</th>\n",
       "      <th>DEFAUT</th>\n",
       "      <th>Collet</th>\n",
       "      <th>Houppier</th>\n",
       "      <th>Racine</th>\n",
       "      <th>Tronc</th>\n",
       "    </tr>\n",
       "  </thead>\n",
       "  <tbody>\n",
       "    <tr>\n",
       "      <th>0</th>\n",
       "      <td>5</td>\n",
       "      <td>2014</td>\n",
       "      <td>2014</td>\n",
       "      <td>2019</td>\n",
       "      <td>ESP33155</td>\n",
       "      <td>ESP385</td>\n",
       "      <td>R D Fontanelle ang Essen JO</td>\n",
       "      <td>10 à 20 cm</td>\n",
       "      <td>cordata</td>\n",
       "      <td>passages fréquents ou arrêts</td>\n",
       "      <td>...</td>\n",
       "      <td>NaN</td>\n",
       "      <td>NaN</td>\n",
       "      <td>vigoureux</td>\n",
       "      <td>1.915371e+06</td>\n",
       "      <td>4.222837e+06</td>\n",
       "      <td>0</td>\n",
       "      <td>0</td>\n",
       "      <td>0</td>\n",
       "      <td>0</td>\n",
       "      <td>0</td>\n",
       "    </tr>\n",
       "    <tr>\n",
       "      <th>1</th>\n",
       "      <td>3</td>\n",
       "      <td>2004</td>\n",
       "      <td>2013</td>\n",
       "      <td>NaN</td>\n",
       "      <td>ESP2079</td>\n",
       "      <td>ESP116</td>\n",
       "      <td>Crs Libération Beauvert Alliés</td>\n",
       "      <td>30 à 40 cm</td>\n",
       "      <td>acerifolia</td>\n",
       "      <td>passages fréquents et arrêts fréquents</td>\n",
       "      <td>...</td>\n",
       "      <td>NaN</td>\n",
       "      <td>NaN</td>\n",
       "      <td>vigoureux</td>\n",
       "      <td>1.913250e+06</td>\n",
       "      <td>4.222531e+06</td>\n",
       "      <td>0</td>\n",
       "      <td>0</td>\n",
       "      <td>0</td>\n",
       "      <td>0</td>\n",
       "      <td>0</td>\n",
       "    </tr>\n",
       "    <tr>\n",
       "      <th>2</th>\n",
       "      <td>3</td>\n",
       "      <td>2004</td>\n",
       "      <td>NaN</td>\n",
       "      <td>2014</td>\n",
       "      <td>ESP26205</td>\n",
       "      <td>ESP635</td>\n",
       "      <td>Pl R Frappat ang Eaux Claires</td>\n",
       "      <td>10 à 20 cm</td>\n",
       "      <td>grandiflora</td>\n",
       "      <td>passages fréquents ou arrêts</td>\n",
       "      <td>...</td>\n",
       "      <td>NaN</td>\n",
       "      <td>NaN</td>\n",
       "      <td>vigoureux</td>\n",
       "      <td>1.913087e+06</td>\n",
       "      <td>4.223524e+06</td>\n",
       "      <td>0</td>\n",
       "      <td>0</td>\n",
       "      <td>0</td>\n",
       "      <td>0</td>\n",
       "      <td>0</td>\n",
       "    </tr>\n",
       "    <tr>\n",
       "      <th>3</th>\n",
       "      <td>2</td>\n",
       "      <td>2004</td>\n",
       "      <td>2014</td>\n",
       "      <td>2014</td>\n",
       "      <td>ESP7496</td>\n",
       "      <td>ESP109</td>\n",
       "      <td>R François Raoult</td>\n",
       "      <td>40 à 50 cm</td>\n",
       "      <td>japonica</td>\n",
       "      <td>passages fréquents et arrêts fréquents</td>\n",
       "      <td>...</td>\n",
       "      <td>NaN</td>\n",
       "      <td>NaN</td>\n",
       "      <td>vigoureux</td>\n",
       "      <td>1.914187e+06</td>\n",
       "      <td>4.224275e+06</td>\n",
       "      <td>1</td>\n",
       "      <td>0</td>\n",
       "      <td>1</td>\n",
       "      <td>1</td>\n",
       "      <td>0</td>\n",
       "    </tr>\n",
       "    <tr>\n",
       "      <th>4</th>\n",
       "      <td>1</td>\n",
       "      <td>2004</td>\n",
       "      <td>2013</td>\n",
       "      <td>NaN</td>\n",
       "      <td>ESP2547</td>\n",
       "      <td>ESP194</td>\n",
       "      <td>Terminus Tram Esclangon</td>\n",
       "      <td>20 à 30 cm</td>\n",
       "      <td>americana</td>\n",
       "      <td>passages fréquents et arrêts fréquents</td>\n",
       "      <td>...</td>\n",
       "      <td>NaN</td>\n",
       "      <td>NaN</td>\n",
       "      <td>vigoureux</td>\n",
       "      <td>1.912975e+06</td>\n",
       "      <td>4.225210e+06</td>\n",
       "      <td>0</td>\n",
       "      <td>0</td>\n",
       "      <td>0</td>\n",
       "      <td>0</td>\n",
       "      <td>0</td>\n",
       "    </tr>\n",
       "    <tr>\n",
       "      <th>...</th>\n",
       "      <td>...</td>\n",
       "      <td>...</td>\n",
       "      <td>...</td>\n",
       "      <td>...</td>\n",
       "      <td>...</td>\n",
       "      <td>...</td>\n",
       "      <td>...</td>\n",
       "      <td>...</td>\n",
       "      <td>...</td>\n",
       "      <td>...</td>\n",
       "      <td>...</td>\n",
       "      <td>...</td>\n",
       "      <td>...</td>\n",
       "      <td>...</td>\n",
       "      <td>...</td>\n",
       "      <td>...</td>\n",
       "      <td>...</td>\n",
       "      <td>...</td>\n",
       "      <td>...</td>\n",
       "      <td>...</td>\n",
       "      <td>...</td>\n",
       "    </tr>\n",
       "    <tr>\n",
       "      <th>15370</th>\n",
       "      <td>3</td>\n",
       "      <td>2004</td>\n",
       "      <td>2013</td>\n",
       "      <td>NaN</td>\n",
       "      <td>ESP29359</td>\n",
       "      <td>ESP84</td>\n",
       "      <td>Hôtel Lesdiguières</td>\n",
       "      <td>0 à 10 cm</td>\n",
       "      <td>NaN</td>\n",
       "      <td>passages fréquents et arrêts fréquents</td>\n",
       "      <td>...</td>\n",
       "      <td>NaN</td>\n",
       "      <td>NaN</td>\n",
       "      <td>vigoureux</td>\n",
       "      <td>1.912985e+06</td>\n",
       "      <td>4.222215e+06</td>\n",
       "      <td>0</td>\n",
       "      <td>0</td>\n",
       "      <td>0</td>\n",
       "      <td>0</td>\n",
       "      <td>0</td>\n",
       "    </tr>\n",
       "    <tr>\n",
       "      <th>15371</th>\n",
       "      <td>4</td>\n",
       "      <td>2004</td>\n",
       "      <td>2014</td>\n",
       "      <td>2014</td>\n",
       "      <td>ESP12605</td>\n",
       "      <td>ESP1023</td>\n",
       "      <td>R Gén Mangin Alliés Jacquart</td>\n",
       "      <td>40 à 50 cm</td>\n",
       "      <td>acerifolia</td>\n",
       "      <td>passages fréquents et arrêts fréquents</td>\n",
       "      <td>...</td>\n",
       "      <td>NaN</td>\n",
       "      <td>NaN</td>\n",
       "      <td>vigoureux</td>\n",
       "      <td>1.913534e+06</td>\n",
       "      <td>4.223000e+06</td>\n",
       "      <td>0</td>\n",
       "      <td>0</td>\n",
       "      <td>0</td>\n",
       "      <td>0</td>\n",
       "      <td>0</td>\n",
       "    </tr>\n",
       "    <tr>\n",
       "      <th>15372</th>\n",
       "      <td>1</td>\n",
       "      <td>2004</td>\n",
       "      <td>2013</td>\n",
       "      <td>NaN</td>\n",
       "      <td>ESP15840</td>\n",
       "      <td>ESP1277</td>\n",
       "      <td>A DL Weill Arménie à Esclangon</td>\n",
       "      <td>10 à 20 cm</td>\n",
       "      <td>NaN</td>\n",
       "      <td>passages fréquents et arrêts fréquents</td>\n",
       "      <td>...</td>\n",
       "      <td>NaN</td>\n",
       "      <td>Flame</td>\n",
       "      <td>vigoureux</td>\n",
       "      <td>1.913037e+06</td>\n",
       "      <td>4.225100e+06</td>\n",
       "      <td>0</td>\n",
       "      <td>0</td>\n",
       "      <td>0</td>\n",
       "      <td>0</td>\n",
       "      <td>0</td>\n",
       "    </tr>\n",
       "    <tr>\n",
       "      <th>15373</th>\n",
       "      <td>4</td>\n",
       "      <td>2004</td>\n",
       "      <td>2014</td>\n",
       "      <td>NaN</td>\n",
       "      <td>ESP1436</td>\n",
       "      <td>ESP877</td>\n",
       "      <td>Av Berthelot arrêt tram MC2</td>\n",
       "      <td>10 à 20 cm</td>\n",
       "      <td>styraciflua</td>\n",
       "      <td>passages fréquents et arrêts fréquents</td>\n",
       "      <td>...</td>\n",
       "      <td>NaN</td>\n",
       "      <td>NaN</td>\n",
       "      <td>vigoureux</td>\n",
       "      <td>1.914695e+06</td>\n",
       "      <td>4.222890e+06</td>\n",
       "      <td>0</td>\n",
       "      <td>0</td>\n",
       "      <td>0</td>\n",
       "      <td>0</td>\n",
       "      <td>0</td>\n",
       "    </tr>\n",
       "    <tr>\n",
       "      <th>15374</th>\n",
       "      <td>1</td>\n",
       "      <td>2014</td>\n",
       "      <td>2014</td>\n",
       "      <td>2019</td>\n",
       "      <td>ESP33333</td>\n",
       "      <td>ESP33623</td>\n",
       "      <td>Av Martyrs Tram Nord Horowitz</td>\n",
       "      <td>10 à 20 cm</td>\n",
       "      <td>mandshurica</td>\n",
       "      <td>passages fréquents ou arrêts</td>\n",
       "      <td>...</td>\n",
       "      <td>NaN</td>\n",
       "      <td>Mancana</td>\n",
       "      <td>vigoureux</td>\n",
       "      <td>1.911907e+06</td>\n",
       "      <td>4.226534e+06</td>\n",
       "      <td>0</td>\n",
       "      <td>0</td>\n",
       "      <td>0</td>\n",
       "      <td>0</td>\n",
       "      <td>0</td>\n",
       "    </tr>\n",
       "  </tbody>\n",
       "</table>\n",
       "<p>15375 rows × 34 columns</p>\n",
       "</div>"
      ],
      "text/plain": [
       "       ADR_SECTEUR  ANNEEDEPLANTATION ANNEEREALISATIONDIAGNOSTIC  \\\n",
       "0                5               2014                       2014   \n",
       "1                3               2004                       2013   \n",
       "2                3               2004                        NaN   \n",
       "3                2               2004                       2014   \n",
       "4                1               2004                       2013   \n",
       "...            ...                ...                        ...   \n",
       "15370            3               2004                       2013   \n",
       "15371            4               2004                       2014   \n",
       "15372            1               2004                       2013   \n",
       "15373            4               2004                       2014   \n",
       "15374            1               2014                       2014   \n",
       "\n",
       "      ANNEETRAVAUXPRECONISESDIAG      CODE CODE_PARENT  \\\n",
       "0                           2019  ESP33155      ESP385   \n",
       "1                            NaN   ESP2079      ESP116   \n",
       "2                           2014  ESP26205      ESP635   \n",
       "3                           2014   ESP7496      ESP109   \n",
       "4                            NaN   ESP2547      ESP194   \n",
       "...                          ...       ...         ...   \n",
       "15370                        NaN  ESP29359       ESP84   \n",
       "15371                       2014  ESP12605     ESP1023   \n",
       "15372                        NaN  ESP15840     ESP1277   \n",
       "15373                        NaN   ESP1436      ESP877   \n",
       "15374                       2019  ESP33333    ESP33623   \n",
       "\n",
       "                     CODE_PARENT_DESC DIAMETREARBREAUNMETRE       ESPECE  \\\n",
       "0         R D Fontanelle ang Essen JO            10 à 20 cm      cordata   \n",
       "1      Crs Libération Beauvert Alliés            30 à 40 cm   acerifolia   \n",
       "2       Pl R Frappat ang Eaux Claires            10 à 20 cm  grandiflora   \n",
       "3                   R François Raoult            40 à 50 cm     japonica   \n",
       "4             Terminus Tram Esclangon            20 à 30 cm    americana   \n",
       "...                               ...                   ...          ...   \n",
       "15370              Hôtel Lesdiguières             0 à 10 cm          NaN   \n",
       "15371    R Gén Mangin Alliés Jacquart            40 à 50 cm   acerifolia   \n",
       "15372  A DL Weill Arménie à Esclangon            10 à 20 cm          NaN   \n",
       "15373     Av Berthelot arrêt tram MC2            10 à 20 cm  styraciflua   \n",
       "15374   Av Martyrs Tram Nord Horowitz            10 à 20 cm  mandshurica   \n",
       "\n",
       "                           FREQUENTATIONCIBLE  ... TYPEIMPLANTATIONPLU  \\\n",
       "0                passages fréquents ou arrêts  ...                 NaN   \n",
       "1      passages fréquents et arrêts fréquents  ...                 NaN   \n",
       "2                passages fréquents ou arrêts  ...                 NaN   \n",
       "3      passages fréquents et arrêts fréquents  ...                 NaN   \n",
       "4      passages fréquents et arrêts fréquents  ...                 NaN   \n",
       "...                                       ...  ...                 ...   \n",
       "15370  passages fréquents et arrêts fréquents  ...                 NaN   \n",
       "15371  passages fréquents et arrêts fréquents  ...                 NaN   \n",
       "15372  passages fréquents et arrêts fréquents  ...                 NaN   \n",
       "15373  passages fréquents et arrêts fréquents  ...                 NaN   \n",
       "15374            passages fréquents ou arrêts  ...                 NaN   \n",
       "\n",
       "       VARIETE    VIGUEUR       coord_x       coord_y DEFAUT Collet Houppier  \\\n",
       "0          NaN  vigoureux  1.915371e+06  4.222837e+06      0      0        0   \n",
       "1          NaN  vigoureux  1.913250e+06  4.222531e+06      0      0        0   \n",
       "2          NaN  vigoureux  1.913087e+06  4.223524e+06      0      0        0   \n",
       "3          NaN  vigoureux  1.914187e+06  4.224275e+06      1      0        1   \n",
       "4          NaN  vigoureux  1.912975e+06  4.225210e+06      0      0        0   \n",
       "...        ...        ...           ...           ...    ...    ...      ...   \n",
       "15370      NaN  vigoureux  1.912985e+06  4.222215e+06      0      0        0   \n",
       "15371      NaN  vigoureux  1.913534e+06  4.223000e+06      0      0        0   \n",
       "15372    Flame  vigoureux  1.913037e+06  4.225100e+06      0      0        0   \n",
       "15373      NaN  vigoureux  1.914695e+06  4.222890e+06      0      0        0   \n",
       "15374  Mancana  vigoureux  1.911907e+06  4.226534e+06      0      0        0   \n",
       "\n",
       "      Racine Tronc  \n",
       "0          0     0  \n",
       "1          0     0  \n",
       "2          0     0  \n",
       "3          1     0  \n",
       "4          0     0  \n",
       "...      ...   ...  \n",
       "15370      0     0  \n",
       "15371      0     0  \n",
       "15372      0     0  \n",
       "15373      0     0  \n",
       "15374      0     0  \n",
       "\n",
       "[15375 rows x 34 columns]"
      ]
     },
     "execution_count": 658,
     "metadata": {},
     "output_type": "execute_result"
    }
   ],
   "source": [
    "df_arbres"
   ]
  },
  {
   "cell_type": "markdown",
   "metadata": {},
   "source": [
    "# Nettoyage et Gestion des valeurs manquantes"
   ]
  },
  {
   "cell_type": "code",
   "execution_count": 659,
   "metadata": {},
   "outputs": [],
   "source": [
    "#Remplacement des NaN valeurs par 0 pour les variables suivantes :\n",
    "#Puis converssion en integer\n",
    "\n",
    "df_arbres['ANNEEREALISATIONDIAGNOSTIC'] = df_arbres['ANNEEREALISATIONDIAGNOSTIC'].replace(np.nan,0)\n",
    "df_arbres['ANNEETRAVAUXPRECONISESDIAG'] = df_arbres['ANNEETRAVAUXPRECONISESDIAG'].replace(np.nan,0)\n",
    "\n",
    "df_arbres ['ANNEETRAVAUXPRECONISESDIAG'] = df_arbres ['ANNEETRAVAUXPRECONISESDIAG'].astype(int)\n",
    "df_arbres ['ANNEEREALISATIONDIAGNOSTIC'] = df_arbres ['ANNEEREALISATIONDIAGNOSTIC'].astype(int)\n"
   ]
  },
  {
   "cell_type": "code",
   "execution_count": 660,
   "metadata": {},
   "outputs": [
    {
     "data": {
      "text/plain": [
       "0"
      ]
     },
     "execution_count": 660,
     "metadata": {},
     "output_type": "execute_result"
    }
   ],
   "source": [
    "df_arbres.ANNEETRAVAUXPRECONISESDIAG.isna().sum() "
   ]
  },
  {
   "cell_type": "code",
   "execution_count": 661,
   "metadata": {},
   "outputs": [],
   "source": [
    "#Remplacement des 0 par la médiane de la colonne\n",
    "\n",
    "#Médiane de ANNEEREALISATIONDIAGNOSTIC --> 2014\n",
    "#Médiane de ANNEETRAVAUXPRECONISESDIAG --> 2015\n",
    "\n",
    "df_arbres['ANNEETRAVAUXPRECONISESDIAG'] = df_arbres['ANNEETRAVAUXPRECONISESDIAG'].replace(0,df_arbres['ANNEETRAVAUXPRECONISESDIAG'].median())\n",
    "df_arbres['ANNEEREALISATIONDIAGNOSTIC'] = df_arbres['ANNEEREALISATIONDIAGNOSTIC'].replace(0,df_arbres['ANNEEREALISATIONDIAGNOSTIC'].median())"
   ]
  },
  {
   "cell_type": "code",
   "execution_count": 662,
   "metadata": {},
   "outputs": [
    {
     "data": {
      "text/plain": [
       "0"
      ]
     },
     "execution_count": 662,
     "metadata": {},
     "output_type": "execute_result"
    }
   ],
   "source": [
    "df_arbres.ANNEETRAVAUXPRECONISESDIAG.isna().sum() "
   ]
  },
  {
   "cell_type": "code",
   "execution_count": 663,
   "metadata": {},
   "outputs": [
    {
     "data": {
      "text/plain": [
       "0"
      ]
     },
     "execution_count": 663,
     "metadata": {},
     "output_type": "execute_result"
    }
   ],
   "source": [
    "df_arbres.ANNEEREALISATIONDIAGNOSTIC.isna().sum() "
   ]
  },
  {
   "cell_type": "code",
   "execution_count": 664,
   "metadata": {},
   "outputs": [
    {
     "data": {
      "text/plain": [
       "2015    6634\n",
       "2014    4824\n",
       "2013    3899\n",
       "2011      12\n",
       "2012       6\n",
       "Name: ANNEEREALISATIONDIAGNOSTIC, dtype: int64"
      ]
     },
     "execution_count": 664,
     "metadata": {},
     "output_type": "execute_result"
    }
   ],
   "source": [
    "df_arbres['ANNEEREALISATIONDIAGNOSTIC'].value_counts()"
   ]
  },
  {
   "cell_type": "code",
   "execution_count": 665,
   "metadata": {},
   "outputs": [
    {
     "data": {
      "text/plain": [
       "2015    5615\n",
       "2014    2217\n",
       "2017    1969\n",
       "2016    1814\n",
       "2018    1489\n",
       "2020    1236\n",
       "2019     814\n",
       "2012     178\n",
       "2025      21\n",
       "2013      21\n",
       "2024       1\n",
       "Name: ANNEETRAVAUXPRECONISESDIAG, dtype: int64"
      ]
     },
     "execution_count": 665,
     "metadata": {},
     "output_type": "execute_result"
    }
   ],
   "source": [
    "df_arbres['ANNEETRAVAUXPRECONISESDIAG'].value_counts()"
   ]
  },
  {
   "cell_type": "markdown",
   "metadata": {},
   "source": [
    "Création nouvelle Variable :\n",
    "\n",
    "NbAnnéesAvantProchainDiag est également une différence, qui\n",
    "mesure, par un nombre d’années, la nécessité plus ou moins importante d’un prochain diagnostic,\n",
    "conséquence d’éventuels défauts ayant endommagé l’arbre. \n",
    "\n",
    "Il se définit de la façon suivante :\n",
    "NbAnnéesAvantProchainDiag = AnnéeTravauxPréconisésDiag - AnnéeRéalisationDiagnostic\n",
    "\n",
    "Plus c'est proche de 0 --> plus c'est urgent sinon non urgent"
   ]
  },
  {
   "cell_type": "code",
   "execution_count": 666,
   "metadata": {},
   "outputs": [],
   "source": [
    "df_arbres['NbAnnéesAvantProchainDiag'] = df_arbres['ANNEETRAVAUXPRECONISESDIAG'] - df_arbres['ANNEEREALISATIONDIAGNOSTIC']"
   ]
  },
  {
   "cell_type": "code",
   "execution_count": 667,
   "metadata": {},
   "outputs": [
    {
     "data": {
      "text/plain": [
       " 2     4286\n",
       " 0     3617\n",
       " 1     2913\n",
       " 3     1933\n",
       " 5     1667\n",
       " 6      445\n",
       " 4      238\n",
       "-1      184\n",
       " 7       69\n",
       " 10      22\n",
       " 9        1\n",
       "Name: NbAnnéesAvantProchainDiag, dtype: int64"
      ]
     },
     "execution_count": 667,
     "metadata": {},
     "output_type": "execute_result"
    }
   ],
   "source": [
    "df_arbres['NbAnnéesAvantProchainDiag'].value_counts()"
   ]
  },
  {
   "cell_type": "code",
   "execution_count": 668,
   "metadata": {},
   "outputs": [
    {
     "data": {
      "text/plain": [
       "0"
      ]
     },
     "execution_count": 668,
     "metadata": {},
     "output_type": "execute_result"
    }
   ],
   "source": [
    "df_arbres.NbAnnéesAvantProchainDiag.isna().sum() "
   ]
  },
  {
   "cell_type": "code",
   "execution_count": null,
   "metadata": {},
   "outputs": [],
   "source": []
  },
  {
   "cell_type": "code",
   "execution_count": 669,
   "metadata": {},
   "outputs": [],
   "source": [
    "#df_arbres['IDENTIFIANTPLU'].unique()\n",
    "\n",
    "df_arbres['IDENTIFIANTPLU'] = df_arbres['IDENTIFIANTPLU'].replace(np.nan,0)"
   ]
  },
  {
   "cell_type": "code",
   "execution_count": 670,
   "metadata": {},
   "outputs": [
    {
     "data": {
      "text/plain": [
       "0        [10, à, 20, cm]\n",
       "1        [30, à, 40, cm]\n",
       "2        [10, à, 20, cm]\n",
       "3        [40, à, 50, cm]\n",
       "4        [20, à, 30, cm]\n",
       "              ...       \n",
       "15370     [0, à, 10, cm]\n",
       "15371    [40, à, 50, cm]\n",
       "15372    [10, à, 20, cm]\n",
       "15373    [10, à, 20, cm]\n",
       "15374    [10, à, 20, cm]\n",
       "Name: DIAMETREARBREAUNMETRE, Length: 15375, dtype: object"
      ]
     },
     "execution_count": 670,
     "metadata": {},
     "output_type": "execute_result"
    }
   ],
   "source": [
    "#Variable DIAMETREARBREAUNMETRE : Récupérer le minimum de l'intervalle\n",
    "\n",
    "#Split des valeurs pour découpage. Aucun argument dans split --> séparation à chaque espace\n",
    "\n",
    "df_arbres['DIAMETREARBREAUNMETRE'] = df_arbres['DIAMETREARBREAUNMETRE'].str.split()\n",
    "df_arbres['DIAMETREARBREAUNMETRE']"
   ]
  },
  {
   "cell_type": "code",
   "execution_count": 671,
   "metadata": {},
   "outputs": [],
   "source": [
    "#Création d'une nouvelle variable en prenant le premier élément de la liste\n",
    "df_arbres[\"DIAMETREARBREAUNMETRE\"]= df_arbres['DIAMETREARBREAUNMETRE'].str[0] "
   ]
  },
  {
   "cell_type": "code",
   "execution_count": 672,
   "metadata": {},
   "outputs": [
    {
     "data": {
      "text/plain": [
       "0        10\n",
       "1        30\n",
       "2        10\n",
       "3        40\n",
       "4        20\n",
       "         ..\n",
       "15370     0\n",
       "15371    40\n",
       "15372    10\n",
       "15373    10\n",
       "15374    10\n",
       "Name: DIAMETREARBREAUNMETRE, Length: 15375, dtype: object"
      ]
     },
     "execution_count": 672,
     "metadata": {},
     "output_type": "execute_result"
    }
   ],
   "source": [
    "df_arbres[\"DIAMETREARBREAUNMETRE\"]"
   ]
  },
  {
   "cell_type": "code",
   "execution_count": 673,
   "metadata": {},
   "outputs": [
    {
     "data": {
      "text/plain": [
       "array(['10', '30', '40', '20', '0', '110', '100', '70', '50', '60', '80',\n",
       "       '90', nan, '130', '120', '160', '140', '150', '180', '170'],\n",
       "      dtype=object)"
      ]
     },
     "execution_count": 673,
     "metadata": {},
     "output_type": "execute_result"
    }
   ],
   "source": [
    "df_arbres[\"DIAMETREARBREAUNMETRE\"].unique()"
   ]
  },
  {
   "cell_type": "code",
   "execution_count": 674,
   "metadata": {},
   "outputs": [
    {
     "data": {
      "text/plain": [
       "10     4221\n",
       "20     3187\n",
       "30     2400\n",
       "40     1894\n",
       "50     1124\n",
       "0       940\n",
       "60      651\n",
       "70      387\n",
       "80      235\n",
       "90      138\n",
       "100      65\n",
       "110      26\n",
       "120      14\n",
       "130      11\n",
       "160       5\n",
       "150       4\n",
       "140       4\n",
       "180       1\n",
       "170       1\n",
       "Name: DIAMETREARBREAUNMETRE, dtype: int64"
      ]
     },
     "execution_count": 674,
     "metadata": {},
     "output_type": "execute_result"
    }
   ],
   "source": [
    "df_arbres[\"DIAMETREARBREAUNMETRE\"].value_counts()"
   ]
  },
  {
   "cell_type": "code",
   "execution_count": 675,
   "metadata": {},
   "outputs": [
    {
     "data": {
      "text/plain": [
       "67"
      ]
     },
     "execution_count": 675,
     "metadata": {},
     "output_type": "execute_result"
    }
   ],
   "source": [
    "df_arbres.DIAMETREARBREAUNMETRE.isna().sum() "
   ]
  },
  {
   "cell_type": "code",
   "execution_count": 676,
   "metadata": {},
   "outputs": [
    {
     "data": {
      "text/html": [
       "<div>\n",
       "<style scoped>\n",
       "    .dataframe tbody tr th:only-of-type {\n",
       "        vertical-align: middle;\n",
       "    }\n",
       "\n",
       "    .dataframe tbody tr th {\n",
       "        vertical-align: top;\n",
       "    }\n",
       "\n",
       "    .dataframe thead th {\n",
       "        text-align: right;\n",
       "    }\n",
       "</style>\n",
       "<table border=\"1\" class=\"dataframe\">\n",
       "  <thead>\n",
       "    <tr style=\"text-align: right;\">\n",
       "      <th></th>\n",
       "      <th>ADR_SECTEUR</th>\n",
       "      <th>ANNEEDEPLANTATION</th>\n",
       "      <th>ANNEEREALISATIONDIAGNOSTIC</th>\n",
       "      <th>ANNEETRAVAUXPRECONISESDIAG</th>\n",
       "      <th>CODE</th>\n",
       "      <th>CODE_PARENT</th>\n",
       "      <th>CODE_PARENT_DESC</th>\n",
       "      <th>DIAMETREARBREAUNMETRE</th>\n",
       "      <th>ESPECE</th>\n",
       "      <th>FREQUENTATIONCIBLE</th>\n",
       "      <th>...</th>\n",
       "      <th>VARIETE</th>\n",
       "      <th>VIGUEUR</th>\n",
       "      <th>coord_x</th>\n",
       "      <th>coord_y</th>\n",
       "      <th>DEFAUT</th>\n",
       "      <th>Collet</th>\n",
       "      <th>Houppier</th>\n",
       "      <th>Racine</th>\n",
       "      <th>Tronc</th>\n",
       "      <th>NbAnnéesAvantProchainDiag</th>\n",
       "    </tr>\n",
       "  </thead>\n",
       "  <tbody>\n",
       "    <tr>\n",
       "      <th>0</th>\n",
       "      <td>5</td>\n",
       "      <td>2014</td>\n",
       "      <td>2014</td>\n",
       "      <td>2019</td>\n",
       "      <td>ESP33155</td>\n",
       "      <td>ESP385</td>\n",
       "      <td>R D Fontanelle ang Essen JO</td>\n",
       "      <td>10</td>\n",
       "      <td>cordata</td>\n",
       "      <td>passages fréquents ou arrêts</td>\n",
       "      <td>...</td>\n",
       "      <td>NaN</td>\n",
       "      <td>vigoureux</td>\n",
       "      <td>1.915371e+06</td>\n",
       "      <td>4.222837e+06</td>\n",
       "      <td>0</td>\n",
       "      <td>0</td>\n",
       "      <td>0</td>\n",
       "      <td>0</td>\n",
       "      <td>0</td>\n",
       "      <td>5</td>\n",
       "    </tr>\n",
       "    <tr>\n",
       "      <th>1</th>\n",
       "      <td>3</td>\n",
       "      <td>2004</td>\n",
       "      <td>2013</td>\n",
       "      <td>2015</td>\n",
       "      <td>ESP2079</td>\n",
       "      <td>ESP116</td>\n",
       "      <td>Crs Libération Beauvert Alliés</td>\n",
       "      <td>30</td>\n",
       "      <td>acerifolia</td>\n",
       "      <td>passages fréquents et arrêts fréquents</td>\n",
       "      <td>...</td>\n",
       "      <td>NaN</td>\n",
       "      <td>vigoureux</td>\n",
       "      <td>1.913250e+06</td>\n",
       "      <td>4.222531e+06</td>\n",
       "      <td>0</td>\n",
       "      <td>0</td>\n",
       "      <td>0</td>\n",
       "      <td>0</td>\n",
       "      <td>0</td>\n",
       "      <td>2</td>\n",
       "    </tr>\n",
       "    <tr>\n",
       "      <th>2</th>\n",
       "      <td>3</td>\n",
       "      <td>2004</td>\n",
       "      <td>2014</td>\n",
       "      <td>2014</td>\n",
       "      <td>ESP26205</td>\n",
       "      <td>ESP635</td>\n",
       "      <td>Pl R Frappat ang Eaux Claires</td>\n",
       "      <td>10</td>\n",
       "      <td>grandiflora</td>\n",
       "      <td>passages fréquents ou arrêts</td>\n",
       "      <td>...</td>\n",
       "      <td>NaN</td>\n",
       "      <td>vigoureux</td>\n",
       "      <td>1.913087e+06</td>\n",
       "      <td>4.223524e+06</td>\n",
       "      <td>0</td>\n",
       "      <td>0</td>\n",
       "      <td>0</td>\n",
       "      <td>0</td>\n",
       "      <td>0</td>\n",
       "      <td>0</td>\n",
       "    </tr>\n",
       "    <tr>\n",
       "      <th>3</th>\n",
       "      <td>2</td>\n",
       "      <td>2004</td>\n",
       "      <td>2014</td>\n",
       "      <td>2014</td>\n",
       "      <td>ESP7496</td>\n",
       "      <td>ESP109</td>\n",
       "      <td>R François Raoult</td>\n",
       "      <td>40</td>\n",
       "      <td>japonica</td>\n",
       "      <td>passages fréquents et arrêts fréquents</td>\n",
       "      <td>...</td>\n",
       "      <td>NaN</td>\n",
       "      <td>vigoureux</td>\n",
       "      <td>1.914187e+06</td>\n",
       "      <td>4.224275e+06</td>\n",
       "      <td>1</td>\n",
       "      <td>0</td>\n",
       "      <td>1</td>\n",
       "      <td>1</td>\n",
       "      <td>0</td>\n",
       "      <td>0</td>\n",
       "    </tr>\n",
       "    <tr>\n",
       "      <th>4</th>\n",
       "      <td>1</td>\n",
       "      <td>2004</td>\n",
       "      <td>2013</td>\n",
       "      <td>2015</td>\n",
       "      <td>ESP2547</td>\n",
       "      <td>ESP194</td>\n",
       "      <td>Terminus Tram Esclangon</td>\n",
       "      <td>20</td>\n",
       "      <td>americana</td>\n",
       "      <td>passages fréquents et arrêts fréquents</td>\n",
       "      <td>...</td>\n",
       "      <td>NaN</td>\n",
       "      <td>vigoureux</td>\n",
       "      <td>1.912975e+06</td>\n",
       "      <td>4.225210e+06</td>\n",
       "      <td>0</td>\n",
       "      <td>0</td>\n",
       "      <td>0</td>\n",
       "      <td>0</td>\n",
       "      <td>0</td>\n",
       "      <td>2</td>\n",
       "    </tr>\n",
       "    <tr>\n",
       "      <th>...</th>\n",
       "      <td>...</td>\n",
       "      <td>...</td>\n",
       "      <td>...</td>\n",
       "      <td>...</td>\n",
       "      <td>...</td>\n",
       "      <td>...</td>\n",
       "      <td>...</td>\n",
       "      <td>...</td>\n",
       "      <td>...</td>\n",
       "      <td>...</td>\n",
       "      <td>...</td>\n",
       "      <td>...</td>\n",
       "      <td>...</td>\n",
       "      <td>...</td>\n",
       "      <td>...</td>\n",
       "      <td>...</td>\n",
       "      <td>...</td>\n",
       "      <td>...</td>\n",
       "      <td>...</td>\n",
       "      <td>...</td>\n",
       "      <td>...</td>\n",
       "    </tr>\n",
       "    <tr>\n",
       "      <th>15370</th>\n",
       "      <td>3</td>\n",
       "      <td>2004</td>\n",
       "      <td>2013</td>\n",
       "      <td>2015</td>\n",
       "      <td>ESP29359</td>\n",
       "      <td>ESP84</td>\n",
       "      <td>Hôtel Lesdiguières</td>\n",
       "      <td>0</td>\n",
       "      <td>NaN</td>\n",
       "      <td>passages fréquents et arrêts fréquents</td>\n",
       "      <td>...</td>\n",
       "      <td>NaN</td>\n",
       "      <td>vigoureux</td>\n",
       "      <td>1.912985e+06</td>\n",
       "      <td>4.222215e+06</td>\n",
       "      <td>0</td>\n",
       "      <td>0</td>\n",
       "      <td>0</td>\n",
       "      <td>0</td>\n",
       "      <td>0</td>\n",
       "      <td>2</td>\n",
       "    </tr>\n",
       "    <tr>\n",
       "      <th>15371</th>\n",
       "      <td>4</td>\n",
       "      <td>2004</td>\n",
       "      <td>2014</td>\n",
       "      <td>2014</td>\n",
       "      <td>ESP12605</td>\n",
       "      <td>ESP1023</td>\n",
       "      <td>R Gén Mangin Alliés Jacquart</td>\n",
       "      <td>40</td>\n",
       "      <td>acerifolia</td>\n",
       "      <td>passages fréquents et arrêts fréquents</td>\n",
       "      <td>...</td>\n",
       "      <td>NaN</td>\n",
       "      <td>vigoureux</td>\n",
       "      <td>1.913534e+06</td>\n",
       "      <td>4.223000e+06</td>\n",
       "      <td>0</td>\n",
       "      <td>0</td>\n",
       "      <td>0</td>\n",
       "      <td>0</td>\n",
       "      <td>0</td>\n",
       "      <td>0</td>\n",
       "    </tr>\n",
       "    <tr>\n",
       "      <th>15372</th>\n",
       "      <td>1</td>\n",
       "      <td>2004</td>\n",
       "      <td>2013</td>\n",
       "      <td>2015</td>\n",
       "      <td>ESP15840</td>\n",
       "      <td>ESP1277</td>\n",
       "      <td>A DL Weill Arménie à Esclangon</td>\n",
       "      <td>10</td>\n",
       "      <td>NaN</td>\n",
       "      <td>passages fréquents et arrêts fréquents</td>\n",
       "      <td>...</td>\n",
       "      <td>Flame</td>\n",
       "      <td>vigoureux</td>\n",
       "      <td>1.913037e+06</td>\n",
       "      <td>4.225100e+06</td>\n",
       "      <td>0</td>\n",
       "      <td>0</td>\n",
       "      <td>0</td>\n",
       "      <td>0</td>\n",
       "      <td>0</td>\n",
       "      <td>2</td>\n",
       "    </tr>\n",
       "    <tr>\n",
       "      <th>15373</th>\n",
       "      <td>4</td>\n",
       "      <td>2004</td>\n",
       "      <td>2014</td>\n",
       "      <td>2015</td>\n",
       "      <td>ESP1436</td>\n",
       "      <td>ESP877</td>\n",
       "      <td>Av Berthelot arrêt tram MC2</td>\n",
       "      <td>10</td>\n",
       "      <td>styraciflua</td>\n",
       "      <td>passages fréquents et arrêts fréquents</td>\n",
       "      <td>...</td>\n",
       "      <td>NaN</td>\n",
       "      <td>vigoureux</td>\n",
       "      <td>1.914695e+06</td>\n",
       "      <td>4.222890e+06</td>\n",
       "      <td>0</td>\n",
       "      <td>0</td>\n",
       "      <td>0</td>\n",
       "      <td>0</td>\n",
       "      <td>0</td>\n",
       "      <td>1</td>\n",
       "    </tr>\n",
       "    <tr>\n",
       "      <th>15374</th>\n",
       "      <td>1</td>\n",
       "      <td>2014</td>\n",
       "      <td>2014</td>\n",
       "      <td>2019</td>\n",
       "      <td>ESP33333</td>\n",
       "      <td>ESP33623</td>\n",
       "      <td>Av Martyrs Tram Nord Horowitz</td>\n",
       "      <td>10</td>\n",
       "      <td>mandshurica</td>\n",
       "      <td>passages fréquents ou arrêts</td>\n",
       "      <td>...</td>\n",
       "      <td>Mancana</td>\n",
       "      <td>vigoureux</td>\n",
       "      <td>1.911907e+06</td>\n",
       "      <td>4.226534e+06</td>\n",
       "      <td>0</td>\n",
       "      <td>0</td>\n",
       "      <td>0</td>\n",
       "      <td>0</td>\n",
       "      <td>0</td>\n",
       "      <td>5</td>\n",
       "    </tr>\n",
       "  </tbody>\n",
       "</table>\n",
       "<p>15375 rows × 35 columns</p>\n",
       "</div>"
      ],
      "text/plain": [
       "       ADR_SECTEUR  ANNEEDEPLANTATION  ANNEEREALISATIONDIAGNOSTIC  \\\n",
       "0                5               2014                        2014   \n",
       "1                3               2004                        2013   \n",
       "2                3               2004                        2014   \n",
       "3                2               2004                        2014   \n",
       "4                1               2004                        2013   \n",
       "...            ...                ...                         ...   \n",
       "15370            3               2004                        2013   \n",
       "15371            4               2004                        2014   \n",
       "15372            1               2004                        2013   \n",
       "15373            4               2004                        2014   \n",
       "15374            1               2014                        2014   \n",
       "\n",
       "       ANNEETRAVAUXPRECONISESDIAG      CODE CODE_PARENT  \\\n",
       "0                            2019  ESP33155      ESP385   \n",
       "1                            2015   ESP2079      ESP116   \n",
       "2                            2014  ESP26205      ESP635   \n",
       "3                            2014   ESP7496      ESP109   \n",
       "4                            2015   ESP2547      ESP194   \n",
       "...                           ...       ...         ...   \n",
       "15370                        2015  ESP29359       ESP84   \n",
       "15371                        2014  ESP12605     ESP1023   \n",
       "15372                        2015  ESP15840     ESP1277   \n",
       "15373                        2015   ESP1436      ESP877   \n",
       "15374                        2019  ESP33333    ESP33623   \n",
       "\n",
       "                     CODE_PARENT_DESC DIAMETREARBREAUNMETRE       ESPECE  \\\n",
       "0         R D Fontanelle ang Essen JO                    10      cordata   \n",
       "1      Crs Libération Beauvert Alliés                    30   acerifolia   \n",
       "2       Pl R Frappat ang Eaux Claires                    10  grandiflora   \n",
       "3                   R François Raoult                    40     japonica   \n",
       "4             Terminus Tram Esclangon                    20    americana   \n",
       "...                               ...                   ...          ...   \n",
       "15370              Hôtel Lesdiguières                     0          NaN   \n",
       "15371    R Gén Mangin Alliés Jacquart                    40   acerifolia   \n",
       "15372  A DL Weill Arménie à Esclangon                    10          NaN   \n",
       "15373     Av Berthelot arrêt tram MC2                    10  styraciflua   \n",
       "15374   Av Martyrs Tram Nord Horowitz                    10  mandshurica   \n",
       "\n",
       "                           FREQUENTATIONCIBLE  ...  VARIETE    VIGUEUR  \\\n",
       "0                passages fréquents ou arrêts  ...      NaN  vigoureux   \n",
       "1      passages fréquents et arrêts fréquents  ...      NaN  vigoureux   \n",
       "2                passages fréquents ou arrêts  ...      NaN  vigoureux   \n",
       "3      passages fréquents et arrêts fréquents  ...      NaN  vigoureux   \n",
       "4      passages fréquents et arrêts fréquents  ...      NaN  vigoureux   \n",
       "...                                       ...  ...      ...        ...   \n",
       "15370  passages fréquents et arrêts fréquents  ...      NaN  vigoureux   \n",
       "15371  passages fréquents et arrêts fréquents  ...      NaN  vigoureux   \n",
       "15372  passages fréquents et arrêts fréquents  ...    Flame  vigoureux   \n",
       "15373  passages fréquents et arrêts fréquents  ...      NaN  vigoureux   \n",
       "15374            passages fréquents ou arrêts  ...  Mancana  vigoureux   \n",
       "\n",
       "            coord_x       coord_y DEFAUT Collet Houppier Racine Tronc  \\\n",
       "0      1.915371e+06  4.222837e+06      0      0        0      0     0   \n",
       "1      1.913250e+06  4.222531e+06      0      0        0      0     0   \n",
       "2      1.913087e+06  4.223524e+06      0      0        0      0     0   \n",
       "3      1.914187e+06  4.224275e+06      1      0        1      1     0   \n",
       "4      1.912975e+06  4.225210e+06      0      0        0      0     0   \n",
       "...             ...           ...    ...    ...      ...    ...   ...   \n",
       "15370  1.912985e+06  4.222215e+06      0      0        0      0     0   \n",
       "15371  1.913534e+06  4.223000e+06      0      0        0      0     0   \n",
       "15372  1.913037e+06  4.225100e+06      0      0        0      0     0   \n",
       "15373  1.914695e+06  4.222890e+06      0      0        0      0     0   \n",
       "15374  1.911907e+06  4.226534e+06      0      0        0      0     0   \n",
       "\n",
       "      NbAnnéesAvantProchainDiag  \n",
       "0                             5  \n",
       "1                             2  \n",
       "2                             0  \n",
       "3                             0  \n",
       "4                             2  \n",
       "...                         ...  \n",
       "15370                         2  \n",
       "15371                         0  \n",
       "15372                         2  \n",
       "15373                         1  \n",
       "15374                         5  \n",
       "\n",
       "[15375 rows x 35 columns]"
      ]
     },
     "execution_count": 676,
     "metadata": {},
     "output_type": "execute_result"
    }
   ],
   "source": [
    "df_arbres"
   ]
  },
  {
   "cell_type": "code",
   "execution_count": 677,
   "metadata": {},
   "outputs": [
    {
     "data": {
      "text/plain": [
       "Populus         15\n",
       "Acer            14\n",
       "Platanus         9\n",
       "Sophora          5\n",
       "Salix            5\n",
       "Tilia            3\n",
       "Betula           2\n",
       "Chionanthus      2\n",
       "Taxus            2\n",
       "Prunus           2\n",
       "Cupressus        1\n",
       "Amélanchier      1\n",
       "Liriodendron     1\n",
       "Carpinus         1\n",
       "Liquidambar      1\n",
       "Malus            1\n",
       "Robinia          1\n",
       "Tetradium        1\n",
       "Name: GENRE_BOTA, dtype: int64"
      ]
     },
     "execution_count": 677,
     "metadata": {},
     "output_type": "execute_result"
    }
   ],
   "source": [
    "#Récupérer genre botanique pour les arbres dont les diamètres ne sont pas préciser\n",
    "\n",
    "no_diametres = df_arbres[df_arbres['DIAMETREARBREAUNMETRE'].isnull()]\n",
    "no_diametres['GENRE_BOTA'].value_counts()"
   ]
  },
  {
   "cell_type": "code",
   "execution_count": 678,
   "metadata": {},
   "outputs": [
    {
     "data": {
      "text/plain": [
       "40     145\n",
       "50     126\n",
       "60      81\n",
       "30      62\n",
       "70      55\n",
       "90      50\n",
       "20      44\n",
       "80      38\n",
       "10      31\n",
       "100     14\n",
       "110      9\n",
       "130      5\n",
       "0        4\n",
       "160      3\n",
       "120      3\n",
       "150      2\n",
       "140      2\n",
       "180      1\n",
       "Name: DIAMETREARBREAUNMETRE, dtype: int64"
      ]
     },
     "execution_count": 678,
     "metadata": {},
     "output_type": "execute_result"
    }
   ],
   "source": [
    "#Diamètre le plus fréquent pour chaque genre botanique listé ci-dessus :\n",
    "\n",
    "#Genre Populus = 40 cm de diamètre en général le plus fréquent\n",
    "df_arbres_populus = df_arbres[df_arbres['GENRE_BOTA'] == 'Populus']\n",
    "df_arbres_populus['DIAMETREARBREAUNMETRE'].value_counts()"
   ]
  },
  {
   "cell_type": "code",
   "execution_count": 679,
   "metadata": {},
   "outputs": [
    {
     "data": {
      "text/plain": [
       "10    655\n",
       "20    591\n",
       "30    472\n",
       "40    339\n",
       "0     125\n",
       "50     86\n",
       "60     36\n",
       "70     13\n",
       "80      7\n",
       "90      1\n",
       "Name: DIAMETREARBREAUNMETRE, dtype: int64"
      ]
     },
     "execution_count": 679,
     "metadata": {},
     "output_type": "execute_result"
    }
   ],
   "source": [
    "#Variable Acer = 10 cm de diamètre en général le plus fréquent\n",
    "df_arbres_acer = df_arbres[df_arbres['GENRE_BOTA'] == 'Acer']\n",
    "df_arbres_acer['DIAMETREARBREAUNMETRE'].value_counts()"
   ]
  },
  {
   "cell_type": "code",
   "execution_count": 680,
   "metadata": {},
   "outputs": [
    {
     "data": {
      "text/plain": [
       "40     552\n",
       "50     459\n",
       "20     454\n",
       "30     424\n",
       "60     306\n",
       "10     275\n",
       "70     206\n",
       "80     117\n",
       "90      67\n",
       "0       49\n",
       "100     39\n",
       "110     10\n",
       "120      7\n",
       "130      5\n",
       "150      2\n",
       "140      1\n",
       "Name: DIAMETREARBREAUNMETRE, dtype: int64"
      ]
     },
     "execution_count": 680,
     "metadata": {},
     "output_type": "execute_result"
    }
   ],
   "source": [
    "#Variable Platanus = 40 cm de diamètre en général le plus fréquent\n",
    "df_arbres_platanus = df_arbres[df_arbres['GENRE_BOTA'] == 'Platanus']\n",
    "df_arbres_platanus['DIAMETREARBREAUNMETRE'].value_counts()"
   ]
  },
  {
   "cell_type": "code",
   "execution_count": 681,
   "metadata": {},
   "outputs": [
    {
     "data": {
      "text/plain": [
       "30    95\n",
       "20    61\n",
       "10    43\n",
       "40    41\n",
       "50    13\n",
       "0      6\n",
       "60     6\n",
       "70     3\n",
       "80     1\n",
       "Name: DIAMETREARBREAUNMETRE, dtype: int64"
      ]
     },
     "execution_count": 681,
     "metadata": {},
     "output_type": "execute_result"
    }
   ],
   "source": [
    "#Variable Sophora = 30 cm de diamètre en général le plus fréquent\n",
    "df_arbres_Sophora = df_arbres[df_arbres['GENRE_BOTA'] == 'Sophora']\n",
    "df_arbres_Sophora['DIAMETREARBREAUNMETRE'].value_counts()"
   ]
  },
  {
   "cell_type": "code",
   "execution_count": 682,
   "metadata": {},
   "outputs": [
    {
     "data": {
      "text/plain": [
       "10     11\n",
       "20     10\n",
       "40      8\n",
       "50      7\n",
       "70      6\n",
       "0       5\n",
       "60      5\n",
       "30      4\n",
       "100     2\n",
       "80      2\n",
       "160     1\n",
       "Name: DIAMETREARBREAUNMETRE, dtype: int64"
      ]
     },
     "execution_count": 682,
     "metadata": {},
     "output_type": "execute_result"
    }
   ],
   "source": [
    "#Variable Salix = 10 cm de diamètre en général le plus fréquent\n",
    "df_arbres_Salix = df_arbres[df_arbres['GENRE_BOTA'] == 'Salix']\n",
    "df_arbres_Salix['DIAMETREARBREAUNMETRE'].value_counts()"
   ]
  },
  {
   "cell_type": "code",
   "execution_count": 683,
   "metadata": {},
   "outputs": [
    {
     "data": {
      "text/plain": [
       "10    203\n",
       "20     78\n",
       "30     36\n",
       "0      35\n",
       "40     21\n",
       "50      3\n",
       "60      2\n",
       "70      1\n",
       "Name: DIAMETREARBREAUNMETRE, dtype: int64"
      ]
     },
     "execution_count": 683,
     "metadata": {},
     "output_type": "execute_result"
    }
   ],
   "source": [
    "#Variable Prunus = 10 cm de diamètre en général le plus fréquent\n",
    "df_arbres_Prunus = df_arbres[df_arbres['GENRE_BOTA'] == 'Prunus']\n",
    "df_arbres_Prunus['DIAMETREARBREAUNMETRE'].value_counts()"
   ]
  },
  {
   "cell_type": "code",
   "execution_count": 684,
   "metadata": {},
   "outputs": [
    {
     "data": {
      "text/plain": [
       "10    23\n",
       "30    10\n",
       "20     8\n",
       "0      8\n",
       "40     8\n",
       "50     4\n",
       "60     3\n",
       "80     2\n",
       "70     1\n",
       "Name: DIAMETREARBREAUNMETRE, dtype: int64"
      ]
     },
     "execution_count": 684,
     "metadata": {},
     "output_type": "execute_result"
    }
   ],
   "source": [
    "#Variable Taxus = 10 cm de diamètre en général le plus fréquent\n",
    "df_arbres_Taxus = df_arbres[df_arbres['GENRE_BOTA'] == 'Taxus']\n",
    "df_arbres_Taxus['DIAMETREARBREAUNMETRE'].value_counts()"
   ]
  },
  {
   "cell_type": "code",
   "execution_count": 685,
   "metadata": {},
   "outputs": [
    {
     "data": {
      "text/plain": [
       "10    8\n",
       "0     3\n",
       "60    1\n",
       "Name: DIAMETREARBREAUNMETRE, dtype: int64"
      ]
     },
     "execution_count": 685,
     "metadata": {},
     "output_type": "execute_result"
    }
   ],
   "source": [
    "#Variable Chionanthus = 10 cm de diamètre en général le plus fréquent\n",
    "df_arbres_Chionanthus = df_arbres[df_arbres['GENRE_BOTA'] == 'Chionanthus']\n",
    "df_arbres_Chionanthus['DIAMETREARBREAUNMETRE'].value_counts()"
   ]
  },
  {
   "cell_type": "code",
   "execution_count": 686,
   "metadata": {},
   "outputs": [
    {
     "data": {
      "text/plain": [
       "10    358\n",
       "0     141\n",
       "20    111\n",
       "30     57\n",
       "40     18\n",
       "50      6\n",
       "60      4\n",
       "80      2\n",
       "Name: DIAMETREARBREAUNMETRE, dtype: int64"
      ]
     },
     "execution_count": 686,
     "metadata": {},
     "output_type": "execute_result"
    }
   ],
   "source": [
    "#Variable Betula = 10 cm de diamètre en général le plus fréquent\n",
    "df_arbres_Betula  = df_arbres[df_arbres['GENRE_BOTA'] == 'Betula']\n",
    "df_arbres_Betula ['DIAMETREARBREAUNMETRE'].value_counts()"
   ]
  },
  {
   "cell_type": "code",
   "execution_count": 687,
   "metadata": {},
   "outputs": [
    {
     "data": {
      "text/plain": [
       "10    170\n",
       "20    139\n",
       "30     81\n",
       "0      60\n",
       "40     18\n",
       "50      4\n",
       "Name: DIAMETREARBREAUNMETRE, dtype: int64"
      ]
     },
     "execution_count": 687,
     "metadata": {},
     "output_type": "execute_result"
    }
   ],
   "source": [
    "#Variable Liquidambar = 10 cm de diamètre en général le plus fréquent\n",
    "df_arbres_Liquidambar  = df_arbres[df_arbres['GENRE_BOTA'] == 'Liquidambar']\n",
    "df_arbres_Liquidambar ['DIAMETREARBREAUNMETRE'].value_counts()"
   ]
  },
  {
   "cell_type": "code",
   "execution_count": 688,
   "metadata": {},
   "outputs": [
    {
     "data": {
      "text/plain": [
       "20    33\n",
       "10    24\n",
       "0     21\n",
       "50     8\n",
       "40     8\n",
       "30     8\n",
       "60     6\n",
       "70     3\n",
       "Name: DIAMETREARBREAUNMETRE, dtype: int64"
      ]
     },
     "execution_count": 688,
     "metadata": {},
     "output_type": "execute_result"
    }
   ],
   "source": [
    "#Variable Cupressus = 20 cm de diamètre en général le plus fréquent\n",
    "df_arbres_Cupressus  = df_arbres[df_arbres['GENRE_BOTA'] == 'Cupressus']\n",
    "df_arbres_Cupressus ['DIAMETREARBREAUNMETRE'].value_counts()"
   ]
  },
  {
   "cell_type": "code",
   "execution_count": 689,
   "metadata": {},
   "outputs": [
    {
     "data": {
      "text/plain": [
       "10    21\n",
       "0     19\n",
       "20     1\n",
       "Name: DIAMETREARBREAUNMETRE, dtype: int64"
      ]
     },
     "execution_count": 689,
     "metadata": {},
     "output_type": "execute_result"
    }
   ],
   "source": [
    "#Variable Amelanchier = 10 cm de diamètre en général le plus fréquent\n",
    "df_arbres_Amelanchier  = df_arbres[df_arbres['GENRE_BOTA'] == 'Amélanchier']\n",
    "df_arbres_Amelanchier ['DIAMETREARBREAUNMETRE'].value_counts()"
   ]
  },
  {
   "cell_type": "code",
   "execution_count": 690,
   "metadata": {},
   "outputs": [
    {
     "data": {
      "text/plain": [
       "10    151\n",
       "20     84\n",
       "30     24\n",
       "0      22\n",
       "40      8\n",
       "50      1\n",
       "Name: DIAMETREARBREAUNMETRE, dtype: int64"
      ]
     },
     "execution_count": 690,
     "metadata": {},
     "output_type": "execute_result"
    }
   ],
   "source": [
    "#Variable Liriodendron = 10 cm de diamètre en général le plus fréquent\n",
    "df_arbres_Liriodendron  = df_arbres[df_arbres['GENRE_BOTA'] == 'Liriodendron']\n",
    "df_arbres_Liriodendron ['DIAMETREARBREAUNMETRE'].value_counts()"
   ]
  },
  {
   "cell_type": "code",
   "execution_count": 691,
   "metadata": {},
   "outputs": [
    {
     "data": {
      "text/plain": [
       "10    70\n",
       "0     18\n",
       "20    12\n",
       "30     1\n",
       "Name: DIAMETREARBREAUNMETRE, dtype: int64"
      ]
     },
     "execution_count": 691,
     "metadata": {},
     "output_type": "execute_result"
    }
   ],
   "source": [
    "#Variable Malus = 10 cm de diamètre en général le plus fréquent\n",
    "df_arbres_Malus  = df_arbres[df_arbres['GENRE_BOTA'] == 'Malus']\n",
    "df_arbres_Malus ['DIAMETREARBREAUNMETRE'].value_counts()"
   ]
  },
  {
   "cell_type": "code",
   "execution_count": 692,
   "metadata": {},
   "outputs": [
    {
     "data": {
      "text/plain": [
       "30    36\n",
       "20    32\n",
       "10    29\n",
       "40    25\n",
       "50    18\n",
       "60     7\n",
       "70     4\n",
       "0      2\n",
       "80     2\n",
       "Name: DIAMETREARBREAUNMETRE, dtype: int64"
      ]
     },
     "execution_count": 692,
     "metadata": {},
     "output_type": "execute_result"
    }
   ],
   "source": [
    "#Variable Robinia = 30 cm de diamètre en général le plus fréquent\n",
    "df_arbres_Robinia  = df_arbres[df_arbres['GENRE_BOTA'] == 'Robinia']\n",
    "df_arbres_Robinia ['DIAMETREARBREAUNMETRE'].value_counts()"
   ]
  },
  {
   "cell_type": "code",
   "execution_count": 693,
   "metadata": {},
   "outputs": [
    {
     "data": {
      "text/plain": [
       "10    170\n",
       "20    118\n",
       "30     43\n",
       "0      34\n",
       "40     20\n",
       "50     12\n",
       "60      7\n",
       "80      3\n",
       "70      2\n",
       "Name: DIAMETREARBREAUNMETRE, dtype: int64"
      ]
     },
     "execution_count": 693,
     "metadata": {},
     "output_type": "execute_result"
    }
   ],
   "source": [
    "#Variable Carpinus = 10 cm de diamètre en général le plus fréquent\n",
    "df_arbres_Carpinus  = df_arbres[df_arbres['GENRE_BOTA'] == 'Carpinus']\n",
    "df_arbres_Carpinus ['DIAMETREARBREAUNMETRE'].value_counts()"
   ]
  },
  {
   "cell_type": "code",
   "execution_count": 694,
   "metadata": {},
   "outputs": [
    {
     "data": {
      "text/plain": [
       "10    21\n",
       "0     14\n",
       "20    11\n",
       "30     6\n",
       "40     1\n",
       "Name: DIAMETREARBREAUNMETRE, dtype: int64"
      ]
     },
     "execution_count": 694,
     "metadata": {},
     "output_type": "execute_result"
    }
   ],
   "source": [
    "#Variable Tetradium = 10 cm de diamètre en général le plus fréquent\n",
    "df_arbres_Tetradium  = df_arbres[df_arbres['GENRE_BOTA'] == 'Tetradium']\n",
    "df_arbres_Tetradium ['DIAMETREARBREAUNMETRE'].value_counts()"
   ]
  },
  {
   "cell_type": "code",
   "execution_count": 695,
   "metadata": {},
   "outputs": [],
   "source": [
    "#Remplacement des valeurs NaN du diamètre par les valeurs les plus fréquentes en fonction du Genre Botanique\n",
    "#Variable par variable\n",
    "\n",
    "#Value 40\n",
    "df_arbres['DIAMETREARBREAUNMETRE'] = np.where(df_arbres['GENRE_BOTA']== \"Populus\", \n",
    "                                         df_arbres['DIAMETREARBREAUNMETRE'].replace(np.nan,40),\n",
    "                                         df_arbres['DIAMETREARBREAUNMETRE'])\n",
    "\n",
    "df_arbres['DIAMETREARBREAUNMETRE'] = np.where(df_arbres['GENRE_BOTA']== \"Platanus\", \n",
    "                                         df_arbres['DIAMETREARBREAUNMETRE'].replace(np.nan,40),\n",
    "                                         df_arbres['DIAMETREARBREAUNMETRE'])\n",
    "\n",
    "#Value 20\n",
    "df_arbres['DIAMETREARBREAUNMETRE'] = np.where(df_arbres['GENRE_BOTA']== \"Cupressus\", \n",
    "                                         df_arbres['DIAMETREARBREAUNMETRE'].replace(np.nan,20),\n",
    "                                         df_arbres['DIAMETREARBREAUNMETRE'])\n",
    "\n",
    "#Value 10\n",
    "df_arbres['DIAMETREARBREAUNMETRE'] = np.where(df_arbres['GENRE_BOTA']== \"Acer\" ,\n",
    "                                              df_arbres['DIAMETREARBREAUNMETRE'].replace(np.nan,10),\n",
    "                                         df_arbres['DIAMETREARBREAUNMETRE'])\n",
    "\n",
    "\n",
    "df_arbres['DIAMETREARBREAUNMETRE'] = np.where(df_arbres['GENRE_BOTA']== \"Salix\" ,\n",
    "                                              df_arbres['DIAMETREARBREAUNMETRE'].replace(np.nan,10),\n",
    "                                         df_arbres['DIAMETREARBREAUNMETRE'])\n",
    "\n",
    "df_arbres['DIAMETREARBREAUNMETRE'] = np.where(df_arbres['GENRE_BOTA']== \"Prunus\" ,\n",
    "                                              df_arbres['DIAMETREARBREAUNMETRE'].replace(np.nan,10),\n",
    "                                         df_arbres['DIAMETREARBREAUNMETRE'])\n",
    "\n",
    "\n",
    "df_arbres['DIAMETREARBREAUNMETRE'] = np.where(df_arbres['GENRE_BOTA']== \"Taxus\" ,\n",
    "                                              df_arbres['DIAMETREARBREAUNMETRE'].replace(np.nan,10),\n",
    "                                         df_arbres['DIAMETREARBREAUNMETRE'])\n",
    "\n",
    "df_arbres['DIAMETREARBREAUNMETRE'] = np.where(df_arbres['GENRE_BOTA']== \"Chionanthus\" ,\n",
    "                                              df_arbres['DIAMETREARBREAUNMETRE'].replace(np.nan,10),\n",
    "                                         df_arbres['DIAMETREARBREAUNMETRE'])\n",
    "\n",
    "df_arbres['DIAMETREARBREAUNMETRE'] = np.where(df_arbres['GENRE_BOTA']== \"Betula\" ,\n",
    "                                              df_arbres['DIAMETREARBREAUNMETRE'].replace(np.nan,10),\n",
    "                                         df_arbres['DIAMETREARBREAUNMETRE'])\n",
    "\n",
    "df_arbres['DIAMETREARBREAUNMETRE'] = np.where(df_arbres['GENRE_BOTA']== \"Liquidambar\" ,\n",
    "                                              df_arbres['DIAMETREARBREAUNMETRE'].replace(np.nan,10),\n",
    "                                         df_arbres['DIAMETREARBREAUNMETRE'])\n",
    "\n",
    "df_arbres['DIAMETREARBREAUNMETRE'] = np.where(df_arbres['GENRE_BOTA']== \"Amélanchier\" ,\n",
    "                                              df_arbres['DIAMETREARBREAUNMETRE'].replace(np.nan,10),\n",
    "                                         df_arbres['DIAMETREARBREAUNMETRE'])\n",
    "\n",
    "df_arbres['DIAMETREARBREAUNMETRE'] = np.where(df_arbres['GENRE_BOTA']== \"Liriodendron\" ,\n",
    "                                              df_arbres['DIAMETREARBREAUNMETRE'].replace(np.nan,10),\n",
    "                                         df_arbres['DIAMETREARBREAUNMETRE'])\n",
    "\n",
    "df_arbres['DIAMETREARBREAUNMETRE'] = np.where(df_arbres['GENRE_BOTA']== \"Malus\" ,\n",
    "                                              df_arbres['DIAMETREARBREAUNMETRE'].replace(np.nan,10),\n",
    "                                         df_arbres['DIAMETREARBREAUNMETRE'])\n",
    "                                              \n",
    "df_arbres['DIAMETREARBREAUNMETRE'] = np.where(df_arbres['GENRE_BOTA']== \"Carpinus\" ,\n",
    "                                              df_arbres['DIAMETREARBREAUNMETRE'].replace(np.nan,10),\n",
    "                                         df_arbres['DIAMETREARBREAUNMETRE'])    \n",
    "\n",
    "df_arbres['DIAMETREARBREAUNMETRE'] = np.where(df_arbres['GENRE_BOTA']== \"Tetradium\" ,\n",
    "                                              df_arbres['DIAMETREARBREAUNMETRE'].replace(np.nan,10),\n",
    "                                         df_arbres['DIAMETREARBREAUNMETRE'])    \n",
    "\n",
    "#Value 30\n",
    "\n",
    "df_arbres['DIAMETREARBREAUNMETRE'] = np.where(df_arbres['GENRE_BOTA']== \"Sophora\" ,\n",
    "                                              df_arbres['DIAMETREARBREAUNMETRE'].replace(np.nan,30),\n",
    "                                         df_arbres['DIAMETREARBREAUNMETRE']) \n",
    "\n",
    "df_arbres['DIAMETREARBREAUNMETRE'] = np.where(df_arbres['GENRE_BOTA']== \"Tilia\" ,\n",
    "                                              df_arbres['DIAMETREARBREAUNMETRE'].replace(np.nan,30),\n",
    "                                         df_arbres['DIAMETREARBREAUNMETRE']) \n",
    "\n",
    "df_arbres['DIAMETREARBREAUNMETRE'] = np.where(df_arbres['GENRE_BOTA']== \"Robinia\" ,\n",
    "                                              df_arbres['DIAMETREARBREAUNMETRE'].replace(np.nan,30),\n",
    "                                         df_arbres['DIAMETREARBREAUNMETRE']) "
   ]
  },
  {
   "cell_type": "code",
   "execution_count": 696,
   "metadata": {},
   "outputs": [
    {
     "data": {
      "text/plain": [
       "array(['10', '30', '40', '20', '0', '110', '100', '70', '50', '60', '80',\n",
       "       '90', 40, 10, '130', 30, '120', '160', '140', '150', '180', '170',\n",
       "       20], dtype=object)"
      ]
     },
     "execution_count": 696,
     "metadata": {},
     "output_type": "execute_result"
    }
   ],
   "source": [
    "df_arbres[\"DIAMETREARBREAUNMETRE\"].unique()"
   ]
  },
  {
   "cell_type": "code",
   "execution_count": 697,
   "metadata": {},
   "outputs": [
    {
     "data": {
      "text/plain": [
       "0"
      ]
     },
     "execution_count": 697,
     "metadata": {},
     "output_type": "execute_result"
    }
   ],
   "source": [
    "#Plus de NaN values\n",
    "df_arbres.DIAMETREARBREAUNMETRE.isna().sum() "
   ]
  },
  {
   "cell_type": "code",
   "execution_count": 698,
   "metadata": {},
   "outputs": [
    {
     "data": {
      "text/plain": [
       "10     4221\n",
       "20     3187\n",
       "30     2400\n",
       "40     1894\n",
       "50     1124\n",
       "0       940\n",
       "60      651\n",
       "70      387\n",
       "80      235\n",
       "90      138\n",
       "100      65\n",
       "10       33\n",
       "110      26\n",
       "40       24\n",
       "120      14\n",
       "130      11\n",
       "30        9\n",
       "160       5\n",
       "150       4\n",
       "140       4\n",
       "20        1\n",
       "180       1\n",
       "170       1\n",
       "Name: DIAMETREARBREAUNMETRE, dtype: int64"
      ]
     },
     "execution_count": 698,
     "metadata": {},
     "output_type": "execute_result"
    }
   ],
   "source": [
    "df_arbres[\"DIAMETREARBREAUNMETRE\"].value_counts()"
   ]
  },
  {
   "cell_type": "code",
   "execution_count": 699,
   "metadata": {},
   "outputs": [
    {
     "data": {
      "text/plain": [
       "1018"
      ]
     },
     "execution_count": 699,
     "metadata": {},
     "output_type": "execute_result"
    }
   ],
   "source": [
    "#Gestion NaN value pour Variable ESPECE\n",
    "\n",
    "#Nombre de NaN Values\n",
    "df_arbres.ESPECE.isna().sum() "
   ]
  },
  {
   "cell_type": "code",
   "execution_count": 700,
   "metadata": {},
   "outputs": [
    {
     "data": {
      "text/plain": [
       "acerifolia                  2864\n",
       "nigra                       1073\n",
       "tomentosa                    646\n",
       "platanoides                  584\n",
       "styraciflua                  473\n",
       "                            ... \n",
       "reine claude                   1\n",
       "royalty                        1\n",
       "verticulata                    1\n",
       "padus                          1\n",
       "reinette grise du Canada       1\n",
       "Name: ESPECE, Length: 226, dtype: int64"
      ]
     },
     "execution_count": 700,
     "metadata": {},
     "output_type": "execute_result"
    }
   ],
   "source": [
    "#Espèces les plus courantes\n",
    "df_arbres['ESPECE'].value_counts()"
   ]
  },
  {
   "cell_type": "code",
   "execution_count": 701,
   "metadata": {},
   "outputs": [
    {
     "data": {
      "text/plain": [
       "Acer             368\n",
       "Fraxinus         134\n",
       "Pinus            107\n",
       "Carpinus          67\n",
       "Populus           62\n",
       "Prunus            43\n",
       "Salix             29\n",
       "Alnus             28\n",
       "Tilia             28\n",
       "Quercus           20\n",
       "Crataegus         20\n",
       "Thuja             16\n",
       "Aesculus          12\n",
       "Cedrus             9\n",
       "Malus              9\n",
       "Cupressus          9\n",
       "Zelkova            8\n",
       "Amélanchier        6\n",
       "Betula             5\n",
       "Magnolia           5\n",
       "Ulmus              5\n",
       "Metasequoia        4\n",
       "Pyrus              4\n",
       "Sorbus             4\n",
       "Chamaecyparis      3\n",
       "Gleditsia          2\n",
       "Clerodendron       2\n",
       "Lonicera           2\n",
       "Picea              2\n",
       "Pterocarya         1\n",
       "Poncinos           1\n",
       "Juniperus          1\n",
       "Araucaria          1\n",
       "Abies              1\n",
       "Name: GENRE_BOTA, dtype: int64"
      ]
     },
     "execution_count": 701,
     "metadata": {},
     "output_type": "execute_result"
    }
   ],
   "source": [
    "#Récupérer genre botanique pour les arbres dont les espèces ne sont pas préciser\n",
    "\n",
    "no_especes = df_arbres[df_arbres['ESPECE'].isnull()]\n",
    "no_especes['GENRE_BOTA'].value_counts()"
   ]
  },
  {
   "cell_type": "code",
   "execution_count": 702,
   "metadata": {},
   "outputs": [
    {
     "data": {
      "text/plain": [
       "platanoides          583\n",
       "pseudoplatanus       416\n",
       "campestris           332\n",
       "saccharinum          276\n",
       "cappadocicum         123\n",
       "negundo               95\n",
       "monspessulanum        38\n",
       "campestre             28\n",
       "freemani              25\n",
       "ginnala               24\n",
       "rubrum                13\n",
       "buergerianum           5\n",
       "saccharum              4\n",
       "capillipes             2\n",
       "japonicum              2\n",
       "saccharinum wieri      2\n",
       "tartarica              1\n",
       "opalus                 1\n",
       "griseum                1\n",
       "Name: ESPECE, dtype: int64"
      ]
     },
     "execution_count": 702,
     "metadata": {},
     "output_type": "execute_result"
    }
   ],
   "source": [
    "#Variable GENRE BOTA Acer --> Espèces Platanoides en général la plus fréquente\n",
    "#Remplacement des NaN values\n",
    "\n",
    "df_arbres_Acer  = df_arbres[df_arbres['GENRE_BOTA'] == 'Acer']\n",
    "df_arbres_Acer ['ESPECE'].value_counts()"
   ]
  },
  {
   "cell_type": "code",
   "execution_count": 703,
   "metadata": {},
   "outputs": [],
   "source": [
    "df_arbres['ESPECE'] = np.where(df_arbres['GENRE_BOTA']== \"Acer\" ,\n",
    "                                              df_arbres['ESPECE'].replace(np.nan,\"platanoides\"),\n",
    "                                         df_arbres['ESPECE'])    "
   ]
  },
  {
   "cell_type": "code",
   "execution_count": 704,
   "metadata": {},
   "outputs": [
    {
     "data": {
      "text/plain": [
       "excelsior       275\n",
       "americana        68\n",
       "ornus            59\n",
       "angustifolia     47\n",
       "oxycarpa         23\n",
       "pensylvanica     16\n",
       "velutina         14\n",
       "mandshurica      11\n",
       "Name: ESPECE, dtype: int64"
      ]
     },
     "execution_count": 704,
     "metadata": {},
     "output_type": "execute_result"
    }
   ],
   "source": [
    "#Variable GENRE BOTA Fraxinus--> Espèces excelsior en général la plus fréquente\n",
    "#Remplacement des NaN values\n",
    "\n",
    "df_arbres_Pinus  = df_arbres[df_arbres['GENRE_BOTA'] == 'Fraxinus']\n",
    "df_arbres_Pinus ['ESPECE'].value_counts()"
   ]
  },
  {
   "cell_type": "code",
   "execution_count": 705,
   "metadata": {},
   "outputs": [],
   "source": [
    "df_arbres['ESPECE'] = np.where(df_arbres['GENRE_BOTA']== \"Fraxinus\" ,\n",
    "                                              df_arbres['ESPECE'].replace(np.nan,\"excelsior\"),\n",
    "                                         df_arbres['ESPECE'])    "
   ]
  },
  {
   "cell_type": "code",
   "execution_count": 706,
   "metadata": {},
   "outputs": [
    {
     "data": {
      "text/plain": [
       "nigra          596\n",
       "sylvestris     255\n",
       "griffiti        10\n",
       "strobus          1\n",
       "mughus           1\n",
       "mugo mughus      1\n",
       "Name: ESPECE, dtype: int64"
      ]
     },
     "execution_count": 706,
     "metadata": {},
     "output_type": "execute_result"
    }
   ],
   "source": [
    "#Variable GENRE BOTA Pinus--> Espèces nigra en général la plus fréquente\n",
    "#Remplacement des NaN values\n",
    "\n",
    "df_arbres_Pinus = df_arbres[df_arbres['GENRE_BOTA'] == 'Pinus']\n",
    "df_arbres_Pinus ['ESPECE'].value_counts()"
   ]
  },
  {
   "cell_type": "code",
   "execution_count": 707,
   "metadata": {},
   "outputs": [],
   "source": [
    "df_arbres['ESPECE'] = np.where(df_arbres['GENRE_BOTA']== \"Pinus\" ,\n",
    "                                              df_arbres['ESPECE'].replace(np.nan,\"nigra\"),\n",
    "                                         df_arbres['ESPECE'])    "
   ]
  },
  {
   "cell_type": "code",
   "execution_count": 708,
   "metadata": {},
   "outputs": [
    {
     "data": {
      "text/plain": [
       "betulus    343\n",
       "Name: ESPECE, dtype: int64"
      ]
     },
     "execution_count": 708,
     "metadata": {},
     "output_type": "execute_result"
    }
   ],
   "source": [
    "#Variable GENRE BOTA Carpinus--> Espèces betulus\n",
    "#Remplacement des NaN values\n",
    "\n",
    "df_arbres_Carpinus = df_arbres[df_arbres['GENRE_BOTA'] == 'Carpinus']\n",
    "df_arbres_Carpinus ['ESPECE'].value_counts()"
   ]
  },
  {
   "cell_type": "code",
   "execution_count": 709,
   "metadata": {},
   "outputs": [],
   "source": [
    "df_arbres['ESPECE'] = np.where(df_arbres['GENRE_BOTA']== \"Carpinus\" ,\n",
    "                                              df_arbres['ESPECE'].replace(np.nan,\"betulus\"),\n",
    "                                         df_arbres['ESPECE']) "
   ]
  },
  {
   "cell_type": "code",
   "execution_count": 710,
   "metadata": {},
   "outputs": [
    {
     "data": {
      "text/plain": [
       "nigra      401\n",
       "robusta    158\n",
       "alba        53\n",
       "tremula     13\n",
       "simonii      3\n",
       "Name: ESPECE, dtype: int64"
      ]
     },
     "execution_count": 710,
     "metadata": {},
     "output_type": "execute_result"
    }
   ],
   "source": [
    "#Variable GENRE BOTA Populus--> Espèces nigra la plus fréquente\n",
    "#Remplacement des NaN values\n",
    "\n",
    "df_arbres_Populus = df_arbres[df_arbres['GENRE_BOTA'] == 'Populus']\n",
    "df_arbres_Populus ['ESPECE'].value_counts()"
   ]
  },
  {
   "cell_type": "code",
   "execution_count": 711,
   "metadata": {},
   "outputs": [],
   "source": [
    "df_arbres['ESPECE'] = np.where(df_arbres['GENRE_BOTA']== \"Populus\" ,\n",
    "                                              df_arbres['ESPECE'].replace(np.nan,\"nigra\"),\n",
    "                                         df_arbres['ESPECE']) "
   ]
  },
  {
   "cell_type": "code",
   "execution_count": 712,
   "metadata": {},
   "outputs": [
    {
     "data": {
      "text/plain": [
       "serrulata       196\n",
       "avium            52\n",
       "ceracifera       47\n",
       "yedoensis         9\n",
       "cerasus           9\n",
       "domestica         6\n",
       "subhirtella       5\n",
       "spinosa           4\n",
       "lusitanica        3\n",
       "laurocerasus      2\n",
       "persica           1\n",
       "dulcis            1\n",
       "communis          1\n",
       "armeniaca         1\n",
       "padus             1\n",
       "Name: ESPECE, dtype: int64"
      ]
     },
     "execution_count": 712,
     "metadata": {},
     "output_type": "execute_result"
    }
   ],
   "source": [
    "#Variable GENRE BOTA Prunus--> Espèces serrulata la plus fréquente\n",
    "#Remplacement des NaN values\n",
    "\n",
    "df_arbres_Prunus = df_arbres[df_arbres['GENRE_BOTA'] == 'Prunus']\n",
    "df_arbres_Prunus ['ESPECE'].value_counts()"
   ]
  },
  {
   "cell_type": "code",
   "execution_count": 713,
   "metadata": {},
   "outputs": [],
   "source": [
    "df_arbres['ESPECE'] = np.where(df_arbres['GENRE_BOTA']== \"Prunus\" ,\n",
    "                                              df_arbres['ESPECE'].replace(np.nan,\"serrulata\"),\n",
    "                                         df_arbres['ESPECE']) "
   ]
  },
  {
   "cell_type": "code",
   "execution_count": 714,
   "metadata": {},
   "outputs": [
    {
     "data": {
      "text/plain": [
       "alba              23\n",
       "tortuosa           5\n",
       "babylonica         3\n",
       "caprea             2\n",
       "rosmarinifolia     2\n",
       "chrysocoma         2\n",
       "Name: ESPECE, dtype: int64"
      ]
     },
     "execution_count": 714,
     "metadata": {},
     "output_type": "execute_result"
    }
   ],
   "source": [
    "#Variable GENRE BOTA Salix--> Espèces alba la plus fréquente\n",
    "#Remplacement des NaN values\n",
    "\n",
    "df_arbres_Salix = df_arbres[df_arbres['GENRE_BOTA'] == 'Salix']\n",
    "df_arbres_Salix ['ESPECE'].value_counts()"
   ]
  },
  {
   "cell_type": "code",
   "execution_count": 715,
   "metadata": {},
   "outputs": [],
   "source": [
    "df_arbres['ESPECE'] = np.where(df_arbres['GENRE_BOTA']== \"Salix\" ,\n",
    "                                              df_arbres['ESPECE'].replace(np.nan,\"alba\"),\n",
    "                                         df_arbres['ESPECE']) "
   ]
  },
  {
   "cell_type": "code",
   "execution_count": 716,
   "metadata": {},
   "outputs": [
    {
     "data": {
      "text/plain": [
       "cordata      222\n",
       "spaitii       24\n",
       "glutinosa     19\n",
       "incana         4\n",
       "Name: ESPECE, dtype: int64"
      ]
     },
     "execution_count": 716,
     "metadata": {},
     "output_type": "execute_result"
    }
   ],
   "source": [
    "#Variable GENRE BOTA Alnus--> Espèces cordata la plus fréquente\n",
    "#Remplacement des NaN values\n",
    "\n",
    "df_arbres_Alnus = df_arbres[df_arbres['GENRE_BOTA'] == 'Alnus']\n",
    "df_arbres_Alnus ['ESPECE'].value_counts()"
   ]
  },
  {
   "cell_type": "code",
   "execution_count": 717,
   "metadata": {},
   "outputs": [],
   "source": [
    "df_arbres['ESPECE'] = np.where(df_arbres['GENRE_BOTA']== \"Alnus\" ,\n",
    "                                              df_arbres['ESPECE'].replace(np.nan,\"cordata\"),\n",
    "                                         df_arbres['ESPECE']) "
   ]
  },
  {
   "cell_type": "code",
   "execution_count": 718,
   "metadata": {},
   "outputs": [
    {
     "data": {
      "text/plain": [
       "tomentosa       592\n",
       "cordata         151\n",
       "platyphyllos    148\n",
       "americana        57\n",
       "henryana         15\n",
       "mongolica        12\n",
       "euchlora          2\n",
       "Name: ESPECE, dtype: int64"
      ]
     },
     "execution_count": 718,
     "metadata": {},
     "output_type": "execute_result"
    }
   ],
   "source": [
    "#Variable GENRE BOTA Tilia--> Espèces tomentosa la plus fréquente\n",
    "#Remplacement des NaN values\n",
    "\n",
    "df_arbres_Tilia = df_arbres[df_arbres['GENRE_BOTA'] == 'Tilia']\n",
    "df_arbres_Tilia ['ESPECE'].value_counts()"
   ]
  },
  {
   "cell_type": "code",
   "execution_count": 719,
   "metadata": {},
   "outputs": [],
   "source": [
    "df_arbres['ESPECE'] = np.where(df_arbres['GENRE_BOTA']== \"Tilia\" ,\n",
    "                                              df_arbres['ESPECE'].replace(np.nan,\"tomentosa\"),\n",
    "                                         df_arbres['ESPECE']) "
   ]
  },
  {
   "cell_type": "code",
   "execution_count": 720,
   "metadata": {},
   "outputs": [
    {
     "data": {
      "text/plain": [
       "cerris           96\n",
       "robur            42\n",
       "petraea          38\n",
       "castaneifolia    37\n",
       "frainetto        20\n",
       "rubra            13\n",
       "suber            13\n",
       "palustris        10\n",
       "ilex              8\n",
       "falcata           3\n",
       "myrcinifolia      2\n",
       "coccinea          1\n",
       "macrocarpa        1\n",
       "variabilis        1\n",
       "Name: ESPECE, dtype: int64"
      ]
     },
     "execution_count": 720,
     "metadata": {},
     "output_type": "execute_result"
    }
   ],
   "source": [
    "#Variable GENRE BOTA Quercus--> Espèces cerris la plus fréquente\n",
    "#Remplacement des NaN values\n",
    "\n",
    "df_arbres_Quercus = df_arbres[df_arbres['GENRE_BOTA'] == 'Quercus']\n",
    "df_arbres_Quercus ['ESPECE'].value_counts()"
   ]
  },
  {
   "cell_type": "code",
   "execution_count": 721,
   "metadata": {},
   "outputs": [],
   "source": [
    "df_arbres['ESPECE'] = np.where(df_arbres['GENRE_BOTA']== \"Quercus\" ,\n",
    "                                              df_arbres['ESPECE'].replace(np.nan,\"cerris\"),\n",
    "                                         df_arbres['ESPECE']) "
   ]
  },
  {
   "cell_type": "code",
   "execution_count": 722,
   "metadata": {},
   "outputs": [
    {
     "data": {
      "text/plain": [
       "oxyacantha    6\n",
       "laevigata     4\n",
       "lavallei      2\n",
       "monogyna      2\n",
       "Name: ESPECE, dtype: int64"
      ]
     },
     "execution_count": 722,
     "metadata": {},
     "output_type": "execute_result"
    }
   ],
   "source": [
    "#Variable GENRE BOTA Crataegus--> Espèces oxyacantha la plus fréquente\n",
    "#Remplacement des NaN values\n",
    "\n",
    "df_arbres_Crataegus = df_arbres[df_arbres['GENRE_BOTA'] == 'Crataegus']\n",
    "df_arbres_Crataegus ['ESPECE'].value_counts()"
   ]
  },
  {
   "cell_type": "code",
   "execution_count": 723,
   "metadata": {},
   "outputs": [],
   "source": [
    "df_arbres['ESPECE'] = np.where(df_arbres['GENRE_BOTA']== \"Crataegus\" ,\n",
    "                                              df_arbres['ESPECE'].replace(np.nan,\"oxyacantha\"),\n",
    "                                         df_arbres['ESPECE']) "
   ]
  },
  {
   "cell_type": "code",
   "execution_count": 724,
   "metadata": {},
   "outputs": [
    {
     "data": {
      "text/plain": [
       "plicata         12\n",
       "occidentalis     3\n",
       "Name: ESPECE, dtype: int64"
      ]
     },
     "execution_count": 724,
     "metadata": {},
     "output_type": "execute_result"
    }
   ],
   "source": [
    "#Variable GENRE BOTA Thuja--> Espèces plicata  la plus fréquente\n",
    "#Remplacement des NaN values\n",
    "\n",
    "df_arbres_Thuja = df_arbres[df_arbres['GENRE_BOTA'] == 'Thuja']\n",
    "df_arbres_Thuja ['ESPECE'].value_counts()"
   ]
  },
  {
   "cell_type": "code",
   "execution_count": 725,
   "metadata": {},
   "outputs": [],
   "source": [
    "df_arbres['ESPECE'] = np.where(df_arbres['GENRE_BOTA']== \"Thuja\" ,\n",
    "                                              df_arbres['ESPECE'].replace(np.nan,\"plicata\"),\n",
    "                                         df_arbres['ESPECE']) "
   ]
  },
  {
   "cell_type": "code",
   "execution_count": 726,
   "metadata": {},
   "outputs": [
    {
     "data": {
      "text/plain": [
       "hippocastanum      230\n",
       "carnea              12\n",
       "parviflora           1\n",
       "chandelle seche      1\n",
       "pavia                1\n",
       "Name: ESPECE, dtype: int64"
      ]
     },
     "execution_count": 726,
     "metadata": {},
     "output_type": "execute_result"
    }
   ],
   "source": [
    "#Variable GENRE BOTA Aesculus--> Espèces hippocastanum  la plus fréquente\n",
    "#Remplacement des NaN values\n",
    "\n",
    "df_arbres_Aesculus = df_arbres[df_arbres['GENRE_BOTA'] == 'Aesculus']\n",
    "df_arbres_Aesculus ['ESPECE'].value_counts()"
   ]
  },
  {
   "cell_type": "code",
   "execution_count": 727,
   "metadata": {},
   "outputs": [],
   "source": [
    "df_arbres['ESPECE'] = np.where(df_arbres['GENRE_BOTA']== \"Aesculus\" ,\n",
    "                                              df_arbres['ESPECE'].replace(np.nan,\"hippocastanum\"),\n",
    "                                         df_arbres['ESPECE']) "
   ]
  },
  {
   "cell_type": "code",
   "execution_count": 728,
   "metadata": {},
   "outputs": [
    {
     "data": {
      "text/plain": [
       "sempervirens    76\n",
       "arizonica       27\n",
       "Name: ESPECE, dtype: int64"
      ]
     },
     "execution_count": 728,
     "metadata": {},
     "output_type": "execute_result"
    }
   ],
   "source": [
    "#Variable GENRE BOTA Cupressus--> Espèces sempervirens  la plus fréquente\n",
    "#Remplacement des NaN values\n",
    "\n",
    "df_arbres_Cupressus = df_arbres[df_arbres['GENRE_BOTA'] == 'Cupressus']\n",
    "df_arbres_Cupressus ['ESPECE'].value_counts()"
   ]
  },
  {
   "cell_type": "code",
   "execution_count": 729,
   "metadata": {},
   "outputs": [],
   "source": [
    "df_arbres['ESPECE'] = np.where(df_arbres['GENRE_BOTA']== \"Cupressus\" ,\n",
    "                                              df_arbres['ESPECE'].replace(np.nan,\"sempervirens\"),\n",
    "                                         df_arbres['ESPECE']) "
   ]
  },
  {
   "cell_type": "code",
   "execution_count": 730,
   "metadata": {},
   "outputs": [
    {
     "data": {
      "text/plain": [
       "atlantica    167\n",
       "deodara       38\n",
       "libani         5\n",
       "Name: ESPECE, dtype: int64"
      ]
     },
     "execution_count": 730,
     "metadata": {},
     "output_type": "execute_result"
    }
   ],
   "source": [
    "#Variable GENRE BOTA Cedrus--> Espèces atlantica  la plus fréquente\n",
    "#Remplacement des NaN values\n",
    "\n",
    "df_arbres_Cedrus = df_arbres[df_arbres['GENRE_BOTA'] == 'Cedrus']\n",
    "df_arbres_Cedrus ['ESPECE'].value_counts()"
   ]
  },
  {
   "cell_type": "code",
   "execution_count": 731,
   "metadata": {},
   "outputs": [],
   "source": [
    "df_arbres['ESPECE'] = np.where(df_arbres['GENRE_BOTA']== \"Cedrus\" ,\n",
    "                                              df_arbres['ESPECE'].replace(np.nan,\"atlantica\"),\n",
    "                                         df_arbres['ESPECE']) "
   ]
  },
  {
   "cell_type": "code",
   "execution_count": 732,
   "metadata": {},
   "outputs": [
    {
     "data": {
      "text/plain": [
       "floribunda                  44\n",
       "pumila                      16\n",
       "tschonoskii                 10\n",
       "domestica                    8\n",
       "golden                       5\n",
       "everest                      4\n",
       "perpetu                      2\n",
       "coromaria                    1\n",
       "royalty                      1\n",
       "reinette grise du Canada     1\n",
       "deboeri                      1\n",
       "Name: ESPECE, dtype: int64"
      ]
     },
     "execution_count": 732,
     "metadata": {},
     "output_type": "execute_result"
    }
   ],
   "source": [
    "#Variable GENRE BOTA Malus--> Espèces floribunda la plus fréquente\n",
    "#Remplacement des NaN values\n",
    "\n",
    "df_arbres_Malus = df_arbres[df_arbres['GENRE_BOTA'] == 'Malus']\n",
    "df_arbres_Malus ['ESPECE'].value_counts()"
   ]
  },
  {
   "cell_type": "code",
   "execution_count": 733,
   "metadata": {},
   "outputs": [],
   "source": [
    "df_arbres['ESPECE'] = np.where(df_arbres['GENRE_BOTA']== \"Malus\" ,\n",
    "                                              df_arbres['ESPECE'].replace(np.nan,\"floribunda\"),\n",
    "                                         df_arbres['ESPECE']) "
   ]
  },
  {
   "cell_type": "code",
   "execution_count": 734,
   "metadata": {},
   "outputs": [
    {
     "data": {
      "text/plain": [
       "serrata         51\n",
       "crenata          1\n",
       "carpinifolia     1\n",
       "Name: ESPECE, dtype: int64"
      ]
     },
     "execution_count": 734,
     "metadata": {},
     "output_type": "execute_result"
    }
   ],
   "source": [
    "#Variable GENRE BOTA Zelkova--> Espèces serrata la plus fréquente\n",
    "#Remplacement des NaN values\n",
    "\n",
    "df_arbres_Zelkova = df_arbres[df_arbres['GENRE_BOTA'] == 'Zelkova']\n",
    "df_arbres_Zelkova['ESPECE'].value_counts()"
   ]
  },
  {
   "cell_type": "code",
   "execution_count": 735,
   "metadata": {},
   "outputs": [],
   "source": [
    "df_arbres['ESPECE'] = np.where(df_arbres['GENRE_BOTA']== \"Zelkova\" ,\n",
    "                                              df_arbres['ESPECE'].replace(np.nan,\"serrata \"),\n",
    "                                         df_arbres['ESPECE']) "
   ]
  },
  {
   "cell_type": "code",
   "execution_count": 736,
   "metadata": {},
   "outputs": [
    {
     "data": {
      "text/plain": [
       "canadensis              29\n",
       "lamarcki                 6\n",
       "alnifolia fastigiata     1\n",
       "Name: ESPECE, dtype: int64"
      ]
     },
     "execution_count": 736,
     "metadata": {},
     "output_type": "execute_result"
    }
   ],
   "source": [
    "#Variable GENRE BOTA Amélanchier--> Espèces canadensis  la plus fréquente\n",
    "#Remplacement des NaN values\n",
    "\n",
    "df_arbres_Amélanchier = df_arbres[df_arbres['GENRE_BOTA'] == 'Amélanchier']\n",
    "df_arbres_Amélanchier['ESPECE'].value_counts()"
   ]
  },
  {
   "cell_type": "code",
   "execution_count": 737,
   "metadata": {},
   "outputs": [],
   "source": [
    "df_arbres['ESPECE'] = np.where(df_arbres['GENRE_BOTA']== \"Amélanchier\" ,\n",
    "                                              df_arbres['ESPECE'].replace(np.nan,\"canadensis\"),\n",
    "                                         df_arbres['ESPECE']) "
   ]
  },
  {
   "cell_type": "code",
   "execution_count": 738,
   "metadata": {},
   "outputs": [
    {
     "data": {
      "text/plain": [
       "grandiflora    213\n",
       "soulangiana     17\n",
       "kobus            5\n",
       "black            2\n",
       "stellata         1\n",
       "Name: ESPECE, dtype: int64"
      ]
     },
     "execution_count": 738,
     "metadata": {},
     "output_type": "execute_result"
    }
   ],
   "source": [
    "#Variable GENRE BOTA Magnolia--> Espèces grandiflora  la plus fréquente\n",
    "#Remplacement des NaN values\n",
    "\n",
    "df_arbres_Magnolia = df_arbres[df_arbres['GENRE_BOTA'] == 'Magnolia']\n",
    "df_arbres_Magnolia['ESPECE'].value_counts()"
   ]
  },
  {
   "cell_type": "code",
   "execution_count": 739,
   "metadata": {},
   "outputs": [],
   "source": [
    "df_arbres['ESPECE'] = np.where(df_arbres['GENRE_BOTA']== \"Magnolia\" ,\n",
    "                                              df_arbres['ESPECE'].replace(np.nan,\"grandiflora\"),\n",
    "                                         df_arbres['ESPECE']) "
   ]
  },
  {
   "cell_type": "code",
   "execution_count": 740,
   "metadata": {},
   "outputs": [
    {
     "data": {
      "text/plain": [
       "minor         60\n",
       "resista        7\n",
       "glabra         5\n",
       "campestris     4\n",
       "montana        2\n",
       "procera        1\n",
       "Name: ESPECE, dtype: int64"
      ]
     },
     "execution_count": 740,
     "metadata": {},
     "output_type": "execute_result"
    }
   ],
   "source": [
    "#Variable GENRE BOTA Ulmus--> Espèces minor la plus fréquente\n",
    "#Remplacement des NaN values\n",
    "\n",
    "df_arbres_Ulmus = df_arbres[df_arbres['GENRE_BOTA'] == 'Ulmus']\n",
    "df_arbres_Ulmus['ESPECE'].value_counts()"
   ]
  },
  {
   "cell_type": "code",
   "execution_count": 741,
   "metadata": {},
   "outputs": [],
   "source": [
    "df_arbres['ESPECE'] = np.where(df_arbres['GENRE_BOTA']== \"Ulmus\" ,\n",
    "                                              df_arbres['ESPECE'].replace(np.nan,\"minor\"),\n",
    "                                         df_arbres['ESPECE']) "
   ]
  },
  {
   "cell_type": "code",
   "execution_count": 742,
   "metadata": {},
   "outputs": [
    {
     "data": {
      "text/plain": [
       "verrucosa       368\n",
       "utilis          258\n",
       "alba             42\n",
       "papyrifera       15\n",
       "pendula           4\n",
       "nigra             4\n",
       "purpurea          1\n",
       "laciniata         1\n",
       "pendula roth      1\n",
       "Name: ESPECE, dtype: int64"
      ]
     },
     "execution_count": 742,
     "metadata": {},
     "output_type": "execute_result"
    }
   ],
   "source": [
    "#Variable GENRE BOTA Betula--> Espèces verrucosa la plus fréquente\n",
    "#Remplacement des NaN values\n",
    "\n",
    "df_arbres_Betula = df_arbres[df_arbres['GENRE_BOTA'] == 'Betula']\n",
    "df_arbres_Betula['ESPECE'].value_counts()"
   ]
  },
  {
   "cell_type": "code",
   "execution_count": 743,
   "metadata": {},
   "outputs": [],
   "source": [
    "df_arbres['ESPECE'] = np.where(df_arbres['GENRE_BOTA']== \"Betula\" ,\n",
    "                                              df_arbres['ESPECE'].replace(np.nan,\"verrucosa\"),\n",
    "                                         df_arbres['ESPECE']) "
   ]
  },
  {
   "cell_type": "code",
   "execution_count": 744,
   "metadata": {},
   "outputs": [
    {
     "data": {
      "text/plain": [
       "calleryana     206\n",
       "communis        11\n",
       "nivalis          8\n",
       "salicifolia      2\n",
       "pendula          1\n",
       "Name: ESPECE, dtype: int64"
      ]
     },
     "execution_count": 744,
     "metadata": {},
     "output_type": "execute_result"
    }
   ],
   "source": [
    "#Variable GENRE BOTA Pyrus--> Espèces calleryana la plus fréquente\n",
    "#Remplacement des NaN values\n",
    "\n",
    "df_arbres_Pyrus = df_arbres[df_arbres['GENRE_BOTA'] == 'Pyrus']\n",
    "df_arbres_Pyrus['ESPECE'].value_counts()"
   ]
  },
  {
   "cell_type": "code",
   "execution_count": 745,
   "metadata": {},
   "outputs": [],
   "source": [
    "df_arbres['ESPECE'] = np.where(df_arbres['GENRE_BOTA']== \"Pyrus\" ,\n",
    "                                              df_arbres['ESPECE'].replace(np.nan,\"calleryana\"),\n",
    "                                         df_arbres['ESPECE']) "
   ]
  },
  {
   "cell_type": "code",
   "execution_count": 746,
   "metadata": {},
   "outputs": [
    {
     "data": {
      "text/plain": [
       "sempervirens    1\n",
       "Name: ESPECE, dtype: int64"
      ]
     },
     "execution_count": 746,
     "metadata": {},
     "output_type": "execute_result"
    }
   ],
   "source": [
    "#Variable GENRE BOTA Metasequoia --> Espèces sempervirens\n",
    "#Remplacement des NaN values\n",
    "\n",
    "df_arbres_Metasequoia = df_arbres[df_arbres['GENRE_BOTA'] == 'Metasequoia']\n",
    "df_arbres_Metasequoia['ESPECE'].value_counts()"
   ]
  },
  {
   "cell_type": "code",
   "execution_count": 747,
   "metadata": {},
   "outputs": [],
   "source": [
    "df_arbres['ESPECE'] = np.where(df_arbres['GENRE_BOTA']== \"Metasequoia\" ,\n",
    "                                              df_arbres['ESPECE'].replace(np.nan,\"sempervirens\"),\n",
    "                                         df_arbres['ESPECE']) "
   ]
  },
  {
   "cell_type": "code",
   "execution_count": 748,
   "metadata": {},
   "outputs": [
    {
     "data": {
      "text/plain": [
       "aria          13\n",
       "magnifica      8\n",
       "aucuparia      3\n",
       "cuspidata      3\n",
       "torminalis     1\n",
       "Name: ESPECE, dtype: int64"
      ]
     },
     "execution_count": 748,
     "metadata": {},
     "output_type": "execute_result"
    }
   ],
   "source": [
    "#Variable GENRE BOTA Sorbus --> Espèces aria la plus fréquente\n",
    "#Remplacement des NaN values\n",
    "\n",
    "df_arbres_Sorbus = df_arbres[df_arbres['GENRE_BOTA'] == 'Sorbus']\n",
    "df_arbres_Sorbus['ESPECE'].value_counts()"
   ]
  },
  {
   "cell_type": "code",
   "execution_count": 749,
   "metadata": {},
   "outputs": [],
   "source": [
    "df_arbres['ESPECE'] = np.where(df_arbres['GENRE_BOTA']== \"Sorbus\" ,\n",
    "                                              df_arbres['ESPECE'].replace(np.nan,\"aria\"),\n",
    "                                         df_arbres['ESPECE']) "
   ]
  },
  {
   "cell_type": "code",
   "execution_count": 750,
   "metadata": {},
   "outputs": [
    {
     "data": {
      "text/plain": [
       "lawsoniana     237\n",
       "formonensis      1\n",
       "nooktensis       1\n",
       "Name: ESPECE, dtype: int64"
      ]
     },
     "execution_count": 750,
     "metadata": {},
     "output_type": "execute_result"
    }
   ],
   "source": [
    "#Variable GENRE BOTA Chamaecyparis --> Espèces lawsoniana la plus fréquente\n",
    "#Remplacement des NaN values\n",
    "\n",
    "df_arbres_Chamaecyparis = df_arbres[df_arbres['GENRE_BOTA'] == 'Chamaecyparis']\n",
    "df_arbres_Chamaecyparis['ESPECE'].value_counts()"
   ]
  },
  {
   "cell_type": "code",
   "execution_count": 751,
   "metadata": {},
   "outputs": [],
   "source": [
    "df_arbres['ESPECE'] = np.where(df_arbres['GENRE_BOTA']== \"Chamaecyparis\" ,\n",
    "                                              df_arbres['ESPECE'].replace(np.nan,\"lawsoniana\"),\n",
    "                                         df_arbres['ESPECE']) "
   ]
  },
  {
   "cell_type": "code",
   "execution_count": 752,
   "metadata": {},
   "outputs": [
    {
     "data": {
      "text/plain": [
       "triacanthos      164\n",
       "elegantissima      2\n",
       "Name: ESPECE, dtype: int64"
      ]
     },
     "execution_count": 752,
     "metadata": {},
     "output_type": "execute_result"
    }
   ],
   "source": [
    "#Variable GENRE BOTA Gleditsia --> Espèces triacanthos la plus fréquente\n",
    "#Remplacement des NaN values\n",
    "\n",
    "df_arbres_Gleditsia = df_arbres[df_arbres['GENRE_BOTA'] == 'Gleditsia']\n",
    "df_arbres_Gleditsia['ESPECE'].value_counts()"
   ]
  },
  {
   "cell_type": "code",
   "execution_count": 753,
   "metadata": {},
   "outputs": [],
   "source": [
    "df_arbres['ESPECE'] = np.where(df_arbres['GENRE_BOTA']== \"Gleditsia\" ,\n",
    "                                              df_arbres['ESPECE'].replace(np.nan,\"triacanthos\"),\n",
    "                                         df_arbres['ESPECE']) "
   ]
  },
  {
   "cell_type": "code",
   "execution_count": 754,
   "metadata": {},
   "outputs": [
    {
     "data": {
      "text/plain": [
       "abies         79\n",
       "orientalis    13\n",
       "pungens       12\n",
       "omorika        4\n",
       "exelsa         4\n",
       "Name: ESPECE, dtype: int64"
      ]
     },
     "execution_count": 754,
     "metadata": {},
     "output_type": "execute_result"
    }
   ],
   "source": [
    "#Variable GENRE BOTA Picea --> Espèces abies la plus fréquente\n",
    "#Remplacement des NaN values\n",
    "\n",
    "df_arbres_Picea = df_arbres[df_arbres['GENRE_BOTA'] == 'Picea']\n",
    "df_arbres_Picea['ESPECE'].value_counts()"
   ]
  },
  {
   "cell_type": "code",
   "execution_count": 755,
   "metadata": {},
   "outputs": [],
   "source": [
    "df_arbres['ESPECE'] = np.where(df_arbres['GENRE_BOTA']== \"Picea\" ,\n",
    "                                              df_arbres['ESPECE'].replace(np.nan,\"abies\"),\n",
    "                                         df_arbres['ESPECE']) "
   ]
  },
  {
   "cell_type": "code",
   "execution_count": 756,
   "metadata": {},
   "outputs": [
    {
     "data": {
      "text/plain": [
       "fragmantissima    3\n",
       "Name: ESPECE, dtype: int64"
      ]
     },
     "execution_count": 756,
     "metadata": {},
     "output_type": "execute_result"
    }
   ],
   "source": [
    "#Variable GENRE BOTA Lonicera --> Espèces fragmantissima la plus fréquente\n",
    "#Remplacement des NaN values\n",
    "\n",
    "df_arbres_Lonicera = df_arbres[df_arbres['GENRE_BOTA'] == 'Lonicera']\n",
    "df_arbres_Lonicera['ESPECE'].value_counts()"
   ]
  },
  {
   "cell_type": "code",
   "execution_count": 757,
   "metadata": {},
   "outputs": [],
   "source": [
    "df_arbres['ESPECE'] = np.where(df_arbres['GENRE_BOTA']== \"Lonicera\" ,\n",
    "                                              df_arbres['ESPECE'].replace(np.nan,\"fragmantissima\"),\n",
    "                                         df_arbres['ESPECE']) "
   ]
  },
  {
   "cell_type": "code",
   "execution_count": 758,
   "metadata": {},
   "outputs": [
    {
     "data": {
      "text/plain": [
       "tricotonum    1\n",
       "Name: ESPECE, dtype: int64"
      ]
     },
     "execution_count": 758,
     "metadata": {},
     "output_type": "execute_result"
    }
   ],
   "source": [
    "#Variable GENRE BOTA Clerodendron --> Espèces tricotonum la plus fréquente\n",
    "#Remplacement des NaN values\n",
    "\n",
    "df_arbres_Clerodendron = df_arbres[df_arbres['GENRE_BOTA'] == 'Clerodendron']\n",
    "df_arbres_Clerodendron['ESPECE'].value_counts()"
   ]
  },
  {
   "cell_type": "code",
   "execution_count": 759,
   "metadata": {},
   "outputs": [],
   "source": [
    "df_arbres['ESPECE'] = np.where(df_arbres['GENRE_BOTA']== \"Clerodendron\" ,\n",
    "                                              df_arbres['ESPECE'].replace(np.nan,\"tricotonum\"),\n",
    "                                         df_arbres['ESPECE']) "
   ]
  },
  {
   "cell_type": "code",
   "execution_count": 760,
   "metadata": {},
   "outputs": [
    {
     "data": {
      "text/plain": [
       "fraxinifolia    25\n",
       "Name: ESPECE, dtype: int64"
      ]
     },
     "execution_count": 760,
     "metadata": {},
     "output_type": "execute_result"
    }
   ],
   "source": [
    "#Variable GENRE BOTA Pterocarya --> Espèces fraxinifolia la plus fréquente\n",
    "#Remplacement des NaN values\n",
    "\n",
    "df_arbres_Pterocarya = df_arbres[df_arbres['GENRE_BOTA'] == 'Pterocarya']\n",
    "df_arbres_Pterocarya['ESPECE'].value_counts()"
   ]
  },
  {
   "cell_type": "code",
   "execution_count": 761,
   "metadata": {},
   "outputs": [],
   "source": [
    "df_arbres['ESPECE'] = np.where(df_arbres['GENRE_BOTA']== \"Pterocarya\" ,\n",
    "                                              df_arbres['ESPECE'].replace(np.nan,\"fraxinifolia\"),\n",
    "                                         df_arbres['ESPECE']) "
   ]
  },
  {
   "cell_type": "code",
   "execution_count": 762,
   "metadata": {},
   "outputs": [
    {
     "data": {
      "text/plain": [
       "Series([], Name: ESPECE, dtype: int64)"
      ]
     },
     "execution_count": 762,
     "metadata": {},
     "output_type": "execute_result"
    }
   ],
   "source": [
    "#Variable GENRE BOTA Araucaria --> Espèces fraxinifolia la plus fréquente\n",
    "#Remplacement des NaN values\n",
    "\n",
    "df_arbres_Araucaria = df_arbres[df_arbres['GENRE_BOTA'] == 'Araucaria']\n",
    "df_arbres_Araucaria['ESPECE'].value_counts()\n",
    "\n",
    "#Espèce non définie --> Prenons l'espèce la plus courante : acerifolia"
   ]
  },
  {
   "cell_type": "code",
   "execution_count": 763,
   "metadata": {},
   "outputs": [],
   "source": [
    "df_arbres['ESPECE'] = np.where(df_arbres['GENRE_BOTA']== \"Araucaria\" ,\n",
    "                                              df_arbres['ESPECE'].replace(np.nan,\"acerifolia\"),\n",
    "                                         df_arbres['ESPECE']) "
   ]
  },
  {
   "cell_type": "code",
   "execution_count": 764,
   "metadata": {},
   "outputs": [
    {
     "data": {
      "text/plain": [
       "nordmaniana    11\n",
       "concolor        4\n",
       "pinsapo         1\n",
       "Name: ESPECE, dtype: int64"
      ]
     },
     "execution_count": 764,
     "metadata": {},
     "output_type": "execute_result"
    }
   ],
   "source": [
    "#Variable GENRE BOTA Abies --> Espèces nordmaniana la plus fréquente\n",
    "#Remplacement des NaN values\n",
    "\n",
    "df_arbres_Abies = df_arbres[df_arbres['GENRE_BOTA'] == 'Abies']\n",
    "df_arbres_Abies['ESPECE'].value_counts()"
   ]
  },
  {
   "cell_type": "code",
   "execution_count": 765,
   "metadata": {},
   "outputs": [],
   "source": [
    "df_arbres['ESPECE'] = np.where(df_arbres['GENRE_BOTA']== \"Abies\" ,\n",
    "                                              df_arbres['ESPECE'].replace(np.nan,\"nordmaniana\"),\n",
    "                                         df_arbres['ESPECE']) "
   ]
  },
  {
   "cell_type": "code",
   "execution_count": 766,
   "metadata": {},
   "outputs": [
    {
     "data": {
      "text/plain": [
       "Series([], Name: ESPECE, dtype: int64)"
      ]
     },
     "execution_count": 766,
     "metadata": {},
     "output_type": "execute_result"
    }
   ],
   "source": [
    "#Variable GENRE BOTA Poncinos --> Espèces nordmaniana la plus fréquente\n",
    "#Remplacement des NaN values\n",
    "\n",
    "df_arbres_Poncinos = df_arbres[df_arbres['GENRE_BOTA'] == 'Poncinos']\n",
    "df_arbres_Poncinos['ESPECE'].value_counts()\n",
    "\n",
    "#espèce non définie --> Prenons l'espèce la plus courante : acerifolia"
   ]
  },
  {
   "cell_type": "code",
   "execution_count": 767,
   "metadata": {},
   "outputs": [],
   "source": [
    "df_arbres['ESPECE'] = np.where(df_arbres['GENRE_BOTA']== \"Poncinos\" ,\n",
    "                                              df_arbres['ESPECE'].replace(np.nan,\"cerifolia\"),\n",
    "                                         df_arbres['ESPECE']) "
   ]
  },
  {
   "cell_type": "code",
   "execution_count": 768,
   "metadata": {},
   "outputs": [
    {
     "data": {
      "text/plain": [
       "drupacea      1\n",
       "virginiana    1\n",
       "Name: ESPECE, dtype: int64"
      ]
     },
     "execution_count": 768,
     "metadata": {},
     "output_type": "execute_result"
    }
   ],
   "source": [
    "#Variable GENRE BOTA Juniperus--> Espèces drupacea la plus fréquente\n",
    "#Remplacement des NaN values\n",
    "\n",
    "df_arbres_Juniperus = df_arbres[df_arbres['GENRE_BOTA'] == 'Juniperus']\n",
    "df_arbres_Juniperus['ESPECE'].value_counts()"
   ]
  },
  {
   "cell_type": "code",
   "execution_count": 769,
   "metadata": {},
   "outputs": [],
   "source": [
    "df_arbres['ESPECE'] = np.where(df_arbres['GENRE_BOTA']== \"Juniperus\" ,\n",
    "                                              df_arbres['ESPECE'].replace(np.nan,\"drupacea\"),\n",
    "                                         df_arbres['ESPECE']) "
   ]
  },
  {
   "cell_type": "code",
   "execution_count": 770,
   "metadata": {},
   "outputs": [
    {
     "data": {
      "text/plain": [
       "0"
      ]
     },
     "execution_count": 770,
     "metadata": {},
     "output_type": "execute_result"
    }
   ],
   "source": [
    "#Plus aucune NaN Value pour la colonne Especes\n",
    "df_arbres.ESPECE.isna().sum() "
   ]
  },
  {
   "cell_type": "code",
   "execution_count": 771,
   "metadata": {},
   "outputs": [
    {
     "data": {
      "text/plain": [
       "88616"
      ]
     },
     "execution_count": 771,
     "metadata": {},
     "output_type": "execute_result"
    }
   ],
   "source": [
    "#Nombre total de valeurs manquantes réduit\n",
    "nbtotal_valeursNaN = df_arbres.isnull().sum().sum()\n",
    "nbtotal_valeursNaN "
   ]
  },
  {
   "cell_type": "code",
   "execution_count": 772,
   "metadata": {},
   "outputs": [
    {
     "data": {
      "text/html": [
       "<div>\n",
       "<style scoped>\n",
       "    .dataframe tbody tr th:only-of-type {\n",
       "        vertical-align: middle;\n",
       "    }\n",
       "\n",
       "    .dataframe tbody tr th {\n",
       "        vertical-align: top;\n",
       "    }\n",
       "\n",
       "    .dataframe thead th {\n",
       "        text-align: right;\n",
       "    }\n",
       "</style>\n",
       "<table border=\"1\" class=\"dataframe\">\n",
       "  <thead>\n",
       "    <tr style=\"text-align: right;\">\n",
       "      <th></th>\n",
       "      <th>ADR_SECTEUR</th>\n",
       "      <th>ANNEEDEPLANTATION</th>\n",
       "      <th>ANNEEREALISATIONDIAGNOSTIC</th>\n",
       "      <th>ANNEETRAVAUXPRECONISESDIAG</th>\n",
       "      <th>CODE</th>\n",
       "      <th>CODE_PARENT</th>\n",
       "      <th>CODE_PARENT_DESC</th>\n",
       "      <th>DIAMETREARBREAUNMETRE</th>\n",
       "      <th>ESPECE</th>\n",
       "      <th>FREQUENTATIONCIBLE</th>\n",
       "      <th>...</th>\n",
       "      <th>VARIETE</th>\n",
       "      <th>VIGUEUR</th>\n",
       "      <th>coord_x</th>\n",
       "      <th>coord_y</th>\n",
       "      <th>DEFAUT</th>\n",
       "      <th>Collet</th>\n",
       "      <th>Houppier</th>\n",
       "      <th>Racine</th>\n",
       "      <th>Tronc</th>\n",
       "      <th>NbAnnéesAvantProchainDiag</th>\n",
       "    </tr>\n",
       "  </thead>\n",
       "  <tbody>\n",
       "    <tr>\n",
       "      <th>0</th>\n",
       "      <td>5</td>\n",
       "      <td>2014</td>\n",
       "      <td>2014</td>\n",
       "      <td>2019</td>\n",
       "      <td>ESP33155</td>\n",
       "      <td>ESP385</td>\n",
       "      <td>R D Fontanelle ang Essen JO</td>\n",
       "      <td>10</td>\n",
       "      <td>cordata</td>\n",
       "      <td>passages fréquents ou arrêts</td>\n",
       "      <td>...</td>\n",
       "      <td>NaN</td>\n",
       "      <td>vigoureux</td>\n",
       "      <td>1.915371e+06</td>\n",
       "      <td>4.222837e+06</td>\n",
       "      <td>0</td>\n",
       "      <td>0</td>\n",
       "      <td>0</td>\n",
       "      <td>0</td>\n",
       "      <td>0</td>\n",
       "      <td>5</td>\n",
       "    </tr>\n",
       "    <tr>\n",
       "      <th>1</th>\n",
       "      <td>3</td>\n",
       "      <td>2004</td>\n",
       "      <td>2013</td>\n",
       "      <td>2015</td>\n",
       "      <td>ESP2079</td>\n",
       "      <td>ESP116</td>\n",
       "      <td>Crs Libération Beauvert Alliés</td>\n",
       "      <td>30</td>\n",
       "      <td>acerifolia</td>\n",
       "      <td>passages fréquents et arrêts fréquents</td>\n",
       "      <td>...</td>\n",
       "      <td>NaN</td>\n",
       "      <td>vigoureux</td>\n",
       "      <td>1.913250e+06</td>\n",
       "      <td>4.222531e+06</td>\n",
       "      <td>0</td>\n",
       "      <td>0</td>\n",
       "      <td>0</td>\n",
       "      <td>0</td>\n",
       "      <td>0</td>\n",
       "      <td>2</td>\n",
       "    </tr>\n",
       "    <tr>\n",
       "      <th>2</th>\n",
       "      <td>3</td>\n",
       "      <td>2004</td>\n",
       "      <td>2014</td>\n",
       "      <td>2014</td>\n",
       "      <td>ESP26205</td>\n",
       "      <td>ESP635</td>\n",
       "      <td>Pl R Frappat ang Eaux Claires</td>\n",
       "      <td>10</td>\n",
       "      <td>grandiflora</td>\n",
       "      <td>passages fréquents ou arrêts</td>\n",
       "      <td>...</td>\n",
       "      <td>NaN</td>\n",
       "      <td>vigoureux</td>\n",
       "      <td>1.913087e+06</td>\n",
       "      <td>4.223524e+06</td>\n",
       "      <td>0</td>\n",
       "      <td>0</td>\n",
       "      <td>0</td>\n",
       "      <td>0</td>\n",
       "      <td>0</td>\n",
       "      <td>0</td>\n",
       "    </tr>\n",
       "    <tr>\n",
       "      <th>3</th>\n",
       "      <td>2</td>\n",
       "      <td>2004</td>\n",
       "      <td>2014</td>\n",
       "      <td>2014</td>\n",
       "      <td>ESP7496</td>\n",
       "      <td>ESP109</td>\n",
       "      <td>R François Raoult</td>\n",
       "      <td>40</td>\n",
       "      <td>japonica</td>\n",
       "      <td>passages fréquents et arrêts fréquents</td>\n",
       "      <td>...</td>\n",
       "      <td>NaN</td>\n",
       "      <td>vigoureux</td>\n",
       "      <td>1.914187e+06</td>\n",
       "      <td>4.224275e+06</td>\n",
       "      <td>1</td>\n",
       "      <td>0</td>\n",
       "      <td>1</td>\n",
       "      <td>1</td>\n",
       "      <td>0</td>\n",
       "      <td>0</td>\n",
       "    </tr>\n",
       "    <tr>\n",
       "      <th>4</th>\n",
       "      <td>1</td>\n",
       "      <td>2004</td>\n",
       "      <td>2013</td>\n",
       "      <td>2015</td>\n",
       "      <td>ESP2547</td>\n",
       "      <td>ESP194</td>\n",
       "      <td>Terminus Tram Esclangon</td>\n",
       "      <td>20</td>\n",
       "      <td>americana</td>\n",
       "      <td>passages fréquents et arrêts fréquents</td>\n",
       "      <td>...</td>\n",
       "      <td>NaN</td>\n",
       "      <td>vigoureux</td>\n",
       "      <td>1.912975e+06</td>\n",
       "      <td>4.225210e+06</td>\n",
       "      <td>0</td>\n",
       "      <td>0</td>\n",
       "      <td>0</td>\n",
       "      <td>0</td>\n",
       "      <td>0</td>\n",
       "      <td>2</td>\n",
       "    </tr>\n",
       "    <tr>\n",
       "      <th>...</th>\n",
       "      <td>...</td>\n",
       "      <td>...</td>\n",
       "      <td>...</td>\n",
       "      <td>...</td>\n",
       "      <td>...</td>\n",
       "      <td>...</td>\n",
       "      <td>...</td>\n",
       "      <td>...</td>\n",
       "      <td>...</td>\n",
       "      <td>...</td>\n",
       "      <td>...</td>\n",
       "      <td>...</td>\n",
       "      <td>...</td>\n",
       "      <td>...</td>\n",
       "      <td>...</td>\n",
       "      <td>...</td>\n",
       "      <td>...</td>\n",
       "      <td>...</td>\n",
       "      <td>...</td>\n",
       "      <td>...</td>\n",
       "      <td>...</td>\n",
       "    </tr>\n",
       "    <tr>\n",
       "      <th>15370</th>\n",
       "      <td>3</td>\n",
       "      <td>2004</td>\n",
       "      <td>2013</td>\n",
       "      <td>2015</td>\n",
       "      <td>ESP29359</td>\n",
       "      <td>ESP84</td>\n",
       "      <td>Hôtel Lesdiguières</td>\n",
       "      <td>0</td>\n",
       "      <td>nigra</td>\n",
       "      <td>passages fréquents et arrêts fréquents</td>\n",
       "      <td>...</td>\n",
       "      <td>NaN</td>\n",
       "      <td>vigoureux</td>\n",
       "      <td>1.912985e+06</td>\n",
       "      <td>4.222215e+06</td>\n",
       "      <td>0</td>\n",
       "      <td>0</td>\n",
       "      <td>0</td>\n",
       "      <td>0</td>\n",
       "      <td>0</td>\n",
       "      <td>2</td>\n",
       "    </tr>\n",
       "    <tr>\n",
       "      <th>15371</th>\n",
       "      <td>4</td>\n",
       "      <td>2004</td>\n",
       "      <td>2014</td>\n",
       "      <td>2014</td>\n",
       "      <td>ESP12605</td>\n",
       "      <td>ESP1023</td>\n",
       "      <td>R Gén Mangin Alliés Jacquart</td>\n",
       "      <td>40</td>\n",
       "      <td>acerifolia</td>\n",
       "      <td>passages fréquents et arrêts fréquents</td>\n",
       "      <td>...</td>\n",
       "      <td>NaN</td>\n",
       "      <td>vigoureux</td>\n",
       "      <td>1.913534e+06</td>\n",
       "      <td>4.223000e+06</td>\n",
       "      <td>0</td>\n",
       "      <td>0</td>\n",
       "      <td>0</td>\n",
       "      <td>0</td>\n",
       "      <td>0</td>\n",
       "      <td>0</td>\n",
       "    </tr>\n",
       "    <tr>\n",
       "      <th>15372</th>\n",
       "      <td>1</td>\n",
       "      <td>2004</td>\n",
       "      <td>2013</td>\n",
       "      <td>2015</td>\n",
       "      <td>ESP15840</td>\n",
       "      <td>ESP1277</td>\n",
       "      <td>A DL Weill Arménie à Esclangon</td>\n",
       "      <td>10</td>\n",
       "      <td>excelsior</td>\n",
       "      <td>passages fréquents et arrêts fréquents</td>\n",
       "      <td>...</td>\n",
       "      <td>Flame</td>\n",
       "      <td>vigoureux</td>\n",
       "      <td>1.913037e+06</td>\n",
       "      <td>4.225100e+06</td>\n",
       "      <td>0</td>\n",
       "      <td>0</td>\n",
       "      <td>0</td>\n",
       "      <td>0</td>\n",
       "      <td>0</td>\n",
       "      <td>2</td>\n",
       "    </tr>\n",
       "    <tr>\n",
       "      <th>15373</th>\n",
       "      <td>4</td>\n",
       "      <td>2004</td>\n",
       "      <td>2014</td>\n",
       "      <td>2015</td>\n",
       "      <td>ESP1436</td>\n",
       "      <td>ESP877</td>\n",
       "      <td>Av Berthelot arrêt tram MC2</td>\n",
       "      <td>10</td>\n",
       "      <td>styraciflua</td>\n",
       "      <td>passages fréquents et arrêts fréquents</td>\n",
       "      <td>...</td>\n",
       "      <td>NaN</td>\n",
       "      <td>vigoureux</td>\n",
       "      <td>1.914695e+06</td>\n",
       "      <td>4.222890e+06</td>\n",
       "      <td>0</td>\n",
       "      <td>0</td>\n",
       "      <td>0</td>\n",
       "      <td>0</td>\n",
       "      <td>0</td>\n",
       "      <td>1</td>\n",
       "    </tr>\n",
       "    <tr>\n",
       "      <th>15374</th>\n",
       "      <td>1</td>\n",
       "      <td>2014</td>\n",
       "      <td>2014</td>\n",
       "      <td>2019</td>\n",
       "      <td>ESP33333</td>\n",
       "      <td>ESP33623</td>\n",
       "      <td>Av Martyrs Tram Nord Horowitz</td>\n",
       "      <td>10</td>\n",
       "      <td>mandshurica</td>\n",
       "      <td>passages fréquents ou arrêts</td>\n",
       "      <td>...</td>\n",
       "      <td>Mancana</td>\n",
       "      <td>vigoureux</td>\n",
       "      <td>1.911907e+06</td>\n",
       "      <td>4.226534e+06</td>\n",
       "      <td>0</td>\n",
       "      <td>0</td>\n",
       "      <td>0</td>\n",
       "      <td>0</td>\n",
       "      <td>0</td>\n",
       "      <td>5</td>\n",
       "    </tr>\n",
       "  </tbody>\n",
       "</table>\n",
       "<p>15375 rows × 35 columns</p>\n",
       "</div>"
      ],
      "text/plain": [
       "       ADR_SECTEUR  ANNEEDEPLANTATION  ANNEEREALISATIONDIAGNOSTIC  \\\n",
       "0                5               2014                        2014   \n",
       "1                3               2004                        2013   \n",
       "2                3               2004                        2014   \n",
       "3                2               2004                        2014   \n",
       "4                1               2004                        2013   \n",
       "...            ...                ...                         ...   \n",
       "15370            3               2004                        2013   \n",
       "15371            4               2004                        2014   \n",
       "15372            1               2004                        2013   \n",
       "15373            4               2004                        2014   \n",
       "15374            1               2014                        2014   \n",
       "\n",
       "       ANNEETRAVAUXPRECONISESDIAG      CODE CODE_PARENT  \\\n",
       "0                            2019  ESP33155      ESP385   \n",
       "1                            2015   ESP2079      ESP116   \n",
       "2                            2014  ESP26205      ESP635   \n",
       "3                            2014   ESP7496      ESP109   \n",
       "4                            2015   ESP2547      ESP194   \n",
       "...                           ...       ...         ...   \n",
       "15370                        2015  ESP29359       ESP84   \n",
       "15371                        2014  ESP12605     ESP1023   \n",
       "15372                        2015  ESP15840     ESP1277   \n",
       "15373                        2015   ESP1436      ESP877   \n",
       "15374                        2019  ESP33333    ESP33623   \n",
       "\n",
       "                     CODE_PARENT_DESC DIAMETREARBREAUNMETRE       ESPECE  \\\n",
       "0         R D Fontanelle ang Essen JO                    10      cordata   \n",
       "1      Crs Libération Beauvert Alliés                    30   acerifolia   \n",
       "2       Pl R Frappat ang Eaux Claires                    10  grandiflora   \n",
       "3                   R François Raoult                    40     japonica   \n",
       "4             Terminus Tram Esclangon                    20    americana   \n",
       "...                               ...                   ...          ...   \n",
       "15370              Hôtel Lesdiguières                     0        nigra   \n",
       "15371    R Gén Mangin Alliés Jacquart                    40   acerifolia   \n",
       "15372  A DL Weill Arménie à Esclangon                    10    excelsior   \n",
       "15373     Av Berthelot arrêt tram MC2                    10  styraciflua   \n",
       "15374   Av Martyrs Tram Nord Horowitz                    10  mandshurica   \n",
       "\n",
       "                           FREQUENTATIONCIBLE  ...  VARIETE    VIGUEUR  \\\n",
       "0                passages fréquents ou arrêts  ...      NaN  vigoureux   \n",
       "1      passages fréquents et arrêts fréquents  ...      NaN  vigoureux   \n",
       "2                passages fréquents ou arrêts  ...      NaN  vigoureux   \n",
       "3      passages fréquents et arrêts fréquents  ...      NaN  vigoureux   \n",
       "4      passages fréquents et arrêts fréquents  ...      NaN  vigoureux   \n",
       "...                                       ...  ...      ...        ...   \n",
       "15370  passages fréquents et arrêts fréquents  ...      NaN  vigoureux   \n",
       "15371  passages fréquents et arrêts fréquents  ...      NaN  vigoureux   \n",
       "15372  passages fréquents et arrêts fréquents  ...    Flame  vigoureux   \n",
       "15373  passages fréquents et arrêts fréquents  ...      NaN  vigoureux   \n",
       "15374            passages fréquents ou arrêts  ...  Mancana  vigoureux   \n",
       "\n",
       "            coord_x       coord_y DEFAUT Collet Houppier Racine Tronc  \\\n",
       "0      1.915371e+06  4.222837e+06      0      0        0      0     0   \n",
       "1      1.913250e+06  4.222531e+06      0      0        0      0     0   \n",
       "2      1.913087e+06  4.223524e+06      0      0        0      0     0   \n",
       "3      1.914187e+06  4.224275e+06      1      0        1      1     0   \n",
       "4      1.912975e+06  4.225210e+06      0      0        0      0     0   \n",
       "...             ...           ...    ...    ...      ...    ...   ...   \n",
       "15370  1.912985e+06  4.222215e+06      0      0        0      0     0   \n",
       "15371  1.913534e+06  4.223000e+06      0      0        0      0     0   \n",
       "15372  1.913037e+06  4.225100e+06      0      0        0      0     0   \n",
       "15373  1.914695e+06  4.222890e+06      0      0        0      0     0   \n",
       "15374  1.911907e+06  4.226534e+06      0      0        0      0     0   \n",
       "\n",
       "      NbAnnéesAvantProchainDiag  \n",
       "0                             5  \n",
       "1                             2  \n",
       "2                             0  \n",
       "3                             0  \n",
       "4                             2  \n",
       "...                         ...  \n",
       "15370                         2  \n",
       "15371                         0  \n",
       "15372                         2  \n",
       "15373                         1  \n",
       "15374                         5  \n",
       "\n",
       "[15375 rows x 35 columns]"
      ]
     },
     "execution_count": 772,
     "metadata": {},
     "output_type": "execute_result"
    }
   ],
   "source": [
    "df_arbres"
   ]
  },
  {
   "cell_type": "code",
   "execution_count": 773,
   "metadata": {},
   "outputs": [
    {
     "data": {
      "text/plain": [
       "15014"
      ]
     },
     "execution_count": 773,
     "metadata": {},
     "output_type": "execute_result"
    }
   ],
   "source": [
    "#Variable TYPEIMPLANTATIONPLU\n",
    "\n",
    "#Remplacement des NaN Values\n",
    "df_arbres.TYPEIMPLANTATIONPLU.isna().sum() \n"
   ]
  },
  {
   "cell_type": "code",
   "execution_count": 774,
   "metadata": {},
   "outputs": [
    {
     "data": {
      "text/plain": [
       "Alignement    310\n",
       "Groupé         40\n",
       "Isolé           7\n",
       "Périmètre       4\n",
       "Name: TYPEIMPLANTATIONPLU, dtype: int64"
      ]
     },
     "execution_count": 774,
     "metadata": {},
     "output_type": "execute_result"
    }
   ],
   "source": [
    "df_arbres[\"TYPEIMPLANTATIONPLU\"].value_counts()"
   ]
  },
  {
   "cell_type": "code",
   "execution_count": 775,
   "metadata": {},
   "outputs": [],
   "source": [
    "df_arbres['TYPEIMPLANTATIONPLU'] = df_arbres['TYPEIMPLANTATIONPLU'].replace(np.nan,0)"
   ]
  },
  {
   "cell_type": "code",
   "execution_count": 776,
   "metadata": {},
   "outputs": [
    {
     "data": {
      "text/plain": [
       "0             15014\n",
       "Alignement      310\n",
       "Groupé           40\n",
       "Isolé             7\n",
       "Périmètre         4\n",
       "Name: TYPEIMPLANTATIONPLU, dtype: int64"
      ]
     },
     "execution_count": 776,
     "metadata": {},
     "output_type": "execute_result"
    }
   ],
   "source": [
    "df_arbres[\"TYPEIMPLANTATIONPLU\"].value_counts()"
   ]
  },
  {
   "cell_type": "code",
   "execution_count": 777,
   "metadata": {},
   "outputs": [
    {
     "data": {
      "text/plain": [
       "0"
      ]
     },
     "execution_count": 777,
     "metadata": {},
     "output_type": "execute_result"
    }
   ],
   "source": [
    "df_arbres.TYPEIMPLANTATIONPLU.isna().sum() "
   ]
  },
  {
   "cell_type": "code",
   "execution_count": 778,
   "metadata": {},
   "outputs": [
    {
     "data": {
      "text/plain": [
       "13212"
      ]
     },
     "execution_count": 778,
     "metadata": {},
     "output_type": "execute_result"
    }
   ],
   "source": [
    "#Variable Variete\n",
    "\n",
    "\n",
    "\n",
    "df_arbres.VARIETE.isna().sum() \n"
   ]
  },
  {
   "cell_type": "code",
   "execution_count": 779,
   "metadata": {},
   "outputs": [
    {
     "data": {
      "text/plain": [
       "Austriaca          558\n",
       "Italica            279\n",
       "Wierii             194\n",
       "Chanticleer        171\n",
       "Flame               96\n",
       "                  ... \n",
       "Reinette Vignat      1\n",
       "Laciniata            1\n",
       "Fortunei             1\n",
       "Westhoff glorie      1\n",
       "Mariesii             1\n",
       "Name: VARIETE, Length: 89, dtype: int64"
      ]
     },
     "execution_count": 779,
     "metadata": {},
     "output_type": "execute_result"
    }
   ],
   "source": [
    "df_arbres[\"VARIETE\"].value_counts()"
   ]
  },
  {
   "cell_type": "code",
   "execution_count": 780,
   "metadata": {},
   "outputs": [],
   "source": [
    "#Remplacement des NaN valeurs par 0 pour les variables suivantes :\n",
    "\n",
    "\n",
    "df_arbres['VARIETE'] = df_arbres['VARIETE'].replace(np.nan,0)"
   ]
  },
  {
   "cell_type": "code",
   "execution_count": 781,
   "metadata": {},
   "outputs": [
    {
     "data": {
      "text/plain": [
       "0"
      ]
     },
     "execution_count": 781,
     "metadata": {},
     "output_type": "execute_result"
    }
   ],
   "source": [
    "df_arbres.VARIETE.isna().sum() "
   ]
  },
  {
   "cell_type": "code",
   "execution_count": 782,
   "metadata": {},
   "outputs": [
    {
     "data": {
      "text/plain": [
       "0                  13212\n",
       "Austriaca            558\n",
       "Italica              279\n",
       "Wierii               194\n",
       "Chanticleer          171\n",
       "                   ...  \n",
       "Reinette Vignat        1\n",
       "Laciniata              1\n",
       "Fortunei               1\n",
       "Westhoff glorie        1\n",
       "Mariesii               1\n",
       "Name: VARIETE, Length: 90, dtype: int64"
      ]
     },
     "execution_count": 782,
     "metadata": {},
     "output_type": "execute_result"
    }
   ],
   "source": [
    "df_arbres['VARIETE'].value_counts()"
   ]
  },
  {
   "cell_type": "code",
   "execution_count": 783,
   "metadata": {},
   "outputs": [],
   "source": [
    "#Variable NOTEDIAGNOSTIC - Remplacement NaN Values"
   ]
  },
  {
   "cell_type": "code",
   "execution_count": 784,
   "metadata": {},
   "outputs": [
    {
     "data": {
      "text/plain": [
       "Arbre davenir normal               11716\n",
       "Arbre davenir incertain             2651\n",
       "Arbre à abattre dans les 10 ans      592\n",
       "Arbre à abattre dans les 5 ans       323\n",
       "Arbre à abattre immédiatement         53\n",
       "Name: NOTEDIAGNOSTIC, dtype: int64"
      ]
     },
     "execution_count": 784,
     "metadata": {},
     "output_type": "execute_result"
    }
   ],
   "source": [
    "df_arbres['NOTEDIAGNOSTIC'].value_counts()"
   ]
  },
  {
   "cell_type": "code",
   "execution_count": 785,
   "metadata": {},
   "outputs": [
    {
     "data": {
      "text/plain": [
       "40"
      ]
     },
     "execution_count": 785,
     "metadata": {},
     "output_type": "execute_result"
    }
   ],
   "source": [
    "df_arbres.NOTEDIAGNOSTIC.isna().sum() "
   ]
  },
  {
   "cell_type": "code",
   "execution_count": 786,
   "metadata": {},
   "outputs": [],
   "source": [
    "df_arbres['NOTEDIAGNOSTIC'] = df_arbres['NOTEDIAGNOSTIC'].replace(np.nan,\"Aucune note\")"
   ]
  },
  {
   "cell_type": "code",
   "execution_count": 787,
   "metadata": {},
   "outputs": [
    {
     "data": {
      "text/plain": [
       "Arbre davenir normal               11716\n",
       "Arbre davenir incertain             2651\n",
       "Arbre à abattre dans les 10 ans      592\n",
       "Arbre à abattre dans les 5 ans       323\n",
       "Arbre à abattre immédiatement         53\n",
       "Aucune note                           40\n",
       "Name: NOTEDIAGNOSTIC, dtype: int64"
      ]
     },
     "execution_count": 787,
     "metadata": {},
     "output_type": "execute_result"
    }
   ],
   "source": [
    "df_arbres['NOTEDIAGNOSTIC'].value_counts()"
   ]
  },
  {
   "cell_type": "code",
   "execution_count": 788,
   "metadata": {},
   "outputs": [],
   "source": [
    "#Variable FREQUENTATIONCIBLE - Remplacement NaN Values\n",
    "\n",
    "df_arbres['FREQUENTATIONCIBLE'] = df_arbres['FREQUENTATIONCIBLE'].replace(np.nan,0)\n"
   ]
  },
  {
   "cell_type": "code",
   "execution_count": 789,
   "metadata": {},
   "outputs": [
    {
     "data": {
      "text/plain": [
       "passages fréquents et arrêts fréquents    12164\n",
       "passages fréquents ou arrêts               3065\n",
       "quelques passages                           145\n",
       "0                                             1\n",
       "Name: FREQUENTATIONCIBLE, dtype: int64"
      ]
     },
     "execution_count": 789,
     "metadata": {},
     "output_type": "execute_result"
    }
   ],
   "source": [
    "df_arbres['FREQUENTATIONCIBLE'].value_counts()"
   ]
  },
  {
   "cell_type": "code",
   "execution_count": 790,
   "metadata": {},
   "outputs": [
    {
     "data": {
      "text/plain": [
       "0"
      ]
     },
     "execution_count": 790,
     "metadata": {},
     "output_type": "execute_result"
    }
   ],
   "source": [
    "df_arbres.FREQUENTATIONCIBLE.isna().sum() "
   ]
  },
  {
   "cell_type": "code",
   "execution_count": 791,
   "metadata": {},
   "outputs": [
    {
     "data": {
      "text/plain": [
       "Nouveau         186\n",
       "Remplacement     44\n",
       "Name: RAISONDEPLANTATION, dtype: int64"
      ]
     },
     "execution_count": 791,
     "metadata": {},
     "output_type": "execute_result"
    }
   ],
   "source": [
    "#Variable RAISONDEPLANTATION - Remplacement des NaN Values\n",
    "\n",
    "\n",
    "\n",
    "df_arbres['RAISONDEPLANTATION'].value_counts()"
   ]
  },
  {
   "cell_type": "code",
   "execution_count": 792,
   "metadata": {},
   "outputs": [
    {
     "data": {
      "text/plain": [
       "15145"
      ]
     },
     "execution_count": 792,
     "metadata": {},
     "output_type": "execute_result"
    }
   ],
   "source": [
    "df_arbres.RAISONDEPLANTATION.isna().sum() "
   ]
  },
  {
   "cell_type": "code",
   "execution_count": 793,
   "metadata": {},
   "outputs": [],
   "source": [
    "df_arbres['RAISONDEPLANTATION'] = df_arbres['RAISONDEPLANTATION'].replace(np.nan,0)"
   ]
  },
  {
   "cell_type": "code",
   "execution_count": 794,
   "metadata": {},
   "outputs": [
    {
     "data": {
      "text/plain": [
       "0               15145\n",
       "Nouveau           186\n",
       "Remplacement       44\n",
       "Name: RAISONDEPLANTATION, dtype: int64"
      ]
     },
     "execution_count": 794,
     "metadata": {},
     "output_type": "execute_result"
    }
   ],
   "source": [
    "df_arbres['RAISONDEPLANTATION'].value_counts()"
   ]
  },
  {
   "cell_type": "code",
   "execution_count": 795,
   "metadata": {},
   "outputs": [
    {
     "data": {
      "text/plain": [
       "0"
      ]
     },
     "execution_count": 795,
     "metadata": {},
     "output_type": "execute_result"
    }
   ],
   "source": [
    "df_arbres.RAISONDEPLANTATION.isna().sum() "
   ]
  },
  {
   "cell_type": "code",
   "execution_count": 796,
   "metadata": {},
   "outputs": [],
   "source": [
    "df_arbres['RAISONDEPLANTATION'] = df_arbres['RAISONDEPLANTATION'].replace(np.nan,0)"
   ]
  },
  {
   "cell_type": "code",
   "execution_count": 797,
   "metadata": {},
   "outputs": [
    {
     "data": {
      "text/plain": [
       "Arbre adulte          13250\n",
       "Arbre jeune            1954\n",
       "Arbre vieillissant      120\n",
       "Name: STADEDEDEVELOPPEMENT, dtype: int64"
      ]
     },
     "execution_count": 797,
     "metadata": {},
     "output_type": "execute_result"
    }
   ],
   "source": [
    "#Variable STADEDEDEVELOPPEMENT - Remplacement des NaN Values\n",
    "\n",
    "# Remplacement \n",
    "\n",
    "#StadeDeDéveloppement et StadeDévelopementDiag étant codifiées\n",
    "#par les entiers 1, 2 et 3, correspondant respectivement aux valeurs \"arbre jeune\", \"arbre adulte\"\n",
    "#et \"arbre viellissant\".\n",
    "\n",
    "#Remplacement des NaN value en fonction du nombre le plus élevé de type de stade\n",
    "\n",
    "df_arbres['STADEDEDEVELOPPEMENT'].value_counts()"
   ]
  },
  {
   "cell_type": "code",
   "execution_count": 798,
   "metadata": {},
   "outputs": [
    {
     "data": {
      "text/plain": [
       "51"
      ]
     },
     "execution_count": 798,
     "metadata": {},
     "output_type": "execute_result"
    }
   ],
   "source": [
    "df_arbres.STADEDEDEVELOPPEMENT.isna().sum() "
   ]
  },
  {
   "cell_type": "code",
   "execution_count": 799,
   "metadata": {},
   "outputs": [],
   "source": [
    "df_arbres['STADEDEDEVELOPPEMENT'] = df_arbres['STADEDEDEVELOPPEMENT'].replace(np.nan,2)"
   ]
  },
  {
   "cell_type": "code",
   "execution_count": 800,
   "metadata": {},
   "outputs": [
    {
     "data": {
      "text/plain": [
       "0"
      ]
     },
     "execution_count": 800,
     "metadata": {},
     "output_type": "execute_result"
    }
   ],
   "source": [
    "df_arbres.STADEDEDEVELOPPEMENT.isna().sum() "
   ]
  },
  {
   "cell_type": "code",
   "execution_count": 801,
   "metadata": {},
   "outputs": [
    {
     "data": {
      "text/plain": [
       "Arbre adulte          13250\n",
       "Arbre jeune            1954\n",
       "Arbre vieillissant      120\n",
       "2                        51\n",
       "Name: STADEDEDEVELOPPEMENT, dtype: int64"
      ]
     },
     "execution_count": 801,
     "metadata": {},
     "output_type": "execute_result"
    }
   ],
   "source": [
    "df_arbres['STADEDEDEVELOPPEMENT'].value_counts()"
   ]
  },
  {
   "cell_type": "code",
   "execution_count": 802,
   "metadata": {},
   "outputs": [],
   "source": [
    "df_arbres['STADEDEDEVELOPPEMENT'] = df_arbres['STADEDEDEVELOPPEMENT'].replace(\"Arbre adulte\",2)\n",
    "df_arbres['STADEDEDEVELOPPEMENT'] = df_arbres['STADEDEDEVELOPPEMENT'].replace(\"Arbre jeune\",1)\n",
    "df_arbres['STADEDEDEVELOPPEMENT'] = df_arbres['STADEDEDEVELOPPEMENT'].replace(\"Arbre vieillissant\",3)"
   ]
  },
  {
   "cell_type": "code",
   "execution_count": 803,
   "metadata": {},
   "outputs": [
    {
     "data": {
      "text/plain": [
       "2    13301\n",
       "1     1954\n",
       "3      120\n",
       "Name: STADEDEDEVELOPPEMENT, dtype: int64"
      ]
     },
     "execution_count": 803,
     "metadata": {},
     "output_type": "execute_result"
    }
   ],
   "source": [
    "df_arbres['STADEDEDEVELOPPEMENT'].value_counts()"
   ]
  },
  {
   "cell_type": "code",
   "execution_count": null,
   "metadata": {},
   "outputs": [],
   "source": []
  },
  {
   "cell_type": "code",
   "execution_count": 804,
   "metadata": {},
   "outputs": [
    {
     "data": {
      "text/plain": [
       "vigoureux                       12449\n",
       "vigueur intermédiaire            2537\n",
       "vieillissement dépérissement      378\n",
       "Name: VIGUEUR, dtype: int64"
      ]
     },
     "execution_count": 804,
     "metadata": {},
     "output_type": "execute_result"
    }
   ],
   "source": [
    "# Variable VIGUEUR - Remplacement NaN Values\n",
    "\n",
    "df_arbres['VIGUEUR'].value_counts()"
   ]
  },
  {
   "cell_type": "code",
   "execution_count": 805,
   "metadata": {},
   "outputs": [
    {
     "data": {
      "text/plain": [
       "11"
      ]
     },
     "execution_count": 805,
     "metadata": {},
     "output_type": "execute_result"
    }
   ],
   "source": [
    "df_arbres.VIGUEUR.isna().sum() "
   ]
  },
  {
   "cell_type": "code",
   "execution_count": 806,
   "metadata": {},
   "outputs": [],
   "source": [
    "df_arbres['VIGUEUR'] = df_arbres['VIGUEUR'].replace(np.nan,0)"
   ]
  },
  {
   "cell_type": "code",
   "execution_count": 807,
   "metadata": {},
   "outputs": [
    {
     "data": {
      "text/plain": [
       "vigoureux                       12449\n",
       "vigueur intermédiaire            2537\n",
       "vieillissement dépérissement      378\n",
       "0                                  11\n",
       "Name: VIGUEUR, dtype: int64"
      ]
     },
     "execution_count": 807,
     "metadata": {},
     "output_type": "execute_result"
    }
   ],
   "source": [
    "df_arbres['VIGUEUR'].value_counts()"
   ]
  },
  {
   "cell_type": "code",
   "execution_count": 808,
   "metadata": {},
   "outputs": [
    {
     "data": {
      "text/plain": [
       "0"
      ]
     },
     "execution_count": 808,
     "metadata": {},
     "output_type": "execute_result"
    }
   ],
   "source": [
    "df_arbres.VIGUEUR.isna().sum() "
   ]
  },
  {
   "cell_type": "code",
   "execution_count": 809,
   "metadata": {},
   "outputs": [
    {
     "data": {
      "text/html": [
       "<div>\n",
       "<style scoped>\n",
       "    .dataframe tbody tr th:only-of-type {\n",
       "        vertical-align: middle;\n",
       "    }\n",
       "\n",
       "    .dataframe tbody tr th {\n",
       "        vertical-align: top;\n",
       "    }\n",
       "\n",
       "    .dataframe thead th {\n",
       "        text-align: right;\n",
       "    }\n",
       "</style>\n",
       "<table border=\"1\" class=\"dataframe\">\n",
       "  <thead>\n",
       "    <tr style=\"text-align: right;\">\n",
       "      <th></th>\n",
       "      <th>ADR_SECTEUR</th>\n",
       "      <th>ANNEEDEPLANTATION</th>\n",
       "      <th>ANNEEREALISATIONDIAGNOSTIC</th>\n",
       "      <th>ANNEETRAVAUXPRECONISESDIAG</th>\n",
       "      <th>CODE</th>\n",
       "      <th>CODE_PARENT</th>\n",
       "      <th>CODE_PARENT_DESC</th>\n",
       "      <th>DIAMETREARBREAUNMETRE</th>\n",
       "      <th>ESPECE</th>\n",
       "      <th>FREQUENTATIONCIBLE</th>\n",
       "      <th>...</th>\n",
       "      <th>VARIETE</th>\n",
       "      <th>VIGUEUR</th>\n",
       "      <th>coord_x</th>\n",
       "      <th>coord_y</th>\n",
       "      <th>DEFAUT</th>\n",
       "      <th>Collet</th>\n",
       "      <th>Houppier</th>\n",
       "      <th>Racine</th>\n",
       "      <th>Tronc</th>\n",
       "      <th>NbAnnéesAvantProchainDiag</th>\n",
       "    </tr>\n",
       "  </thead>\n",
       "  <tbody>\n",
       "    <tr>\n",
       "      <th>0</th>\n",
       "      <td>5</td>\n",
       "      <td>2014</td>\n",
       "      <td>2014</td>\n",
       "      <td>2019</td>\n",
       "      <td>ESP33155</td>\n",
       "      <td>ESP385</td>\n",
       "      <td>R D Fontanelle ang Essen JO</td>\n",
       "      <td>10</td>\n",
       "      <td>cordata</td>\n",
       "      <td>passages fréquents ou arrêts</td>\n",
       "      <td>...</td>\n",
       "      <td>0</td>\n",
       "      <td>vigoureux</td>\n",
       "      <td>1.915371e+06</td>\n",
       "      <td>4.222837e+06</td>\n",
       "      <td>0</td>\n",
       "      <td>0</td>\n",
       "      <td>0</td>\n",
       "      <td>0</td>\n",
       "      <td>0</td>\n",
       "      <td>5</td>\n",
       "    </tr>\n",
       "    <tr>\n",
       "      <th>1</th>\n",
       "      <td>3</td>\n",
       "      <td>2004</td>\n",
       "      <td>2013</td>\n",
       "      <td>2015</td>\n",
       "      <td>ESP2079</td>\n",
       "      <td>ESP116</td>\n",
       "      <td>Crs Libération Beauvert Alliés</td>\n",
       "      <td>30</td>\n",
       "      <td>acerifolia</td>\n",
       "      <td>passages fréquents et arrêts fréquents</td>\n",
       "      <td>...</td>\n",
       "      <td>0</td>\n",
       "      <td>vigoureux</td>\n",
       "      <td>1.913250e+06</td>\n",
       "      <td>4.222531e+06</td>\n",
       "      <td>0</td>\n",
       "      <td>0</td>\n",
       "      <td>0</td>\n",
       "      <td>0</td>\n",
       "      <td>0</td>\n",
       "      <td>2</td>\n",
       "    </tr>\n",
       "    <tr>\n",
       "      <th>2</th>\n",
       "      <td>3</td>\n",
       "      <td>2004</td>\n",
       "      <td>2014</td>\n",
       "      <td>2014</td>\n",
       "      <td>ESP26205</td>\n",
       "      <td>ESP635</td>\n",
       "      <td>Pl R Frappat ang Eaux Claires</td>\n",
       "      <td>10</td>\n",
       "      <td>grandiflora</td>\n",
       "      <td>passages fréquents ou arrêts</td>\n",
       "      <td>...</td>\n",
       "      <td>0</td>\n",
       "      <td>vigoureux</td>\n",
       "      <td>1.913087e+06</td>\n",
       "      <td>4.223524e+06</td>\n",
       "      <td>0</td>\n",
       "      <td>0</td>\n",
       "      <td>0</td>\n",
       "      <td>0</td>\n",
       "      <td>0</td>\n",
       "      <td>0</td>\n",
       "    </tr>\n",
       "    <tr>\n",
       "      <th>3</th>\n",
       "      <td>2</td>\n",
       "      <td>2004</td>\n",
       "      <td>2014</td>\n",
       "      <td>2014</td>\n",
       "      <td>ESP7496</td>\n",
       "      <td>ESP109</td>\n",
       "      <td>R François Raoult</td>\n",
       "      <td>40</td>\n",
       "      <td>japonica</td>\n",
       "      <td>passages fréquents et arrêts fréquents</td>\n",
       "      <td>...</td>\n",
       "      <td>0</td>\n",
       "      <td>vigoureux</td>\n",
       "      <td>1.914187e+06</td>\n",
       "      <td>4.224275e+06</td>\n",
       "      <td>1</td>\n",
       "      <td>0</td>\n",
       "      <td>1</td>\n",
       "      <td>1</td>\n",
       "      <td>0</td>\n",
       "      <td>0</td>\n",
       "    </tr>\n",
       "    <tr>\n",
       "      <th>4</th>\n",
       "      <td>1</td>\n",
       "      <td>2004</td>\n",
       "      <td>2013</td>\n",
       "      <td>2015</td>\n",
       "      <td>ESP2547</td>\n",
       "      <td>ESP194</td>\n",
       "      <td>Terminus Tram Esclangon</td>\n",
       "      <td>20</td>\n",
       "      <td>americana</td>\n",
       "      <td>passages fréquents et arrêts fréquents</td>\n",
       "      <td>...</td>\n",
       "      <td>0</td>\n",
       "      <td>vigoureux</td>\n",
       "      <td>1.912975e+06</td>\n",
       "      <td>4.225210e+06</td>\n",
       "      <td>0</td>\n",
       "      <td>0</td>\n",
       "      <td>0</td>\n",
       "      <td>0</td>\n",
       "      <td>0</td>\n",
       "      <td>2</td>\n",
       "    </tr>\n",
       "    <tr>\n",
       "      <th>...</th>\n",
       "      <td>...</td>\n",
       "      <td>...</td>\n",
       "      <td>...</td>\n",
       "      <td>...</td>\n",
       "      <td>...</td>\n",
       "      <td>...</td>\n",
       "      <td>...</td>\n",
       "      <td>...</td>\n",
       "      <td>...</td>\n",
       "      <td>...</td>\n",
       "      <td>...</td>\n",
       "      <td>...</td>\n",
       "      <td>...</td>\n",
       "      <td>...</td>\n",
       "      <td>...</td>\n",
       "      <td>...</td>\n",
       "      <td>...</td>\n",
       "      <td>...</td>\n",
       "      <td>...</td>\n",
       "      <td>...</td>\n",
       "      <td>...</td>\n",
       "    </tr>\n",
       "    <tr>\n",
       "      <th>15370</th>\n",
       "      <td>3</td>\n",
       "      <td>2004</td>\n",
       "      <td>2013</td>\n",
       "      <td>2015</td>\n",
       "      <td>ESP29359</td>\n",
       "      <td>ESP84</td>\n",
       "      <td>Hôtel Lesdiguières</td>\n",
       "      <td>0</td>\n",
       "      <td>nigra</td>\n",
       "      <td>passages fréquents et arrêts fréquents</td>\n",
       "      <td>...</td>\n",
       "      <td>0</td>\n",
       "      <td>vigoureux</td>\n",
       "      <td>1.912985e+06</td>\n",
       "      <td>4.222215e+06</td>\n",
       "      <td>0</td>\n",
       "      <td>0</td>\n",
       "      <td>0</td>\n",
       "      <td>0</td>\n",
       "      <td>0</td>\n",
       "      <td>2</td>\n",
       "    </tr>\n",
       "    <tr>\n",
       "      <th>15371</th>\n",
       "      <td>4</td>\n",
       "      <td>2004</td>\n",
       "      <td>2014</td>\n",
       "      <td>2014</td>\n",
       "      <td>ESP12605</td>\n",
       "      <td>ESP1023</td>\n",
       "      <td>R Gén Mangin Alliés Jacquart</td>\n",
       "      <td>40</td>\n",
       "      <td>acerifolia</td>\n",
       "      <td>passages fréquents et arrêts fréquents</td>\n",
       "      <td>...</td>\n",
       "      <td>0</td>\n",
       "      <td>vigoureux</td>\n",
       "      <td>1.913534e+06</td>\n",
       "      <td>4.223000e+06</td>\n",
       "      <td>0</td>\n",
       "      <td>0</td>\n",
       "      <td>0</td>\n",
       "      <td>0</td>\n",
       "      <td>0</td>\n",
       "      <td>0</td>\n",
       "    </tr>\n",
       "    <tr>\n",
       "      <th>15372</th>\n",
       "      <td>1</td>\n",
       "      <td>2004</td>\n",
       "      <td>2013</td>\n",
       "      <td>2015</td>\n",
       "      <td>ESP15840</td>\n",
       "      <td>ESP1277</td>\n",
       "      <td>A DL Weill Arménie à Esclangon</td>\n",
       "      <td>10</td>\n",
       "      <td>excelsior</td>\n",
       "      <td>passages fréquents et arrêts fréquents</td>\n",
       "      <td>...</td>\n",
       "      <td>Flame</td>\n",
       "      <td>vigoureux</td>\n",
       "      <td>1.913037e+06</td>\n",
       "      <td>4.225100e+06</td>\n",
       "      <td>0</td>\n",
       "      <td>0</td>\n",
       "      <td>0</td>\n",
       "      <td>0</td>\n",
       "      <td>0</td>\n",
       "      <td>2</td>\n",
       "    </tr>\n",
       "    <tr>\n",
       "      <th>15373</th>\n",
       "      <td>4</td>\n",
       "      <td>2004</td>\n",
       "      <td>2014</td>\n",
       "      <td>2015</td>\n",
       "      <td>ESP1436</td>\n",
       "      <td>ESP877</td>\n",
       "      <td>Av Berthelot arrêt tram MC2</td>\n",
       "      <td>10</td>\n",
       "      <td>styraciflua</td>\n",
       "      <td>passages fréquents et arrêts fréquents</td>\n",
       "      <td>...</td>\n",
       "      <td>0</td>\n",
       "      <td>vigoureux</td>\n",
       "      <td>1.914695e+06</td>\n",
       "      <td>4.222890e+06</td>\n",
       "      <td>0</td>\n",
       "      <td>0</td>\n",
       "      <td>0</td>\n",
       "      <td>0</td>\n",
       "      <td>0</td>\n",
       "      <td>1</td>\n",
       "    </tr>\n",
       "    <tr>\n",
       "      <th>15374</th>\n",
       "      <td>1</td>\n",
       "      <td>2014</td>\n",
       "      <td>2014</td>\n",
       "      <td>2019</td>\n",
       "      <td>ESP33333</td>\n",
       "      <td>ESP33623</td>\n",
       "      <td>Av Martyrs Tram Nord Horowitz</td>\n",
       "      <td>10</td>\n",
       "      <td>mandshurica</td>\n",
       "      <td>passages fréquents ou arrêts</td>\n",
       "      <td>...</td>\n",
       "      <td>Mancana</td>\n",
       "      <td>vigoureux</td>\n",
       "      <td>1.911907e+06</td>\n",
       "      <td>4.226534e+06</td>\n",
       "      <td>0</td>\n",
       "      <td>0</td>\n",
       "      <td>0</td>\n",
       "      <td>0</td>\n",
       "      <td>0</td>\n",
       "      <td>5</td>\n",
       "    </tr>\n",
       "  </tbody>\n",
       "</table>\n",
       "<p>15375 rows × 35 columns</p>\n",
       "</div>"
      ],
      "text/plain": [
       "       ADR_SECTEUR  ANNEEDEPLANTATION  ANNEEREALISATIONDIAGNOSTIC  \\\n",
       "0                5               2014                        2014   \n",
       "1                3               2004                        2013   \n",
       "2                3               2004                        2014   \n",
       "3                2               2004                        2014   \n",
       "4                1               2004                        2013   \n",
       "...            ...                ...                         ...   \n",
       "15370            3               2004                        2013   \n",
       "15371            4               2004                        2014   \n",
       "15372            1               2004                        2013   \n",
       "15373            4               2004                        2014   \n",
       "15374            1               2014                        2014   \n",
       "\n",
       "       ANNEETRAVAUXPRECONISESDIAG      CODE CODE_PARENT  \\\n",
       "0                            2019  ESP33155      ESP385   \n",
       "1                            2015   ESP2079      ESP116   \n",
       "2                            2014  ESP26205      ESP635   \n",
       "3                            2014   ESP7496      ESP109   \n",
       "4                            2015   ESP2547      ESP194   \n",
       "...                           ...       ...         ...   \n",
       "15370                        2015  ESP29359       ESP84   \n",
       "15371                        2014  ESP12605     ESP1023   \n",
       "15372                        2015  ESP15840     ESP1277   \n",
       "15373                        2015   ESP1436      ESP877   \n",
       "15374                        2019  ESP33333    ESP33623   \n",
       "\n",
       "                     CODE_PARENT_DESC DIAMETREARBREAUNMETRE       ESPECE  \\\n",
       "0         R D Fontanelle ang Essen JO                    10      cordata   \n",
       "1      Crs Libération Beauvert Alliés                    30   acerifolia   \n",
       "2       Pl R Frappat ang Eaux Claires                    10  grandiflora   \n",
       "3                   R François Raoult                    40     japonica   \n",
       "4             Terminus Tram Esclangon                    20    americana   \n",
       "...                               ...                   ...          ...   \n",
       "15370              Hôtel Lesdiguières                     0        nigra   \n",
       "15371    R Gén Mangin Alliés Jacquart                    40   acerifolia   \n",
       "15372  A DL Weill Arménie à Esclangon                    10    excelsior   \n",
       "15373     Av Berthelot arrêt tram MC2                    10  styraciflua   \n",
       "15374   Av Martyrs Tram Nord Horowitz                    10  mandshurica   \n",
       "\n",
       "                           FREQUENTATIONCIBLE  ...  VARIETE    VIGUEUR  \\\n",
       "0                passages fréquents ou arrêts  ...        0  vigoureux   \n",
       "1      passages fréquents et arrêts fréquents  ...        0  vigoureux   \n",
       "2                passages fréquents ou arrêts  ...        0  vigoureux   \n",
       "3      passages fréquents et arrêts fréquents  ...        0  vigoureux   \n",
       "4      passages fréquents et arrêts fréquents  ...        0  vigoureux   \n",
       "...                                       ...  ...      ...        ...   \n",
       "15370  passages fréquents et arrêts fréquents  ...        0  vigoureux   \n",
       "15371  passages fréquents et arrêts fréquents  ...        0  vigoureux   \n",
       "15372  passages fréquents et arrêts fréquents  ...    Flame  vigoureux   \n",
       "15373  passages fréquents et arrêts fréquents  ...        0  vigoureux   \n",
       "15374            passages fréquents ou arrêts  ...  Mancana  vigoureux   \n",
       "\n",
       "            coord_x       coord_y DEFAUT Collet Houppier Racine Tronc  \\\n",
       "0      1.915371e+06  4.222837e+06      0      0        0      0     0   \n",
       "1      1.913250e+06  4.222531e+06      0      0        0      0     0   \n",
       "2      1.913087e+06  4.223524e+06      0      0        0      0     0   \n",
       "3      1.914187e+06  4.224275e+06      1      0        1      1     0   \n",
       "4      1.912975e+06  4.225210e+06      0      0        0      0     0   \n",
       "...             ...           ...    ...    ...      ...    ...   ...   \n",
       "15370  1.912985e+06  4.222215e+06      0      0        0      0     0   \n",
       "15371  1.913534e+06  4.223000e+06      0      0        0      0     0   \n",
       "15372  1.913037e+06  4.225100e+06      0      0        0      0     0   \n",
       "15373  1.914695e+06  4.222890e+06      0      0        0      0     0   \n",
       "15374  1.911907e+06  4.226534e+06      0      0        0      0     0   \n",
       "\n",
       "       NbAnnéesAvantProchainDiag  \n",
       "0                              5  \n",
       "1                              2  \n",
       "2                              0  \n",
       "3                              0  \n",
       "4                              2  \n",
       "...                          ...  \n",
       "15370                          2  \n",
       "15371                          0  \n",
       "15372                          2  \n",
       "15373                          1  \n",
       "15374                          5  \n",
       "\n",
       "[15375 rows x 35 columns]"
      ]
     },
     "execution_count": 809,
     "metadata": {},
     "output_type": "execute_result"
    }
   ],
   "source": [
    "df_arbres"
   ]
  },
  {
   "cell_type": "markdown",
   "metadata": {},
   "source": [
    "Suppression de colonnes :\n",
    "\n",
    "Les variables Code_Parent et\n",
    "Code_Parent_Desc sont aussi redondantes, et décrivent, pour un arbre, la station parente à\n",
    "laquelle il est rattaché. Ces deux variables ont été supprimées du corpus pour deux raisons.\n",
    "D’une part, le nombre de valeurs distinctes est très important (près de 1 140). D’autre part,\n",
    "l’information de la station d’un arbre, étant de nature géographique, elle est redondante avec\n",
    "les variables Adr_Secteur ainsi que coord_x et coord_y."
   ]
  },
  {
   "cell_type": "code",
   "execution_count": 810,
   "metadata": {},
   "outputs": [
    {
     "data": {
      "text/plain": [
       "0"
      ]
     },
     "execution_count": 810,
     "metadata": {},
     "output_type": "execute_result"
    }
   ],
   "source": [
    "df_arbres.CODE_PARENT_DESC.isna().sum() "
   ]
  },
  {
   "cell_type": "code",
   "execution_count": 811,
   "metadata": {},
   "outputs": [],
   "source": [
    "del df_arbres['CODE_PARENT_DESC']\n",
    "del df_arbres['CODE_PARENT']"
   ]
  },
  {
   "cell_type": "code",
   "execution_count": 812,
   "metadata": {},
   "outputs": [],
   "source": [
    "#Variable Intitulé Protection - Suppression car\n",
    "# - 90 % des valeurs sont absentes\n",
    "# - Valeurs non exploitables"
   ]
  },
  {
   "cell_type": "code",
   "execution_count": 813,
   "metadata": {},
   "outputs": [
    {
     "data": {
      "text/plain": [
       "15014"
      ]
     },
     "execution_count": 813,
     "metadata": {},
     "output_type": "execute_result"
    }
   ],
   "source": [
    "df_arbres.INTITULEPROTECTIONPLU.isna().sum()"
   ]
  },
  {
   "cell_type": "code",
   "execution_count": 814,
   "metadata": {},
   "outputs": [
    {
     "data": {
      "text/plain": [
       "L 1231.7    300\n",
       "ebc          46\n",
       "L 1231       15\n",
       "Name: INTITULEPROTECTIONPLU, dtype: int64"
      ]
     },
     "execution_count": 814,
     "metadata": {},
     "output_type": "execute_result"
    }
   ],
   "source": [
    "df_arbres['INTITULEPROTECTIONPLU'].value_counts()"
   ]
  },
  {
   "cell_type": "code",
   "execution_count": 815,
   "metadata": {},
   "outputs": [],
   "source": [
    "del df_arbres['INTITULEPROTECTIONPLU']"
   ]
  },
  {
   "cell_type": "code",
   "execution_count": 816,
   "metadata": {},
   "outputs": [
    {
     "data": {
      "text/html": [
       "<div>\n",
       "<style scoped>\n",
       "    .dataframe tbody tr th:only-of-type {\n",
       "        vertical-align: middle;\n",
       "    }\n",
       "\n",
       "    .dataframe tbody tr th {\n",
       "        vertical-align: top;\n",
       "    }\n",
       "\n",
       "    .dataframe thead th {\n",
       "        text-align: right;\n",
       "    }\n",
       "</style>\n",
       "<table border=\"1\" class=\"dataframe\">\n",
       "  <thead>\n",
       "    <tr style=\"text-align: right;\">\n",
       "      <th></th>\n",
       "      <th>ADR_SECTEUR</th>\n",
       "      <th>ANNEEDEPLANTATION</th>\n",
       "      <th>ANNEEREALISATIONDIAGNOSTIC</th>\n",
       "      <th>ANNEETRAVAUXPRECONISESDIAG</th>\n",
       "      <th>CODE</th>\n",
       "      <th>DIAMETREARBREAUNMETRE</th>\n",
       "      <th>ESPECE</th>\n",
       "      <th>FREQUENTATIONCIBLE</th>\n",
       "      <th>GENRE_BOTA</th>\n",
       "      <th>IDENTIFIANTPLU</th>\n",
       "      <th>...</th>\n",
       "      <th>VARIETE</th>\n",
       "      <th>VIGUEUR</th>\n",
       "      <th>coord_x</th>\n",
       "      <th>coord_y</th>\n",
       "      <th>DEFAUT</th>\n",
       "      <th>Collet</th>\n",
       "      <th>Houppier</th>\n",
       "      <th>Racine</th>\n",
       "      <th>Tronc</th>\n",
       "      <th>NbAnnéesAvantProchainDiag</th>\n",
       "    </tr>\n",
       "  </thead>\n",
       "  <tbody>\n",
       "    <tr>\n",
       "      <th>0</th>\n",
       "      <td>5</td>\n",
       "      <td>2014</td>\n",
       "      <td>2014</td>\n",
       "      <td>2019</td>\n",
       "      <td>ESP33155</td>\n",
       "      <td>10</td>\n",
       "      <td>cordata</td>\n",
       "      <td>passages fréquents ou arrêts</td>\n",
       "      <td>Alnus</td>\n",
       "      <td>0</td>\n",
       "      <td>...</td>\n",
       "      <td>0</td>\n",
       "      <td>vigoureux</td>\n",
       "      <td>1.915371e+06</td>\n",
       "      <td>4.222837e+06</td>\n",
       "      <td>0</td>\n",
       "      <td>0</td>\n",
       "      <td>0</td>\n",
       "      <td>0</td>\n",
       "      <td>0</td>\n",
       "      <td>5</td>\n",
       "    </tr>\n",
       "    <tr>\n",
       "      <th>1</th>\n",
       "      <td>3</td>\n",
       "      <td>2004</td>\n",
       "      <td>2013</td>\n",
       "      <td>2015</td>\n",
       "      <td>ESP2079</td>\n",
       "      <td>30</td>\n",
       "      <td>acerifolia</td>\n",
       "      <td>passages fréquents et arrêts fréquents</td>\n",
       "      <td>Platanus</td>\n",
       "      <td>0</td>\n",
       "      <td>...</td>\n",
       "      <td>0</td>\n",
       "      <td>vigoureux</td>\n",
       "      <td>1.913250e+06</td>\n",
       "      <td>4.222531e+06</td>\n",
       "      <td>0</td>\n",
       "      <td>0</td>\n",
       "      <td>0</td>\n",
       "      <td>0</td>\n",
       "      <td>0</td>\n",
       "      <td>2</td>\n",
       "    </tr>\n",
       "    <tr>\n",
       "      <th>2</th>\n",
       "      <td>3</td>\n",
       "      <td>2004</td>\n",
       "      <td>2014</td>\n",
       "      <td>2014</td>\n",
       "      <td>ESP26205</td>\n",
       "      <td>10</td>\n",
       "      <td>grandiflora</td>\n",
       "      <td>passages fréquents ou arrêts</td>\n",
       "      <td>Magnolia</td>\n",
       "      <td>0</td>\n",
       "      <td>...</td>\n",
       "      <td>0</td>\n",
       "      <td>vigoureux</td>\n",
       "      <td>1.913087e+06</td>\n",
       "      <td>4.223524e+06</td>\n",
       "      <td>0</td>\n",
       "      <td>0</td>\n",
       "      <td>0</td>\n",
       "      <td>0</td>\n",
       "      <td>0</td>\n",
       "      <td>0</td>\n",
       "    </tr>\n",
       "    <tr>\n",
       "      <th>3</th>\n",
       "      <td>2</td>\n",
       "      <td>2004</td>\n",
       "      <td>2014</td>\n",
       "      <td>2014</td>\n",
       "      <td>ESP7496</td>\n",
       "      <td>40</td>\n",
       "      <td>japonica</td>\n",
       "      <td>passages fréquents et arrêts fréquents</td>\n",
       "      <td>Sophora</td>\n",
       "      <td>0</td>\n",
       "      <td>...</td>\n",
       "      <td>0</td>\n",
       "      <td>vigoureux</td>\n",
       "      <td>1.914187e+06</td>\n",
       "      <td>4.224275e+06</td>\n",
       "      <td>1</td>\n",
       "      <td>0</td>\n",
       "      <td>1</td>\n",
       "      <td>1</td>\n",
       "      <td>0</td>\n",
       "      <td>0</td>\n",
       "    </tr>\n",
       "    <tr>\n",
       "      <th>4</th>\n",
       "      <td>1</td>\n",
       "      <td>2004</td>\n",
       "      <td>2013</td>\n",
       "      <td>2015</td>\n",
       "      <td>ESP2547</td>\n",
       "      <td>20</td>\n",
       "      <td>americana</td>\n",
       "      <td>passages fréquents et arrêts fréquents</td>\n",
       "      <td>Fraxinus</td>\n",
       "      <td>0</td>\n",
       "      <td>...</td>\n",
       "      <td>0</td>\n",
       "      <td>vigoureux</td>\n",
       "      <td>1.912975e+06</td>\n",
       "      <td>4.225210e+06</td>\n",
       "      <td>0</td>\n",
       "      <td>0</td>\n",
       "      <td>0</td>\n",
       "      <td>0</td>\n",
       "      <td>0</td>\n",
       "      <td>2</td>\n",
       "    </tr>\n",
       "    <tr>\n",
       "      <th>...</th>\n",
       "      <td>...</td>\n",
       "      <td>...</td>\n",
       "      <td>...</td>\n",
       "      <td>...</td>\n",
       "      <td>...</td>\n",
       "      <td>...</td>\n",
       "      <td>...</td>\n",
       "      <td>...</td>\n",
       "      <td>...</td>\n",
       "      <td>...</td>\n",
       "      <td>...</td>\n",
       "      <td>...</td>\n",
       "      <td>...</td>\n",
       "      <td>...</td>\n",
       "      <td>...</td>\n",
       "      <td>...</td>\n",
       "      <td>...</td>\n",
       "      <td>...</td>\n",
       "      <td>...</td>\n",
       "      <td>...</td>\n",
       "      <td>...</td>\n",
       "    </tr>\n",
       "    <tr>\n",
       "      <th>15370</th>\n",
       "      <td>3</td>\n",
       "      <td>2004</td>\n",
       "      <td>2013</td>\n",
       "      <td>2015</td>\n",
       "      <td>ESP29359</td>\n",
       "      <td>0</td>\n",
       "      <td>nigra</td>\n",
       "      <td>passages fréquents et arrêts fréquents</td>\n",
       "      <td>Pinus</td>\n",
       "      <td>0</td>\n",
       "      <td>...</td>\n",
       "      <td>0</td>\n",
       "      <td>vigoureux</td>\n",
       "      <td>1.912985e+06</td>\n",
       "      <td>4.222215e+06</td>\n",
       "      <td>0</td>\n",
       "      <td>0</td>\n",
       "      <td>0</td>\n",
       "      <td>0</td>\n",
       "      <td>0</td>\n",
       "      <td>2</td>\n",
       "    </tr>\n",
       "    <tr>\n",
       "      <th>15371</th>\n",
       "      <td>4</td>\n",
       "      <td>2004</td>\n",
       "      <td>2014</td>\n",
       "      <td>2014</td>\n",
       "      <td>ESP12605</td>\n",
       "      <td>40</td>\n",
       "      <td>acerifolia</td>\n",
       "      <td>passages fréquents et arrêts fréquents</td>\n",
       "      <td>Platanus</td>\n",
       "      <td>0</td>\n",
       "      <td>...</td>\n",
       "      <td>0</td>\n",
       "      <td>vigoureux</td>\n",
       "      <td>1.913534e+06</td>\n",
       "      <td>4.223000e+06</td>\n",
       "      <td>0</td>\n",
       "      <td>0</td>\n",
       "      <td>0</td>\n",
       "      <td>0</td>\n",
       "      <td>0</td>\n",
       "      <td>0</td>\n",
       "    </tr>\n",
       "    <tr>\n",
       "      <th>15372</th>\n",
       "      <td>1</td>\n",
       "      <td>2004</td>\n",
       "      <td>2013</td>\n",
       "      <td>2015</td>\n",
       "      <td>ESP15840</td>\n",
       "      <td>10</td>\n",
       "      <td>excelsior</td>\n",
       "      <td>passages fréquents et arrêts fréquents</td>\n",
       "      <td>Fraxinus</td>\n",
       "      <td>0</td>\n",
       "      <td>...</td>\n",
       "      <td>Flame</td>\n",
       "      <td>vigoureux</td>\n",
       "      <td>1.913037e+06</td>\n",
       "      <td>4.225100e+06</td>\n",
       "      <td>0</td>\n",
       "      <td>0</td>\n",
       "      <td>0</td>\n",
       "      <td>0</td>\n",
       "      <td>0</td>\n",
       "      <td>2</td>\n",
       "    </tr>\n",
       "    <tr>\n",
       "      <th>15373</th>\n",
       "      <td>4</td>\n",
       "      <td>2004</td>\n",
       "      <td>2014</td>\n",
       "      <td>2015</td>\n",
       "      <td>ESP1436</td>\n",
       "      <td>10</td>\n",
       "      <td>styraciflua</td>\n",
       "      <td>passages fréquents et arrêts fréquents</td>\n",
       "      <td>Liquidambar</td>\n",
       "      <td>0</td>\n",
       "      <td>...</td>\n",
       "      <td>0</td>\n",
       "      <td>vigoureux</td>\n",
       "      <td>1.914695e+06</td>\n",
       "      <td>4.222890e+06</td>\n",
       "      <td>0</td>\n",
       "      <td>0</td>\n",
       "      <td>0</td>\n",
       "      <td>0</td>\n",
       "      <td>0</td>\n",
       "      <td>1</td>\n",
       "    </tr>\n",
       "    <tr>\n",
       "      <th>15374</th>\n",
       "      <td>1</td>\n",
       "      <td>2014</td>\n",
       "      <td>2014</td>\n",
       "      <td>2019</td>\n",
       "      <td>ESP33333</td>\n",
       "      <td>10</td>\n",
       "      <td>mandshurica</td>\n",
       "      <td>passages fréquents ou arrêts</td>\n",
       "      <td>Fraxinus</td>\n",
       "      <td>0</td>\n",
       "      <td>...</td>\n",
       "      <td>Mancana</td>\n",
       "      <td>vigoureux</td>\n",
       "      <td>1.911907e+06</td>\n",
       "      <td>4.226534e+06</td>\n",
       "      <td>0</td>\n",
       "      <td>0</td>\n",
       "      <td>0</td>\n",
       "      <td>0</td>\n",
       "      <td>0</td>\n",
       "      <td>5</td>\n",
       "    </tr>\n",
       "  </tbody>\n",
       "</table>\n",
       "<p>15375 rows × 32 columns</p>\n",
       "</div>"
      ],
      "text/plain": [
       "       ADR_SECTEUR  ANNEEDEPLANTATION  ANNEEREALISATIONDIAGNOSTIC  \\\n",
       "0                5               2014                        2014   \n",
       "1                3               2004                        2013   \n",
       "2                3               2004                        2014   \n",
       "3                2               2004                        2014   \n",
       "4                1               2004                        2013   \n",
       "...            ...                ...                         ...   \n",
       "15370            3               2004                        2013   \n",
       "15371            4               2004                        2014   \n",
       "15372            1               2004                        2013   \n",
       "15373            4               2004                        2014   \n",
       "15374            1               2014                        2014   \n",
       "\n",
       "       ANNEETRAVAUXPRECONISESDIAG      CODE DIAMETREARBREAUNMETRE  \\\n",
       "0                            2019  ESP33155                    10   \n",
       "1                            2015   ESP2079                    30   \n",
       "2                            2014  ESP26205                    10   \n",
       "3                            2014   ESP7496                    40   \n",
       "4                            2015   ESP2547                    20   \n",
       "...                           ...       ...                   ...   \n",
       "15370                        2015  ESP29359                     0   \n",
       "15371                        2014  ESP12605                    40   \n",
       "15372                        2015  ESP15840                    10   \n",
       "15373                        2015   ESP1436                    10   \n",
       "15374                        2019  ESP33333                    10   \n",
       "\n",
       "            ESPECE                      FREQUENTATIONCIBLE   GENRE_BOTA  \\\n",
       "0          cordata            passages fréquents ou arrêts        Alnus   \n",
       "1       acerifolia  passages fréquents et arrêts fréquents     Platanus   \n",
       "2      grandiflora            passages fréquents ou arrêts     Magnolia   \n",
       "3         japonica  passages fréquents et arrêts fréquents      Sophora   \n",
       "4        americana  passages fréquents et arrêts fréquents     Fraxinus   \n",
       "...            ...                                     ...          ...   \n",
       "15370        nigra  passages fréquents et arrêts fréquents        Pinus   \n",
       "15371   acerifolia  passages fréquents et arrêts fréquents     Platanus   \n",
       "15372    excelsior  passages fréquents et arrêts fréquents     Fraxinus   \n",
       "15373  styraciflua  passages fréquents et arrêts fréquents  Liquidambar   \n",
       "15374  mandshurica            passages fréquents ou arrêts     Fraxinus   \n",
       "\n",
       "      IDENTIFIANTPLU  ...  VARIETE    VIGUEUR       coord_x       coord_y  \\\n",
       "0                  0  ...        0  vigoureux  1.915371e+06  4.222837e+06   \n",
       "1                  0  ...        0  vigoureux  1.913250e+06  4.222531e+06   \n",
       "2                  0  ...        0  vigoureux  1.913087e+06  4.223524e+06   \n",
       "3                  0  ...        0  vigoureux  1.914187e+06  4.224275e+06   \n",
       "4                  0  ...        0  vigoureux  1.912975e+06  4.225210e+06   \n",
       "...              ...  ...      ...        ...           ...           ...   \n",
       "15370              0  ...        0  vigoureux  1.912985e+06  4.222215e+06   \n",
       "15371              0  ...        0  vigoureux  1.913534e+06  4.223000e+06   \n",
       "15372              0  ...    Flame  vigoureux  1.913037e+06  4.225100e+06   \n",
       "15373              0  ...        0  vigoureux  1.914695e+06  4.222890e+06   \n",
       "15374              0  ...  Mancana  vigoureux  1.911907e+06  4.226534e+06   \n",
       "\n",
       "      DEFAUT Collet  Houppier Racine Tronc NbAnnéesAvantProchainDiag  \n",
       "0          0      0         0      0     0                         5  \n",
       "1          0      0         0      0     0                         2  \n",
       "2          0      0         0      0     0                         0  \n",
       "3          1      0         1      1     0                         0  \n",
       "4          0      0         0      0     0                         2  \n",
       "...      ...    ...       ...    ...   ...                       ...  \n",
       "15370      0      0         0      0     0                         2  \n",
       "15371      0      0         0      0     0                         0  \n",
       "15372      0      0         0      0     0                         2  \n",
       "15373      0      0         0      0     0                         1  \n",
       "15374      0      0         0      0     0                         5  \n",
       "\n",
       "[15375 rows x 32 columns]"
      ]
     },
     "execution_count": 816,
     "metadata": {},
     "output_type": "execute_result"
    }
   ],
   "source": [
    "df_arbres"
   ]
  },
  {
   "cell_type": "code",
   "execution_count": 817,
   "metadata": {},
   "outputs": [],
   "source": [
    "#Variable STADEDEVELOPPEMENTDIAG - Même fonctionnement que pour STADEDEDEVELOPPEMENT\n",
    "\n",
    "#Remplacement NaN Values en fonction du nombre de type de stade le plus élevé"
   ]
  },
  {
   "cell_type": "code",
   "execution_count": 818,
   "metadata": {},
   "outputs": [
    {
     "data": {
      "text/plain": [
       "13"
      ]
     },
     "execution_count": 818,
     "metadata": {},
     "output_type": "execute_result"
    }
   ],
   "source": [
    "df_arbres.STADEDEVELOPPEMENTDIAG.isna().sum()"
   ]
  },
  {
   "cell_type": "code",
   "execution_count": 819,
   "metadata": {},
   "outputs": [
    {
     "data": {
      "text/plain": [
       "Arbre adulte          12290\n",
       "Arbre jeune            2659\n",
       "Arbre vieillissant      413\n",
       "Name: STADEDEVELOPPEMENTDIAG, dtype: int64"
      ]
     },
     "execution_count": 819,
     "metadata": {},
     "output_type": "execute_result"
    }
   ],
   "source": [
    "df_arbres['STADEDEVELOPPEMENTDIAG'].value_counts()"
   ]
  },
  {
   "cell_type": "code",
   "execution_count": 820,
   "metadata": {},
   "outputs": [],
   "source": [
    "df_arbres['STADEDEVELOPPEMENTDIAG'] = df_arbres['STADEDEVELOPPEMENTDIAG'].replace(np.nan,2)"
   ]
  },
  {
   "cell_type": "code",
   "execution_count": 821,
   "metadata": {},
   "outputs": [
    {
     "data": {
      "text/plain": [
       "0"
      ]
     },
     "execution_count": 821,
     "metadata": {},
     "output_type": "execute_result"
    }
   ],
   "source": [
    "df_arbres.STADEDEVELOPPEMENTDIAG.isna().sum()"
   ]
  },
  {
   "cell_type": "code",
   "execution_count": 822,
   "metadata": {},
   "outputs": [
    {
     "data": {
      "text/plain": [
       "Arbre adulte          12290\n",
       "Arbre jeune            2659\n",
       "Arbre vieillissant      413\n",
       "2                        13\n",
       "Name: STADEDEVELOPPEMENTDIAG, dtype: int64"
      ]
     },
     "execution_count": 822,
     "metadata": {},
     "output_type": "execute_result"
    }
   ],
   "source": [
    "df_arbres['STADEDEVELOPPEMENTDIAG'].value_counts()"
   ]
  },
  {
   "cell_type": "code",
   "execution_count": 823,
   "metadata": {},
   "outputs": [],
   "source": [
    "df_arbres['STADEDEVELOPPEMENTDIAG'] = df_arbres['STADEDEVELOPPEMENTDIAG'].replace(\"Arbre adulte\",2)\n",
    "df_arbres['STADEDEVELOPPEMENTDIAG'] = df_arbres['STADEDEVELOPPEMENTDIAG'].replace(\"Arbre jeune\",1)\n",
    "df_arbres['STADEDEVELOPPEMENTDIAG'] = df_arbres['STADEDEVELOPPEMENTDIAG'].replace(\"Arbre vieillissant\",3)"
   ]
  },
  {
   "cell_type": "code",
   "execution_count": 824,
   "metadata": {},
   "outputs": [
    {
     "data": {
      "text/plain": [
       "2    12303\n",
       "1     2659\n",
       "3      413\n",
       "Name: STADEDEVELOPPEMENTDIAG, dtype: int64"
      ]
     },
     "execution_count": 824,
     "metadata": {},
     "output_type": "execute_result"
    }
   ],
   "source": [
    "df_arbres['STADEDEVELOPPEMENTDIAG'].value_counts()"
   ]
  },
  {
   "cell_type": "code",
   "execution_count": 825,
   "metadata": {},
   "outputs": [],
   "source": [
    "#Création nouvele VARIABLE - EVOLUTIONJSQDIAG\n",
    "\n",
    "#reflète l’évolution de l’arbre, de sa plantation jusqu’au diagnostic.\n",
    "#Une différence positive, nulle ou négative, correspond alors à une évolution\n",
    "#positive, constante ou négative, du développement de l’arbre.\n",
    "\n",
    "#Aucun passage de 1 à 3 (jeune à vieux)\n",
    "#ou de 3 à 1 (vieux à jeune)\n",
    "\n",
    "df_arbres['EVOLUTIONJSQDIAG'] = df_arbres['STADEDEDEVELOPPEMENT'] - df_arbres['STADEDEVELOPPEMENTDIAG']\n"
   ]
  },
  {
   "cell_type": "code",
   "execution_count": 826,
   "metadata": {},
   "outputs": [
    {
     "data": {
      "text/plain": [
       " 0    13433\n",
       " 1     1177\n",
       "-1      765\n",
       "Name: EVOLUTIONJSQDIAG, dtype: int64"
      ]
     },
     "execution_count": 826,
     "metadata": {},
     "output_type": "execute_result"
    }
   ],
   "source": [
    "df_arbres['EVOLUTIONJSQDIAG'].value_counts()"
   ]
  },
  {
   "cell_type": "code",
   "execution_count": 827,
   "metadata": {},
   "outputs": [
    {
     "data": {
      "text/html": [
       "<div>\n",
       "<style scoped>\n",
       "    .dataframe tbody tr th:only-of-type {\n",
       "        vertical-align: middle;\n",
       "    }\n",
       "\n",
       "    .dataframe tbody tr th {\n",
       "        vertical-align: top;\n",
       "    }\n",
       "\n",
       "    .dataframe thead th {\n",
       "        text-align: right;\n",
       "    }\n",
       "</style>\n",
       "<table border=\"1\" class=\"dataframe\">\n",
       "  <thead>\n",
       "    <tr style=\"text-align: right;\">\n",
       "      <th></th>\n",
       "      <th>ADR_SECTEUR</th>\n",
       "      <th>ANNEEDEPLANTATION</th>\n",
       "      <th>ANNEEREALISATIONDIAGNOSTIC</th>\n",
       "      <th>ANNEETRAVAUXPRECONISESDIAG</th>\n",
       "      <th>CODE</th>\n",
       "      <th>DIAMETREARBREAUNMETRE</th>\n",
       "      <th>ESPECE</th>\n",
       "      <th>FREQUENTATIONCIBLE</th>\n",
       "      <th>GENRE_BOTA</th>\n",
       "      <th>IDENTIFIANTPLU</th>\n",
       "      <th>...</th>\n",
       "      <th>VIGUEUR</th>\n",
       "      <th>coord_x</th>\n",
       "      <th>coord_y</th>\n",
       "      <th>DEFAUT</th>\n",
       "      <th>Collet</th>\n",
       "      <th>Houppier</th>\n",
       "      <th>Racine</th>\n",
       "      <th>Tronc</th>\n",
       "      <th>NbAnnéesAvantProchainDiag</th>\n",
       "      <th>EVOLUTIONJSQDIAG</th>\n",
       "    </tr>\n",
       "  </thead>\n",
       "  <tbody>\n",
       "    <tr>\n",
       "      <th>0</th>\n",
       "      <td>5</td>\n",
       "      <td>2014</td>\n",
       "      <td>2014</td>\n",
       "      <td>2019</td>\n",
       "      <td>ESP33155</td>\n",
       "      <td>10</td>\n",
       "      <td>cordata</td>\n",
       "      <td>passages fréquents ou arrêts</td>\n",
       "      <td>Alnus</td>\n",
       "      <td>0</td>\n",
       "      <td>...</td>\n",
       "      <td>vigoureux</td>\n",
       "      <td>1.915371e+06</td>\n",
       "      <td>4.222837e+06</td>\n",
       "      <td>0</td>\n",
       "      <td>0</td>\n",
       "      <td>0</td>\n",
       "      <td>0</td>\n",
       "      <td>0</td>\n",
       "      <td>5</td>\n",
       "      <td>0</td>\n",
       "    </tr>\n",
       "    <tr>\n",
       "      <th>1</th>\n",
       "      <td>3</td>\n",
       "      <td>2004</td>\n",
       "      <td>2013</td>\n",
       "      <td>2015</td>\n",
       "      <td>ESP2079</td>\n",
       "      <td>30</td>\n",
       "      <td>acerifolia</td>\n",
       "      <td>passages fréquents et arrêts fréquents</td>\n",
       "      <td>Platanus</td>\n",
       "      <td>0</td>\n",
       "      <td>...</td>\n",
       "      <td>vigoureux</td>\n",
       "      <td>1.913250e+06</td>\n",
       "      <td>4.222531e+06</td>\n",
       "      <td>0</td>\n",
       "      <td>0</td>\n",
       "      <td>0</td>\n",
       "      <td>0</td>\n",
       "      <td>0</td>\n",
       "      <td>2</td>\n",
       "      <td>0</td>\n",
       "    </tr>\n",
       "    <tr>\n",
       "      <th>2</th>\n",
       "      <td>3</td>\n",
       "      <td>2004</td>\n",
       "      <td>2014</td>\n",
       "      <td>2014</td>\n",
       "      <td>ESP26205</td>\n",
       "      <td>10</td>\n",
       "      <td>grandiflora</td>\n",
       "      <td>passages fréquents ou arrêts</td>\n",
       "      <td>Magnolia</td>\n",
       "      <td>0</td>\n",
       "      <td>...</td>\n",
       "      <td>vigoureux</td>\n",
       "      <td>1.913087e+06</td>\n",
       "      <td>4.223524e+06</td>\n",
       "      <td>0</td>\n",
       "      <td>0</td>\n",
       "      <td>0</td>\n",
       "      <td>0</td>\n",
       "      <td>0</td>\n",
       "      <td>0</td>\n",
       "      <td>0</td>\n",
       "    </tr>\n",
       "    <tr>\n",
       "      <th>3</th>\n",
       "      <td>2</td>\n",
       "      <td>2004</td>\n",
       "      <td>2014</td>\n",
       "      <td>2014</td>\n",
       "      <td>ESP7496</td>\n",
       "      <td>40</td>\n",
       "      <td>japonica</td>\n",
       "      <td>passages fréquents et arrêts fréquents</td>\n",
       "      <td>Sophora</td>\n",
       "      <td>0</td>\n",
       "      <td>...</td>\n",
       "      <td>vigoureux</td>\n",
       "      <td>1.914187e+06</td>\n",
       "      <td>4.224275e+06</td>\n",
       "      <td>1</td>\n",
       "      <td>0</td>\n",
       "      <td>1</td>\n",
       "      <td>1</td>\n",
       "      <td>0</td>\n",
       "      <td>0</td>\n",
       "      <td>0</td>\n",
       "    </tr>\n",
       "    <tr>\n",
       "      <th>4</th>\n",
       "      <td>1</td>\n",
       "      <td>2004</td>\n",
       "      <td>2013</td>\n",
       "      <td>2015</td>\n",
       "      <td>ESP2547</td>\n",
       "      <td>20</td>\n",
       "      <td>americana</td>\n",
       "      <td>passages fréquents et arrêts fréquents</td>\n",
       "      <td>Fraxinus</td>\n",
       "      <td>0</td>\n",
       "      <td>...</td>\n",
       "      <td>vigoureux</td>\n",
       "      <td>1.912975e+06</td>\n",
       "      <td>4.225210e+06</td>\n",
       "      <td>0</td>\n",
       "      <td>0</td>\n",
       "      <td>0</td>\n",
       "      <td>0</td>\n",
       "      <td>0</td>\n",
       "      <td>2</td>\n",
       "      <td>0</td>\n",
       "    </tr>\n",
       "    <tr>\n",
       "      <th>...</th>\n",
       "      <td>...</td>\n",
       "      <td>...</td>\n",
       "      <td>...</td>\n",
       "      <td>...</td>\n",
       "      <td>...</td>\n",
       "      <td>...</td>\n",
       "      <td>...</td>\n",
       "      <td>...</td>\n",
       "      <td>...</td>\n",
       "      <td>...</td>\n",
       "      <td>...</td>\n",
       "      <td>...</td>\n",
       "      <td>...</td>\n",
       "      <td>...</td>\n",
       "      <td>...</td>\n",
       "      <td>...</td>\n",
       "      <td>...</td>\n",
       "      <td>...</td>\n",
       "      <td>...</td>\n",
       "      <td>...</td>\n",
       "      <td>...</td>\n",
       "    </tr>\n",
       "    <tr>\n",
       "      <th>15370</th>\n",
       "      <td>3</td>\n",
       "      <td>2004</td>\n",
       "      <td>2013</td>\n",
       "      <td>2015</td>\n",
       "      <td>ESP29359</td>\n",
       "      <td>0</td>\n",
       "      <td>nigra</td>\n",
       "      <td>passages fréquents et arrêts fréquents</td>\n",
       "      <td>Pinus</td>\n",
       "      <td>0</td>\n",
       "      <td>...</td>\n",
       "      <td>vigoureux</td>\n",
       "      <td>1.912985e+06</td>\n",
       "      <td>4.222215e+06</td>\n",
       "      <td>0</td>\n",
       "      <td>0</td>\n",
       "      <td>0</td>\n",
       "      <td>0</td>\n",
       "      <td>0</td>\n",
       "      <td>2</td>\n",
       "      <td>1</td>\n",
       "    </tr>\n",
       "    <tr>\n",
       "      <th>15371</th>\n",
       "      <td>4</td>\n",
       "      <td>2004</td>\n",
       "      <td>2014</td>\n",
       "      <td>2014</td>\n",
       "      <td>ESP12605</td>\n",
       "      <td>40</td>\n",
       "      <td>acerifolia</td>\n",
       "      <td>passages fréquents et arrêts fréquents</td>\n",
       "      <td>Platanus</td>\n",
       "      <td>0</td>\n",
       "      <td>...</td>\n",
       "      <td>vigoureux</td>\n",
       "      <td>1.913534e+06</td>\n",
       "      <td>4.223000e+06</td>\n",
       "      <td>0</td>\n",
       "      <td>0</td>\n",
       "      <td>0</td>\n",
       "      <td>0</td>\n",
       "      <td>0</td>\n",
       "      <td>0</td>\n",
       "      <td>0</td>\n",
       "    </tr>\n",
       "    <tr>\n",
       "      <th>15372</th>\n",
       "      <td>1</td>\n",
       "      <td>2004</td>\n",
       "      <td>2013</td>\n",
       "      <td>2015</td>\n",
       "      <td>ESP15840</td>\n",
       "      <td>10</td>\n",
       "      <td>excelsior</td>\n",
       "      <td>passages fréquents et arrêts fréquents</td>\n",
       "      <td>Fraxinus</td>\n",
       "      <td>0</td>\n",
       "      <td>...</td>\n",
       "      <td>vigoureux</td>\n",
       "      <td>1.913037e+06</td>\n",
       "      <td>4.225100e+06</td>\n",
       "      <td>0</td>\n",
       "      <td>0</td>\n",
       "      <td>0</td>\n",
       "      <td>0</td>\n",
       "      <td>0</td>\n",
       "      <td>2</td>\n",
       "      <td>0</td>\n",
       "    </tr>\n",
       "    <tr>\n",
       "      <th>15373</th>\n",
       "      <td>4</td>\n",
       "      <td>2004</td>\n",
       "      <td>2014</td>\n",
       "      <td>2015</td>\n",
       "      <td>ESP1436</td>\n",
       "      <td>10</td>\n",
       "      <td>styraciflua</td>\n",
       "      <td>passages fréquents et arrêts fréquents</td>\n",
       "      <td>Liquidambar</td>\n",
       "      <td>0</td>\n",
       "      <td>...</td>\n",
       "      <td>vigoureux</td>\n",
       "      <td>1.914695e+06</td>\n",
       "      <td>4.222890e+06</td>\n",
       "      <td>0</td>\n",
       "      <td>0</td>\n",
       "      <td>0</td>\n",
       "      <td>0</td>\n",
       "      <td>0</td>\n",
       "      <td>1</td>\n",
       "      <td>0</td>\n",
       "    </tr>\n",
       "    <tr>\n",
       "      <th>15374</th>\n",
       "      <td>1</td>\n",
       "      <td>2014</td>\n",
       "      <td>2014</td>\n",
       "      <td>2019</td>\n",
       "      <td>ESP33333</td>\n",
       "      <td>10</td>\n",
       "      <td>mandshurica</td>\n",
       "      <td>passages fréquents ou arrêts</td>\n",
       "      <td>Fraxinus</td>\n",
       "      <td>0</td>\n",
       "      <td>...</td>\n",
       "      <td>vigoureux</td>\n",
       "      <td>1.911907e+06</td>\n",
       "      <td>4.226534e+06</td>\n",
       "      <td>0</td>\n",
       "      <td>0</td>\n",
       "      <td>0</td>\n",
       "      <td>0</td>\n",
       "      <td>0</td>\n",
       "      <td>5</td>\n",
       "      <td>0</td>\n",
       "    </tr>\n",
       "  </tbody>\n",
       "</table>\n",
       "<p>15375 rows × 33 columns</p>\n",
       "</div>"
      ],
      "text/plain": [
       "       ADR_SECTEUR  ANNEEDEPLANTATION  ANNEEREALISATIONDIAGNOSTIC  \\\n",
       "0                5               2014                        2014   \n",
       "1                3               2004                        2013   \n",
       "2                3               2004                        2014   \n",
       "3                2               2004                        2014   \n",
       "4                1               2004                        2013   \n",
       "...            ...                ...                         ...   \n",
       "15370            3               2004                        2013   \n",
       "15371            4               2004                        2014   \n",
       "15372            1               2004                        2013   \n",
       "15373            4               2004                        2014   \n",
       "15374            1               2014                        2014   \n",
       "\n",
       "       ANNEETRAVAUXPRECONISESDIAG      CODE DIAMETREARBREAUNMETRE  \\\n",
       "0                            2019  ESP33155                    10   \n",
       "1                            2015   ESP2079                    30   \n",
       "2                            2014  ESP26205                    10   \n",
       "3                            2014   ESP7496                    40   \n",
       "4                            2015   ESP2547                    20   \n",
       "...                           ...       ...                   ...   \n",
       "15370                        2015  ESP29359                     0   \n",
       "15371                        2014  ESP12605                    40   \n",
       "15372                        2015  ESP15840                    10   \n",
       "15373                        2015   ESP1436                    10   \n",
       "15374                        2019  ESP33333                    10   \n",
       "\n",
       "            ESPECE                      FREQUENTATIONCIBLE   GENRE_BOTA  \\\n",
       "0          cordata            passages fréquents ou arrêts        Alnus   \n",
       "1       acerifolia  passages fréquents et arrêts fréquents     Platanus   \n",
       "2      grandiflora            passages fréquents ou arrêts     Magnolia   \n",
       "3         japonica  passages fréquents et arrêts fréquents      Sophora   \n",
       "4        americana  passages fréquents et arrêts fréquents     Fraxinus   \n",
       "...            ...                                     ...          ...   \n",
       "15370        nigra  passages fréquents et arrêts fréquents        Pinus   \n",
       "15371   acerifolia  passages fréquents et arrêts fréquents     Platanus   \n",
       "15372    excelsior  passages fréquents et arrêts fréquents     Fraxinus   \n",
       "15373  styraciflua  passages fréquents et arrêts fréquents  Liquidambar   \n",
       "15374  mandshurica            passages fréquents ou arrêts     Fraxinus   \n",
       "\n",
       "      IDENTIFIANTPLU  ...    VIGUEUR       coord_x       coord_y DEFAUT  \\\n",
       "0                  0  ...  vigoureux  1.915371e+06  4.222837e+06      0   \n",
       "1                  0  ...  vigoureux  1.913250e+06  4.222531e+06      0   \n",
       "2                  0  ...  vigoureux  1.913087e+06  4.223524e+06      0   \n",
       "3                  0  ...  vigoureux  1.914187e+06  4.224275e+06      1   \n",
       "4                  0  ...  vigoureux  1.912975e+06  4.225210e+06      0   \n",
       "...              ...  ...        ...           ...           ...    ...   \n",
       "15370              0  ...  vigoureux  1.912985e+06  4.222215e+06      0   \n",
       "15371              0  ...  vigoureux  1.913534e+06  4.223000e+06      0   \n",
       "15372              0  ...  vigoureux  1.913037e+06  4.225100e+06      0   \n",
       "15373              0  ...  vigoureux  1.914695e+06  4.222890e+06      0   \n",
       "15374              0  ...  vigoureux  1.911907e+06  4.226534e+06      0   \n",
       "\n",
       "      Collet Houppier  Racine  Tronc NbAnnéesAvantProchainDiag  \\\n",
       "0          0        0       0      0                         5   \n",
       "1          0        0       0      0                         2   \n",
       "2          0        0       0      0                         0   \n",
       "3          0        1       1      0                         0   \n",
       "4          0        0       0      0                         2   \n",
       "...      ...      ...     ...    ...                       ...   \n",
       "15370      0        0       0      0                         2   \n",
       "15371      0        0       0      0                         0   \n",
       "15372      0        0       0      0                         2   \n",
       "15373      0        0       0      0                         1   \n",
       "15374      0        0       0      0                         5   \n",
       "\n",
       "      EVOLUTIONJSQDIAG  \n",
       "0                    0  \n",
       "1                    0  \n",
       "2                    0  \n",
       "3                    0  \n",
       "4                    0  \n",
       "...                ...  \n",
       "15370                1  \n",
       "15371                0  \n",
       "15372                0  \n",
       "15373                0  \n",
       "15374                0  \n",
       "\n",
       "[15375 rows x 33 columns]"
      ]
     },
     "execution_count": 827,
     "metadata": {},
     "output_type": "execute_result"
    }
   ],
   "source": [
    "df_arbres"
   ]
  },
  {
   "cell_type": "code",
   "execution_count": 828,
   "metadata": {},
   "outputs": [],
   "source": [
    "#Variable TRAITEMENTCHENILLES\n",
    "\n",
    "#Remplacement NaN Values par 0"
   ]
  },
  {
   "cell_type": "code",
   "execution_count": 829,
   "metadata": {},
   "outputs": [
    {
     "data": {
      "text/plain": [
       "14287"
      ]
     },
     "execution_count": 829,
     "metadata": {},
     "output_type": "execute_result"
    }
   ],
   "source": [
    "df_arbres.TRAITEMENTCHENILLES.isna().sum()"
   ]
  },
  {
   "cell_type": "code",
   "execution_count": 830,
   "metadata": {},
   "outputs": [
    {
     "data": {
      "text/plain": [
       "Haute      709\n",
       "Moyenne    311\n",
       "Basse       68\n",
       "Name: TRAITEMENTCHENILLES, dtype: int64"
      ]
     },
     "execution_count": 830,
     "metadata": {},
     "output_type": "execute_result"
    }
   ],
   "source": [
    "df_arbres['TRAITEMENTCHENILLES'].value_counts()"
   ]
  },
  {
   "cell_type": "code",
   "execution_count": 831,
   "metadata": {},
   "outputs": [],
   "source": [
    "df_arbres['TRAITEMENTCHENILLES'] = df_arbres['TRAITEMENTCHENILLES'].replace(np.nan,0)"
   ]
  },
  {
   "cell_type": "code",
   "execution_count": 832,
   "metadata": {},
   "outputs": [
    {
     "data": {
      "text/plain": [
       "0"
      ]
     },
     "execution_count": 832,
     "metadata": {},
     "output_type": "execute_result"
    }
   ],
   "source": [
    "df_arbres.TRAITEMENTCHENILLES.isna().sum()"
   ]
  },
  {
   "cell_type": "code",
   "execution_count": 833,
   "metadata": {},
   "outputs": [
    {
     "data": {
      "text/plain": [
       "0          14287\n",
       "Haute        709\n",
       "Moyenne      311\n",
       "Basse         68\n",
       "Name: TRAITEMENTCHENILLES, dtype: int64"
      ]
     },
     "execution_count": 833,
     "metadata": {},
     "output_type": "execute_result"
    }
   ],
   "source": [
    "df_arbres['TRAITEMENTCHENILLES'].value_counts()"
   ]
  },
  {
   "cell_type": "code",
   "execution_count": 834,
   "metadata": {},
   "outputs": [],
   "source": [
    "#Variable TRAVAUXPRECONISESDIAG\n",
    "\n",
    "#Remplacement NaN Values par 0"
   ]
  },
  {
   "cell_type": "code",
   "execution_count": 835,
   "metadata": {},
   "outputs": [
    {
     "data": {
      "text/plain": [
       "4525"
      ]
     },
     "execution_count": 835,
     "metadata": {},
     "output_type": "execute_result"
    }
   ],
   "source": [
    "df_arbres.TRAVAUXPRECONISESDIAG.isna().sum()"
   ]
  },
  {
   "cell_type": "code",
   "execution_count": 836,
   "metadata": {},
   "outputs": [
    {
     "data": {
      "text/plain": [
       "Taille formation et mise au gabarit      4616\n",
       "Controle                                 2493\n",
       "Taille de bois mort                      1660\n",
       "Taille cohabitation                       564\n",
       "Taille mise en sécurité                   418\n",
       "Taille déclaircie                         365\n",
       "Abattage                                  220\n",
       "Aménagement pieds darbres                 162\n",
       "Controle tuteur attache ou protection     144\n",
       "Taille de prolongement                    108\n",
       "Taille rideau                              59\n",
       "Arrosage                                   19\n",
       "Emondage                                    8\n",
       "Controle résistographe                      7\n",
       "Haubannage                                  7\n",
       "Name: TRAVAUXPRECONISESDIAG, dtype: int64"
      ]
     },
     "execution_count": 836,
     "metadata": {},
     "output_type": "execute_result"
    }
   ],
   "source": [
    "df_arbres['TRAVAUXPRECONISESDIAG'].value_counts()"
   ]
  },
  {
   "cell_type": "code",
   "execution_count": 837,
   "metadata": {},
   "outputs": [],
   "source": [
    "df_arbres['TRAVAUXPRECONISESDIAG'] = df_arbres['TRAVAUXPRECONISESDIAG'].replace(np.nan,0)"
   ]
  },
  {
   "cell_type": "code",
   "execution_count": 838,
   "metadata": {},
   "outputs": [
    {
     "data": {
      "text/plain": [
       "30     219\n",
       "20     217\n",
       "40     186\n",
       "10     136\n",
       "50     129\n",
       "60      41\n",
       "0       40\n",
       "70      15\n",
       "80      13\n",
       "30       3\n",
       "90       2\n",
       "100      1\n",
       "120      1\n",
       "130      1\n",
       "110      1\n",
       "Name: DIAMETREARBREAUNMETRE, dtype: int64"
      ]
     },
     "execution_count": 838,
     "metadata": {},
     "output_type": "execute_result"
    }
   ],
   "source": [
    "#Variable Tilia = 30 cm de diamètre en général le plus fréquent\n",
    "df_arbres_Tilia = df_arbres[df_arbres['GENRE_BOTA'] == 'Tilia']\n",
    "df_arbres_Tilia['DIAMETREARBREAUNMETRE'].value_counts()"
   ]
  },
  {
   "cell_type": "code",
   "execution_count": 839,
   "metadata": {},
   "outputs": [
    {
     "data": {
      "text/plain": [
       "0"
      ]
     },
     "execution_count": 839,
     "metadata": {},
     "output_type": "execute_result"
    }
   ],
   "source": [
    "df_arbres.TRAVAUXPRECONISESDIAG.isna().sum()"
   ]
  },
  {
   "cell_type": "code",
   "execution_count": 840,
   "metadata": {},
   "outputs": [
    {
     "data": {
      "text/plain": [
       "Taille formation et mise au gabarit      4616\n",
       "0                                        4525\n",
       "Controle                                 2493\n",
       "Taille de bois mort                      1660\n",
       "Taille cohabitation                       564\n",
       "Taille mise en sécurité                   418\n",
       "Taille déclaircie                         365\n",
       "Abattage                                  220\n",
       "Aménagement pieds darbres                 162\n",
       "Controle tuteur attache ou protection     144\n",
       "Taille de prolongement                    108\n",
       "Taille rideau                              59\n",
       "Arrosage                                   19\n",
       "Emondage                                    8\n",
       "Controle résistographe                      7\n",
       "Haubannage                                  7\n",
       "Name: TRAVAUXPRECONISESDIAG, dtype: int64"
      ]
     },
     "execution_count": 840,
     "metadata": {},
     "output_type": "execute_result"
    }
   ],
   "source": [
    "df_arbres['TRAVAUXPRECONISESDIAG'].value_counts()"
   ]
  },
  {
   "cell_type": "code",
   "execution_count": 841,
   "metadata": {},
   "outputs": [
    {
     "data": {
      "text/plain": [
       "0"
      ]
     },
     "execution_count": 841,
     "metadata": {},
     "output_type": "execute_result"
    }
   ],
   "source": [
    "df_arbres.CODE.isna().sum()"
   ]
  },
  {
   "cell_type": "code",
   "execution_count": 842,
   "metadata": {},
   "outputs": [
    {
     "data": {
      "text/plain": [
       "ESP26690    1\n",
       "ESP33400    1\n",
       "ESP33293    1\n",
       "ESP13294    1\n",
       "ESP11353    1\n",
       "           ..\n",
       "ESP30304    1\n",
       "ESP23187    1\n",
       "ESP18541    1\n",
       "ESP27854    1\n",
       "ESP18760    1\n",
       "Name: CODE, Length: 15375, dtype: int64"
      ]
     },
     "execution_count": 842,
     "metadata": {},
     "output_type": "execute_result"
    }
   ],
   "source": [
    "df_arbres['CODE'].value_counts()"
   ]
  },
  {
   "cell_type": "code",
   "execution_count": 843,
   "metadata": {},
   "outputs": [],
   "source": [
    "#Variable PrioritéRenouvellement\n",
    "\n",
    "#Remplacement sius format d'intervalle"
   ]
  },
  {
   "cell_type": "code",
   "execution_count": 844,
   "metadata": {},
   "outputs": [
    {
     "data": {
      "text/plain": [
       "127"
      ]
     },
     "execution_count": 844,
     "metadata": {},
     "output_type": "execute_result"
    }
   ],
   "source": [
    "df_arbres.PRIORITEDERENOUVELLEMENT.isna().sum()"
   ]
  },
  {
   "cell_type": "code",
   "execution_count": 845,
   "metadata": {},
   "outputs": [
    {
     "data": {
      "text/plain": [
       "0        plus de 20 ans\n",
       "1        plus de 20 ans\n",
       "2        plus de 20 ans\n",
       "3        plus de 20 ans\n",
       "4        plus de 20 ans\n",
       "              ...      \n",
       "15370    plus de 20 ans\n",
       "15371    plus de 20 ans\n",
       "15372    plus de 20 ans\n",
       "15373    plus de 20 ans\n",
       "15374    plus de 20 ans\n",
       "Name: PRIORITEDERENOUVELLEMENT, Length: 15375, dtype: object"
      ]
     },
     "execution_count": 845,
     "metadata": {},
     "output_type": "execute_result"
    }
   ],
   "source": [
    "df_arbres['PRIORITEDERENOUVELLEMENT']"
   ]
  },
  {
   "cell_type": "code",
   "execution_count": 846,
   "metadata": {},
   "outputs": [
    {
     "data": {
      "text/plain": [
       "plus de 20 ans    11371\n",
       "de 11 à 20 ans     2922\n",
       "de 6 à 10 ans       612\n",
       "de 1 à 5 ans        343\n",
       "Name: PRIORITEDERENOUVELLEMENT, dtype: int64"
      ]
     },
     "execution_count": 846,
     "metadata": {},
     "output_type": "execute_result"
    }
   ],
   "source": [
    "df_arbres['PRIORITEDERENOUVELLEMENT'].value_counts()"
   ]
  },
  {
   "cell_type": "code",
   "execution_count": 847,
   "metadata": {},
   "outputs": [],
   "source": [
    "df_arbres['PRIORITEDERENOUVELLEMENT'] = df_arbres['PRIORITEDERENOUVELLEMENT'].replace(\"plus de 20 ans\",\"20-100\")\n",
    "df_arbres['PRIORITEDERENOUVELLEMENT'] = df_arbres['PRIORITEDERENOUVELLEMENT'].replace(\"de 11 à 20 ans\",\"11-20\")\n",
    "df_arbres['PRIORITEDERENOUVELLEMENT'] = df_arbres['PRIORITEDERENOUVELLEMENT'].replace(\"de 6 à 10 ans\",\"6-10\")\n",
    "df_arbres['PRIORITEDERENOUVELLEMENT'] = df_arbres['PRIORITEDERENOUVELLEMENT'].replace(\"de 1 à 5 ans\",\"1-5\")\n",
    "df_arbres['PRIORITEDERENOUVELLEMENT'] = df_arbres['PRIORITEDERENOUVELLEMENT'].replace(\"de 1 à 5 ans\",\"1-5\")"
   ]
  },
  {
   "cell_type": "code",
   "execution_count": 848,
   "metadata": {},
   "outputs": [
    {
     "data": {
      "text/plain": [
       "20-100    11371\n",
       "11-20      2922\n",
       "6-10        612\n",
       "1-5         343\n",
       "Name: PRIORITEDERENOUVELLEMENT, dtype: int64"
      ]
     },
     "execution_count": 848,
     "metadata": {},
     "output_type": "execute_result"
    }
   ],
   "source": [
    "df_arbres['PRIORITEDERENOUVELLEMENT'].value_counts()"
   ]
  },
  {
   "cell_type": "code",
   "execution_count": 849,
   "metadata": {},
   "outputs": [],
   "source": [
    "df_arbres['PRIORITEDERENOUVELLEMENT'] = df_arbres['PRIORITEDERENOUVELLEMENT'].replace(np.nan,0)"
   ]
  },
  {
   "cell_type": "code",
   "execution_count": 850,
   "metadata": {},
   "outputs": [
    {
     "data": {
      "text/plain": [
       "0"
      ]
     },
     "execution_count": 850,
     "metadata": {},
     "output_type": "execute_result"
    }
   ],
   "source": [
    "df_arbres.PRIORITEDERENOUVELLEMENT.isna().sum()"
   ]
  },
  {
   "cell_type": "code",
   "execution_count": null,
   "metadata": {},
   "outputs": [],
   "source": []
  },
  {
   "cell_type": "code",
   "execution_count": 851,
   "metadata": {},
   "outputs": [],
   "source": [
    "#Gestion Variable Remarques\n",
    "\n",
    "#Test de l'algo StringToWordVector --> Découpage du texte en plusieurs mots + fréquence d'apparition de chacun\n",
    "# Pour les mots à la plus haute fréquence --> Deviennent des attributs 0 ou 1 selon l'apparition\n",
    "\n",
    "# Du coup, Présence de remarque --> 1\n",
    "#Abscence de remarque --> 0"
   ]
  },
  {
   "cell_type": "code",
   "execution_count": 852,
   "metadata": {},
   "outputs": [
    {
     "data": {
      "text/plain": [
       "11176"
      ]
     },
     "execution_count": 852,
     "metadata": {},
     "output_type": "execute_result"
    }
   ],
   "source": [
    "df_arbres.REMARQUES.isna().sum()"
   ]
  },
  {
   "cell_type": "code",
   "execution_count": 853,
   "metadata": {},
   "outputs": [
    {
     "data": {
      "text/plain": [
       "Erreur espèce                                                                       138\n",
       "var. Wieri                                                                           84\n",
       "Erreur essence                                                                       81\n",
       "Têtes de chat                                                                        76\n",
       "Essence ne correspondant pas sur le terrain                                          69\n",
       "                                                                                   ... \n",
       "Fissure de lécorce côté ouest  Erreur essence                                         1\n",
       "Réduire le houppier                                                                   1\n",
       "2 fructification dinonotus à 2 endroits différents sur charpentière à mihouppier      1\n",
       "Remarquable par ses dimension                                                         1\n",
       "gui                                                                                   1\n",
       "Name: REMARQUES, Length: 1684, dtype: int64"
      ]
     },
     "execution_count": 853,
     "metadata": {},
     "output_type": "execute_result"
    }
   ],
   "source": [
    "df_arbres['REMARQUES'].value_counts()"
   ]
  },
  {
   "cell_type": "code",
   "execution_count": 854,
   "metadata": {},
   "outputs": [],
   "source": [
    "#False --> NaN Value\n",
    "#True --> Chaînes de caractères\n",
    "\n",
    "df_arbres['REMARQUES'] = df_arbres['REMARQUES'].notna()"
   ]
  },
  {
   "cell_type": "code",
   "execution_count": 860,
   "metadata": {},
   "outputs": [
    {
     "data": {
      "text/plain": [
       "0        False\n",
       "1        False\n",
       "2        False\n",
       "3         True\n",
       "4        False\n",
       "         ...  \n",
       "15370    False\n",
       "15371    False\n",
       "15372    False\n",
       "15373     True\n",
       "15374    False\n",
       "Name: REMARQUES, Length: 15375, dtype: bool"
      ]
     },
     "execution_count": 860,
     "metadata": {},
     "output_type": "execute_result"
    }
   ],
   "source": [
    "df_arbres['REMARQUES']"
   ]
  },
  {
   "cell_type": "code",
   "execution_count": 861,
   "metadata": {},
   "outputs": [],
   "source": [
    "df_arbres['REMARQUES'] = df_arbres['REMARQUES'].astype('int')"
   ]
  },
  {
   "cell_type": "code",
   "execution_count": 862,
   "metadata": {},
   "outputs": [
    {
     "data": {
      "text/plain": [
       "0    11176\n",
       "1     4199\n",
       "Name: REMARQUES, dtype: int64"
      ]
     },
     "execution_count": 862,
     "metadata": {},
     "output_type": "execute_result"
    }
   ],
   "source": [
    "df_arbres['REMARQUES'].value_counts()"
   ]
  },
  {
   "cell_type": "code",
   "execution_count": 863,
   "metadata": {},
   "outputs": [
    {
     "data": {
      "text/plain": [
       "0        0\n",
       "1        0\n",
       "2        0\n",
       "3        1\n",
       "4        0\n",
       "        ..\n",
       "15370    0\n",
       "15371    0\n",
       "15372    0\n",
       "15373    1\n",
       "15374    0\n",
       "Name: REMARQUES, Length: 15375, dtype: int32"
      ]
     },
     "execution_count": 863,
     "metadata": {},
     "output_type": "execute_result"
    }
   ],
   "source": [
    "df_arbres['REMARQUES']"
   ]
  },
  {
   "cell_type": "code",
   "execution_count": 864,
   "metadata": {},
   "outputs": [
    {
     "data": {
      "text/plain": [
       "0"
      ]
     },
     "execution_count": 864,
     "metadata": {},
     "output_type": "execute_result"
    }
   ],
   "source": [
    "df_arbres.isnull().sum().sum()"
   ]
  },
  {
   "cell_type": "code",
   "execution_count": 865,
   "metadata": {},
   "outputs": [
    {
     "data": {
      "text/html": [
       "<div>\n",
       "<style scoped>\n",
       "    .dataframe tbody tr th:only-of-type {\n",
       "        vertical-align: middle;\n",
       "    }\n",
       "\n",
       "    .dataframe tbody tr th {\n",
       "        vertical-align: top;\n",
       "    }\n",
       "\n",
       "    .dataframe thead th {\n",
       "        text-align: right;\n",
       "    }\n",
       "</style>\n",
       "<table border=\"1\" class=\"dataframe\">\n",
       "  <thead>\n",
       "    <tr style=\"text-align: right;\">\n",
       "      <th></th>\n",
       "      <th>ADR_SECTEUR</th>\n",
       "      <th>ANNEEDEPLANTATION</th>\n",
       "      <th>ANNEEREALISATIONDIAGNOSTIC</th>\n",
       "      <th>ANNEETRAVAUXPRECONISESDIAG</th>\n",
       "      <th>CODE</th>\n",
       "      <th>DIAMETREARBREAUNMETRE</th>\n",
       "      <th>ESPECE</th>\n",
       "      <th>FREQUENTATIONCIBLE</th>\n",
       "      <th>GENRE_BOTA</th>\n",
       "      <th>IDENTIFIANTPLU</th>\n",
       "      <th>...</th>\n",
       "      <th>VIGUEUR</th>\n",
       "      <th>coord_x</th>\n",
       "      <th>coord_y</th>\n",
       "      <th>DEFAUT</th>\n",
       "      <th>Collet</th>\n",
       "      <th>Houppier</th>\n",
       "      <th>Racine</th>\n",
       "      <th>Tronc</th>\n",
       "      <th>NbAnnéesAvantProchainDiag</th>\n",
       "      <th>EVOLUTIONJSQDIAG</th>\n",
       "    </tr>\n",
       "  </thead>\n",
       "  <tbody>\n",
       "    <tr>\n",
       "      <th>0</th>\n",
       "      <td>5</td>\n",
       "      <td>2014</td>\n",
       "      <td>2014</td>\n",
       "      <td>2019</td>\n",
       "      <td>ESP33155</td>\n",
       "      <td>10</td>\n",
       "      <td>cordata</td>\n",
       "      <td>passages fréquents ou arrêts</td>\n",
       "      <td>Alnus</td>\n",
       "      <td>0</td>\n",
       "      <td>...</td>\n",
       "      <td>vigoureux</td>\n",
       "      <td>1.915371e+06</td>\n",
       "      <td>4.222837e+06</td>\n",
       "      <td>0</td>\n",
       "      <td>0</td>\n",
       "      <td>0</td>\n",
       "      <td>0</td>\n",
       "      <td>0</td>\n",
       "      <td>5</td>\n",
       "      <td>0</td>\n",
       "    </tr>\n",
       "    <tr>\n",
       "      <th>1</th>\n",
       "      <td>3</td>\n",
       "      <td>2004</td>\n",
       "      <td>2013</td>\n",
       "      <td>2015</td>\n",
       "      <td>ESP2079</td>\n",
       "      <td>30</td>\n",
       "      <td>acerifolia</td>\n",
       "      <td>passages fréquents et arrêts fréquents</td>\n",
       "      <td>Platanus</td>\n",
       "      <td>0</td>\n",
       "      <td>...</td>\n",
       "      <td>vigoureux</td>\n",
       "      <td>1.913250e+06</td>\n",
       "      <td>4.222531e+06</td>\n",
       "      <td>0</td>\n",
       "      <td>0</td>\n",
       "      <td>0</td>\n",
       "      <td>0</td>\n",
       "      <td>0</td>\n",
       "      <td>2</td>\n",
       "      <td>0</td>\n",
       "    </tr>\n",
       "    <tr>\n",
       "      <th>2</th>\n",
       "      <td>3</td>\n",
       "      <td>2004</td>\n",
       "      <td>2014</td>\n",
       "      <td>2014</td>\n",
       "      <td>ESP26205</td>\n",
       "      <td>10</td>\n",
       "      <td>grandiflora</td>\n",
       "      <td>passages fréquents ou arrêts</td>\n",
       "      <td>Magnolia</td>\n",
       "      <td>0</td>\n",
       "      <td>...</td>\n",
       "      <td>vigoureux</td>\n",
       "      <td>1.913087e+06</td>\n",
       "      <td>4.223524e+06</td>\n",
       "      <td>0</td>\n",
       "      <td>0</td>\n",
       "      <td>0</td>\n",
       "      <td>0</td>\n",
       "      <td>0</td>\n",
       "      <td>0</td>\n",
       "      <td>0</td>\n",
       "    </tr>\n",
       "    <tr>\n",
       "      <th>3</th>\n",
       "      <td>2</td>\n",
       "      <td>2004</td>\n",
       "      <td>2014</td>\n",
       "      <td>2014</td>\n",
       "      <td>ESP7496</td>\n",
       "      <td>40</td>\n",
       "      <td>japonica</td>\n",
       "      <td>passages fréquents et arrêts fréquents</td>\n",
       "      <td>Sophora</td>\n",
       "      <td>0</td>\n",
       "      <td>...</td>\n",
       "      <td>vigoureux</td>\n",
       "      <td>1.914187e+06</td>\n",
       "      <td>4.224275e+06</td>\n",
       "      <td>1</td>\n",
       "      <td>0</td>\n",
       "      <td>1</td>\n",
       "      <td>1</td>\n",
       "      <td>0</td>\n",
       "      <td>0</td>\n",
       "      <td>0</td>\n",
       "    </tr>\n",
       "    <tr>\n",
       "      <th>4</th>\n",
       "      <td>1</td>\n",
       "      <td>2004</td>\n",
       "      <td>2013</td>\n",
       "      <td>2015</td>\n",
       "      <td>ESP2547</td>\n",
       "      <td>20</td>\n",
       "      <td>americana</td>\n",
       "      <td>passages fréquents et arrêts fréquents</td>\n",
       "      <td>Fraxinus</td>\n",
       "      <td>0</td>\n",
       "      <td>...</td>\n",
       "      <td>vigoureux</td>\n",
       "      <td>1.912975e+06</td>\n",
       "      <td>4.225210e+06</td>\n",
       "      <td>0</td>\n",
       "      <td>0</td>\n",
       "      <td>0</td>\n",
       "      <td>0</td>\n",
       "      <td>0</td>\n",
       "      <td>2</td>\n",
       "      <td>0</td>\n",
       "    </tr>\n",
       "    <tr>\n",
       "      <th>...</th>\n",
       "      <td>...</td>\n",
       "      <td>...</td>\n",
       "      <td>...</td>\n",
       "      <td>...</td>\n",
       "      <td>...</td>\n",
       "      <td>...</td>\n",
       "      <td>...</td>\n",
       "      <td>...</td>\n",
       "      <td>...</td>\n",
       "      <td>...</td>\n",
       "      <td>...</td>\n",
       "      <td>...</td>\n",
       "      <td>...</td>\n",
       "      <td>...</td>\n",
       "      <td>...</td>\n",
       "      <td>...</td>\n",
       "      <td>...</td>\n",
       "      <td>...</td>\n",
       "      <td>...</td>\n",
       "      <td>...</td>\n",
       "      <td>...</td>\n",
       "    </tr>\n",
       "    <tr>\n",
       "      <th>15370</th>\n",
       "      <td>3</td>\n",
       "      <td>2004</td>\n",
       "      <td>2013</td>\n",
       "      <td>2015</td>\n",
       "      <td>ESP29359</td>\n",
       "      <td>0</td>\n",
       "      <td>nigra</td>\n",
       "      <td>passages fréquents et arrêts fréquents</td>\n",
       "      <td>Pinus</td>\n",
       "      <td>0</td>\n",
       "      <td>...</td>\n",
       "      <td>vigoureux</td>\n",
       "      <td>1.912985e+06</td>\n",
       "      <td>4.222215e+06</td>\n",
       "      <td>0</td>\n",
       "      <td>0</td>\n",
       "      <td>0</td>\n",
       "      <td>0</td>\n",
       "      <td>0</td>\n",
       "      <td>2</td>\n",
       "      <td>1</td>\n",
       "    </tr>\n",
       "    <tr>\n",
       "      <th>15371</th>\n",
       "      <td>4</td>\n",
       "      <td>2004</td>\n",
       "      <td>2014</td>\n",
       "      <td>2014</td>\n",
       "      <td>ESP12605</td>\n",
       "      <td>40</td>\n",
       "      <td>acerifolia</td>\n",
       "      <td>passages fréquents et arrêts fréquents</td>\n",
       "      <td>Platanus</td>\n",
       "      <td>0</td>\n",
       "      <td>...</td>\n",
       "      <td>vigoureux</td>\n",
       "      <td>1.913534e+06</td>\n",
       "      <td>4.223000e+06</td>\n",
       "      <td>0</td>\n",
       "      <td>0</td>\n",
       "      <td>0</td>\n",
       "      <td>0</td>\n",
       "      <td>0</td>\n",
       "      <td>0</td>\n",
       "      <td>0</td>\n",
       "    </tr>\n",
       "    <tr>\n",
       "      <th>15372</th>\n",
       "      <td>1</td>\n",
       "      <td>2004</td>\n",
       "      <td>2013</td>\n",
       "      <td>2015</td>\n",
       "      <td>ESP15840</td>\n",
       "      <td>10</td>\n",
       "      <td>excelsior</td>\n",
       "      <td>passages fréquents et arrêts fréquents</td>\n",
       "      <td>Fraxinus</td>\n",
       "      <td>0</td>\n",
       "      <td>...</td>\n",
       "      <td>vigoureux</td>\n",
       "      <td>1.913037e+06</td>\n",
       "      <td>4.225100e+06</td>\n",
       "      <td>0</td>\n",
       "      <td>0</td>\n",
       "      <td>0</td>\n",
       "      <td>0</td>\n",
       "      <td>0</td>\n",
       "      <td>2</td>\n",
       "      <td>0</td>\n",
       "    </tr>\n",
       "    <tr>\n",
       "      <th>15373</th>\n",
       "      <td>4</td>\n",
       "      <td>2004</td>\n",
       "      <td>2014</td>\n",
       "      <td>2015</td>\n",
       "      <td>ESP1436</td>\n",
       "      <td>10</td>\n",
       "      <td>styraciflua</td>\n",
       "      <td>passages fréquents et arrêts fréquents</td>\n",
       "      <td>Liquidambar</td>\n",
       "      <td>0</td>\n",
       "      <td>...</td>\n",
       "      <td>vigoureux</td>\n",
       "      <td>1.914695e+06</td>\n",
       "      <td>4.222890e+06</td>\n",
       "      <td>0</td>\n",
       "      <td>0</td>\n",
       "      <td>0</td>\n",
       "      <td>0</td>\n",
       "      <td>0</td>\n",
       "      <td>1</td>\n",
       "      <td>0</td>\n",
       "    </tr>\n",
       "    <tr>\n",
       "      <th>15374</th>\n",
       "      <td>1</td>\n",
       "      <td>2014</td>\n",
       "      <td>2014</td>\n",
       "      <td>2019</td>\n",
       "      <td>ESP33333</td>\n",
       "      <td>10</td>\n",
       "      <td>mandshurica</td>\n",
       "      <td>passages fréquents ou arrêts</td>\n",
       "      <td>Fraxinus</td>\n",
       "      <td>0</td>\n",
       "      <td>...</td>\n",
       "      <td>vigoureux</td>\n",
       "      <td>1.911907e+06</td>\n",
       "      <td>4.226534e+06</td>\n",
       "      <td>0</td>\n",
       "      <td>0</td>\n",
       "      <td>0</td>\n",
       "      <td>0</td>\n",
       "      <td>0</td>\n",
       "      <td>5</td>\n",
       "      <td>0</td>\n",
       "    </tr>\n",
       "  </tbody>\n",
       "</table>\n",
       "<p>15375 rows × 33 columns</p>\n",
       "</div>"
      ],
      "text/plain": [
       "       ADR_SECTEUR  ANNEEDEPLANTATION  ANNEEREALISATIONDIAGNOSTIC  \\\n",
       "0                5               2014                        2014   \n",
       "1                3               2004                        2013   \n",
       "2                3               2004                        2014   \n",
       "3                2               2004                        2014   \n",
       "4                1               2004                        2013   \n",
       "...            ...                ...                         ...   \n",
       "15370            3               2004                        2013   \n",
       "15371            4               2004                        2014   \n",
       "15372            1               2004                        2013   \n",
       "15373            4               2004                        2014   \n",
       "15374            1               2014                        2014   \n",
       "\n",
       "       ANNEETRAVAUXPRECONISESDIAG      CODE DIAMETREARBREAUNMETRE  \\\n",
       "0                            2019  ESP33155                    10   \n",
       "1                            2015   ESP2079                    30   \n",
       "2                            2014  ESP26205                    10   \n",
       "3                            2014   ESP7496                    40   \n",
       "4                            2015   ESP2547                    20   \n",
       "...                           ...       ...                   ...   \n",
       "15370                        2015  ESP29359                     0   \n",
       "15371                        2014  ESP12605                    40   \n",
       "15372                        2015  ESP15840                    10   \n",
       "15373                        2015   ESP1436                    10   \n",
       "15374                        2019  ESP33333                    10   \n",
       "\n",
       "            ESPECE                      FREQUENTATIONCIBLE   GENRE_BOTA  \\\n",
       "0          cordata            passages fréquents ou arrêts        Alnus   \n",
       "1       acerifolia  passages fréquents et arrêts fréquents     Platanus   \n",
       "2      grandiflora            passages fréquents ou arrêts     Magnolia   \n",
       "3         japonica  passages fréquents et arrêts fréquents      Sophora   \n",
       "4        americana  passages fréquents et arrêts fréquents     Fraxinus   \n",
       "...            ...                                     ...          ...   \n",
       "15370        nigra  passages fréquents et arrêts fréquents        Pinus   \n",
       "15371   acerifolia  passages fréquents et arrêts fréquents     Platanus   \n",
       "15372    excelsior  passages fréquents et arrêts fréquents     Fraxinus   \n",
       "15373  styraciflua  passages fréquents et arrêts fréquents  Liquidambar   \n",
       "15374  mandshurica            passages fréquents ou arrêts     Fraxinus   \n",
       "\n",
       "      IDENTIFIANTPLU  ...    VIGUEUR       coord_x       coord_y  DEFAUT  \\\n",
       "0                  0  ...  vigoureux  1.915371e+06  4.222837e+06       0   \n",
       "1                  0  ...  vigoureux  1.913250e+06  4.222531e+06       0   \n",
       "2                  0  ...  vigoureux  1.913087e+06  4.223524e+06       0   \n",
       "3                  0  ...  vigoureux  1.914187e+06  4.224275e+06       1   \n",
       "4                  0  ...  vigoureux  1.912975e+06  4.225210e+06       0   \n",
       "...              ...  ...        ...           ...           ...     ...   \n",
       "15370              0  ...  vigoureux  1.912985e+06  4.222215e+06       0   \n",
       "15371              0  ...  vigoureux  1.913534e+06  4.223000e+06       0   \n",
       "15372              0  ...  vigoureux  1.913037e+06  4.225100e+06       0   \n",
       "15373              0  ...  vigoureux  1.914695e+06  4.222890e+06       0   \n",
       "15374              0  ...  vigoureux  1.911907e+06  4.226534e+06       0   \n",
       "\n",
       "      Collet Houppier  Racine  Tronc NbAnnéesAvantProchainDiag  \\\n",
       "0          0        0       0      0                         5   \n",
       "1          0        0       0      0                         2   \n",
       "2          0        0       0      0                         0   \n",
       "3          0        1       1      0                         0   \n",
       "4          0        0       0      0                         2   \n",
       "...      ...      ...     ...    ...                       ...   \n",
       "15370      0        0       0      0                         2   \n",
       "15371      0        0       0      0                         0   \n",
       "15372      0        0       0      0                         2   \n",
       "15373      0        0       0      0                         1   \n",
       "15374      0        0       0      0                         5   \n",
       "\n",
       "      EVOLUTIONJSQDIAG  \n",
       "0                    0  \n",
       "1                    0  \n",
       "2                    0  \n",
       "3                    0  \n",
       "4                    0  \n",
       "...                ...  \n",
       "15370                1  \n",
       "15371                0  \n",
       "15372                0  \n",
       "15373                0  \n",
       "15374                0  \n",
       "\n",
       "[15375 rows x 33 columns]"
      ]
     },
     "execution_count": 865,
     "metadata": {},
     "output_type": "execute_result"
    }
   ],
   "source": [
    "df_arbres"
   ]
  },
  {
   "cell_type": "markdown",
   "metadata": {},
   "source": [
    "# Typage des variables"
   ]
  },
  {
   "cell_type": "markdown",
   "metadata": {},
   "source": [
    "###  Transformation en integer"
   ]
  },
  {
   "cell_type": "code",
   "execution_count": 866,
   "metadata": {},
   "outputs": [],
   "source": [
    "df_arbres[\"DIAMETREARBREAUNMETRE\"] = df_arbres[\"DIAMETREARBREAUNMETRE\"].astype(int)"
   ]
  },
  {
   "cell_type": "code",
   "execution_count": 867,
   "metadata": {},
   "outputs": [],
   "source": [
    "df_arbres ['ANNEEREALISATIONDIAGNOSTIC'] = df_arbres ['ANNEEREALISATIONDIAGNOSTIC'].astype(int)"
   ]
  },
  {
   "cell_type": "code",
   "execution_count": 868,
   "metadata": {},
   "outputs": [],
   "source": [
    "df_arbres ['ANNEETRAVAUXPRECONISESDIAG'] = df_arbres ['ANNEETRAVAUXPRECONISESDIAG'].astype(int)"
   ]
  },
  {
   "cell_type": "code",
   "execution_count": 869,
   "metadata": {},
   "outputs": [],
   "source": [
    "df_arbres ['IDENTIFIANTPLU'] = df_arbres ['IDENTIFIANTPLU'].astype(int)"
   ]
  },
  {
   "cell_type": "code",
   "execution_count": 870,
   "metadata": {},
   "outputs": [],
   "source": [
    "df_arbres['NbAnnéesAvantProchainDiag'] = df_arbres['NbAnnéesAvantProchainDiag'].astype(int)"
   ]
  },
  {
   "cell_type": "code",
   "execution_count": null,
   "metadata": {},
   "outputs": [],
   "source": []
  },
  {
   "cell_type": "markdown",
   "metadata": {},
   "source": [
    "### Transformation en catégorielle"
   ]
  },
  {
   "cell_type": "code",
   "execution_count": 871,
   "metadata": {},
   "outputs": [],
   "source": [
    "df_arbres ['ADR_SECTEUR'] = df_arbres ['ADR_SECTEUR'].astype(\"category\")"
   ]
  },
  {
   "cell_type": "code",
   "execution_count": 872,
   "metadata": {},
   "outputs": [],
   "source": [
    "df_arbres ['Collet'] = df_arbres ['Collet'].astype(\"category\")"
   ]
  },
  {
   "cell_type": "code",
   "execution_count": 873,
   "metadata": {},
   "outputs": [],
   "source": [
    "df_arbres ['Houppier'] = df_arbres ['Houppier'].astype(\"category\")"
   ]
  },
  {
   "cell_type": "code",
   "execution_count": 874,
   "metadata": {},
   "outputs": [],
   "source": [
    "df_arbres ['Racine'] = df_arbres ['Racine'].astype(\"category\")"
   ]
  },
  {
   "cell_type": "code",
   "execution_count": 875,
   "metadata": {},
   "outputs": [],
   "source": [
    "df_arbres ['Tronc'] = df_arbres ['Tronc'].astype(\"category\")"
   ]
  },
  {
   "cell_type": "code",
   "execution_count": 876,
   "metadata": {},
   "outputs": [],
   "source": [
    "df_arbres ['DEFAUT'] = df_arbres ['DEFAUT'].astype(\"category\")"
   ]
  },
  {
   "cell_type": "code",
   "execution_count": 877,
   "metadata": {},
   "outputs": [],
   "source": [
    "df_arbres ['FREQUENTATIONCIBLE'] = df_arbres ['FREQUENTATIONCIBLE'].astype(\"category\")"
   ]
  },
  {
   "cell_type": "code",
   "execution_count": 878,
   "metadata": {},
   "outputs": [],
   "source": [
    "df_arbres['VARIETE'] = df_arbres ['VARIETE'].astype(\"category\")"
   ]
  },
  {
   "cell_type": "code",
   "execution_count": 879,
   "metadata": {},
   "outputs": [],
   "source": [
    "df_arbres['NOTEDIAGNOSTIC'] = df_arbres ['NOTEDIAGNOSTIC'].astype(\"category\")"
   ]
  },
  {
   "cell_type": "code",
   "execution_count": 880,
   "metadata": {},
   "outputs": [],
   "source": [
    "df_arbres['ESPECE'] = df_arbres ['ESPECE'].astype(\"category\")"
   ]
  },
  {
   "cell_type": "code",
   "execution_count": 881,
   "metadata": {},
   "outputs": [],
   "source": [
    "df_arbres['RAISONDEPLANTATION'] = df_arbres ['RAISONDEPLANTATION'].astype(\"category\")"
   ]
  },
  {
   "cell_type": "code",
   "execution_count": 882,
   "metadata": {},
   "outputs": [],
   "source": [
    "df_arbres['STADEDEDEVELOPPEMENT'] = df_arbres ['STADEDEDEVELOPPEMENT'].astype(\"category\")"
   ]
  },
  {
   "cell_type": "code",
   "execution_count": 883,
   "metadata": {},
   "outputs": [],
   "source": [
    "df_arbres['STADEDEVELOPPEMENTDIAG'] = df_arbres ['STADEDEVELOPPEMENTDIAG'].astype(\"category\")"
   ]
  },
  {
   "cell_type": "code",
   "execution_count": 884,
   "metadata": {},
   "outputs": [],
   "source": [
    "df_arbres['TYPEIMPLANTATIONPLU'] = df_arbres ['TYPEIMPLANTATIONPLU'].astype(\"category\")"
   ]
  },
  {
   "cell_type": "code",
   "execution_count": 885,
   "metadata": {},
   "outputs": [],
   "source": [
    "df_arbres['VIGUEUR'] = df_arbres ['VIGUEUR'].astype(\"category\")"
   ]
  },
  {
   "cell_type": "code",
   "execution_count": 886,
   "metadata": {},
   "outputs": [],
   "source": [
    "df_arbres['SOUS_CATEGORIE'] = df_arbres ['SOUS_CATEGORIE'].astype(\"category\")"
   ]
  },
  {
   "cell_type": "code",
   "execution_count": 887,
   "metadata": {},
   "outputs": [],
   "source": [
    "df_arbres['SOUS_CATEGORIE_DESC'] = df_arbres ['SOUS_CATEGORIE_DESC'].astype(\"category\")"
   ]
  },
  {
   "cell_type": "code",
   "execution_count": 888,
   "metadata": {},
   "outputs": [],
   "source": [
    "df_arbres['IDENTIFIANTPLU'] = df_arbres ['IDENTIFIANTPLU'].astype(\"category\")"
   ]
  },
  {
   "cell_type": "code",
   "execution_count": 889,
   "metadata": {},
   "outputs": [],
   "source": [
    "df_arbres['TRAITEMENTCHENILLES'] = df_arbres ['TRAITEMENTCHENILLES'].astype(\"category\")"
   ]
  },
  {
   "cell_type": "code",
   "execution_count": 890,
   "metadata": {},
   "outputs": [],
   "source": [
    "df_arbres['TRAVAUXPRECONISESDIAG'] = df_arbres ['TRAVAUXPRECONISESDIAG'].astype(\"category\")"
   ]
  },
  {
   "cell_type": "code",
   "execution_count": 891,
   "metadata": {},
   "outputs": [],
   "source": [
    "df_arbres['TROTTOIR'] = df_arbres ['TROTTOIR'].astype(\"category\")"
   ]
  },
  {
   "cell_type": "code",
   "execution_count": 892,
   "metadata": {},
   "outputs": [],
   "source": [
    "df_arbres['GENRE_BOTA'] = df_arbres ['GENRE_BOTA'].astype(\"category\")"
   ]
  },
  {
   "cell_type": "code",
   "execution_count": 893,
   "metadata": {},
   "outputs": [],
   "source": [
    "df_arbres['GENRE_BOTA'] = df_arbres ['GENRE_BOTA'].astype(\"category\")"
   ]
  },
  {
   "cell_type": "code",
   "execution_count": 894,
   "metadata": {},
   "outputs": [],
   "source": [
    "df_arbres['PRIORITEDERENOUVELLEMENT'] = df_arbres ['PRIORITEDERENOUVELLEMENT'].astype(\"category\")"
   ]
  },
  {
   "cell_type": "code",
   "execution_count": 895,
   "metadata": {},
   "outputs": [],
   "source": [
    "df_arbres['EVOLUTIONJSQDIAG'] = df_arbres ['EVOLUTIONJSQDIAG'].astype(\"category\")"
   ]
  },
  {
   "cell_type": "code",
   "execution_count": 896,
   "metadata": {},
   "outputs": [],
   "source": [
    "df_arbres['REMARQUES'] = df_arbres ['REMARQUES'].astype(\"category\")"
   ]
  },
  {
   "cell_type": "code",
   "execution_count": 897,
   "metadata": {},
   "outputs": [
    {
     "name": "stdout",
     "output_type": "stream",
     "text": [
      "<class 'pandas.core.frame.DataFrame'>\n",
      "RangeIndex: 15375 entries, 0 to 15374\n",
      "Data columns (total 33 columns):\n",
      " #   Column                      Non-Null Count  Dtype   \n",
      "---  ------                      --------------  -----   \n",
      " 0   ADR_SECTEUR                 15375 non-null  category\n",
      " 1   ANNEEDEPLANTATION           15375 non-null  int64   \n",
      " 2   ANNEEREALISATIONDIAGNOSTIC  15375 non-null  int32   \n",
      " 3   ANNEETRAVAUXPRECONISESDIAG  15375 non-null  int32   \n",
      " 4   CODE                        15375 non-null  object  \n",
      " 5   DIAMETREARBREAUNMETRE       15375 non-null  int32   \n",
      " 6   ESPECE                      15375 non-null  category\n",
      " 7   FREQUENTATIONCIBLE          15375 non-null  category\n",
      " 8   GENRE_BOTA                  15375 non-null  category\n",
      " 9   IDENTIFIANTPLU              15375 non-null  category\n",
      " 10  NOTEDIAGNOSTIC              15375 non-null  category\n",
      " 11  PRIORITEDERENOUVELLEMENT    15375 non-null  category\n",
      " 12  RAISONDEPLANTATION          15375 non-null  category\n",
      " 13  REMARQUES                   15375 non-null  category\n",
      " 14  SOUS_CATEGORIE              15375 non-null  category\n",
      " 15  SOUS_CATEGORIE_DESC         15375 non-null  category\n",
      " 16  STADEDEDEVELOPPEMENT        15375 non-null  category\n",
      " 17  STADEDEVELOPPEMENTDIAG      15375 non-null  category\n",
      " 18  TRAITEMENTCHENILLES         15375 non-null  category\n",
      " 19  TRAVAUXPRECONISESDIAG       15375 non-null  category\n",
      " 20  TROTTOIR                    15375 non-null  category\n",
      " 21  TYPEIMPLANTATIONPLU         15375 non-null  category\n",
      " 22  VARIETE                     15375 non-null  category\n",
      " 23  VIGUEUR                     15375 non-null  category\n",
      " 24  coord_x                     15375 non-null  float64 \n",
      " 25  coord_y                     15375 non-null  float64 \n",
      " 26  DEFAUT                      15375 non-null  category\n",
      " 27  Collet                      15375 non-null  category\n",
      " 28  Houppier                    15375 non-null  category\n",
      " 29  Racine                      15375 non-null  category\n",
      " 30  Tronc                       15375 non-null  category\n",
      " 31  NbAnnéesAvantProchainDiag   15375 non-null  int32   \n",
      " 32  EVOLUTIONJSQDIAG            15375 non-null  category\n",
      "dtypes: category(25), float64(2), int32(4), int64(1), object(1)\n",
      "memory usage: 1.1+ MB\n"
     ]
    }
   ],
   "source": [
    "df_arbres.info()"
   ]
  },
  {
   "cell_type": "code",
   "execution_count": null,
   "metadata": {},
   "outputs": [],
   "source": []
  },
  {
   "cell_type": "code",
   "execution_count": null,
   "metadata": {},
   "outputs": [],
   "source": []
  }
 ],
 "metadata": {
  "kernelspec": {
   "display_name": "Python 3",
   "language": "python",
   "name": "python3"
  },
  "language_info": {
   "codemirror_mode": {
    "name": "ipython",
    "version": 3
   },
   "file_extension": ".py",
   "mimetype": "text/x-python",
   "name": "python",
   "nbconvert_exporter": "python",
   "pygments_lexer": "ipython3",
   "version": "3.7.9"
  }
 },
 "nbformat": 4,
 "nbformat_minor": 2
}
