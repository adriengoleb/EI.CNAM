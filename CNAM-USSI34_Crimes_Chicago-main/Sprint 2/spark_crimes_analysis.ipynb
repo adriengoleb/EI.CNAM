{
 "cells": [
  {
   "cell_type": "code",
   "execution_count": 1,
   "id": "innocent-dispatch",
   "metadata": {},
   "outputs": [
    {
     "data": {
      "text/html": [
       "\n",
       "        <div>\n",
       "            <p><b>SparkContext</b></p>\n",
       "\n",
       "            <p><a href=\"http://192.168.0.10:4040\">Spark UI</a></p>\n",
       "\n",
       "            <dl>\n",
       "              <dt>Version</dt>\n",
       "                <dd><code>v3.1.2</code></dd>\n",
       "              <dt>Master</dt>\n",
       "                <dd><code>local[*]</code></dd>\n",
       "              <dt>AppName</dt>\n",
       "                <dd><code>PySparkShell</code></dd>\n",
       "            </dl>\n",
       "        </div>\n",
       "        "
      ],
      "text/plain": [
       "<SparkContext master=local[*] appName=PySparkShell>"
      ]
     },
     "execution_count": 1,
     "metadata": {},
     "output_type": "execute_result"
    }
   ],
   "source": [
    "sc"
   ]
  },
  {
   "cell_type": "code",
   "execution_count": 2,
   "id": "quantitative-tennessee",
   "metadata": {},
   "outputs": [],
   "source": [
    "import pyspark"
   ]
  },
  {
   "cell_type": "code",
   "execution_count": 3,
   "id": "beneficial-litigation",
   "metadata": {},
   "outputs": [
    {
     "name": "stdout",
     "output_type": "stream",
     "text": [
      "SPARK_HOME C:\\spark-3.1.2-bin-hadoop3.2\\spark-3.1.2-bin-hadoop3.2\n",
      "HADOOP_HOME C:\\winutils\n",
      "JAVA_HOME C:\\Java\\jdk-15.0.1\n",
      "C:\\Users\\adrien\\Anaconda3;C:\\Users\\adrien\\Anaconda3\\Library\\mingw-w64\\bin;C:\\Users\\adrien\\Anaconda3\\Library\\usr\\bin;C:\\Users\\adrien\\Anaconda3\\Library\\bin;C:\\Users\\adrien\\Anaconda3\\Scripts;C:\\Users\\adrien\\Anaconda3\\bin;C:\\Users\\adrien\\Anaconda3\\condabin;C:\\Users\\adrien\\Anaconda3;C:\\Users\\adrien\\Anaconda3\\Library\\mingw-w64\\bin;C:\\Users\\adrien\\Anaconda3\\Library\\usr\\bin;C:\\Users\\adrien\\Anaconda3\\Library\\bin;C:\\Users\\adrien\\Anaconda3\\Scripts;C:\\WINDOWS\\System32;C:\\Users\\adrien\\AppData\\Local\\Microsoft\\WindowsApps;C:\\spark-3.1.2-bin-hadoop3.2\\spark-3.1.2-bin-hadoop3.2\\bin;C:\\Java\\jdk-15.0.1\\bin;C:\\winutils\\bin;C:\\Windows\\System32;.;C:\\Users\\adrien\\Anaconda3\\lib\\site-packages\\numpy\\.libs\n"
     ]
    }
   ],
   "source": [
    "import os\n",
    "print('SPARK_HOME', os.environ.get(\"SPARK_HOME\"))\n",
    "print('HADOOP_HOME', os.environ.get(\"HADOOP_HOME\"))\n",
    "print('JAVA_HOME', os.environ.get(\"JAVA_HOME\"))\n",
    "print(os.environ['PATH'])"
   ]
  },
  {
   "cell_type": "code",
   "execution_count": 4,
   "id": "fleet-solid",
   "metadata": {},
   "outputs": [],
   "source": [
    "## spark imports\n",
    "from pyspark.sql import Row, SparkSession\n",
    "from pyspark.sql.functions import *"
   ]
  },
  {
   "cell_type": "code",
   "execution_count": 5,
   "id": "spanish-hostel",
   "metadata": {},
   "outputs": [],
   "source": [
    "## standard imports\n",
    "import numpy as np\n",
    "import pandas as pd\n",
    "import seaborn as sns\n",
    "import matplotlib.pyplot as plt"
   ]
  },
  {
   "cell_type": "code",
   "execution_count": 6,
   "id": "celtic-detroit",
   "metadata": {},
   "outputs": [],
   "source": [
    "%matplotlib inline\n",
    "\n",
    "#Not too sure the following 2 work. This is a TODO\n",
    "sns.set_color_codes(\"pastel\")\n",
    "plt.rcParams[\"figure.figsize\"] = [20, 8]"
   ]
  },
  {
   "cell_type": "code",
   "execution_count": 7,
   "id": "cosmetic-rouge",
   "metadata": {},
   "outputs": [],
   "source": [
    "import findspark\n",
    "findspark.init()"
   ]
  },
  {
   "cell_type": "code",
   "execution_count": 8,
   "id": "related-pillow",
   "metadata": {},
   "outputs": [],
   "source": [
    "from pyspark.sql import SparkSession\n",
    "spark = SparkSession.builder.appName(\"Chicago_crime_analysis\").config('spark.sql.execution.arrow.pyspark.enabled', True).config('spark.sql.session.timeZone', 'UTC').config('spark.driver.memory','32G').config(\"spark.driver.cores\", '3').getOrCreate()"
   ]
  },
  {
   "cell_type": "code",
   "execution_count": 9,
   "id": "subjective-carrier",
   "metadata": {},
   "outputs": [],
   "source": [
    "from pyspark.sql.types import  (StructType, \n",
    "                                StructField, \n",
    "                                DateType, \n",
    "                                BooleanType,\n",
    "                                DoubleType,\n",
    "                                IntegerType,\n",
    "                                StringType,\n",
    "                               TimestampType)\n",
    "\n",
    "\n",
    "crimes_schema = StructType([StructField(\"ID\", StringType(), True),\n",
    "                            StructField(\"CaseNumber\", StringType(), True),\n",
    "                            StructField(\"Date\", StringType(), True ),\n",
    "                            StructField(\"Block\", StringType(), True),\n",
    "                            StructField(\"IUCR\", StringType(), True),\n",
    "                            StructField(\"PrimaryType\", StringType(), True  ),\n",
    "                            StructField(\"Description\", StringType(), True ),\n",
    "                            StructField(\"LocationDescription\", StringType(), True ),\n",
    "                            StructField(\"Arrest\", BooleanType(), True),\n",
    "                            StructField(\"Domestic\", BooleanType(), True),\n",
    "                            StructField(\"Beat\", StringType(), True),\n",
    "                            StructField(\"District\", StringType(), True),\n",
    "                            StructField(\"Ward\", StringType(), True),\n",
    "                            StructField(\"CommunityArea\", StringType(), True),\n",
    "                            StructField(\"FBICode\", StringType(), True ),\n",
    "                            StructField(\"XCoordinate\", DoubleType(), True),\n",
    "                            StructField(\"YCoordinate\", DoubleType(), True ),\n",
    "                            StructField(\"Year\", IntegerType(), True),\n",
    "                            StructField(\"UpdatedOn\", DateType(), True ),\n",
    "                            StructField(\"Latitude\", DoubleType(), True),\n",
    "                            StructField(\"Longitude\", DoubleType(), True),\n",
    "                            StructField(\"Location\", StringType(), True )\n",
    "                            ])"
   ]
  },
  {
   "cell_type": "code",
   "execution_count": 10,
   "id": "introductory-highlight",
   "metadata": {},
   "outputs": [],
   "source": [
    "crimes = spark.read.csv(\"Crimes_-_2001_to_Present.csv\",\n",
    "                       header = True, \n",
    "                        schema = crimes_schema)"
   ]
  },
  {
   "cell_type": "code",
   "execution_count": 11,
   "id": "recognized-wonder",
   "metadata": {},
   "outputs": [
    {
     "name": "stdout",
     "output_type": "stream",
     "text": [
      " The crimes dataframe has 7393744 records\n"
     ]
    }
   ],
   "source": [
    "#Test connexion à notre base\n",
    "print(\" The crimes dataframe has {} records\".format(crimes.count()))"
   ]
  },
  {
   "cell_type": "code",
   "execution_count": 12,
   "id": "amino-forty",
   "metadata": {},
   "outputs": [
    {
     "name": "stdout",
     "output_type": "stream",
     "text": [
      "+--------+----------+--------------------+--------------------+----+-----------+--------------------+-------------------+------+--------+----+--------+----+-------------+-------+-----------+-----------+----+---------+------------+-------------+--------------------+\n",
      "|      ID|CaseNumber|                Date|               Block|IUCR|PrimaryType|         Description|LocationDescription|Arrest|Domestic|Beat|District|Ward|CommunityArea|FBICode|XCoordinate|YCoordinate|Year|UpdatedOn|    Latitude|    Longitude|            Location|\n",
      "+--------+----------+--------------------+--------------------+----+-----------+--------------------+-------------------+------+--------+----+--------+----+-------------+-------+-----------+-----------+----+---------+------------+-------------+--------------------+\n",
      "|10224738|  HY411648|09/05/2015 01:30:...|     043XX S WOOD ST|0486|    BATTERY|DOMESTIC BATTERY ...|          RESIDENCE| false|    true|0924|     009|  12|           61|    08B|  1165074.0|  1875917.0|2015|     null|41.815117282|-87.669999562|(41.815117282, -8...|\n",
      "|10224739|  HY411615|09/04/2015 11:30:...| 008XX N CENTRAL AVE|0870|      THEFT|      POCKET-PICKING|            CTA BUS| false|   false|1511|     015|  29|           25|     06|  1138875.0|  1904869.0|2015|     null|41.895080471|-87.765400451|(41.895080471, -8...|\n",
      "|11646166|  JC213529|09/01/2018 12:01:...|082XX S INGLESIDE...|0810|      THEFT|           OVER $500|          RESIDENCE| false|    true|0631|     006|   8|           44|     06|       null|       null|2018|     null|        null|         null|                null|\n",
      "|10224740|  HY411595|09/05/2015 12:45:...|   035XX W BARRY AVE|2023|  NARCOTICS|POSS: HEROIN(BRN/...|           SIDEWALK|  true|   false|1412|     014|  35|           21|     18|  1152037.0|  1920384.0|2015|     null|41.937405765|-87.716649687|(41.937405765, -8...|\n",
      "|10224741|  HY411610|09/05/2015 01:00:...| 0000X N LARAMIE AVE|0560|    ASSAULT|              SIMPLE|          APARTMENT| false|    true|1522|     015|  28|           25|    08A|  1141706.0|  1900086.0|2015|     null|41.881903443|-87.755121152|(41.881903443, -8...|\n",
      "+--------+----------+--------------------+--------------------+----+-----------+--------------------+-------------------+------+--------+----+--------+----+-------------+-------+-----------+-----------+----+---------+------------+-------------+--------------------+\n",
      "only showing top 5 rows\n",
      "\n"
     ]
    }
   ],
   "source": [
    "crimes.show(5)"
   ]
  },
  {
   "cell_type": "markdown",
   "id": "breeding-merit",
   "metadata": {},
   "source": [
    "## Data Exploration "
   ]
  },
  {
   "cell_type": "code",
   "execution_count": 13,
   "id": "endless-voice",
   "metadata": {},
   "outputs": [],
   "source": [
    "# crime types\n",
    "crime_type_groups = crimes.groupBy('PRIMARYTYPE').count()\n",
    "\n",
    "#crimes counts\n",
    "crime_type_counts = crime_type_groups.orderBy('count', ascending=False)"
   ]
  },
  {
   "cell_type": "code",
   "execution_count": 14,
   "id": "celtic-uniform",
   "metadata": {},
   "outputs": [
    {
     "name": "stdout",
     "output_type": "stream",
     "text": [
      "7393744\n"
     ]
    }
   ],
   "source": [
    "print(crimes.count())"
   ]
  },
  {
   "cell_type": "code",
   "execution_count": 15,
   "id": "recreational-bubble",
   "metadata": {},
   "outputs": [
    {
     "data": {
      "text/plain": [
       "['ID',\n",
       " 'CaseNumber',\n",
       " 'Date',\n",
       " 'Block',\n",
       " 'IUCR',\n",
       " 'PrimaryType',\n",
       " 'Description',\n",
       " 'LocationDescription',\n",
       " 'Arrest',\n",
       " 'Domestic',\n",
       " 'Beat',\n",
       " 'District',\n",
       " 'Ward',\n",
       " 'CommunityArea',\n",
       " 'FBICode',\n",
       " 'XCoordinate',\n",
       " 'YCoordinate',\n",
       " 'Year',\n",
       " 'UpdatedOn',\n",
       " 'Latitude',\n",
       " 'Longitude',\n",
       " 'Location']"
      ]
     },
     "execution_count": 15,
     "metadata": {},
     "output_type": "execute_result"
    }
   ],
   "source": [
    "crimes.columns"
   ]
  },
  {
   "cell_type": "code",
   "execution_count": 16,
   "id": "imposed-ferry",
   "metadata": {},
   "outputs": [
    {
     "name": "stdout",
     "output_type": "stream",
     "text": [
      "root\n",
      " |-- ID: string (nullable = true)\n",
      " |-- CaseNumber: string (nullable = true)\n",
      " |-- Date: string (nullable = true)\n",
      " |-- Block: string (nullable = true)\n",
      " |-- IUCR: string (nullable = true)\n",
      " |-- PrimaryType: string (nullable = true)\n",
      " |-- Description: string (nullable = true)\n",
      " |-- LocationDescription: string (nullable = true)\n",
      " |-- Arrest: boolean (nullable = true)\n",
      " |-- Domestic: boolean (nullable = true)\n",
      " |-- Beat: string (nullable = true)\n",
      " |-- District: string (nullable = true)\n",
      " |-- Ward: string (nullable = true)\n",
      " |-- CommunityArea: string (nullable = true)\n",
      " |-- FBICode: string (nullable = true)\n",
      " |-- XCoordinate: double (nullable = true)\n",
      " |-- YCoordinate: double (nullable = true)\n",
      " |-- Year: integer (nullable = true)\n",
      " |-- UpdatedOn: date (nullable = true)\n",
      " |-- Latitude: double (nullable = true)\n",
      " |-- Longitude: double (nullable = true)\n",
      " |-- Location: string (nullable = true)\n",
      "\n"
     ]
    }
   ],
   "source": [
    "crimes.printSchema()"
   ]
  },
  {
   "cell_type": "code",
   "execution_count": 17,
   "id": "introductory-transfer",
   "metadata": {},
   "outputs": [
    {
     "name": "stdout",
     "output_type": "stream",
     "text": [
      "+----------------------+\n",
      "|Date                  |\n",
      "+----------------------+\n",
      "|09/05/2015 01:30:00 PM|\n",
      "|09/04/2015 11:30:00 AM|\n",
      "|09/01/2018 12:01:00 AM|\n",
      "|09/05/2015 12:45:00 PM|\n",
      "|09/05/2015 01:00:00 PM|\n",
      "|09/05/2015 10:55:00 AM|\n",
      "|09/04/2015 06:00:00 PM|\n",
      "|09/05/2015 01:00:00 PM|\n",
      "|09/05/2015 11:30:00 AM|\n",
      "|05/01/2016 12:25:00 AM|\n",
      "+----------------------+\n",
      "only showing top 10 rows\n",
      "\n"
     ]
    }
   ],
   "source": [
    "crimes.select(\"Date\").show(10, truncate = False)"
   ]
  },
  {
   "cell_type": "code",
   "execution_count": 18,
   "id": "alien-movement",
   "metadata": {},
   "outputs": [
    {
     "name": "stdout",
     "output_type": "stream",
     "text": [
      "+-------+-------------------+-------------------+------------------+------------------+------------------+\n",
      "|summary|           Latitude|          Longitude|              Year|       XCoordinate|       YCoordinate|\n",
      "+-------+-------------------+-------------------+------------------+------------------+------------------+\n",
      "|  count|            7319778|            7319778|           7393744|           7319778|           7319778|\n",
      "|   mean| 41.842030789444166| -87.67163948531817|2009.3094727109838|1164561.7554849342| 1885726.857115612|\n",
      "| stddev|0.08881906428520636|0.06110868728953318|  5.76223290435743|16856.141843546655|32283.198065805034|\n",
      "|    min|       36.619446395|      -91.686565684|              2001|               0.0|               0.0|\n",
      "|    max|       42.022910333|      -87.524529378|              2021|         1205119.0|         1951622.0|\n",
      "+-------+-------------------+-------------------+------------------+------------------+------------------+\n",
      "\n"
     ]
    }
   ],
   "source": [
    "crimes.select([\"Latitude\",\"Longitude\",\"Year\",\"XCoordinate\",\"YCoordinate\"]).describe().show()"
   ]
  },
  {
   "cell_type": "code",
   "execution_count": 19,
   "id": "round-coffee",
   "metadata": {},
   "outputs": [
    {
     "data": {
      "text/plain": [
       "36"
      ]
     },
     "execution_count": 19,
     "metadata": {},
     "output_type": "execute_result"
    }
   ],
   "source": [
    "crimes.select(\"PrimaryType\").distinct().count()"
   ]
  },
  {
   "cell_type": "code",
   "execution_count": 20,
   "id": "ethical-january",
   "metadata": {},
   "outputs": [
    {
     "name": "stdout",
     "output_type": "stream",
     "text": [
      "+--------------------+\n",
      "|         PrimaryType|\n",
      "+--------------------+\n",
      "|OFFENSE INVOLVING...|\n",
      "|CRIMINAL SEXUAL A...|\n",
      "|            STALKING|\n",
      "|PUBLIC PEACE VIOL...|\n",
      "|           OBSCENITY|\n",
      "|NON-CRIMINAL (SUB...|\n",
      "|               ARSON|\n",
      "|   DOMESTIC VIOLENCE|\n",
      "|            GAMBLING|\n",
      "|   CRIMINAL TRESPASS|\n",
      "|             ASSAULT|\n",
      "|      NON - CRIMINAL|\n",
      "|LIQUOR LAW VIOLATION|\n",
      "| MOTOR VEHICLE THEFT|\n",
      "|               THEFT|\n",
      "|             BATTERY|\n",
      "|             ROBBERY|\n",
      "|            HOMICIDE|\n",
      "|           RITUALISM|\n",
      "|    PUBLIC INDECENCY|\n",
      "| CRIM SEXUAL ASSAULT|\n",
      "|   HUMAN TRAFFICKING|\n",
      "|        INTIMIDATION|\n",
      "|        PROSTITUTION|\n",
      "|  DECEPTIVE PRACTICE|\n",
      "|CONCEALED CARRY L...|\n",
      "|         SEX OFFENSE|\n",
      "|     CRIMINAL DAMAGE|\n",
      "|           NARCOTICS|\n",
      "|        NON-CRIMINAL|\n",
      "|       OTHER OFFENSE|\n",
      "|          KIDNAPPING|\n",
      "|            BURGLARY|\n",
      "|   WEAPONS VIOLATION|\n",
      "|OTHER NARCOTIC VI...|\n",
      "+--------------------+\n",
      "only showing top 35 rows\n",
      "\n"
     ]
    }
   ],
   "source": [
    "crimes.select(\"PrimaryType\").distinct().show(n = 35)"
   ]
  },
  {
   "cell_type": "code",
   "execution_count": 21,
   "id": "wicked-adventure",
   "metadata": {},
   "outputs": [
    {
     "data": {
      "text/plain": [
       "11368"
      ]
     },
     "execution_count": 21,
     "metadata": {},
     "output_type": "execute_result"
    }
   ],
   "source": [
    "# nombre d'homicides\n",
    "crimes.where(crimes[\"PrimaryType\"] == \"HOMICIDE\").count()"
   ]
  },
  {
   "cell_type": "code",
   "execution_count": 22,
   "id": "champion-pharmacy",
   "metadata": {},
   "outputs": [
    {
     "data": {
      "text/plain": [
       "106638"
      ]
     },
     "execution_count": 22,
     "metadata": {},
     "output_type": "execute_result"
    }
   ],
   "source": [
    "crimes.filter((crimes[\"PrimaryType\"] == \"ASSAULT\") & (crimes[\"Domestic\"] == \"True\")).count()"
   ]
  },
  {
   "cell_type": "code",
   "execution_count": 23,
   "id": "australian-olympus",
   "metadata": {},
   "outputs": [
    {
     "name": "stdout",
     "output_type": "stream",
     "text": [
      "+-----------+-------------------+------+--------+\n",
      "|PrimaryType|        Description|Arrest|Domestic|\n",
      "+-----------+-------------------+------+--------+\n",
      "|   HOMICIDE|FIRST DEGREE MURDER|  true|   false|\n",
      "|   HOMICIDE|FIRST DEGREE MURDER|  true|   false|\n",
      "|   HOMICIDE|FIRST DEGREE MURDER|  true|   false|\n",
      "|   HOMICIDE|FIRST DEGREE MURDER|  true|   false|\n",
      "|   HOMICIDE|FIRST DEGREE MURDER|  true|   false|\n",
      "|   HOMICIDE|FIRST DEGREE MURDER|  true|   false|\n",
      "|   HOMICIDE|FIRST DEGREE MURDER|  true|   false|\n",
      "|   HOMICIDE|FIRST DEGREE MURDER|  true|   false|\n",
      "|   HOMICIDE|  RECKLESS HOMICIDE|  true|   false|\n",
      "|   HOMICIDE|FIRST DEGREE MURDER|  true|   false|\n",
      "+-----------+-------------------+------+--------+\n",
      "only showing top 10 rows\n",
      "\n"
     ]
    }
   ],
   "source": [
    "#Pour un Primary Type donné, savoir sa description, si c'est en lien avec le domestique et si une arrestation a eu lieu\n",
    "\n",
    "columns = ['PrimaryType', 'Description', 'Arrest', 'Domestic']\n",
    "\n",
    "crimes.where((crimes[\"PrimaryType\"] == \"HOMICIDE\") & (crimes[\"Arrest\"] == \"true\"))\\\n",
    "                                                        .select(columns).show(10)"
   ]
  },
  {
   "cell_type": "code",
   "execution_count": 24,
   "id": "sought-schedule",
   "metadata": {},
   "outputs": [
    {
     "name": "stdout",
     "output_type": "stream",
     "text": [
      "+------------------+--------------------+------+--------+\n",
      "|       PrimaryType|         Description|Arrest|Domestic|\n",
      "+------------------+--------------------+------+--------+\n",
      "|           BATTERY|DOMESTIC BATTERY ...| false|    true|\n",
      "|             THEFT|      POCKET-PICKING| false|   false|\n",
      "|             THEFT|           OVER $500| false|    true|\n",
      "|         NARCOTICS|POSS: HEROIN(BRN/...|  true|   false|\n",
      "|           ASSAULT|              SIMPLE| false|    true|\n",
      "|          BURGLARY|      FORCIBLE ENTRY| false|   false|\n",
      "|          BURGLARY|      UNLAWFUL ENTRY| false|   false|\n",
      "|             THEFT|        RETAIL THEFT|  true|   false|\n",
      "|           ROBBERY|STRONGARM - NO WE...| false|    true|\n",
      "|DECEPTIVE PRACTICE|FINANCIAL IDENTIT...| false|   false|\n",
      "+------------------+--------------------+------+--------+\n",
      "\n"
     ]
    }
   ],
   "source": [
    "crimes.select(columns).limit(10). show(truncate = True)"
   ]
  },
  {
   "cell_type": "code",
   "execution_count": 13,
   "id": "french-ethics",
   "metadata": {},
   "outputs": [
    {
     "name": "stdout",
     "output_type": "stream",
     "text": [
      "The maximum latitude values is 42.022910333\n"
     ]
    }
   ],
   "source": [
    "#latitude max avec la fonction \"agg\"\n",
    "\n",
    "lat_max = crimes.agg({\"Latitude\" : \"max\"}).collect()[0][0]\n",
    "\n",
    "print(\"The maximum latitude values is {}\".format(lat_max))"
   ]
  },
  {
   "cell_type": "code",
   "execution_count": 14,
   "id": "violent-current",
   "metadata": {},
   "outputs": [],
   "source": [
    "##Creation d'une nouvelle colomne avec la fonction \"withColumn\"\n",
    "#max - valeur actuelle\n",
    "\n",
    "df = crimes.withColumn(\"difference_from_max_lat\",lat_max - crimes[\"Latitude\"])"
   ]
  },
  {
   "cell_type": "code",
   "execution_count": 27,
   "id": "executive-harris",
   "metadata": {},
   "outputs": [
    {
     "name": "stdout",
     "output_type": "stream",
     "text": [
      "+------------+-----------------------+\n",
      "|    Latitude|difference_from_max_lat|\n",
      "+------------+-----------------------+\n",
      "|41.815117282|     0.2077930509999959|\n",
      "|41.895080471|    0.12782986199999868|\n",
      "|        null|                   null|\n",
      "|41.937405765|     0.0855045679999975|\n",
      "|41.881903443|    0.14100688999999988|\n",
      "+------------+-----------------------+\n",
      "only showing top 5 rows\n",
      "\n"
     ]
    }
   ],
   "source": [
    "df.select([\"Latitude\", \"difference_from_max_lat\"]).show(5)"
   ]
  },
  {
   "cell_type": "code",
   "execution_count": 18,
   "id": "hybrid-intake",
   "metadata": {},
   "outputs": [
    {
     "data": {
      "text/plain": [
       "['ID',\n",
       " 'CaseNumber',\n",
       " 'Date',\n",
       " 'Block',\n",
       " 'IUCR',\n",
       " 'PrimaryType',\n",
       " 'Description',\n",
       " 'LocationDescription',\n",
       " 'Arrest',\n",
       " 'Domestic',\n",
       " 'Beat',\n",
       " 'District',\n",
       " 'Ward',\n",
       " 'CommunityArea',\n",
       " 'FBICode',\n",
       " 'XCoordinate',\n",
       " 'YCoordinate',\n",
       " 'Year',\n",
       " 'UpdatedOn',\n",
       " 'Lat',\n",
       " 'Longitude',\n",
       " 'Location']"
      ]
     },
     "execution_count": 18,
     "metadata": {},
     "output_type": "execute_result"
    }
   ],
   "source": [
    "#Rename a column with withColumnRenamed\n",
    "\n",
    "df = crimes.withColumnRenamed(\"Latitude\", \"Lat\")\n",
    "df.columns"
   ]
  },
  {
   "cell_type": "code",
   "execution_count": 29,
   "id": "musical-identification",
   "metadata": {},
   "outputs": [
    {
     "name": "stdout",
     "output_type": "stream",
     "text": [
      "+-------------------+--------------------+------+--------+------------+\n",
      "|        PrimaryType|         Description|Arrest|Domestic|         Lat|\n",
      "+-------------------+--------------------+------+--------+------------+\n",
      "|              THEFT|      $500 AND UNDER| false|   false|42.022910333|\n",
      "|MOTOR VEHICLE THEFT|          AUTOMOBILE| false|   false|42.022878225|\n",
      "|           BURGLARY|      UNLAWFUL ENTRY| false|   false|42.022709624|\n",
      "|      OTHER OFFENSE|    PAROLE VIOLATION|  true|   false|42.022671246|\n",
      "|              THEFT|      POCKET-PICKING| false|   false|42.022671246|\n",
      "|    CRIMINAL DAMAGE|         TO PROPERTY| false|   false|42.022671246|\n",
      "|              THEFT|      $500 AND UNDER| false|   false|42.022671246|\n",
      "|    CRIMINAL DAMAGE|          TO VEHICLE| false|   false|42.022653914|\n",
      "|          NARCOTICS|POSS: CANNABIS 30...|  true|   false|42.022644813|\n",
      "|            BATTERY|              SIMPLE| false|    true|42.022644813|\n",
      "+-------------------+--------------------+------+--------+------------+\n",
      "only showing top 10 rows\n",
      "\n"
     ]
    }
   ],
   "source": [
    "columns = ['PrimaryType', 'Description', 'Arrest', 'Domestic','Lat']\n",
    "\n",
    "df.orderBy(df[\"Lat\"].desc()).select(columns).show(10)"
   ]
  },
  {
   "cell_type": "markdown",
   "id": "boolean-jordan",
   "metadata": {},
   "source": [
    "## Calculate Statistics with Pyspark Function"
   ]
  },
  {
   "cell_type": "code",
   "execution_count": 30,
   "id": "jewish-roller",
   "metadata": {},
   "outputs": [
    {
     "name": "stdout",
     "output_type": "stream",
     "text": [
      "+------------------+\n",
      "|          avg(Lat)|\n",
      "+------------------+\n",
      "|41.842030789444166|\n",
      "+------------------+\n",
      "\n"
     ]
    }
   ],
   "source": [
    "from pyspark.sql.functions import mean\n",
    "df.select(mean(\"Lat\")).alias(\"Mean Latitude\").show()"
   ]
  },
  {
   "cell_type": "code",
   "execution_count": 31,
   "id": "normal-computer",
   "metadata": {},
   "outputs": [
    {
     "name": "stdout",
     "output_type": "stream",
     "text": [
      "+------------------+\n",
      "|          avg(Lat)|\n",
      "+------------------+\n",
      "|41.842030789444166|\n",
      "+------------------+\n",
      "\n"
     ]
    }
   ],
   "source": [
    "#Calcul de moyenne avec avg fonction\n",
    "\n",
    "df.agg({\"Lat\":\"avg\"}).show()"
   ]
  },
  {
   "cell_type": "code",
   "execution_count": 32,
   "id": "interracial-daily",
   "metadata": {},
   "outputs": [
    {
     "name": "stdout",
     "output_type": "stream",
     "text": [
      "+----------------+----------------+\n",
      "|max(Xcoordinate)|min(Xcoordinate)|\n",
      "+----------------+----------------+\n",
      "|       1205119.0|             0.0|\n",
      "+----------------+----------------+\n",
      "\n"
     ]
    }
   ],
   "source": [
    "#Max et min des coordonnées\n",
    "\n",
    "from pyspark.sql.functions import max,min\n",
    "\n",
    "df.select(max(\"Xcoordinate\"),min(\"Xcoordinate\")).show()"
   ]
  },
  {
   "cell_type": "code",
   "execution_count": 33,
   "id": "binding-parallel",
   "metadata": {},
   "outputs": [
    {
     "data": {
      "text/plain": [
       "13.599334788978357"
      ]
     },
     "execution_count": 33,
     "metadata": {},
     "output_type": "execute_result"
    }
   ],
   "source": [
    "#Quel pourcentage de crimes sont domestiques\n",
    "\n",
    "df.filter(df[\"Domestic\"]==True).count()/df.count() * 100"
   ]
  },
  {
   "cell_type": "code",
   "execution_count": 34,
   "id": "indonesian-martial",
   "metadata": {},
   "outputs": [
    {
     "name": "stdout",
     "output_type": "stream",
     "text": [
      "+----------------------+\n",
      "|corr(Lat, Ycoordinate)|\n",
      "+----------------------+\n",
      "|    0.9999937627818188|\n",
      "+----------------------+\n",
      "\n"
     ]
    }
   ],
   "source": [
    "#Corrélation entre latitude et Y coordonnées\n",
    "\n",
    "from pyspark.sql.functions import corr\n",
    "df.select(corr(\"Lat\",\"Ycoordinate\")).show()"
   ]
  },
  {
   "cell_type": "code",
   "execution_count": 35,
   "id": "silent-taylor",
   "metadata": {},
   "outputs": [
    {
     "name": "stdout",
     "output_type": "stream",
     "text": [
      "+----+------+\n",
      "|Year| count|\n",
      "+----+------+\n",
      "|2003|475967|\n",
      "|2007|437061|\n",
      "|2018|268443|\n",
      "|2015|264571|\n",
      "|2006|448150|\n",
      "|2013|307376|\n",
      "|2014|275646|\n",
      "|2019|260790|\n",
      "|2004|469407|\n",
      "|2020|211231|\n",
      "|2012|336194|\n",
      "|2009|392788|\n",
      "|2016|269608|\n",
      "|2001|485812|\n",
      "|2005|453754|\n",
      "|2010|370435|\n",
      "|2011|351914|\n",
      "|2008|427131|\n",
      "|2017|268845|\n",
      "|2002|486773|\n",
      "+----+------+\n",
      "only showing top 20 rows\n",
      "\n"
     ]
    }
   ],
   "source": [
    "#Nombre de crimes par an\n",
    "\n",
    "df.groupBy(\"Year\").count().show()"
   ]
  },
  {
   "cell_type": "code",
   "execution_count": 36,
   "id": "wireless-access",
   "metadata": {},
   "outputs": [
    {
     "data": {
      "text/html": [
       "<div>\n",
       "<style scoped>\n",
       "    .dataframe tbody tr th:only-of-type {\n",
       "        vertical-align: middle;\n",
       "    }\n",
       "\n",
       "    .dataframe tbody tr th {\n",
       "        vertical-align: top;\n",
       "    }\n",
       "\n",
       "    .dataframe thead th {\n",
       "        text-align: right;\n",
       "    }\n",
       "</style>\n",
       "<table border=\"1\" class=\"dataframe\">\n",
       "  <thead>\n",
       "    <tr style=\"text-align: right;\">\n",
       "      <th></th>\n",
       "      <th>count</th>\n",
       "      <th>year</th>\n",
       "    </tr>\n",
       "  </thead>\n",
       "  <tbody>\n",
       "    <tr>\n",
       "      <th>0</th>\n",
       "      <td>475967</td>\n",
       "      <td>2003</td>\n",
       "    </tr>\n",
       "    <tr>\n",
       "      <th>1</th>\n",
       "      <td>437061</td>\n",
       "      <td>2007</td>\n",
       "    </tr>\n",
       "    <tr>\n",
       "      <th>2</th>\n",
       "      <td>268443</td>\n",
       "      <td>2018</td>\n",
       "    </tr>\n",
       "    <tr>\n",
       "      <th>3</th>\n",
       "      <td>264571</td>\n",
       "      <td>2015</td>\n",
       "    </tr>\n",
       "    <tr>\n",
       "      <th>4</th>\n",
       "      <td>448150</td>\n",
       "      <td>2006</td>\n",
       "    </tr>\n",
       "  </tbody>\n",
       "</table>\n",
       "</div>"
      ],
      "text/plain": [
       "    count  year\n",
       "0  475967  2003\n",
       "1  437061  2007\n",
       "2  268443  2018\n",
       "3  264571  2015\n",
       "4  448150  2006"
      ]
     },
     "execution_count": 36,
     "metadata": {},
     "output_type": "execute_result"
    }
   ],
   "source": [
    "#Visualisation du nombre total de crimes par an\n",
    "\n",
    "count = [item[1] for item in df.groupBy(\"Year\").count().collect()]\n",
    "year = [item[0] for item in df.groupBy(\"Year\").count().collect()]\n",
    "\n",
    "number_of_crimes_per_year = {\"count\":count, \"year\" : year}\n",
    "\n",
    "import pandas as pd\n",
    "import matplotlib.pyplot as plt\n",
    "%matplotlib inline\n",
    "\n",
    "number_of_crimes_per_year = pd.DataFrame(number_of_crimes_per_year)\n",
    "\n",
    "number_of_crimes_per_year.head()"
   ]
  },
  {
   "cell_type": "code",
   "execution_count": 37,
   "id": "stuck-dryer",
   "metadata": {},
   "outputs": [
    {
     "data": {
      "image/png": "[encoded data removed]",
      "text/plain": [
       "<Figure size 1440x720 with 1 Axes>"
      ]
     },
     "metadata": {
      "needs_background": "light"
     },
     "output_type": "display_data"
    }
   ],
   "source": [
    "number_of_crimes_per_year = number_of_crimes_per_year.sort_values(by = \"year\")\n",
    "\n",
    "number_of_crimes_per_year.plot(figsize = (20,10), kind = \"bar\", color = \"red\",\n",
    "                               x = \"year\", y = \"count\", legend = False)\n",
    "\n",
    "plt.xlabel(\"\", fontsize = 18)\n",
    "plt.ylabel(\"Number of Crimes\", fontsize = 18)\n",
    "plt.title(\"Number of Crimes Per Year\", fontsize = 28)\n",
    "plt.xticks(size = 18)\n",
    "plt.yticks(size = 18)\n",
    "plt.show()"
   ]
  },
  {
   "cell_type": "code",
   "execution_count": 20,
   "id": "broke-event",
   "metadata": {},
   "outputs": [
    {
     "name": "stdout",
     "output_type": "stream",
     "text": [
      "+----------------------+----------------------+\n",
      "|first_record_date     |latest_record_date    |\n",
      "+----------------------+----------------------+\n",
      "|01/01/2001 01:00:00 AM|12/31/2020 12:55:00 AM|\n",
      "+----------------------+----------------------+\n",
      "\n"
     ]
    }
   ],
   "source": [
    "import datetime\n",
    "from pyspark.sql.functions import *\n",
    "\n",
    "df.select(min('date').alias('first_record_date'), max('date').alias('latest_record_date')).show(truncate=False)"
   ]
  },
  {
   "cell_type": "code",
   "execution_count": 13,
   "id": "accredited-appraisal",
   "metadata": {},
   "outputs": [],
   "source": [
    "df = df.withColumn('date_time', to_timestamp('date', 'MM/dd/yyyy hh:mm:ss a'))\\\n",
    "       .withColumn('month', trunc('date_time', 'YYYY')) #adding a month column to be able to view stats on a monthly basis"
   ]
  },
  {
   "cell_type": "code",
   "execution_count": 14,
   "id": "roman-behalf",
   "metadata": {},
   "outputs": [
    {
     "name": "stdout",
     "output_type": "stream",
     "text": [
      "+----------------------+-------------------+----------+\n",
      "|date                  |date_time          |month     |\n",
      "+----------------------+-------------------+----------+\n",
      "|09/05/2015 01:30:00 PM|2015-09-05 13:30:00|2015-01-01|\n",
      "|09/04/2015 11:30:00 AM|2015-09-04 11:30:00|2015-01-01|\n",
      "+----------------------+-------------------+----------+\n",
      "only showing top 2 rows\n",
      "\n"
     ]
    }
   ],
   "source": [
    "df.select(['date','date_time', 'month'])\\\n",
    "  .show(n=2, truncate=False)"
   ]
  },
  {
   "cell_type": "code",
   "execution_count": 16,
   "id": "laden-dayton",
   "metadata": {},
   "outputs": [
    {
     "name": "stdout",
     "output_type": "stream",
     "text": [
      "\n",
      "+------+----------+------+\n",
      "|arrest|month     |count |\n",
      "+------+----------+------+\n",
      "|false |2001-01-01|343891|\n",
      "|true  |2001-01-01|141921|\n",
      "|false |2002-01-01|345213|\n",
      "+------+----------+------+\n",
      "only showing top 3 rows\n",
      "\n"
     ]
    }
   ],
   "source": [
    "#Primary type and arrest\n",
    "\n",
    "# crime types et arrest sur les x dernières années:\n",
    "type_arrest_date = df.groupBy(['arrest', 'month'])\\\n",
    "                     .count()\\\n",
    "                     .orderBy(['month', 'count'], ascending=[True, False])\n",
    "print()\n",
    "type_arrest_date.show(3, truncate=False)"
   ]
  },
  {
   "cell_type": "code",
   "execution_count": 17,
   "id": "overhead-willow",
   "metadata": {},
   "outputs": [
    {
     "data": {
      "text/html": [
       "<div>\n",
       "<style scoped>\n",
       "    .dataframe tbody tr th:only-of-type {\n",
       "        vertical-align: middle;\n",
       "    }\n",
       "\n",
       "    .dataframe tbody tr th {\n",
       "        vertical-align: top;\n",
       "    }\n",
       "\n",
       "    .dataframe thead th {\n",
       "        text-align: right;\n",
       "    }\n",
       "</style>\n",
       "<table border=\"1\" class=\"dataframe\">\n",
       "  <thead>\n",
       "    <tr style=\"text-align: right;\">\n",
       "      <th></th>\n",
       "      <th>arrest</th>\n",
       "      <th>month</th>\n",
       "      <th>count</th>\n",
       "    </tr>\n",
       "  </thead>\n",
       "  <tbody>\n",
       "    <tr>\n",
       "      <th>0</th>\n",
       "      <td>False</td>\n",
       "      <td>2001-01-01</td>\n",
       "      <td>343891</td>\n",
       "    </tr>\n",
       "    <tr>\n",
       "      <th>1</th>\n",
       "      <td>True</td>\n",
       "      <td>2001-01-01</td>\n",
       "      <td>141921</td>\n",
       "    </tr>\n",
       "    <tr>\n",
       "      <th>2</th>\n",
       "      <td>False</td>\n",
       "      <td>2002-01-01</td>\n",
       "      <td>345213</td>\n",
       "    </tr>\n",
       "    <tr>\n",
       "      <th>3</th>\n",
       "      <td>True</td>\n",
       "      <td>2002-01-01</td>\n",
       "      <td>141560</td>\n",
       "    </tr>\n",
       "    <tr>\n",
       "      <th>4</th>\n",
       "      <td>False</td>\n",
       "      <td>2003-01-01</td>\n",
       "      <td>334387</td>\n",
       "    </tr>\n",
       "    <tr>\n",
       "      <th>5</th>\n",
       "      <td>True</td>\n",
       "      <td>2003-01-01</td>\n",
       "      <td>141580</td>\n",
       "    </tr>\n",
       "    <tr>\n",
       "      <th>6</th>\n",
       "      <td>False</td>\n",
       "      <td>2004-01-01</td>\n",
       "      <td>324713</td>\n",
       "    </tr>\n",
       "    <tr>\n",
       "      <th>7</th>\n",
       "      <td>True</td>\n",
       "      <td>2004-01-01</td>\n",
       "      <td>144694</td>\n",
       "    </tr>\n",
       "    <tr>\n",
       "      <th>8</th>\n",
       "      <td>False</td>\n",
       "      <td>2005-01-01</td>\n",
       "      <td>312840</td>\n",
       "    </tr>\n",
       "    <tr>\n",
       "      <th>9</th>\n",
       "      <td>True</td>\n",
       "      <td>2005-01-01</td>\n",
       "      <td>140914</td>\n",
       "    </tr>\n",
       "    <tr>\n",
       "      <th>10</th>\n",
       "      <td>False</td>\n",
       "      <td>2006-01-01</td>\n",
       "      <td>312745</td>\n",
       "    </tr>\n",
       "    <tr>\n",
       "      <th>11</th>\n",
       "      <td>True</td>\n",
       "      <td>2006-01-01</td>\n",
       "      <td>135405</td>\n",
       "    </tr>\n",
       "    <tr>\n",
       "      <th>12</th>\n",
       "      <td>False</td>\n",
       "      <td>2007-01-01</td>\n",
       "      <td>305193</td>\n",
       "    </tr>\n",
       "    <tr>\n",
       "      <th>13</th>\n",
       "      <td>True</td>\n",
       "      <td>2007-01-01</td>\n",
       "      <td>131868</td>\n",
       "    </tr>\n",
       "    <tr>\n",
       "      <th>14</th>\n",
       "      <td>False</td>\n",
       "      <td>2008-01-01</td>\n",
       "      <td>317125</td>\n",
       "    </tr>\n",
       "    <tr>\n",
       "      <th>15</th>\n",
       "      <td>True</td>\n",
       "      <td>2008-01-01</td>\n",
       "      <td>110006</td>\n",
       "    </tr>\n",
       "    <tr>\n",
       "      <th>16</th>\n",
       "      <td>False</td>\n",
       "      <td>2009-01-01</td>\n",
       "      <td>281976</td>\n",
       "    </tr>\n",
       "    <tr>\n",
       "      <th>17</th>\n",
       "      <td>True</td>\n",
       "      <td>2009-01-01</td>\n",
       "      <td>110812</td>\n",
       "    </tr>\n",
       "    <tr>\n",
       "      <th>18</th>\n",
       "      <td>False</td>\n",
       "      <td>2010-01-01</td>\n",
       "      <td>269915</td>\n",
       "    </tr>\n",
       "    <tr>\n",
       "      <th>19</th>\n",
       "      <td>True</td>\n",
       "      <td>2010-01-01</td>\n",
       "      <td>100520</td>\n",
       "    </tr>\n",
       "    <tr>\n",
       "      <th>20</th>\n",
       "      <td>False</td>\n",
       "      <td>2011-01-01</td>\n",
       "      <td>255643</td>\n",
       "    </tr>\n",
       "    <tr>\n",
       "      <th>21</th>\n",
       "      <td>True</td>\n",
       "      <td>2011-01-01</td>\n",
       "      <td>96271</td>\n",
       "    </tr>\n",
       "    <tr>\n",
       "      <th>22</th>\n",
       "      <td>False</td>\n",
       "      <td>2012-01-01</td>\n",
       "      <td>245558</td>\n",
       "    </tr>\n",
       "    <tr>\n",
       "      <th>23</th>\n",
       "      <td>True</td>\n",
       "      <td>2012-01-01</td>\n",
       "      <td>90636</td>\n",
       "    </tr>\n",
       "    <tr>\n",
       "      <th>24</th>\n",
       "      <td>False</td>\n",
       "      <td>2013-01-01</td>\n",
       "      <td>220865</td>\n",
       "    </tr>\n",
       "    <tr>\n",
       "      <th>25</th>\n",
       "      <td>True</td>\n",
       "      <td>2013-01-01</td>\n",
       "      <td>86511</td>\n",
       "    </tr>\n",
       "    <tr>\n",
       "      <th>26</th>\n",
       "      <td>False</td>\n",
       "      <td>2014-01-01</td>\n",
       "      <td>196046</td>\n",
       "    </tr>\n",
       "    <tr>\n",
       "      <th>27</th>\n",
       "      <td>True</td>\n",
       "      <td>2014-01-01</td>\n",
       "      <td>79600</td>\n",
       "    </tr>\n",
       "    <tr>\n",
       "      <th>28</th>\n",
       "      <td>False</td>\n",
       "      <td>2015-01-01</td>\n",
       "      <td>194569</td>\n",
       "    </tr>\n",
       "    <tr>\n",
       "      <th>29</th>\n",
       "      <td>True</td>\n",
       "      <td>2015-01-01</td>\n",
       "      <td>70002</td>\n",
       "    </tr>\n",
       "    <tr>\n",
       "      <th>30</th>\n",
       "      <td>False</td>\n",
       "      <td>2016-01-01</td>\n",
       "      <td>216627</td>\n",
       "    </tr>\n",
       "    <tr>\n",
       "      <th>31</th>\n",
       "      <td>True</td>\n",
       "      <td>2016-01-01</td>\n",
       "      <td>52981</td>\n",
       "    </tr>\n",
       "    <tr>\n",
       "      <th>32</th>\n",
       "      <td>False</td>\n",
       "      <td>2017-01-01</td>\n",
       "      <td>216258</td>\n",
       "    </tr>\n",
       "    <tr>\n",
       "      <th>33</th>\n",
       "      <td>True</td>\n",
       "      <td>2017-01-01</td>\n",
       "      <td>52587</td>\n",
       "    </tr>\n",
       "    <tr>\n",
       "      <th>34</th>\n",
       "      <td>False</td>\n",
       "      <td>2018-01-01</td>\n",
       "      <td>214638</td>\n",
       "    </tr>\n",
       "    <tr>\n",
       "      <th>35</th>\n",
       "      <td>True</td>\n",
       "      <td>2018-01-01</td>\n",
       "      <td>53805</td>\n",
       "    </tr>\n",
       "    <tr>\n",
       "      <th>36</th>\n",
       "      <td>False</td>\n",
       "      <td>2019-01-01</td>\n",
       "      <td>204704</td>\n",
       "    </tr>\n",
       "    <tr>\n",
       "      <th>37</th>\n",
       "      <td>True</td>\n",
       "      <td>2019-01-01</td>\n",
       "      <td>56086</td>\n",
       "    </tr>\n",
       "    <tr>\n",
       "      <th>38</th>\n",
       "      <td>False</td>\n",
       "      <td>2020-01-01</td>\n",
       "      <td>177420</td>\n",
       "    </tr>\n",
       "    <tr>\n",
       "      <th>39</th>\n",
       "      <td>True</td>\n",
       "      <td>2020-01-01</td>\n",
       "      <td>33811</td>\n",
       "    </tr>\n",
       "    <tr>\n",
       "      <th>40</th>\n",
       "      <td>False</td>\n",
       "      <td>2021-01-01</td>\n",
       "      <td>115419</td>\n",
       "    </tr>\n",
       "    <tr>\n",
       "      <th>41</th>\n",
       "      <td>True</td>\n",
       "      <td>2021-01-01</td>\n",
       "      <td>16429</td>\n",
       "    </tr>\n",
       "  </tbody>\n",
       "</table>\n",
       "</div>"
      ],
      "text/plain": [
       "    arrest       month   count\n",
       "0    False  2001-01-01  343891\n",
       "1     True  2001-01-01  141921\n",
       "2    False  2002-01-01  345213\n",
       "3     True  2002-01-01  141560\n",
       "4    False  2003-01-01  334387\n",
       "5     True  2003-01-01  141580\n",
       "6    False  2004-01-01  324713\n",
       "7     True  2004-01-01  144694\n",
       "8    False  2005-01-01  312840\n",
       "9     True  2005-01-01  140914\n",
       "10   False  2006-01-01  312745\n",
       "11    True  2006-01-01  135405\n",
       "12   False  2007-01-01  305193\n",
       "13    True  2007-01-01  131868\n",
       "14   False  2008-01-01  317125\n",
       "15    True  2008-01-01  110006\n",
       "16   False  2009-01-01  281976\n",
       "17    True  2009-01-01  110812\n",
       "18   False  2010-01-01  269915\n",
       "19    True  2010-01-01  100520\n",
       "20   False  2011-01-01  255643\n",
       "21    True  2011-01-01   96271\n",
       "22   False  2012-01-01  245558\n",
       "23    True  2012-01-01   90636\n",
       "24   False  2013-01-01  220865\n",
       "25    True  2013-01-01   86511\n",
       "26   False  2014-01-01  196046\n",
       "27    True  2014-01-01   79600\n",
       "28   False  2015-01-01  194569\n",
       "29    True  2015-01-01   70002\n",
       "30   False  2016-01-01  216627\n",
       "31    True  2016-01-01   52981\n",
       "32   False  2017-01-01  216258\n",
       "33    True  2017-01-01   52587\n",
       "34   False  2018-01-01  214638\n",
       "35    True  2018-01-01   53805\n",
       "36   False  2019-01-01  204704\n",
       "37    True  2019-01-01   56086\n",
       "38   False  2020-01-01  177420\n",
       "39    True  2020-01-01   33811\n",
       "40   False  2021-01-01  115419\n",
       "41    True  2021-01-01   16429"
      ]
     },
     "execution_count": 17,
     "metadata": {},
     "output_type": "execute_result"
    }
   ],
   "source": [
    "import datetime\n",
    "\n",
    "datetime.datetime.now()\n",
    "datetime.datetime.strftime(datetime.datetime.now(), '%H')\n",
    "\n",
    "'14'\n",
    "\n",
    "#\n",
    "type_arrest_pddf = type_arrest_date.toPandas()\n",
    "type_arrest_pddf"
   ]
  },
  {
   "cell_type": "code",
   "execution_count": 18,
   "id": "figured-scanning",
   "metadata": {},
   "outputs": [
    {
     "data": {
      "text/plain": [
       "<matplotlib.legend.Legend at 0x204a6568d48>"
      ]
     },
     "execution_count": 18,
     "metadata": {},
     "output_type": "execute_result"
    },
    {
     "data": {
      "image/png": "[encoded data removed]",
      "text/plain": [
       "<Figure size 1440x576 with 1 Axes>"
      ]
     },
     "metadata": {
      "needs_background": "light"
     },
     "output_type": "display_data"
    }
   ],
   "source": [
    "t = type_arrest_pddf['count'] - 20 # np.arange(0.0, 2.0, 0.01)\n",
    "s = type_arrest_pddf['month']\n",
    "\n",
    "arrested = type_arrest_pddf[type_arrest_pddf['arrest'] == True]\n",
    "not_arrested = type_arrest_pddf[type_arrest_pddf['arrest'] == False]\n",
    "\n",
    "\n",
    "fig, ax = plt.subplots()\n",
    "ax.plot(arrested['month'], arrested['count'], label='Arrested')\n",
    "ax.plot(not_arrested['month'], not_arrested['count'], label='Not Arrested')\n",
    "\n",
    "ax.set(xlabel='Year - 2001-2017', ylabel='Total records',\n",
    "       title='Year-on-year crime records')\n",
    "ax.grid(b=True, which='both', axis='y')\n",
    "ax.legend()"
   ]
  },
  {
   "cell_type": "markdown",
   "id": "intended-survivor",
   "metadata": {},
   "source": [
    "### Quel jour dans la semaine est le plus criminel"
   ]
  },
  {
   "cell_type": "code",
   "execution_count": 18,
   "id": "mental-startup",
   "metadata": {},
   "outputs": [
    {
     "name": "stdout",
     "output_type": "stream",
     "text": [
      "+--------+----------+--------------------+--------------------+----+------------------+--------------------+--------------------+------+--------+----+--------+----+-------------+-------+-----------+-----------+----+---------+------------+-------------+--------------------+-------------------+----------+----+\n",
      "|      ID|CaseNumber|                Date|               Block|IUCR|       PrimaryType|         Description| LocationDescription|Arrest|Domestic|Beat|District|Ward|CommunityArea|FBICode|XCoordinate|YCoordinate|Year|UpdatedOn|         Lat|    Longitude|            Location|          date_time|     month|hour|\n",
      "+--------+----------+--------------------+--------------------+----+------------------+--------------------+--------------------+------+--------+----+--------+----+-------------+-------+-----------+-----------+----+---------+------------+-------------+--------------------+-------------------+----------+----+\n",
      "|10224738|  HY411648|09/05/2015 01:30:...|     043XX S WOOD ST|0486|           BATTERY|DOMESTIC BATTERY ...|           RESIDENCE| false|    true|0924|     009|  12|           61|    08B|  1165074.0|  1875917.0|2015|     null|41.815117282|-87.669999562|(41.815117282, -8...|2015-09-05 13:30:00|2015-01-01|  13|\n",
      "|10224739|  HY411615|09/04/2015 11:30:...| 008XX N CENTRAL AVE|0870|             THEFT|      POCKET-PICKING|             CTA BUS| false|   false|1511|     015|  29|           25|     06|  1138875.0|  1904869.0|2015|     null|41.895080471|-87.765400451|(41.895080471, -8...|2015-09-04 11:30:00|2015-01-01|  11|\n",
      "|11646166|  JC213529|09/01/2018 12:01:...|082XX S INGLESIDE...|0810|             THEFT|           OVER $500|           RESIDENCE| false|    true|0631|     006|   8|           44|     06|       null|       null|2018|     null|        null|         null|                null|2018-09-01 00:01:00|2018-01-01|   0|\n",
      "|10224740|  HY411595|09/05/2015 12:45:...|   035XX W BARRY AVE|2023|         NARCOTICS|POSS: HEROIN(BRN/...|            SIDEWALK|  true|   false|1412|     014|  35|           21|     18|  1152037.0|  1920384.0|2015|     null|41.937405765|-87.716649687|(41.937405765, -8...|2015-09-05 12:45:00|2015-01-01|  12|\n",
      "|10224741|  HY411610|09/05/2015 01:00:...| 0000X N LARAMIE AVE|0560|           ASSAULT|              SIMPLE|           APARTMENT| false|    true|1522|     015|  28|           25|    08A|  1141706.0|  1900086.0|2015|     null|41.881903443|-87.755121152|(41.881903443, -8...|2015-09-05 13:00:00|2015-01-01|  13|\n",
      "|10224742|  HY411435|09/05/2015 10:55:...| 082XX S LOOMIS BLVD|0610|          BURGLARY|      FORCIBLE ENTRY|           RESIDENCE| false|   false|0614|     006|  21|           71|     05|  1168430.0|  1850165.0|2015|     null|41.744378879|-87.658430635|(41.744378879, -8...|2015-09-05 10:55:00|2015-01-01|  10|\n",
      "|10224743|  HY411629|09/04/2015 06:00:...|021XX W CHURCHILL ST|0620|          BURGLARY|      UNLAWFUL ENTRY|    RESIDENCE-GARAGE| false|   false|1434|     014|  32|           24|     05|  1161628.0|  1912157.0|2015|     null|41.914635603|-87.681630909|(41.914635603, -8...|2015-09-04 18:00:00|2015-01-01|  18|\n",
      "|10224744|  HY411605|09/05/2015 01:00:...|   025XX W CERMAK RD|0860|             THEFT|        RETAIL THEFT|  GROCERY FOOD STORE|  true|   false|1034|     010|  25|           31|     06|  1159734.0|  1889313.0|2015|     null|41.851988885|-87.689219118|(41.851988885, -8...|2015-09-05 13:00:00|2015-01-01|  13|\n",
      "|10224745|  HY411654|09/05/2015 11:30:...|031XX W WASHINGTO...|0320|           ROBBERY|STRONGARM - NO WE...|              STREET| false|    true|1222|     012|  27|           27|     03|  1155536.0|  1900515.0|2015|     null| 41.88281374|-87.704325717|(41.88281374, -87...|2015-09-05 11:30:00|2015-01-01|  11|\n",
      "|11645836|  JC212333|05/01/2016 12:25:...| 055XX S ROCKWELL ST|1153|DECEPTIVE PRACTICE|FINANCIAL IDENTIT...|                null| false|   false|0824|     008|  15|           63|     11|       null|       null|2016|     null|        null|         null|                null|2016-05-01 00:25:00|2016-01-01|   0|\n",
      "|10224746|  HY411662|09/05/2015 02:00:...|  071XX S PULASKI RD|0820|             THEFT|      $500 AND UNDER|PARKING LOT/GARAG...| false|   false|0833|     008|  13|           65|     06|  1150938.0|  1857056.0|2015|     null|41.763647552|-87.722344693|(41.763647552, -8...|2015-09-05 14:00:00|2015-01-01|  14|\n",
      "|10224749|  HY411626|09/05/2015 11:00:...|052XX N MILWAUKEE...|0460|           BATTERY|              SIMPLE|  SMALL RETAIL STORE| false|   false|1623|     016|  45|           11|    08B|  1137969.0|  1934340.0|2015|     null|41.975968415|-87.768014257|(41.975968415, -8...|2015-09-05 11:00:00|2015-01-01|  11|\n",
      "|10224750|  HY411632|09/05/2015 03:00:...|    0000X W 103RD ST|2820|     OTHER OFFENSE|    TELEPHONE THREAT|           APARTMENT| false|    true|0512|     005|  34|           49|     26|  1177871.0|  1836676.0|2015|     null|41.707154919|-87.624244993|(41.707154919, -8...|2015-09-05 03:00:00|2015-01-01|   3|\n",
      "|10224751|  HY411566|09/05/2015 12:50:...|     013XX E 47TH ST|0486|           BATTERY|DOMESTIC BATTERY ...|              STREET| false|    true|0222|     002|   4|           39|    08B|  1185907.0|  1874105.0|2015|     null|41.809678314|-87.593638934|(41.809678314, -8...|2015-09-05 12:50:00|2015-01-01|  12|\n",
      "|10224752|  HY411601|09/03/2015 01:00:...| 020XX W SCHILLER ST|0810|             THEFT|           OVER $500|              STREET| false|   false|1424|     014|   1|           24|     06|  1162574.0|  1909428.0|2015|     null|41.907127255|-87.678232016|(41.907127255, -8...|2015-09-03 13:00:00|2015-01-01|  13|\n",
      "|10224753|  HY411489|09/05/2015 11:45:...|  080XX S JUSTINE ST|0497|           BATTERY|AGGRAVATED DOMEST...|           APARTMENT| false|   false|0612|     006|  21|           71|    04B|  1167400.0|  1851512.0|2015|     null|41.748097343|-87.662166183|(41.748097343, -8...|2015-09-05 11:45:00|2015-01-01|  11|\n",
      "|10224754|  HY411656|09/05/2015 01:30:...|007XX N LEAMINGTO...|1320|   CRIMINAL DAMAGE|          TO VEHICLE|              STREET| false|   false|1531|     015|  28|           25|     14|  1141889.0|  1904448.0|2015|     null|41.893869916|-87.754341096|(41.893869916, -8...|2015-09-05 13:30:00|2015-01-01|  13|\n",
      "|10224756|  HY410094|07/08/2015 12:00:...|103XX S TORRENCE AVE|0620|          BURGLARY|      UNLAWFUL ENTRY|               OTHER| false|   false|0434|     004|  10|           51|     05|  1195508.0|  1836950.0|2015|     null|41.707490122|-87.559650325|(41.707490122, -8...|2015-07-08 00:00:00|2015-01-01|   0|\n",
      "|10224757|  HY411388|09/05/2015 09:55:...|  088XX S PAULINA ST|0610|          BURGLARY|      FORCIBLE ENTRY|           RESIDENCE|  true|   false|2221|     022|  21|           71|     05|  1166554.0|  1846067.0|2015|     null|41.733173536|-87.665421067|(41.733173536, -8...|2015-09-05 09:55:00|2015-01-01|   9|\n",
      "|10224758|  HY411568|09/05/2015 12:35:...|    059XX W GRACE ST|0486|           BATTERY|DOMESTIC BATTERY ...|              STREET| false|    true|1633|     016|  38|           15|    08B|  1136014.0|  1924656.0|2015|     null|41.949429769|-87.775435529|(41.949429769, -8...|2015-09-05 12:35:00|2015-01-01|  12|\n",
      "+--------+----------+--------------------+--------------------+----+------------------+--------------------+--------------------+------+--------+----+--------+----+-------------+-------+-----------+-----------+----+---------+------------+-------------+--------------------+-------------------+----------+----+\n",
      "only showing top 20 rows\n",
      "\n"
     ]
    }
   ],
   "source": [
    "# Extraction des heures\n",
    "df_hour = df.withColumn('hour', hour(df['date_time']))\n",
    "df_hour.show()"
   ]
  },
  {
   "cell_type": "code",
   "execution_count": 20,
   "id": "muslim-rover",
   "metadata": {},
   "outputs": [
    {
     "name": "stdout",
     "output_type": "stream",
     "text": [
      "+----+----------+\n",
      "|hour|sum(count)|\n",
      "+----+----------+\n",
      "|  12|    423976|\n",
      "|  22|    399851|\n",
      "|   1|    234472|\n",
      "|  13|    352092|\n",
      "|   6|    117533|\n",
      "|  16|    372889|\n",
      "|   3|    159977|\n",
      "|  20|    417641|\n",
      "|   5|    100296|\n",
      "|  19|    418705|\n",
      "|  15|    393457|\n",
      "|   9|    319428|\n",
      "|  17|    379127|\n",
      "|   4|    120407|\n",
      "|   8|    250030|\n",
      "|  23|    331545|\n",
      "|   7|    168082|\n",
      "|  10|    312892|\n",
      "|  21|    405892|\n",
      "|  11|    328032|\n",
      "+----+----------+\n",
      "only showing top 20 rows\n",
      "\n"
     ]
    }
   ],
   "source": [
    "# Data frame with le nombre de crimes par heure de la journée\n",
    "hourly_count = df_hour.groupBy(['PrimaryType', 'hour']).count().cache()\n",
    "hourly_total_count = hourly_count.groupBy('hour').sum('count')\n",
    "hourly_total_count.show()"
   ]
  },
  {
   "cell_type": "code",
   "execution_count": 47,
   "id": "inside-variation",
   "metadata": {},
   "outputs": [
    {
     "data": {
      "text/html": [
       "<div>\n",
       "<style scoped>\n",
       "    .dataframe tbody tr th:only-of-type {\n",
       "        vertical-align: middle;\n",
       "    }\n",
       "\n",
       "    .dataframe tbody tr th {\n",
       "        vertical-align: top;\n",
       "    }\n",
       "\n",
       "    .dataframe thead th {\n",
       "        text-align: right;\n",
       "    }\n",
       "</style>\n",
       "<table border=\"1\" class=\"dataframe\">\n",
       "  <thead>\n",
       "    <tr style=\"text-align: right;\">\n",
       "      <th></th>\n",
       "      <th>hour</th>\n",
       "      <th>sum(count)</th>\n",
       "    </tr>\n",
       "  </thead>\n",
       "  <tbody>\n",
       "    <tr>\n",
       "      <th>22</th>\n",
       "      <td>0</td>\n",
       "      <td>411484</td>\n",
       "    </tr>\n",
       "    <tr>\n",
       "      <th>2</th>\n",
       "      <td>1</td>\n",
       "      <td>234472</td>\n",
       "    </tr>\n",
       "    <tr>\n",
       "      <th>21</th>\n",
       "      <td>2</td>\n",
       "      <td>196235</td>\n",
       "    </tr>\n",
       "    <tr>\n",
       "      <th>6</th>\n",
       "      <td>3</td>\n",
       "      <td>159977</td>\n",
       "    </tr>\n",
       "    <tr>\n",
       "      <th>13</th>\n",
       "      <td>4</td>\n",
       "      <td>120407</td>\n",
       "    </tr>\n",
       "    <tr>\n",
       "      <th>8</th>\n",
       "      <td>5</td>\n",
       "      <td>100296</td>\n",
       "    </tr>\n",
       "    <tr>\n",
       "      <th>4</th>\n",
       "      <td>6</td>\n",
       "      <td>117533</td>\n",
       "    </tr>\n",
       "    <tr>\n",
       "      <th>16</th>\n",
       "      <td>7</td>\n",
       "      <td>168082</td>\n",
       "    </tr>\n",
       "    <tr>\n",
       "      <th>14</th>\n",
       "      <td>8</td>\n",
       "      <td>250030</td>\n",
       "    </tr>\n",
       "    <tr>\n",
       "      <th>11</th>\n",
       "      <td>9</td>\n",
       "      <td>319428</td>\n",
       "    </tr>\n",
       "    <tr>\n",
       "      <th>17</th>\n",
       "      <td>10</td>\n",
       "      <td>312892</td>\n",
       "    </tr>\n",
       "    <tr>\n",
       "      <th>19</th>\n",
       "      <td>11</td>\n",
       "      <td>328032</td>\n",
       "    </tr>\n",
       "    <tr>\n",
       "      <th>0</th>\n",
       "      <td>12</td>\n",
       "      <td>423976</td>\n",
       "    </tr>\n",
       "    <tr>\n",
       "      <th>3</th>\n",
       "      <td>13</td>\n",
       "      <td>352092</td>\n",
       "    </tr>\n",
       "    <tr>\n",
       "      <th>20</th>\n",
       "      <td>14</td>\n",
       "      <td>374354</td>\n",
       "    </tr>\n",
       "    <tr>\n",
       "      <th>10</th>\n",
       "      <td>15</td>\n",
       "      <td>393457</td>\n",
       "    </tr>\n",
       "    <tr>\n",
       "      <th>5</th>\n",
       "      <td>16</td>\n",
       "      <td>372889</td>\n",
       "    </tr>\n",
       "    <tr>\n",
       "      <th>12</th>\n",
       "      <td>17</td>\n",
       "      <td>379127</td>\n",
       "    </tr>\n",
       "    <tr>\n",
       "      <th>23</th>\n",
       "      <td>18</td>\n",
       "      <td>405347</td>\n",
       "    </tr>\n",
       "    <tr>\n",
       "      <th>9</th>\n",
       "      <td>19</td>\n",
       "      <td>418705</td>\n",
       "    </tr>\n",
       "    <tr>\n",
       "      <th>7</th>\n",
       "      <td>20</td>\n",
       "      <td>417641</td>\n",
       "    </tr>\n",
       "    <tr>\n",
       "      <th>18</th>\n",
       "      <td>21</td>\n",
       "      <td>405892</td>\n",
       "    </tr>\n",
       "    <tr>\n",
       "      <th>1</th>\n",
       "      <td>22</td>\n",
       "      <td>399851</td>\n",
       "    </tr>\n",
       "    <tr>\n",
       "      <th>15</th>\n",
       "      <td>23</td>\n",
       "      <td>331545</td>\n",
       "    </tr>\n",
       "  </tbody>\n",
       "</table>\n",
       "</div>"
      ],
      "text/plain": [
       "    hour  sum(count)\n",
       "22     0      411484\n",
       "2      1      234472\n",
       "21     2      196235\n",
       "6      3      159977\n",
       "13     4      120407\n",
       "8      5      100296\n",
       "4      6      117533\n",
       "16     7      168082\n",
       "14     8      250030\n",
       "11     9      319428\n",
       "17    10      312892\n",
       "19    11      328032\n",
       "0     12      423976\n",
       "3     13      352092\n",
       "20    14      374354\n",
       "10    15      393457\n",
       "5     16      372889\n",
       "12    17      379127\n",
       "23    18      405347\n",
       "9     19      418705\n",
       "7     20      417641\n",
       "18    21      405892\n",
       "1     22      399851\n",
       "15    23      331545"
      ]
     },
     "execution_count": 47,
     "metadata": {},
     "output_type": "execute_result"
    }
   ],
   "source": [
    "hourly_count_pddf = hourly_total_count.toPandas()\n",
    "hourly_count_pddf.sort_index(axis = 0, ascending = True)\n",
    "hourly_count_pddf.sort_values(by='hour')"
   ]
  },
  {
   "cell_type": "markdown",
   "id": "acoustic-orientation",
   "metadata": {},
   "source": [
    "### Nombre de crimes"
   ]
  },
  {
   "cell_type": "code",
   "execution_count": 19,
   "id": "automatic-junction",
   "metadata": {},
   "outputs": [],
   "source": [
    "df_dates = df_hour.withColumn('week_day', dayofweek(df_hour['date_time']))\\\n",
    "                 .withColumn('year_month', month(df_hour['date_time']))\\\n",
    "                 .withColumn('month_day', dayofmonth(df_hour['date_time']))\\\n",
    "                 .withColumn('date_number', datediff(df['date_time'], to_date(lit('2001-01-01'), format='yyyy-MM-dd')))\\\n",
    "                 .cache()"
   ]
  },
  {
   "cell_type": "code",
   "execution_count": 50,
   "id": "intended-mauritius",
   "metadata": {},
   "outputs": [
    {
     "name": "stdout",
     "output_type": "stream",
     "text": [
      "+----------------------+----------+----+--------+----+----------+---------+-----------+\n",
      "|date                  |month     |hour|week_day|year|year_month|month_day|date_number|\n",
      "+----------------------+----------+----+--------+----+----------+---------+-----------+\n",
      "|09/05/2015 01:30:00 PM|2015-01-01|13  |7       |2015|9         |5        |5360       |\n",
      "|09/04/2015 11:30:00 AM|2015-01-01|11  |6       |2015|9         |4        |5359       |\n",
      "|09/01/2018 12:01:00 AM|2018-01-01|0   |7       |2018|9         |1        |6452       |\n",
      "|09/05/2015 12:45:00 PM|2015-01-01|12  |7       |2015|9         |5        |5360       |\n",
      "|09/05/2015 01:00:00 PM|2015-01-01|13  |7       |2015|9         |5        |5360       |\n",
      "|09/05/2015 10:55:00 AM|2015-01-01|10  |7       |2015|9         |5        |5360       |\n",
      "|09/04/2015 06:00:00 PM|2015-01-01|18  |6       |2015|9         |4        |5359       |\n",
      "|09/05/2015 01:00:00 PM|2015-01-01|13  |7       |2015|9         |5        |5360       |\n",
      "|09/05/2015 11:30:00 AM|2015-01-01|11  |7       |2015|9         |5        |5360       |\n",
      "|05/01/2016 12:25:00 AM|2016-01-01|0   |1       |2016|5         |1        |5599       |\n",
      "|09/05/2015 02:00:00 PM|2015-01-01|14  |7       |2015|9         |5        |5360       |\n",
      "|09/05/2015 11:00:00 AM|2015-01-01|11  |7       |2015|9         |5        |5360       |\n",
      "|09/05/2015 03:00:00 AM|2015-01-01|3   |7       |2015|9         |5        |5360       |\n",
      "|09/05/2015 12:50:00 PM|2015-01-01|12  |7       |2015|9         |5        |5360       |\n",
      "|09/03/2015 01:00:00 PM|2015-01-01|13  |5       |2015|9         |3        |5358       |\n",
      "|09/05/2015 11:45:00 AM|2015-01-01|11  |7       |2015|9         |5        |5360       |\n",
      "|09/05/2015 01:30:00 PM|2015-01-01|13  |7       |2015|9         |5        |5360       |\n",
      "|07/08/2015 12:00:00 AM|2015-01-01|0   |4       |2015|7         |8        |5301       |\n",
      "|09/05/2015 09:55:00 AM|2015-01-01|9   |7       |2015|9         |5        |5360       |\n",
      "|09/05/2015 12:35:00 PM|2015-01-01|12  |7       |2015|9         |5        |5360       |\n",
      "+----------------------+----------+----+--------+----+----------+---------+-----------+\n",
      "only showing top 20 rows\n",
      "\n"
     ]
    }
   ],
   "source": [
    "df_dates.select(['date', 'month', 'hour', 'week_day', 'year', 'year_month', 'month_day', 'date_number']).show(20, truncate=False)"
   ]
  },
  {
   "cell_type": "code",
   "execution_count": 52,
   "id": "frozen-collaboration",
   "metadata": {},
   "outputs": [],
   "source": [
    "week_day_crime_counts = df_dates.groupBy('week_day').count()"
   ]
  },
  {
   "cell_type": "code",
   "execution_count": 53,
   "id": "introductory-monthly",
   "metadata": {},
   "outputs": [
    {
     "data": {
      "text/html": [
       "<div>\n",
       "<style scoped>\n",
       "    .dataframe tbody tr th:only-of-type {\n",
       "        vertical-align: middle;\n",
       "    }\n",
       "\n",
       "    .dataframe tbody tr th {\n",
       "        vertical-align: top;\n",
       "    }\n",
       "\n",
       "    .dataframe thead th {\n",
       "        text-align: right;\n",
       "    }\n",
       "</style>\n",
       "<table border=\"1\" class=\"dataframe\">\n",
       "  <thead>\n",
       "    <tr style=\"text-align: right;\">\n",
       "      <th></th>\n",
       "      <th>week_day</th>\n",
       "      <th>count</th>\n",
       "    </tr>\n",
       "  </thead>\n",
       "  <tbody>\n",
       "    <tr>\n",
       "      <th>0</th>\n",
       "      <td>1</td>\n",
       "      <td>1004005</td>\n",
       "    </tr>\n",
       "    <tr>\n",
       "      <th>6</th>\n",
       "      <td>2</td>\n",
       "      <td>1044843</td>\n",
       "    </tr>\n",
       "    <tr>\n",
       "      <th>2</th>\n",
       "      <td>3</td>\n",
       "      <td>1057584</td>\n",
       "    </tr>\n",
       "    <tr>\n",
       "      <th>4</th>\n",
       "      <td>4</td>\n",
       "      <td>1063583</td>\n",
       "    </tr>\n",
       "    <tr>\n",
       "      <th>3</th>\n",
       "      <td>5</td>\n",
       "      <td>1053116</td>\n",
       "    </tr>\n",
       "    <tr>\n",
       "      <th>1</th>\n",
       "      <td>6</td>\n",
       "      <td>1112018</td>\n",
       "    </tr>\n",
       "    <tr>\n",
       "      <th>5</th>\n",
       "      <td>7</td>\n",
       "      <td>1058595</td>\n",
       "    </tr>\n",
       "  </tbody>\n",
       "</table>\n",
       "</div>"
      ],
      "text/plain": [
       "   week_day    count\n",
       "0         1  1004005\n",
       "6         2  1044843\n",
       "2         3  1057584\n",
       "4         4  1063583\n",
       "3         5  1053116\n",
       "1         6  1112018\n",
       "5         7  1058595"
      ]
     },
     "execution_count": 53,
     "metadata": {},
     "output_type": "execute_result"
    }
   ],
   "source": [
    "week_day_crime_counts_pddf = week_day_crime_counts.toPandas()\n",
    "week_day_crime_counts_pddf.sort_values(by='week_day')"
   ]
  },
  {
   "cell_type": "code",
   "execution_count": 54,
   "id": "developing-tucson",
   "metadata": {},
   "outputs": [
    {
     "data": {
      "text/plain": [
       "<AxesSubplot:xlabel='week_day', ylabel='count'>"
      ]
     },
     "execution_count": 54,
     "metadata": {},
     "output_type": "execute_result"
    },
    {
     "data": {
      "image/png": "[encoded data removed]",
      "text/plain": [
       "<Figure size 432x288 with 1 Axes>"
      ]
     },
     "metadata": {
      "needs_background": "light"
     },
     "output_type": "display_data"
    }
   ],
   "source": [
    "sns.barplot(data=week_day_crime_counts_pddf, x='week_day', y='count')\n",
    "#Un nombre de crimes plus important le samedi ...."
   ]
  },
  {
   "cell_type": "markdown",
   "id": "first-currency",
   "metadata": {},
   "source": [
    "### Moyenne Mobile Spark par an"
   ]
  },
  {
   "cell_type": "code",
   "execution_count": 15,
   "id": "chicken-comedy",
   "metadata": {},
   "outputs": [],
   "source": [
    "from pyspark.sql.window import Window\n",
    "\n",
    "from pyspark.sql import functions as F\n",
    "\n",
    "movAvg = df.withColumn(\"movingAverage\", F.avg(\"ID\").over( Window.partitionBy(\"Year\").rowsBetween(-1,1)) )"
   ]
  },
  {
   "cell_type": "code",
   "execution_count": 16,
   "id": "atmospheric-hydrogen",
   "metadata": {},
   "outputs": [
    {
     "data": {
      "text/plain": [
       "DataFrame[ID: string, CaseNumber: string, Date: string, Block: string, IUCR: string, PrimaryType: string, Description: string, LocationDescription: string, Arrest: boolean, Domestic: boolean, Beat: string, District: string, Ward: string, CommunityArea: string, FBICode: string, XCoordinate: double, YCoordinate: double, Year: int, UpdatedOn: date, Latitude: double, Longitude: double, Location: string, difference_from_max_lat: double, movingAverage: double]"
      ]
     },
     "execution_count": 16,
     "metadata": {},
     "output_type": "execute_result"
    }
   ],
   "source": [
    "movAvg"
   ]
  },
  {
   "cell_type": "code",
   "execution_count": 17,
   "id": "extreme-mixture",
   "metadata": {},
   "outputs": [
    {
     "name": "stdout",
     "output_type": "stream",
     "text": [
      "+--------+----------+----------------------+--------------------+----+-----------+---------------------+-------------------+------+--------+----+--------+----+-------------+-------+-----------+-----------+----+---------+--------+---------+--------+-----------------------+-------------+\n",
      "|ID      |CaseNumber|Date                  |Block               |IUCR|PrimaryType|Description          |LocationDescription|Arrest|Domestic|Beat|District|Ward|CommunityArea|FBICode|XCoordinate|YCoordinate|Year|UpdatedOn|Latitude|Longitude|Location|difference_from_max_lat|movingAverage|\n",
      "+--------+----------+----------------------+--------------------+----+-----------+---------------------+-------------------+------+--------+----+--------+----+-------------+-------+-----------+-----------+----+---------+--------+---------+--------+-----------------------+-------------+\n",
      "|11042905|JA374476  |01/01/2003 12:01:00 AM|056XX S ARTESIAN AVE|1563|SEX OFFENSE|CRIMINAL SEXUAL ABUSE|RESIDENCE          |false |false   |0824|008     |15  |63           |17     |null       |null       |2003|null     |null    |null     |null    |null                   |6992622.5    |\n",
      "+--------+----------+----------------------+--------------------+----+-----------+---------------------+-------------------+------+--------+----+--------+----+-------------+-------+-----------+-----------+----+---------+--------+---------+--------+-----------------------+-------------+\n",
      "only showing top 1 row\n",
      "\n"
     ]
    }
   ],
   "source": [
    "movAvg.show(1, False)"
   ]
  },
  {
   "cell_type": "code",
   "execution_count": 40,
   "id": "fatty-grace",
   "metadata": {},
   "outputs": [
    {
     "name": "stdout",
     "output_type": "stream",
     "text": [
      "+--------------------+------+\n",
      "| LocationDescription| count|\n",
      "+--------------------+------+\n",
      "|   RAILROAD PROPERTY|    14|\n",
      "|SCHOOL - PRIVATE ...|   132|\n",
      "|AIRPORT TERMINAL ...|  1952|\n",
      "|VEHICLE - COMMERCIAL|   220|\n",
      "|EXPRESSWAY EMBANK...|     1|\n",
      "|POLICE FACILITY/V...| 18581|\n",
      "|RESIDENCE - YARD ...|  5078|\n",
      "|               MOTEL|     6|\n",
      "|CHA PARKING LOT /...|   669|\n",
      "|            SIDEWALK|709201|\n",
      "|AIRPORT TERMINAL ...|    98|\n",
      "|PUBLIC GRAMMAR SC...|     1|\n",
      "|OTHER RAILROAD PR...|   185|\n",
      "|CTA GARAGE / OTHE...| 10279|\n",
      "|            CAR WASH|  3092|\n",
      "|   TRUCKING TERMINAL|     1|\n",
      "|    AIRPORT/AIRCRAFT| 16213|\n",
      "|            HOSPITAL|    12|\n",
      "|MEDICAL/DENTAL OF...|  7432|\n",
      "|    FEDERAL BUILDING|   886|\n",
      "+--------------------+------+\n",
      "only showing top 20 rows\n",
      "\n"
     ]
    }
   ],
   "source": [
    "#Ou ont lieux les cries ....\n",
    "\n",
    "crimes.groupBy(\"LocationDescription\").count().show()"
   ]
  },
  {
   "cell_type": "code",
   "execution_count": 41,
   "id": "integral-transformation",
   "metadata": {},
   "outputs": [
    {
     "data": {
      "text/html": [
       "<div>\n",
       "<style scoped>\n",
       "    .dataframe tbody tr th:only-of-type {\n",
       "        vertical-align: middle;\n",
       "    }\n",
       "\n",
       "    .dataframe tbody tr th {\n",
       "        vertical-align: top;\n",
       "    }\n",
       "\n",
       "    .dataframe thead th {\n",
       "        text-align: right;\n",
       "    }\n",
       "</style>\n",
       "<table border=\"1\" class=\"dataframe\">\n",
       "  <thead>\n",
       "    <tr style=\"text-align: right;\">\n",
       "      <th></th>\n",
       "      <th>location</th>\n",
       "      <th>count</th>\n",
       "    </tr>\n",
       "  </thead>\n",
       "  <tbody>\n",
       "    <tr>\n",
       "      <th>72</th>\n",
       "      <td>STREET</td>\n",
       "      <td>1918700</td>\n",
       "    </tr>\n",
       "    <tr>\n",
       "      <th>121</th>\n",
       "      <td>RESIDENCE</td>\n",
       "      <td>1254780</td>\n",
       "    </tr>\n",
       "    <tr>\n",
       "      <th>154</th>\n",
       "      <td>APARTMENT</td>\n",
       "      <td>803529</td>\n",
       "    </tr>\n",
       "    <tr>\n",
       "      <th>9</th>\n",
       "      <td>SIDEWALK</td>\n",
       "      <td>709201</td>\n",
       "    </tr>\n",
       "    <tr>\n",
       "      <th>155</th>\n",
       "      <td>OTHER</td>\n",
       "      <td>270072</td>\n",
       "    </tr>\n",
       "  </tbody>\n",
       "</table>\n",
       "</div>"
      ],
      "text/plain": [
       "      location    count\n",
       "72      STREET  1918700\n",
       "121  RESIDENCE  1254780\n",
       "154  APARTMENT   803529\n",
       "9     SIDEWALK   709201\n",
       "155      OTHER   270072"
      ]
     },
     "execution_count": 41,
     "metadata": {},
     "output_type": "execute_result"
    }
   ],
   "source": [
    "crime_location  = crimes.groupBy(\"LocationDescription\").count().collect()\n",
    "location = [item[0] for item in crime_location]\n",
    "count = [item[1] for item in crime_location]\n",
    "crime_location = {\"location\" : location, \"count\": count}\n",
    "crime_location = pd.DataFrame(crime_location)\n",
    "crime_location = crime_location.sort_values(by = \"count\", ascending  = False)\n",
    "crime_location.iloc[:5]"
   ]
  },
  {
   "cell_type": "code",
   "execution_count": 42,
   "id": "attached-mexico",
   "metadata": {},
   "outputs": [
    {
     "data": {
      "image/png": "[encoded data removed]",
      "text/plain": [
       "<Figure size 1440x1440 with 1 Axes>"
      ]
     },
     "metadata": {
      "needs_background": "light"
     },
     "output_type": "display_data"
    }
   ],
   "source": [
    "crime_location = crime_location.iloc[:20]\n",
    "\n",
    "myplot = crime_location .plot(figsize = (20,20), kind = \"barh\", color = \"#b35900\", width = 0.8,\n",
    "                               x = \"location\", y = \"count\", legend = False)\n",
    "\n",
    "myplot.invert_yaxis()\n",
    "\n",
    "plt.xlabel(\"Number of crimes\", fontsize = 28)\n",
    "plt.ylabel(\"Crime Location\", fontsize = 28)\n",
    "plt.title(\"Number of Crimes By Location\", fontsize = 36)\n",
    "plt.xticks(size = 24)\n",
    "plt.yticks(size = 24)\n",
    "plt.show()"
   ]
  },
  {
   "cell_type": "code",
   "execution_count": 43,
   "id": "silent-botswana",
   "metadata": {},
   "outputs": [
    {
     "name": "stdout",
     "output_type": "stream",
     "text": [
      "+--------+----------+--------------------+--------------------+----+-----------+--------------------+-------------------+------+--------+----+--------+----+-------------+-------+-----------+-----------+----+---------+------------+-------------+--------------------+\n",
      "|      ID|CaseNumber|                Date|               Block|IUCR|PrimaryType|         Description|LocationDescription|Arrest|Domestic|Beat|District|Ward|CommunityArea|FBICode|XCoordinate|YCoordinate|Year|UpdatedOn|         Lat|    Longitude|            Location|\n",
      "+--------+----------+--------------------+--------------------+----+-----------+--------------------+-------------------+------+--------+----+--------+----+-------------+-------+-----------+-----------+----+---------+------------+-------------+--------------------+\n",
      "|10224738|  HY411648|09/05/2015 01:30:...|     043XX S WOOD ST|0486|    BATTERY|DOMESTIC BATTERY ...|          RESIDENCE| false|    true|0924|     009|  12|           61|    08B|  1165074.0|  1875917.0|2015|     null|41.815117282|-87.669999562|(41.815117282, -8...|\n",
      "|10224739|  HY411615|09/04/2015 11:30:...| 008XX N CENTRAL AVE|0870|      THEFT|      POCKET-PICKING|            CTA BUS| false|   false|1511|     015|  29|           25|     06|  1138875.0|  1904869.0|2015|     null|41.895080471|-87.765400451|(41.895080471, -8...|\n",
      "|11646166|  JC213529|09/01/2018 12:01:...|082XX S INGLESIDE...|0810|      THEFT|           OVER $500|          RESIDENCE| false|    true|0631|     006|   8|           44|     06|       null|       null|2018|     null|        null|         null|                null|\n",
      "|10224740|  HY411595|09/05/2015 12:45:...|   035XX W BARRY AVE|2023|  NARCOTICS|POSS: HEROIN(BRN/...|           SIDEWALK|  true|   false|1412|     014|  35|           21|     18|  1152037.0|  1920384.0|2015|     null|41.937405765|-87.716649687|(41.937405765, -8...|\n",
      "+--------+----------+--------------------+--------------------+----+-----------+--------------------+-------------------+------+--------+----+--------+----+-------------+-------+-----------+-----------+----+---------+------------+-------------+--------------------+\n",
      "only showing top 4 rows\n",
      "\n"
     ]
    }
   ],
   "source": [
    "df.show(4)"
   ]
  },
  {
   "cell_type": "code",
   "execution_count": 44,
   "id": "injured-dimension",
   "metadata": {},
   "outputs": [
    {
     "name": "stdout",
     "output_type": "stream",
     "text": [
      "+----------------------+----------------------+\n",
      "|first_record_date     |latest_record_date    |\n",
      "+----------------------+----------------------+\n",
      "|01/01/2001 01:00:00 AM|12/31/2020 12:55:00 AM|\n",
      "+----------------------+----------------------+\n",
      "\n"
     ]
    }
   ],
   "source": [
    "import datetime\n",
    "from pyspark.sql.functions import *\n",
    "\n",
    "df.select(min('Date').alias('first_record_date'), max('Date').alias('latest_record_date')).show(truncate=False)"
   ]
  },
  {
   "cell_type": "code",
   "execution_count": 45,
   "id": "automated-photography",
   "metadata": {},
   "outputs": [
    {
     "name": "stdout",
     "output_type": "stream",
     "text": [
      "+----------------------+-------------------+----------+\n",
      "|date                  |date_time          |month     |\n",
      "+----------------------+-------------------+----------+\n",
      "|09/05/2015 01:30:00 PM|2015-09-05 13:30:00|2015-01-01|\n",
      "|09/04/2015 11:30:00 AM|2015-09-04 11:30:00|2015-01-01|\n",
      "+----------------------+-------------------+----------+\n",
      "only showing top 2 rows\n",
      "\n"
     ]
    }
   ],
   "source": [
    "df = df.withColumn('date_time', to_timestamp('Date', 'MM/dd/yyyy hh:mm:ss a'))\\\n",
    "       .withColumn('month', trunc('date_time', 'YYYY')) #adding a month column to be able to view stats on a monthly basis\n",
    "\n",
    "df.select(['date','date_time', 'month'])\\\n",
    "  .show(n=2, truncate=False)"
   ]
  },
  {
   "cell_type": "code",
   "execution_count": 46,
   "id": "cloudy-kernel",
   "metadata": {},
   "outputs": [
    {
     "name": "stdout",
     "output_type": "stream",
     "text": [
      "\n",
      "+------+----------+------+\n",
      "|arrest|month     |count |\n",
      "+------+----------+------+\n",
      "|false |2001-01-01|343891|\n",
      "|true  |2001-01-01|141921|\n",
      "|false |2002-01-01|345213|\n",
      "+------+----------+------+\n",
      "only showing top 3 rows\n",
      "\n"
     ]
    }
   ],
   "source": [
    "#Primary type and arrest\n",
    "\n",
    "# crime types and arrest sur les dernières années :\n",
    "type_arrest_date = df.groupBy(['arrest', 'month'])\\\n",
    "                     .count()\\\n",
    "                     .orderBy(['month', 'count'], ascending=[True, False])\n",
    "print()\n",
    "type_arrest_date.show(3, truncate=False)"
   ]
  },
  {
   "cell_type": "markdown",
   "id": "centered-proof",
   "metadata": {},
   "source": [
    "### Community area names "
   ]
  },
  {
   "cell_type": "code",
   "execution_count": 84,
   "id": "guided-lightweight",
   "metadata": {},
   "outputs": [],
   "source": [
    "#Chicago a 77 community areas. \n",
    "\n",
    "df_dates_community_areas = df_dates.na.drop(subset=['CommunityArea']).groupBy('CommunityArea').count()"
   ]
  },
  {
   "cell_type": "code",
   "execution_count": 85,
   "id": "prospective-following",
   "metadata": {},
   "outputs": [
    {
     "name": "stdout",
     "output_type": "stream",
     "text": [
      "+-------------+------+\n",
      "|CommunityArea| count|\n",
      "+-------------+------+\n",
      "|           25|428207|\n",
      "|            8|235467|\n",
      "|           43|222852|\n",
      "|           23|213749|\n",
      "|           28|201722|\n",
      "|           29|198554|\n",
      "|           24|198445|\n",
      "|           67|197378|\n",
      "|           71|192761|\n",
      "|           49|181038|\n",
      "+-------------+------+\n",
      "only showing top 10 rows\n",
      "\n"
     ]
    }
   ],
   "source": [
    "# Quel sont les 10 quartiers qui ont le plus d'enregistrements de crimes ?\n",
    "df_dates_community_areas.orderBy('count', ascending=False).show(10)"
   ]
  },
  {
   "cell_type": "code",
   "execution_count": null,
   "id": "welcome-student",
   "metadata": {},
   "outputs": [],
   "source": []
  }
 ],
 "metadata": {
  "kernelspec": {
   "display_name": "Python 3",
   "language": "python",
   "name": "python3"
  },
  "language_info": {
   "codemirror_mode": {
    "name": "ipython",
    "version": 3
   },
   "file_extension": ".py",
   "mimetype": "text/x-python",
   "name": "python",
   "nbconvert_exporter": "python",
   "pygments_lexer": "ipython3",
   "version": "3.7.9"
  }
 },
 "nbformat": 4,
 "nbformat_minor": 5
}
