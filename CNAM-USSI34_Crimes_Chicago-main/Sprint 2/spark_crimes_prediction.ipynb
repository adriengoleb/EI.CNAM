{
 "cells": [
  {
   "cell_type": "code",
   "execution_count": 1,
   "id": "satisfactory-democrat",
   "metadata": {},
   "outputs": [
    {
     "data": {
      "text/html": [
       "\n",
       "        <div>\n",
       "            <p><b>SparkContext</b></p>\n",
       "\n",
       "            <p><a href=\"http://192.168.0.10:4040\">Spark UI</a></p>\n",
       "\n",
       "            <dl>\n",
       "              <dt>Version</dt>\n",
       "                <dd><code>v3.1.2</code></dd>\n",
       "              <dt>Master</dt>\n",
       "                <dd><code>local[*]</code></dd>\n",
       "              <dt>AppName</dt>\n",
       "                <dd><code>PySparkShell</code></dd>\n",
       "            </dl>\n",
       "        </div>\n",
       "        "
      ],
      "text/plain": [
       "<SparkContext master=local[*] appName=PySparkShell>"
      ]
     },
     "execution_count": 1,
     "metadata": {},
     "output_type": "execute_result"
    }
   ],
   "source": [
    "sc"
   ]
  },
  {
   "cell_type": "code",
   "execution_count": 2,
   "id": "hired-tennis",
   "metadata": {},
   "outputs": [],
   "source": [
    "import pyspark"
   ]
  },
  {
   "cell_type": "code",
   "execution_count": 3,
   "id": "enormous-accountability",
   "metadata": {},
   "outputs": [
    {
     "name": "stdout",
     "output_type": "stream",
     "text": [
      "SPARK_HOME C:\\spark-3.1.2-bin-hadoop3.2\\spark-3.1.2-bin-hadoop3.2\n",
      "HADOOP_HOME C:\\winutils\n",
      "JAVA_HOME C:\\Java\\jdk-15.0.1\n",
      "C:\\Users\\adrien\\Anaconda3;C:\\Users\\adrien\\Anaconda3\\Library\\mingw-w64\\bin;C:\\Users\\adrien\\Anaconda3\\Library\\usr\\bin;C:\\Users\\adrien\\Anaconda3\\Library\\bin;C:\\Users\\adrien\\Anaconda3\\Scripts;C:\\Users\\adrien\\Anaconda3\\bin;C:\\Users\\adrien\\Anaconda3\\condabin;C:\\Users\\adrien\\Anaconda3;C:\\Users\\adrien\\Anaconda3\\Library\\mingw-w64\\bin;C:\\Users\\adrien\\Anaconda3\\Library\\usr\\bin;C:\\Users\\adrien\\Anaconda3\\Library\\bin;C:\\Users\\adrien\\Anaconda3\\Scripts;C:\\WINDOWS\\System32;C:\\Users\\adrien\\AppData\\Local\\Microsoft\\WindowsApps;C:\\spark-3.1.2-bin-hadoop3.2\\spark-3.1.2-bin-hadoop3.2\\bin;C:\\Java\\jdk-15.0.1\\bin;C:\\winutils\\bin;C:\\Windows\\System32;.;C:\\Users\\adrien\\Anaconda3\\lib\\site-packages\\numpy\\.libs\n"
     ]
    }
   ],
   "source": [
    "import os\n",
    "print('SPARK_HOME', os.environ.get(\"SPARK_HOME\"))\n",
    "print('HADOOP_HOME', os.environ.get(\"HADOOP_HOME\"))\n",
    "print('JAVA_HOME', os.environ.get(\"JAVA_HOME\"))\n",
    "print(os.environ['PATH'])"
   ]
  },
  {
   "cell_type": "code",
   "execution_count": 4,
   "id": "proprietary-toner",
   "metadata": {},
   "outputs": [],
   "source": [
    "## spark imports\n",
    "from pyspark.sql import Row, SparkSession\n",
    "from pyspark.sql.functions import *"
   ]
  },
  {
   "cell_type": "code",
   "execution_count": 5,
   "id": "antique-remove",
   "metadata": {},
   "outputs": [],
   "source": [
    "## standard imports\n",
    "import numpy as np\n",
    "import pandas as pd\n",
    "import seaborn as sns\n",
    "import matplotlib.pyplot as plt\n",
    "\n",
    "from pyspark import SparkContext\n",
    "from pyspark.sql import SparkSession\n",
    "from pyspark.sql import DataFrame\n",
    "from pyspark.sql.functions import format_number, when, col, array, udf, lit\n",
    "import pandas as pd\n",
    "from pyspark.ml.feature import VectorAssembler, StringIndexer, VectorIndexer, IndexToString\n",
    "from pyspark.ml.classification import RandomForestClassifier\n",
    "from pyspark.ml.evaluation import MulticlassClassificationEvaluator\n",
    "from pyspark.ml import Pipeline\n",
    "from pyspark.sql.types import *\n",
    "import pyspark.sql.functions as F\n",
    "import matplotlib.pyplot as plt"
   ]
  },
  {
   "cell_type": "code",
   "execution_count": 6,
   "id": "effective-formula",
   "metadata": {},
   "outputs": [],
   "source": [
    "%matplotlib inline\n",
    "\n",
    "sns.set_color_codes(\"pastel\")\n",
    "plt.rcParams[\"figure.figsize\"] = [20, 8]"
   ]
  },
  {
   "cell_type": "code",
   "execution_count": 7,
   "id": "parental-globe",
   "metadata": {},
   "outputs": [],
   "source": [
    "import findspark\n",
    "findspark.init()"
   ]
  },
  {
   "cell_type": "code",
   "execution_count": 8,
   "id": "independent-expense",
   "metadata": {},
   "outputs": [],
   "source": [
    "from pyspark.sql import SparkSession\n",
    "spark = SparkSession.builder.appName(\"Chicago_crime_prediction\").config('spark.sql.execution.arrow.pyspark.enabled', True).config('spark.sql.session.timeZone', 'UTC').config('spark.driver.memory','32G').config(\"spark.driver.cores\", '3').getOrCreate()"
   ]
  },
  {
   "cell_type": "code",
   "execution_count": 9,
   "id": "available-worst",
   "metadata": {},
   "outputs": [],
   "source": [
    "from pyspark.sql.types import  (StructType, \n",
    "                                StructField, \n",
    "                                DateType, \n",
    "                                BooleanType,\n",
    "                                DoubleType,\n",
    "                                IntegerType,\n",
    "                                StringType,\n",
    "                               TimestampType)\n",
    "\n",
    "\n",
    "crimes_schema = StructType([StructField(\"ID\", StringType(), True),\n",
    "                            StructField(\"CaseNumber\", StringType(), True),\n",
    "                            StructField(\"Date\", StringType(), True ),\n",
    "                            StructField(\"Block\", StringType(), True),\n",
    "                            StructField(\"IUCR\", StringType(), True),\n",
    "                            StructField(\"PrimaryType\", StringType(), True  ),\n",
    "                            StructField(\"Description\", StringType(), True ),\n",
    "                            StructField(\"LocationDescription\", StringType(), True ),\n",
    "                            StructField(\"Arrest\", StringType(), True),\n",
    "                            StructField(\"Domestic\", StringType(), True),\n",
    "                            StructField(\"Beat\", StringType(), True),\n",
    "                            StructField(\"District\", StringType(), True),\n",
    "                            StructField(\"Ward\", StringType(), True),\n",
    "                            StructField(\"CommunityArea\", StringType(), True),\n",
    "                            StructField(\"FBICode\", StringType(), True ),\n",
    "                            StructField(\"XCoordinate\", DoubleType(), True),\n",
    "                            StructField(\"YCoordinate\", DoubleType(), True ),\n",
    "                            StructField(\"Year\", IntegerType(), True),\n",
    "                            StructField(\"UpdatedOn\", DateType(), True ),\n",
    "                            StructField(\"Latitude\", DoubleType(), True),\n",
    "                            StructField(\"Longitude\", DoubleType(), True),\n",
    "                            StructField(\"Location\", StringType(), True )\n",
    "                            ])"
   ]
  },
  {
   "cell_type": "code",
   "execution_count": 10,
   "id": "angry-scheduling",
   "metadata": {},
   "outputs": [],
   "source": [
    "crimes = spark.read.csv(\"Crimes_-_2001_to_Present.csv\",\n",
    "                       header = True, \n",
    "                        schema = crimes_schema)"
   ]
  },
  {
   "cell_type": "code",
   "execution_count": 11,
   "id": "received-stopping",
   "metadata": {},
   "outputs": [
    {
     "name": "stdout",
     "output_type": "stream",
     "text": [
      " The crimes dataframe has 7393744 records\n"
     ]
    }
   ],
   "source": [
    "print(\" The crimes dataframe has {} records\".format(crimes.count()))"
   ]
  },
  {
   "cell_type": "code",
   "execution_count": 12,
   "id": "fifty-moral",
   "metadata": {},
   "outputs": [
    {
     "name": "stdout",
     "output_type": "stream",
     "text": [
      "+--------+----------+--------------------+--------------------+----+------------------+--------------------+--------------------+------+--------+----+--------+----+-------------+-------+-----------+-----------+----+---------+------------+-------------+--------------------+\n",
      "|      ID|CaseNumber|                Date|               Block|IUCR|       PrimaryType|         Description| LocationDescription|Arrest|Domestic|Beat|District|Ward|CommunityArea|FBICode|XCoordinate|YCoordinate|Year|UpdatedOn|    Latitude|    Longitude|            Location|\n",
      "+--------+----------+--------------------+--------------------+----+------------------+--------------------+--------------------+------+--------+----+--------+----+-------------+-------+-----------+-----------+----+---------+------------+-------------+--------------------+\n",
      "|10224738|  HY411648|09/05/2015 01:30:...|     043XX S WOOD ST|0486|           BATTERY|DOMESTIC BATTERY ...|           RESIDENCE| false|    true|0924|     009|  12|           61|    08B|  1165074.0|  1875917.0|2015|     null|41.815117282|-87.669999562|(41.815117282, -8...|\n",
      "|10224739|  HY411615|09/04/2015 11:30:...| 008XX N CENTRAL AVE|0870|             THEFT|      POCKET-PICKING|             CTA BUS| false|   false|1511|     015|  29|           25|     06|  1138875.0|  1904869.0|2015|     null|41.895080471|-87.765400451|(41.895080471, -8...|\n",
      "|11646166|  JC213529|09/01/2018 12:01:...|082XX S INGLESIDE...|0810|             THEFT|           OVER $500|           RESIDENCE| false|    true|0631|     006|   8|           44|     06|       null|       null|2018|     null|        null|         null|                null|\n",
      "|10224740|  HY411595|09/05/2015 12:45:...|   035XX W BARRY AVE|2023|         NARCOTICS|POSS: HEROIN(BRN/...|            SIDEWALK|  true|   false|1412|     014|  35|           21|     18|  1152037.0|  1920384.0|2015|     null|41.937405765|-87.716649687|(41.937405765, -8...|\n",
      "|10224741|  HY411610|09/05/2015 01:00:...| 0000X N LARAMIE AVE|0560|           ASSAULT|              SIMPLE|           APARTMENT| false|    true|1522|     015|  28|           25|    08A|  1141706.0|  1900086.0|2015|     null|41.881903443|-87.755121152|(41.881903443, -8...|\n",
      "|10224742|  HY411435|09/05/2015 10:55:...| 082XX S LOOMIS BLVD|0610|          BURGLARY|      FORCIBLE ENTRY|           RESIDENCE| false|   false|0614|     006|  21|           71|     05|  1168430.0|  1850165.0|2015|     null|41.744378879|-87.658430635|(41.744378879, -8...|\n",
      "|10224743|  HY411629|09/04/2015 06:00:...|021XX W CHURCHILL ST|0620|          BURGLARY|      UNLAWFUL ENTRY|    RESIDENCE-GARAGE| false|   false|1434|     014|  32|           24|     05|  1161628.0|  1912157.0|2015|     null|41.914635603|-87.681630909|(41.914635603, -8...|\n",
      "|10224744|  HY411605|09/05/2015 01:00:...|   025XX W CERMAK RD|0860|             THEFT|        RETAIL THEFT|  GROCERY FOOD STORE|  true|   false|1034|     010|  25|           31|     06|  1159734.0|  1889313.0|2015|     null|41.851988885|-87.689219118|(41.851988885, -8...|\n",
      "|10224745|  HY411654|09/05/2015 11:30:...|031XX W WASHINGTO...|0320|           ROBBERY|STRONGARM - NO WE...|              STREET| false|    true|1222|     012|  27|           27|     03|  1155536.0|  1900515.0|2015|     null| 41.88281374|-87.704325717|(41.88281374, -87...|\n",
      "|11645836|  JC212333|05/01/2016 12:25:...| 055XX S ROCKWELL ST|1153|DECEPTIVE PRACTICE|FINANCIAL IDENTIT...|                null| false|   false|0824|     008|  15|           63|     11|       null|       null|2016|     null|        null|         null|                null|\n",
      "|10224746|  HY411662|09/05/2015 02:00:...|  071XX S PULASKI RD|0820|             THEFT|      $500 AND UNDER|PARKING LOT/GARAG...| false|   false|0833|     008|  13|           65|     06|  1150938.0|  1857056.0|2015|     null|41.763647552|-87.722344693|(41.763647552, -8...|\n",
      "|10224749|  HY411626|09/05/2015 11:00:...|052XX N MILWAUKEE...|0460|           BATTERY|              SIMPLE|  SMALL RETAIL STORE| false|   false|1623|     016|  45|           11|    08B|  1137969.0|  1934340.0|2015|     null|41.975968415|-87.768014257|(41.975968415, -8...|\n",
      "|10224750|  HY411632|09/05/2015 03:00:...|    0000X W 103RD ST|2820|     OTHER OFFENSE|    TELEPHONE THREAT|           APARTMENT| false|    true|0512|     005|  34|           49|     26|  1177871.0|  1836676.0|2015|     null|41.707154919|-87.624244993|(41.707154919, -8...|\n",
      "|10224751|  HY411566|09/05/2015 12:50:...|     013XX E 47TH ST|0486|           BATTERY|DOMESTIC BATTERY ...|              STREET| false|    true|0222|     002|   4|           39|    08B|  1185907.0|  1874105.0|2015|     null|41.809678314|-87.593638934|(41.809678314, -8...|\n",
      "|10224752|  HY411601|09/03/2015 01:00:...| 020XX W SCHILLER ST|0810|             THEFT|           OVER $500|              STREET| false|   false|1424|     014|   1|           24|     06|  1162574.0|  1909428.0|2015|     null|41.907127255|-87.678232016|(41.907127255, -8...|\n",
      "|10224753|  HY411489|09/05/2015 11:45:...|  080XX S JUSTINE ST|0497|           BATTERY|AGGRAVATED DOMEST...|           APARTMENT| false|   false|0612|     006|  21|           71|    04B|  1167400.0|  1851512.0|2015|     null|41.748097343|-87.662166183|(41.748097343, -8...|\n",
      "|10224754|  HY411656|09/05/2015 01:30:...|007XX N LEAMINGTO...|1320|   CRIMINAL DAMAGE|          TO VEHICLE|              STREET| false|   false|1531|     015|  28|           25|     14|  1141889.0|  1904448.0|2015|     null|41.893869916|-87.754341096|(41.893869916, -8...|\n",
      "|10224756|  HY410094|07/08/2015 12:00:...|103XX S TORRENCE AVE|0620|          BURGLARY|      UNLAWFUL ENTRY|               OTHER| false|   false|0434|     004|  10|           51|     05|  1195508.0|  1836950.0|2015|     null|41.707490122|-87.559650325|(41.707490122, -8...|\n",
      "|10224757|  HY411388|09/05/2015 09:55:...|  088XX S PAULINA ST|0610|          BURGLARY|      FORCIBLE ENTRY|           RESIDENCE|  true|   false|2221|     022|  21|           71|     05|  1166554.0|  1846067.0|2015|     null|41.733173536|-87.665421067|(41.733173536, -8...|\n",
      "|10224758|  HY411568|09/05/2015 12:35:...|    059XX W GRACE ST|0486|           BATTERY|DOMESTIC BATTERY ...|              STREET| false|    true|1633|     016|  38|           15|    08B|  1136014.0|  1924656.0|2015|     null|41.949429769|-87.775435529|(41.949429769, -8...|\n",
      "+--------+----------+--------------------+--------------------+----+------------------+--------------------+--------------------+------+--------+----+--------+----+-------------+-------+-----------+-----------+----+---------+------------+-------------+--------------------+\n",
      "only showing top 20 rows\n",
      "\n"
     ]
    }
   ],
   "source": [
    "crimes.show()"
   ]
  },
  {
   "cell_type": "markdown",
   "id": "nominated-custody",
   "metadata": {},
   "source": [
    "### Data preprocessing - Spark "
   ]
  },
  {
   "cell_type": "code",
   "execution_count": 13,
   "id": "faced-watershed",
   "metadata": {},
   "outputs": [],
   "source": [
    "dataset = crimes.filter((crimes['Year'] >2009) & (crimes['Year'] <= 2021))"
   ]
  },
  {
   "cell_type": "code",
   "execution_count": 14,
   "id": "rural-anniversary",
   "metadata": {},
   "outputs": [],
   "source": [
    "dataset = dataset.drop('ID')\n",
    "dataset = dataset.drop('Case Number')\n",
    "dataset = dataset.drop('Updated On')\n",
    "dataset = dataset.drop('IUCR')\n",
    "dataset = dataset.drop('Y Coordinate')\n",
    "dataset = dataset.drop('Location')\n",
    "dataset = dataset.drop('Description')"
   ]
  },
  {
   "cell_type": "code",
   "execution_count": 15,
   "id": "amber-stream",
   "metadata": {},
   "outputs": [
    {
     "name": "stdout",
     "output_type": "stream",
     "text": [
      "+----------+--------------------+--------------------+------------------+--------------------+------+--------+----+--------+----+-------------+-------+-----------+-----------+----+---------+------------+-------------+\n",
      "|CaseNumber|                Date|               Block|       PrimaryType| LocationDescription|Arrest|Domestic|Beat|District|Ward|CommunityArea|FBICode|XCoordinate|YCoordinate|Year|UpdatedOn|    Latitude|    Longitude|\n",
      "+----------+--------------------+--------------------+------------------+--------------------+------+--------+----+--------+----+-------------+-------+-----------+-----------+----+---------+------------+-------------+\n",
      "|  HY411648|09/05/2015 01:30:...|     043XX S WOOD ST|           BATTERY|           RESIDENCE| false|    true|0924|     009|  12|           61|    08B|  1165074.0|  1875917.0|2015|     null|41.815117282|-87.669999562|\n",
      "|  HY411615|09/04/2015 11:30:...| 008XX N CENTRAL AVE|             THEFT|             CTA BUS| false|   false|1511|     015|  29|           25|     06|  1138875.0|  1904869.0|2015|     null|41.895080471|-87.765400451|\n",
      "|  JC213529|09/01/2018 12:01:...|082XX S INGLESIDE...|             THEFT|           RESIDENCE| false|    true|0631|     006|   8|           44|     06|       null|       null|2018|     null|        null|         null|\n",
      "|  HY411595|09/05/2015 12:45:...|   035XX W BARRY AVE|         NARCOTICS|            SIDEWALK|  true|   false|1412|     014|  35|           21|     18|  1152037.0|  1920384.0|2015|     null|41.937405765|-87.716649687|\n",
      "|  HY411610|09/05/2015 01:00:...| 0000X N LARAMIE AVE|           ASSAULT|           APARTMENT| false|    true|1522|     015|  28|           25|    08A|  1141706.0|  1900086.0|2015|     null|41.881903443|-87.755121152|\n",
      "|  HY411435|09/05/2015 10:55:...| 082XX S LOOMIS BLVD|          BURGLARY|           RESIDENCE| false|   false|0614|     006|  21|           71|     05|  1168430.0|  1850165.0|2015|     null|41.744378879|-87.658430635|\n",
      "|  HY411629|09/04/2015 06:00:...|021XX W CHURCHILL ST|          BURGLARY|    RESIDENCE-GARAGE| false|   false|1434|     014|  32|           24|     05|  1161628.0|  1912157.0|2015|     null|41.914635603|-87.681630909|\n",
      "|  HY411605|09/05/2015 01:00:...|   025XX W CERMAK RD|             THEFT|  GROCERY FOOD STORE|  true|   false|1034|     010|  25|           31|     06|  1159734.0|  1889313.0|2015|     null|41.851988885|-87.689219118|\n",
      "|  HY411654|09/05/2015 11:30:...|031XX W WASHINGTO...|           ROBBERY|              STREET| false|    true|1222|     012|  27|           27|     03|  1155536.0|  1900515.0|2015|     null| 41.88281374|-87.704325717|\n",
      "|  JC212333|05/01/2016 12:25:...| 055XX S ROCKWELL ST|DECEPTIVE PRACTICE|                null| false|   false|0824|     008|  15|           63|     11|       null|       null|2016|     null|        null|         null|\n",
      "|  HY411662|09/05/2015 02:00:...|  071XX S PULASKI RD|             THEFT|PARKING LOT/GARAG...| false|   false|0833|     008|  13|           65|     06|  1150938.0|  1857056.0|2015|     null|41.763647552|-87.722344693|\n",
      "|  HY411626|09/05/2015 11:00:...|052XX N MILWAUKEE...|           BATTERY|  SMALL RETAIL STORE| false|   false|1623|     016|  45|           11|    08B|  1137969.0|  1934340.0|2015|     null|41.975968415|-87.768014257|\n",
      "|  HY411632|09/05/2015 03:00:...|    0000X W 103RD ST|     OTHER OFFENSE|           APARTMENT| false|    true|0512|     005|  34|           49|     26|  1177871.0|  1836676.0|2015|     null|41.707154919|-87.624244993|\n",
      "|  HY411566|09/05/2015 12:50:...|     013XX E 47TH ST|           BATTERY|              STREET| false|    true|0222|     002|   4|           39|    08B|  1185907.0|  1874105.0|2015|     null|41.809678314|-87.593638934|\n",
      "|  HY411601|09/03/2015 01:00:...| 020XX W SCHILLER ST|             THEFT|              STREET| false|   false|1424|     014|   1|           24|     06|  1162574.0|  1909428.0|2015|     null|41.907127255|-87.678232016|\n",
      "|  HY411489|09/05/2015 11:45:...|  080XX S JUSTINE ST|           BATTERY|           APARTMENT| false|   false|0612|     006|  21|           71|    04B|  1167400.0|  1851512.0|2015|     null|41.748097343|-87.662166183|\n",
      "|  HY411656|09/05/2015 01:30:...|007XX N LEAMINGTO...|   CRIMINAL DAMAGE|              STREET| false|   false|1531|     015|  28|           25|     14|  1141889.0|  1904448.0|2015|     null|41.893869916|-87.754341096|\n",
      "|  HY410094|07/08/2015 12:00:...|103XX S TORRENCE AVE|          BURGLARY|               OTHER| false|   false|0434|     004|  10|           51|     05|  1195508.0|  1836950.0|2015|     null|41.707490122|-87.559650325|\n",
      "|  HY411388|09/05/2015 09:55:...|  088XX S PAULINA ST|          BURGLARY|           RESIDENCE|  true|   false|2221|     022|  21|           71|     05|  1166554.0|  1846067.0|2015|     null|41.733173536|-87.665421067|\n",
      "|  HY411568|09/05/2015 12:35:...|    059XX W GRACE ST|           BATTERY|              STREET| false|    true|1633|     016|  38|           15|    08B|  1136014.0|  1924656.0|2015|     null|41.949429769|-87.775435529|\n",
      "+----------+--------------------+--------------------+------------------+--------------------+------+--------+----+--------+----+-------------+-------+-----------+-----------+----+---------+------------+-------------+\n",
      "only showing top 20 rows\n",
      "\n"
     ]
    }
   ],
   "source": [
    "dataset.show()"
   ]
  },
  {
   "cell_type": "markdown",
   "id": "scheduled-version",
   "metadata": {},
   "source": [
    "### Preprocessing Primary types\n",
    " "
   ]
  },
  {
   "cell_type": "code",
   "execution_count": 16,
   "id": "fixed-parameter",
   "metadata": {},
   "outputs": [
    {
     "name": "stdout",
     "output_type": "stream",
     "text": [
      "+--------------------+------+\n",
      "|         PrimaryType| count|\n",
      "+--------------------+------+\n",
      "|               THEFT|737239|\n",
      "|             BATTERY|604218|\n",
      "|     CRIMINAL DAMAGE|356975|\n",
      "|           NARCOTICS|268698|\n",
      "|             ASSAULT|224246|\n",
      "|       OTHER OFFENSE|202662|\n",
      "|  DECEPTIVE PRACTICE|191405|\n",
      "|            BURGLARY|182714|\n",
      "| MOTOR VEHICLE THEFT|145267|\n",
      "|             ROBBERY|127007|\n",
      "|   CRIMINAL TRESPASS| 81519|\n",
      "|   WEAPONS VIOLATION| 55675|\n",
      "|OFFENSE INVOLVING...| 27153|\n",
      "|PUBLIC PEACE VIOL...| 25747|\n",
      "|        PROSTITUTION| 14972|\n",
      "| CRIM SEXUAL ASSAULT| 13695|\n",
      "|INTERFERENCE WITH...| 12799|\n",
      "|         SEX OFFENSE| 12553|\n",
      "|            HOMICIDE|  6634|\n",
      "|               ARSON|  5349|\n",
      "+--------------------+------+\n",
      "only showing top 20 rows\n",
      "\n"
     ]
    }
   ],
   "source": [
    "primaryCount = dataset.groupby('PrimaryType').count()\n",
    "primaryCount.orderBy('count', ascending=False).show()"
   ]
  },
  {
   "cell_type": "code",
   "execution_count": 122,
   "id": "indonesian-protection",
   "metadata": {},
   "outputs": [
    {
     "name": "stdout",
     "output_type": "stream",
     "text": [
      "Distinct primary types 35\n"
     ]
    }
   ],
   "source": [
    "print('Distinct primary types '+ str(primaryCount.distinct().count()))"
   ]
  },
  {
   "cell_type": "markdown",
   "id": "caring-persian",
   "metadata": {},
   "source": [
    "### Supression des crimes non significant"
   ]
  },
  {
   "cell_type": "code",
   "execution_count": 15,
   "id": "ranging-rocket",
   "metadata": {},
   "outputs": [],
   "source": [
    "dataset = dataset.filter((dataset['PrimaryType']!='STALKING')&\n",
    "                             (dataset['PrimaryType']!='OBSCENITY')&\n",
    "                             (dataset['PrimaryType']!='NON-CRIMINAL (SUBJECT SPECIFIED)')&\n",
    "                             (dataset['PrimaryType']!='GAMBLING')&\n",
    "                             (dataset['PrimaryType']!='NON - CRIMINAL')&\n",
    "                             (dataset['PrimaryType']!='LIQUOR LAW VIOLATION')&\n",
    "                             (dataset['PrimaryType']!='PUBLIC INDECENCY')&\n",
    "                             (dataset['PrimaryType']!='HUMAN TRAFFICKING')&\n",
    "                             (dataset['PrimaryType']!='INTIMIDATION')&\n",
    "                             (dataset['PrimaryType']!='CONCEALED CARRY LICENSE VIOLATION')&\n",
    "                             (dataset['PrimaryType']!='NON-CRIMINAL')&\n",
    "                             (dataset['PrimaryType']!='OTHER NARCOTIC VIOLATION'))"
   ]
  },
  {
   "cell_type": "markdown",
   "id": "perfect-kidney",
   "metadata": {},
   "source": [
    "### Merge des crimes similaires"
   ]
  },
  {
   "cell_type": "code",
   "execution_count": 16,
   "id": "editorial-qualification",
   "metadata": {},
   "outputs": [],
   "source": [
    "dataset = dataset.withColumn(\"PrimaryType\", \\\n",
    "                               when((dataset[\"PrimaryType\"] == 'CRIM SEXUAL ASSAULT') | \\\n",
    "                                    (dataset[\"PrimaryType\"] == 'PROSTITUTION') ,'SEX OFFENSE').otherwise(dataset['PrimaryType']))\n",
    "dataset=dataset.withColumn(\"PrimaryType\", \\\n",
    "                               when((dataset[\"PrimaryType\"] == 'WEAPONS VIOLATION') | \\\n",
    "                                    (dataset[\"PrimaryType\"] == 'INTERFERENCE WITH PUBLIC OFFICER') ,'PUBLIC PEACE VIOLATION').otherwise(dataset['PrimaryType']))\n",
    "dataset=dataset.withColumn(\"PrimaryType\", \\\n",
    "                               when((dataset[\"PrimaryType\"] == 'ARSON') ,'CRIMINAL TRESPASS').otherwise(dataset['PrimaryType']))"
   ]
  },
  {
   "cell_type": "code",
   "execution_count": 125,
   "id": "unlimited-garage",
   "metadata": {},
   "outputs": [
    {
     "name": "stdout",
     "output_type": "stream",
     "text": [
      "+--------------------+------+\n",
      "|         PrimaryType| count|\n",
      "+--------------------+------+\n",
      "|               THEFT|737239|\n",
      "|             BATTERY|604218|\n",
      "|     CRIMINAL DAMAGE|356975|\n",
      "|           NARCOTICS|268698|\n",
      "|             ASSAULT|224246|\n",
      "|       OTHER OFFENSE|202662|\n",
      "|  DECEPTIVE PRACTICE|191405|\n",
      "|            BURGLARY|182714|\n",
      "| MOTOR VEHICLE THEFT|145267|\n",
      "|             ROBBERY|127007|\n",
      "|PUBLIC PEACE VIOL...| 94221|\n",
      "|   CRIMINAL TRESPASS| 86868|\n",
      "|         SEX OFFENSE| 41220|\n",
      "|OFFENSE INVOLVING...| 27153|\n",
      "|            HOMICIDE|  6634|\n",
      "|CRIMINAL SEXUAL A...|  3451|\n",
      "|          KIDNAPPING|  2380|\n",
      "|           RITUALISM|     1|\n",
      "+--------------------+------+\n",
      "\n"
     ]
    }
   ],
   "source": [
    "primaryCount = dataset.groupby('PrimaryType').count()\n",
    "primaryCount.orderBy('count', ascending=False).show()"
   ]
  },
  {
   "cell_type": "code",
   "execution_count": 126,
   "id": "gorgeous-ability",
   "metadata": {},
   "outputs": [
    {
     "name": "stdout",
     "output_type": "stream",
     "text": [
      "Distinct primary types after preprocessing 18\n"
     ]
    }
   ],
   "source": [
    "print('Distinct primary types after preprocessing '+ str(primaryCount.distinct().count()))"
   ]
  },
  {
   "cell_type": "code",
   "execution_count": 17,
   "id": "dried-cardiff",
   "metadata": {},
   "outputs": [
    {
     "name": "stdout",
     "output_type": "stream",
     "text": [
      "+----------+--------------------+--------------------+------------------+--------------------+------+--------+----+--------+----+-------------+-------+-----------+-----------+----+---------+------------+-------------+\n",
      "|CaseNumber|                Date|               Block|       PrimaryType| LocationDescription|Arrest|Domestic|Beat|District|Ward|CommunityArea|FBICode|XCoordinate|YCoordinate|Year|UpdatedOn|    Latitude|    Longitude|\n",
      "+----------+--------------------+--------------------+------------------+--------------------+------+--------+----+--------+----+-------------+-------+-----------+-----------+----+---------+------------+-------------+\n",
      "|  HY411648|09/05/2015 01:30:...|     043XX S WOOD ST|           BATTERY|           RESIDENCE| false|    true|0924|     009|  12|           61|    08B|  1165074.0|  1875917.0|2015|     null|41.815117282|-87.669999562|\n",
      "|  HY411615|09/04/2015 11:30:...| 008XX N CENTRAL AVE|             THEFT|             CTA BUS| false|   false|1511|     015|  29|           25|     06|  1138875.0|  1904869.0|2015|     null|41.895080471|-87.765400451|\n",
      "|  JC213529|09/01/2018 12:01:...|082XX S INGLESIDE...|             THEFT|           RESIDENCE| false|    true|0631|     006|   8|           44|     06|       null|       null|2018|     null|        null|         null|\n",
      "|  HY411595|09/05/2015 12:45:...|   035XX W BARRY AVE|         NARCOTICS|            SIDEWALK|  true|   false|1412|     014|  35|           21|     18|  1152037.0|  1920384.0|2015|     null|41.937405765|-87.716649687|\n",
      "|  HY411610|09/05/2015 01:00:...| 0000X N LARAMIE AVE|           ASSAULT|           APARTMENT| false|    true|1522|     015|  28|           25|    08A|  1141706.0|  1900086.0|2015|     null|41.881903443|-87.755121152|\n",
      "|  HY411435|09/05/2015 10:55:...| 082XX S LOOMIS BLVD|          BURGLARY|           RESIDENCE| false|   false|0614|     006|  21|           71|     05|  1168430.0|  1850165.0|2015|     null|41.744378879|-87.658430635|\n",
      "|  HY411629|09/04/2015 06:00:...|021XX W CHURCHILL ST|          BURGLARY|    RESIDENCE-GARAGE| false|   false|1434|     014|  32|           24|     05|  1161628.0|  1912157.0|2015|     null|41.914635603|-87.681630909|\n",
      "|  HY411605|09/05/2015 01:00:...|   025XX W CERMAK RD|             THEFT|  GROCERY FOOD STORE|  true|   false|1034|     010|  25|           31|     06|  1159734.0|  1889313.0|2015|     null|41.851988885|-87.689219118|\n",
      "|  HY411654|09/05/2015 11:30:...|031XX W WASHINGTO...|           ROBBERY|              STREET| false|    true|1222|     012|  27|           27|     03|  1155536.0|  1900515.0|2015|     null| 41.88281374|-87.704325717|\n",
      "|  JC212333|05/01/2016 12:25:...| 055XX S ROCKWELL ST|DECEPTIVE PRACTICE|                null| false|   false|0824|     008|  15|           63|     11|       null|       null|2016|     null|        null|         null|\n",
      "|  HY411662|09/05/2015 02:00:...|  071XX S PULASKI RD|             THEFT|PARKING LOT/GARAG...| false|   false|0833|     008|  13|           65|     06|  1150938.0|  1857056.0|2015|     null|41.763647552|-87.722344693|\n",
      "|  HY411626|09/05/2015 11:00:...|052XX N MILWAUKEE...|           BATTERY|  SMALL RETAIL STORE| false|   false|1623|     016|  45|           11|    08B|  1137969.0|  1934340.0|2015|     null|41.975968415|-87.768014257|\n",
      "|  HY411632|09/05/2015 03:00:...|    0000X W 103RD ST|     OTHER OFFENSE|           APARTMENT| false|    true|0512|     005|  34|           49|     26|  1177871.0|  1836676.0|2015|     null|41.707154919|-87.624244993|\n",
      "|  HY411566|09/05/2015 12:50:...|     013XX E 47TH ST|           BATTERY|              STREET| false|    true|0222|     002|   4|           39|    08B|  1185907.0|  1874105.0|2015|     null|41.809678314|-87.593638934|\n",
      "|  HY411601|09/03/2015 01:00:...| 020XX W SCHILLER ST|             THEFT|              STREET| false|   false|1424|     014|   1|           24|     06|  1162574.0|  1909428.0|2015|     null|41.907127255|-87.678232016|\n",
      "|  HY411489|09/05/2015 11:45:...|  080XX S JUSTINE ST|           BATTERY|           APARTMENT| false|   false|0612|     006|  21|           71|    04B|  1167400.0|  1851512.0|2015|     null|41.748097343|-87.662166183|\n",
      "|  HY411656|09/05/2015 01:30:...|007XX N LEAMINGTO...|   CRIMINAL DAMAGE|              STREET| false|   false|1531|     015|  28|           25|     14|  1141889.0|  1904448.0|2015|     null|41.893869916|-87.754341096|\n",
      "|  HY410094|07/08/2015 12:00:...|103XX S TORRENCE AVE|          BURGLARY|               OTHER| false|   false|0434|     004|  10|           51|     05|  1195508.0|  1836950.0|2015|     null|41.707490122|-87.559650325|\n",
      "|  HY411388|09/05/2015 09:55:...|  088XX S PAULINA ST|          BURGLARY|           RESIDENCE|  true|   false|2221|     022|  21|           71|     05|  1166554.0|  1846067.0|2015|     null|41.733173536|-87.665421067|\n",
      "|  HY411568|09/05/2015 12:35:...|    059XX W GRACE ST|           BATTERY|              STREET| false|    true|1633|     016|  38|           15|    08B|  1136014.0|  1924656.0|2015|     null|41.949429769|-87.775435529|\n",
      "+----------+--------------------+--------------------+------------------+--------------------+------+--------+----+--------+----+-------------+-------+-----------+-----------+----+---------+------------+-------------+\n",
      "only showing top 20 rows\n",
      "\n"
     ]
    }
   ],
   "source": [
    "dataset.show()"
   ]
  },
  {
   "cell_type": "markdown",
   "id": "indonesian-exploration",
   "metadata": {},
   "source": [
    "### Supression des valeurs NaN"
   ]
  },
  {
   "cell_type": "code",
   "execution_count": 18,
   "id": "focused-narrative",
   "metadata": {},
   "outputs": [
    {
     "name": "stdout",
     "output_type": "stream",
     "text": [
      "+----------+--------------------+--------------------+------------------+--------------------+------+--------+----+--------+----+-------------+-------+-----------+-----------+----+---------+------------+-------------+\n",
      "|CaseNumber|                Date|               Block|       PrimaryType| LocationDescription|Arrest|Domestic|Beat|District|Ward|CommunityArea|FBICode|XCoordinate|YCoordinate|Year|UpdatedOn|    Latitude|    Longitude|\n",
      "+----------+--------------------+--------------------+------------------+--------------------+------+--------+----+--------+----+-------------+-------+-----------+-----------+----+---------+------------+-------------+\n",
      "|  HY411648|09/05/2015 01:30:...|     043XX S WOOD ST|           BATTERY|           RESIDENCE| false|    true|0924|     009|  12|           61|    08B|  1165074.0|  1875917.0|2015|     null|41.815117282|-87.669999562|\n",
      "|  HY411615|09/04/2015 11:30:...| 008XX N CENTRAL AVE|             THEFT|             CTA BUS| false|   false|1511|     015|  29|           25|     06|  1138875.0|  1904869.0|2015|     null|41.895080471|-87.765400451|\n",
      "|  JC213529|09/01/2018 12:01:...|082XX S INGLESIDE...|             THEFT|           RESIDENCE| false|    true|0631|     006|   8|           44|     06|       null|       null|2018|     null|        null|         null|\n",
      "|  HY411595|09/05/2015 12:45:...|   035XX W BARRY AVE|         NARCOTICS|            SIDEWALK|  true|   false|1412|     014|  35|           21|     18|  1152037.0|  1920384.0|2015|     null|41.937405765|-87.716649687|\n",
      "|  HY411610|09/05/2015 01:00:...| 0000X N LARAMIE AVE|           ASSAULT|           APARTMENT| false|    true|1522|     015|  28|           25|    08A|  1141706.0|  1900086.0|2015|     null|41.881903443|-87.755121152|\n",
      "|  HY411435|09/05/2015 10:55:...| 082XX S LOOMIS BLVD|          BURGLARY|           RESIDENCE| false|   false|0614|     006|  21|           71|     05|  1168430.0|  1850165.0|2015|     null|41.744378879|-87.658430635|\n",
      "|  HY411629|09/04/2015 06:00:...|021XX W CHURCHILL ST|          BURGLARY|    RESIDENCE-GARAGE| false|   false|1434|     014|  32|           24|     05|  1161628.0|  1912157.0|2015|     null|41.914635603|-87.681630909|\n",
      "|  HY411605|09/05/2015 01:00:...|   025XX W CERMAK RD|             THEFT|  GROCERY FOOD STORE|  true|   false|1034|     010|  25|           31|     06|  1159734.0|  1889313.0|2015|     null|41.851988885|-87.689219118|\n",
      "|  HY411654|09/05/2015 11:30:...|031XX W WASHINGTO...|           ROBBERY|              STREET| false|    true|1222|     012|  27|           27|     03|  1155536.0|  1900515.0|2015|     null| 41.88281374|-87.704325717|\n",
      "|  JC212333|05/01/2016 12:25:...| 055XX S ROCKWELL ST|DECEPTIVE PRACTICE|                null| false|   false|0824|     008|  15|           63|     11|       null|       null|2016|     null|        null|         null|\n",
      "|  HY411662|09/05/2015 02:00:...|  071XX S PULASKI RD|             THEFT|PARKING LOT/GARAG...| false|   false|0833|     008|  13|           65|     06|  1150938.0|  1857056.0|2015|     null|41.763647552|-87.722344693|\n",
      "|  HY411626|09/05/2015 11:00:...|052XX N MILWAUKEE...|           BATTERY|  SMALL RETAIL STORE| false|   false|1623|     016|  45|           11|    08B|  1137969.0|  1934340.0|2015|     null|41.975968415|-87.768014257|\n",
      "|  HY411632|09/05/2015 03:00:...|    0000X W 103RD ST|     OTHER OFFENSE|           APARTMENT| false|    true|0512|     005|  34|           49|     26|  1177871.0|  1836676.0|2015|     null|41.707154919|-87.624244993|\n",
      "|  HY411566|09/05/2015 12:50:...|     013XX E 47TH ST|           BATTERY|              STREET| false|    true|0222|     002|   4|           39|    08B|  1185907.0|  1874105.0|2015|     null|41.809678314|-87.593638934|\n",
      "|  HY411601|09/03/2015 01:00:...| 020XX W SCHILLER ST|             THEFT|              STREET| false|   false|1424|     014|   1|           24|     06|  1162574.0|  1909428.0|2015|     null|41.907127255|-87.678232016|\n",
      "|  HY411489|09/05/2015 11:45:...|  080XX S JUSTINE ST|           BATTERY|           APARTMENT| false|   false|0612|     006|  21|           71|    04B|  1167400.0|  1851512.0|2015|     null|41.748097343|-87.662166183|\n",
      "|  HY411656|09/05/2015 01:30:...|007XX N LEAMINGTO...|   CRIMINAL DAMAGE|              STREET| false|   false|1531|     015|  28|           25|     14|  1141889.0|  1904448.0|2015|     null|41.893869916|-87.754341096|\n",
      "|  HY410094|07/08/2015 12:00:...|103XX S TORRENCE AVE|          BURGLARY|               OTHER| false|   false|0434|     004|  10|           51|     05|  1195508.0|  1836950.0|2015|     null|41.707490122|-87.559650325|\n",
      "|  HY411388|09/05/2015 09:55:...|  088XX S PAULINA ST|          BURGLARY|           RESIDENCE|  true|   false|2221|     022|  21|           71|     05|  1166554.0|  1846067.0|2015|     null|41.733173536|-87.665421067|\n",
      "|  HY411568|09/05/2015 12:35:...|    059XX W GRACE ST|           BATTERY|              STREET| false|    true|1633|     016|  38|           15|    08B|  1136014.0|  1924656.0|2015|     null|41.949429769|-87.775435529|\n",
      "+----------+--------------------+--------------------+------------------+--------------------+------+--------+----+--------+----+-------------+-------+-----------+-----------+----+---------+------------+-------------+\n",
      "only showing top 20 rows\n",
      "\n"
     ]
    }
   ],
   "source": [
    "#dataset=dataset.na.drop()\n",
    "dataset.show()"
   ]
  },
  {
   "cell_type": "markdown",
   "id": "premium-induction",
   "metadata": {},
   "source": [
    "### Feature Engineering"
   ]
  },
  {
   "cell_type": "code",
   "execution_count": 19,
   "id": "operational-delay",
   "metadata": {},
   "outputs": [],
   "source": [
    "selected_features = [\n",
    " 'LocationDescription',\n",
    " 'Arrest',\n",
    " 'Domestic',\n",
    " 'Beat',\n",
    " 'District',\n",
    " 'Ward',\n",
    " 'CommunityArea',\n",
    " 'FBICode',\n",
    " 'Year']"
   ]
  },
  {
   "cell_type": "code",
   "execution_count": 20,
   "id": "selective-shower",
   "metadata": {},
   "outputs": [
    {
     "name": "stdout",
     "output_type": "stream",
     "text": [
      "root\n",
      " |-- LocationDescription: string (nullable = true)\n",
      " |-- Arrest: string (nullable = true)\n",
      " |-- Domestic: string (nullable = true)\n",
      " |-- Beat: string (nullable = true)\n",
      " |-- District: string (nullable = true)\n",
      " |-- Ward: string (nullable = true)\n",
      " |-- CommunityArea: string (nullable = true)\n",
      " |-- FBICode: string (nullable = true)\n",
      " |-- Year: integer (nullable = true)\n",
      "\n"
     ]
    }
   ],
   "source": [
    "features_df = dataset.select(selected_features)\n",
    "features_df.printSchema()"
   ]
  },
  {
   "cell_type": "code",
   "execution_count": 21,
   "id": "major-parish",
   "metadata": {},
   "outputs": [
    {
     "name": "stdout",
     "output_type": "stream",
     "text": [
      "Analysing LocationDescription\n",
      "Analysing Arrest\n",
      "Analysing Domestic\n",
      "Analysing Beat\n",
      "Analysing District\n",
      "Analysing Ward\n",
      "Analysing CommunityArea\n",
      "Analysing FBICode\n",
      "Analysing Year\n"
     ]
    }
   ],
   "source": [
    "feature_level_count_dic = []\n",
    "\n",
    "for feature in selected_features:\n",
    "    print('Analysing %s' % feature)\n",
    "    levels_list_df = features_df.select(feature).distinct()\n",
    "    feature_level_count_dic.append({'feature': feature, 'level_count': levels_list_df.count()})"
   ]
  },
  {
   "cell_type": "code",
   "execution_count": 22,
   "id": "infrared-corruption",
   "metadata": {},
   "outputs": [
    {
     "data": {
      "text/html": [
       "<div>\n",
       "<style scoped>\n",
       "    .dataframe tbody tr th:only-of-type {\n",
       "        vertical-align: middle;\n",
       "    }\n",
       "\n",
       "    .dataframe tbody tr th {\n",
       "        vertical-align: top;\n",
       "    }\n",
       "\n",
       "    .dataframe thead th {\n",
       "        text-align: right;\n",
       "    }\n",
       "</style>\n",
       "<table border=\"1\" class=\"dataframe\">\n",
       "  <thead>\n",
       "    <tr style=\"text-align: right;\">\n",
       "      <th></th>\n",
       "      <th>feature</th>\n",
       "      <th>level_count</th>\n",
       "    </tr>\n",
       "  </thead>\n",
       "  <tbody>\n",
       "    <tr>\n",
       "      <th>3</th>\n",
       "      <td>Beat</td>\n",
       "      <td>303</td>\n",
       "    </tr>\n",
       "    <tr>\n",
       "      <th>0</th>\n",
       "      <td>LocationDescription</td>\n",
       "      <td>199</td>\n",
       "    </tr>\n",
       "    <tr>\n",
       "      <th>6</th>\n",
       "      <td>CommunityArea</td>\n",
       "      <td>79</td>\n",
       "    </tr>\n",
       "    <tr>\n",
       "      <th>5</th>\n",
       "      <td>Ward</td>\n",
       "      <td>51</td>\n",
       "    </tr>\n",
       "    <tr>\n",
       "      <th>7</th>\n",
       "      <td>FBICode</td>\n",
       "      <td>25</td>\n",
       "    </tr>\n",
       "    <tr>\n",
       "      <th>4</th>\n",
       "      <td>District</td>\n",
       "      <td>24</td>\n",
       "    </tr>\n",
       "    <tr>\n",
       "      <th>8</th>\n",
       "      <td>Year</td>\n",
       "      <td>12</td>\n",
       "    </tr>\n",
       "    <tr>\n",
       "      <th>1</th>\n",
       "      <td>Arrest</td>\n",
       "      <td>2</td>\n",
       "    </tr>\n",
       "    <tr>\n",
       "      <th>2</th>\n",
       "      <td>Domestic</td>\n",
       "      <td>2</td>\n",
       "    </tr>\n",
       "  </tbody>\n",
       "</table>\n",
       "</div>"
      ],
      "text/plain": [
       "               feature  level_count\n",
       "3                 Beat          303\n",
       "0  LocationDescription          199\n",
       "6        CommunityArea           79\n",
       "5                 Ward           51\n",
       "7              FBICode           25\n",
       "4             District           24\n",
       "8                 Year           12\n",
       "1               Arrest            2\n",
       "2             Domestic            2"
      ]
     },
     "execution_count": 22,
     "metadata": {},
     "output_type": "execute_result"
    }
   ],
   "source": [
    "pd.DataFrame(feature_level_count_dic).sort_values(by='level_count', ascending=False)"
   ]
  },
  {
   "cell_type": "markdown",
   "id": "hundred-insured",
   "metadata": {},
   "source": [
    "### Preparing Model "
   ]
  },
  {
   "cell_type": "code",
   "execution_count": 23,
   "id": "raising-norway",
   "metadata": {},
   "outputs": [],
   "source": [
    "from pyspark.ml.feature import StringIndexer, VectorAssembler\n",
    "df_dates_features = dataset.na.drop(subset=selected_features)"
   ]
  },
  {
   "cell_type": "code",
   "execution_count": 24,
   "id": "educational-legend",
   "metadata": {},
   "outputs": [
    {
     "name": "stdout",
     "output_type": "stream",
     "text": [
      "root\n",
      " |-- CaseNumber: string (nullable = true)\n",
      " |-- Date: string (nullable = true)\n",
      " |-- Block: string (nullable = true)\n",
      " |-- PrimaryType: string (nullable = true)\n",
      " |-- LocationDescription: string (nullable = true)\n",
      " |-- Arrest: string (nullable = true)\n",
      " |-- Domestic: string (nullable = true)\n",
      " |-- Beat: string (nullable = true)\n",
      " |-- District: string (nullable = true)\n",
      " |-- Ward: string (nullable = true)\n",
      " |-- CommunityArea: string (nullable = true)\n",
      " |-- FBICode: string (nullable = true)\n",
      " |-- XCoordinate: double (nullable = true)\n",
      " |-- YCoordinate: double (nullable = true)\n",
      " |-- Year: integer (nullable = true)\n",
      " |-- UpdatedOn: date (nullable = true)\n",
      " |-- Latitude: double (nullable = true)\n",
      " |-- Longitude: double (nullable = true)\n",
      "\n"
     ]
    }
   ],
   "source": [
    "dataset.printSchema()"
   ]
  },
  {
   "cell_type": "code",
   "execution_count": 60,
   "id": "quick-train",
   "metadata": {},
   "outputs": [
    {
     "name": "stdout",
     "output_type": "stream",
     "text": [
      "+------+\n",
      "|Arrest|\n",
      "+------+\n",
      "| false|\n",
      "|  true|\n",
      "+------+\n",
      "\n"
     ]
    }
   ],
   "source": [
    "dataset.select('Arrest').distinct().show()"
   ]
  },
  {
   "cell_type": "markdown",
   "id": "satisfactory-premises",
   "metadata": {},
   "source": [
    "Indexation des features "
   ]
  },
  {
   "cell_type": "code",
   "execution_count": 25,
   "id": "solid-season",
   "metadata": {},
   "outputs": [
    {
     "name": "stdout",
     "output_type": "stream",
     "text": [
      "Fitting feature \"LocationDescription\"\n",
      "Transforming \"LocationDescription\"\n",
      "Fitting feature \"Arrest\"\n",
      "Transforming \"Arrest\"\n",
      "Fitting feature \"Domestic\"\n",
      "Transforming \"Domestic\"\n",
      "Fitting feature \"Beat\"\n",
      "Transforming \"Beat\"\n",
      "Fitting feature \"District\"\n",
      "Transforming \"District\"\n",
      "Fitting feature \"Ward\"\n",
      "Transforming \"Ward\"\n",
      "Fitting feature \"CommunityArea\"\n",
      "Transforming \"CommunityArea\"\n",
      "Fitting feature \"FBICode\"\n",
      "Transforming \"FBICode\"\n",
      "Fitting feature \"Year\"\n",
      "Transforming \"Year\"\n"
     ]
    }
   ],
   "source": [
    "for feature in feature_level_count_dic:\n",
    "    indexer = StringIndexer(inputCol=feature['feature'], outputCol='%s_indexed' % feature['feature'])\n",
    "    print('Fitting feature \"%s\"' % feature['feature'])\n",
    "    model = indexer.fit(df_dates_features)\n",
    "    print('Transforming \"%s\"' % feature['feature'])\n",
    "    df_dates_features = model.transform(df_dates_features)"
   ]
  },
  {
   "cell_type": "code",
   "execution_count": 26,
   "id": "designed-addiction",
   "metadata": {},
   "outputs": [],
   "source": [
    "## String-index des features:\n",
    "response_indexer = StringIndexer(inputCol='PrimaryType', outputCol='PrimaryType_indexed')\n",
    "response_model = response_indexer.fit(df_dates_features)\n",
    "df_dates_features = response_model.transform(df_dates_features)"
   ]
  },
  {
   "cell_type": "code",
   "execution_count": 27,
   "id": "surprised-geography",
   "metadata": {},
   "outputs": [
    {
     "name": "stdout",
     "output_type": "stream",
     "text": [
      "+----------+--------------------+---------------+-----------+-------------------+------+--------+----+--------+----+-------------+-------+-----------+-----------+----+---------+------------+-------------+---------------------------+--------------+----------------+------------+----------------+------------+---------------------+---------------+------------+-------------------+\n",
      "|CaseNumber|                Date|          Block|PrimaryType|LocationDescription|Arrest|Domestic|Beat|District|Ward|CommunityArea|FBICode|XCoordinate|YCoordinate|Year|UpdatedOn|    Latitude|    Longitude|LocationDescription_indexed|Arrest_indexed|Domestic_indexed|Beat_indexed|District_indexed|Ward_indexed|CommunityArea_indexed|FBICode_indexed|Year_indexed|PrimaryType_indexed|\n",
      "+----------+--------------------+---------------+-----------+-------------------+------+--------+----+--------+----+-------------+-------+-----------+-----------+----+---------+------------+-------------+---------------------------+--------------+----------------+------------+----------------+------------+---------------------+---------------+------------+-------------------+\n",
      "|  HY411648|09/05/2015 01:30:...|043XX S WOOD ST|    BATTERY|          RESIDENCE| false|    true|0924|     009|  12|           61|    08B|  1165074.0|  1875917.0|2015|     null|41.815117282|-87.669999562|                        1.0|           0.0|             1.0|       119.0|             8.0|        35.0|                 18.0|            1.0|         8.0|                1.0|\n",
      "+----------+--------------------+---------------+-----------+-------------------+------+--------+----+--------+----+-------------+-------+-----------+-----------+----+---------+------------+-------------+---------------------------+--------------+----------------+------------+----------------+------------+---------------------+---------------+------------+-------------------+\n",
      "only showing top 1 row\n",
      "\n"
     ]
    }
   ],
   "source": [
    "df_dates_features.show(1)"
   ]
  },
  {
   "cell_type": "markdown",
   "id": "original-mother",
   "metadata": {},
   "source": [
    "Vectorisons nos variables\n",
    "\n",
    "Nous utilisons a vecteur assembleur :"
   ]
  },
  {
   "cell_type": "code",
   "execution_count": 28,
   "id": "stupid-bulgarian",
   "metadata": {},
   "outputs": [
    {
     "data": {
      "text/plain": [
       "['LocationDescription_indexed',\n",
       " 'Arrest_indexed',\n",
       " 'Domestic_indexed',\n",
       " 'Beat_indexed',\n",
       " 'District_indexed',\n",
       " 'Ward_indexed',\n",
       " 'CommunityArea_indexed',\n",
       " 'FBICode_indexed',\n",
       " 'Year_indexed']"
      ]
     },
     "execution_count": 28,
     "metadata": {},
     "output_type": "execute_result"
    }
   ],
   "source": [
    "indexed_features = ['%s_indexed' % fc['feature'] for fc in feature_level_count_dic]\n",
    "indexed_features"
   ]
  },
  {
   "cell_type": "code",
   "execution_count": 29,
   "id": "metallic-pregnancy",
   "metadata": {},
   "outputs": [],
   "source": [
    "assembler = VectorAssembler(inputCols=indexed_features, outputCol='features')\n",
    "vectorized_df_dates = assembler.transform(df_dates_features)"
   ]
  },
  {
   "cell_type": "code",
   "execution_count": 30,
   "id": "figured-stamp",
   "metadata": {},
   "outputs": [
    {
     "data": {
      "text/plain": [
       "[Row(features=DenseVector([1.0, 0.0, 1.0, 119.0, 8.0, 35.0, 18.0, 1.0, 8.0]))]"
      ]
     },
     "execution_count": 30,
     "metadata": {},
     "output_type": "execute_result"
    }
   ],
   "source": [
    "vectorized_df_dates.select('features').take(1)"
   ]
  },
  {
   "cell_type": "markdown",
   "id": "significant-short",
   "metadata": {},
   "source": [
    "### Entrainement du modèle"
   ]
  },
  {
   "cell_type": "markdown",
   "id": "abandoned-apartment",
   "metadata": {},
   "source": [
    "Séparation"
   ]
  },
  {
   "cell_type": "code",
   "execution_count": 31,
   "id": "satellite-month",
   "metadata": {},
   "outputs": [],
   "source": [
    "train, test = vectorized_df_dates.randomSplit([0.6, 0.4])"
   ]
  },
  {
   "cell_type": "code",
   "execution_count": 32,
   "id": "consecutive-chemistry",
   "metadata": {},
   "outputs": [],
   "source": [
    "from pyspark.ml.classification import LogisticRegression"
   ]
  },
  {
   "cell_type": "markdown",
   "id": "dirty-tribe",
   "metadata": {},
   "source": [
    "### Régression logistique "
   ]
  },
  {
   "cell_type": "code",
   "execution_count": 45,
   "id": "laden-response",
   "metadata": {},
   "outputs": [],
   "source": [
    "logisticRegression = LogisticRegression(labelCol='PrimaryType_indexed', featuresCol='features', maxIter=10, family='multinomial')"
   ]
  },
  {
   "cell_type": "code",
   "execution_count": 46,
   "id": "demonstrated-warren",
   "metadata": {},
   "outputs": [],
   "source": [
    "fittedModel = logisticRegression.fit(train)"
   ]
  },
  {
   "cell_type": "markdown",
   "id": "reasonable-hours",
   "metadata": {},
   "source": [
    "### Model performance"
   ]
  },
  {
   "cell_type": "code",
   "execution_count": 47,
   "id": "auburn-lafayette",
   "metadata": {},
   "outputs": [
    {
     "data": {
      "text/plain": [
       "0.5104731631838821"
      ]
     },
     "execution_count": 47,
     "metadata": {},
     "output_type": "execute_result"
    }
   ],
   "source": [
    "fittedModel.summary.accuracy"
   ]
  },
  {
   "cell_type": "code",
   "execution_count": 48,
   "id": "coupled-revelation",
   "metadata": {},
   "outputs": [
    {
     "data": {
      "text/plain": [
       "<pyspark.ml.classification.LogisticRegressionTrainingSummary at 0x138d4d05688>"
      ]
     },
     "execution_count": 48,
     "metadata": {},
     "output_type": "execute_result"
    }
   ],
   "source": [
    "model_summary = fittedModel.summary\n",
    "model_summary"
   ]
  },
  {
   "cell_type": "code",
   "execution_count": 49,
   "id": "narrow-guinea",
   "metadata": {},
   "outputs": [
    {
     "data": {
      "text/plain": [
       "DenseMatrix(18, 9, [0.0155, -0.7901, -1.7199, 0.0044, 0.0855, 0.0072, 0.0094, -1.4153, ..., -0.0001, 0.0002, -0.0, -0.0, -0.0, -0.0, 0.0, 0.0], 1)"
      ]
     },
     "execution_count": 49,
     "metadata": {},
     "output_type": "execute_result"
    }
   ],
   "source": [
    "fittedModel.coefficientMatrix"
   ]
  },
  {
   "cell_type": "code",
   "execution_count": 50,
   "id": "wrong-hepatitis",
   "metadata": {},
   "outputs": [
    {
     "name": "stdout",
     "output_type": "stream",
     "text": [
      "DenseMatrix([[ 1.54938249e-02, -7.90088589e-01, -1.71993523e+00,\n",
      "               4.37204467e-03,  8.54897510e-02,  7.21930038e-03,\n",
      "               9.40922886e-03, -1.41530509e+00,  1.75965772e-01],\n",
      "             [ 2.05344963e-02,  1.63685889e-01,  2.48594422e+00,\n",
      "               2.61022128e-03,  3.96607860e-02,  7.11780011e-03,\n",
      "               4.05231869e-03, -3.00755861e-01,  1.06533757e-01],\n",
      "             [ 1.72886544e-03, -2.13712821e+00,  1.09879122e+00,\n",
      "               3.15538000e-03,  3.78974846e-02,  1.62867200e-02,\n",
      "               9.36903351e-03, -3.81702624e-01,  1.57852583e-01],\n",
      "             [-3.76391763e-02,  6.07240616e+00, -2.22588250e+00,\n",
      "              -3.64784076e-03, -6.77679315e-02, -2.44105277e-02,\n",
      "              -1.53367351e-02, -1.46405328e-01, -2.32705085e-01],\n",
      "             [ 9.67413212e-03, -5.01731714e-01,  2.39348699e+00,\n",
      "              -5.23950480e-04, -9.57645593e-03, -1.50667246e-03,\n",
      "               2.21320275e-03,  2.14440093e-01, -1.73990115e-02],\n",
      "             [-1.24673527e-02, -2.52044146e-01,  2.89583895e+00,\n",
      "               1.23575561e-03,  2.15142346e-02,  1.08244069e-02,\n",
      "               8.32641597e-03, -1.39508170e-01,  6.01504633e-02],\n",
      "             [ 1.65303156e-02, -1.76075744e+00, -1.63628640e+00,\n",
      "              -2.18340535e-04,  1.88408045e-02, -7.60766953e-04,\n",
      "              -1.34082717e-03,  2.58436302e-01,  9.15134446e-03],\n",
      "             [ 5.72772733e-03, -1.89915307e+00, -1.42539432e+00,\n",
      "               9.75802791e-04,  5.24411918e-03,  2.12298198e-02,\n",
      "               6.71390033e-03,  9.67741758e-02, -4.58838398e-02],\n",
      "             [-4.08379647e-02, -1.73344269e+00, -1.31174469e+00,\n",
      "               1.92062461e-04, -1.46332685e-02,  8.17514507e-03,\n",
      "               1.27876603e-03,  3.06733816e-01, -6.90231418e-02],\n",
      "             [-4.73187621e-03, -1.39409817e+00, -1.05819973e+00,\n",
      "              -1.19485768e-03, -1.87620175e-02, -9.81390575e-03,\n",
      "              -6.70064606e-03,  3.60382756e-01, -6.32633651e-02],\n",
      "             [-1.75364562e-02,  2.00107256e+00, -1.01600570e+00,\n",
      "              -5.38283370e-03, -7.34709693e-02, -2.48879109e-02,\n",
      "              -1.38724233e-02,  3.78462067e-01, -5.52252100e-02],\n",
      "             [ 3.31513864e-02,  1.89155817e+00, -3.57950909e-01,\n",
      "               3.12750869e-04,  1.53220763e-02, -4.50533510e-03,\n",
      "               7.74525238e-05, -3.58640182e-02, -8.25146585e-03],\n",
      "             [-7.56332337e-03,  5.02391142e-01,  9.09544155e-03,\n",
      "              -2.19208545e-03, -4.30394779e-02, -1.13986370e-02,\n",
      "              -1.00258167e-02,  4.02791656e-01, -8.52161810e-02],\n",
      "             [-4.65888448e-03, -2.18968622e-01,  1.75617328e+00,\n",
      "              -2.26316560e-04, -4.41126580e-03,  3.65707818e-03,\n",
      "               3.65584291e-03,  2.27156115e-01,  1.00483378e-02],\n",
      "             [ 1.82416451e-02,  1.20869356e-01, -1.23505051e-02,\n",
      "               2.94099940e-05,  3.72523517e-04, -3.03846865e-04,\n",
      "               1.76926644e-04,  1.19066505e-01,  2.10388370e-02],\n",
      "             [ 4.22414704e-03, -4.13210414e-02,  5.65638719e-02,\n",
      "               3.08748988e-04,  4.76720466e-03,  1.49275059e-03,\n",
      "               7.02131341e-04,  4.31852242e-02,  3.20594305e-02],\n",
      "             [ 1.28626294e-04, -2.31865234e-02,  6.76500985e-02,\n",
      "               1.94394443e-04,  2.56329816e-03,  1.58861334e-03,\n",
      "               1.30232622e-03,  1.21052453e-02,  4.15806284e-03],\n",
      "             [-1.32491140e-07, -6.30532178e-05,  2.05883623e-04,\n",
      "              -3.45949597e-07, -1.08960549e-05, -4.03175521e-06,\n",
      "              -1.09740960e-06,  7.13478457e-06,  8.71209827e-06]])\n"
     ]
    }
   ],
   "source": [
    "print(fittedModel.coefficientMatrix)"
   ]
  },
  {
   "cell_type": "code",
   "execution_count": 51,
   "id": "ready-slave",
   "metadata": {},
   "outputs": [
    {
     "name": "stdout",
     "output_type": "stream",
     "text": [
      "Coefficient matrix:\n",
      "Row count = 18\n",
      "Col count = 9\n"
     ]
    }
   ],
   "source": [
    "print('Coefficient matrix:\\nRow count = %s\\nCol count = %s' % (fittedModel.coefficientMatrix.numRows, fittedModel.coefficientMatrix.numCols))"
   ]
  },
  {
   "cell_type": "code",
   "execution_count": 52,
   "id": "young-maximum",
   "metadata": {},
   "outputs": [
    {
     "name": "stdout",
     "output_type": "stream",
     "text": [
      "Model:\n",
      "Num Classes = 18\n",
      "Num Features = 9\n"
     ]
    }
   ],
   "source": [
    "print('Model:\\nNum Classes = %s\\nNum Features = %s' % (fittedModel.numClasses, fittedModel.numFeatures))"
   ]
  },
  {
   "cell_type": "code",
   "execution_count": 135,
   "id": "structured-enzyme",
   "metadata": {},
   "outputs": [
    {
     "name": "stdout",
     "output_type": "stream",
     "text": [
      "Training \"primary_type\" factor level count = 18\n"
     ]
    }
   ],
   "source": [
    "print('Training \"primary_type\" factor level count = %s' % train.select('PrimaryType_indexed').distinct().count())"
   ]
  },
  {
   "cell_type": "code",
   "execution_count": 53,
   "id": "operational-hopkins",
   "metadata": {},
   "outputs": [
    {
     "name": "stdout",
     "output_type": "stream",
     "text": [
      "+------------------------------------------+\n",
      "|features                                  |\n",
      "+------------------------------------------+\n",
      "|[1.0,0.0,1.0,119.0,8.0,35.0,18.0,1.0,8.0] |\n",
      "|[26.0,0.0,0.0,107.0,15.0,18.0,0.0,0.0,8.0]|\n",
      "+------------------------------------------+\n",
      "only showing top 2 rows\n",
      "\n"
     ]
    }
   ],
   "source": [
    "vectorized_df_dates.select('features').show(2, truncate=False)"
   ]
  },
  {
   "cell_type": "code",
   "execution_count": 137,
   "id": "vanilla-daughter",
   "metadata": {},
   "outputs": [
    {
     "data": {
      "text/plain": [
       "18"
      ]
     },
     "execution_count": 137,
     "metadata": {},
     "output_type": "execute_result"
    }
   ],
   "source": [
    "fittedModel.numClasses"
   ]
  },
  {
   "cell_type": "code",
   "execution_count": 138,
   "id": "rough-underground",
   "metadata": {},
   "outputs": [
    {
     "data": {
      "text/plain": [
       "9"
      ]
     },
     "execution_count": 138,
     "metadata": {},
     "output_type": "execute_result"
    }
   ],
   "source": [
    "fittedModel.numFeatures"
   ]
  },
  {
   "cell_type": "code",
   "execution_count": 140,
   "id": "instructional-convert",
   "metadata": {},
   "outputs": [
    {
     "data": {
      "text/plain": [
       "18"
      ]
     },
     "execution_count": 140,
     "metadata": {},
     "output_type": "execute_result"
    }
   ],
   "source": [
    "train.select('PrimaryType_indexed').distinct().count()"
   ]
  },
  {
   "cell_type": "code",
   "execution_count": 141,
   "id": "liquid-sentence",
   "metadata": {},
   "outputs": [
    {
     "name": "stdout",
     "output_type": "stream",
     "text": [
      "[2.3471699627373153, 2.047512628384678, 1.927207712023048, 1.7920399555427182, 1.7275775994154927, 1.6452940122554582, 1.630919487061892, 1.5541222709098568, 1.543171443715006, 1.528196015216986, 1.4944269735717701]\n",
      "\n",
      "Objective history size  11\n"
     ]
    }
   ],
   "source": [
    "print(model_summary.objectiveHistory)\n",
    "print()\n",
    "print('Objective history size ', len(model_summary.objectiveHistory))"
   ]
  },
  {
   "cell_type": "code",
   "execution_count": 143,
   "id": "living-celtic",
   "metadata": {},
   "outputs": [
    {
     "name": "stdout",
     "output_type": "stream",
     "text": [
      "{0.0: {'index': 0.0}, 1.0: {'index': 1.0}, 2.0: {'index': 2.0}, 3.0: {'index': 3.0}, 4.0: {'index': 4.0}, 5.0: {'index': 5.0}, 6.0: {'index': 6.0}, 7.0: {'index': 7.0}, 8.0: {'index': 8.0}, 9.0: {'index': 9.0}, 10.0: {'index': 10.0}, 11.0: {'index': 11.0}, 12.0: {'index': 12.0}, 13.0: {'index': 13.0}, 14.0: {'index': 14.0}, 15.0: {'index': 15.0}, 16.0: {'index': 16.0}, 17.0: {'index': 17.0}, 18.0: {'index': 18.0}, 19.0: {'index': 19.0}, 20.0: {'index': 20.0}, 21.0: {'index': 21.0}, 22.0: {'index': 22.0}, 23.0: {'index': 23.0}, 24.0: {'index': 24.0}, 25.0: {'index': 25.0}, 26.0: {'index': 26.0}, 27.0: {'index': 27.0}, 28.0: {'index': 28.0}, 29.0: {'index': 29.0}, 30.0: {'index': 30.0}, 31.0: {'index': 31.0}, 32.0: {'index': 32.0}, 33.0: {'index': 33.0}}\n"
     ]
    }
   ],
   "source": [
    "label_stats = {float(i):{'index': float(i)} for i in range(34)}\n",
    "print(label_stats)"
   ]
  },
  {
   "cell_type": "code",
   "execution_count": 54,
   "id": "extra-lottery",
   "metadata": {},
   "outputs": [
    {
     "name": "stdout",
     "output_type": "stream",
     "text": [
      "Intercept: [3.7011535257929946,2.704635199829962,2.5157821376325566,1.3596615168621424,1.2228738703735678,1.497247772838806,0.9047543364717285,1.498633891601703,0.9707348486746903,0.8580598638904492,0.27285426999765394,0.5557164008050451,-0.3100238436782924,-0.5882471358001135,-1.949568397935904,-2.6056850263623694,-3.03008550465665,-9.578497726337968]\n"
     ]
    }
   ],
   "source": [
    "# Affichage des coefficients multinomial logistic regression \n",
    "print(\"Intercept: \" + str(fittedModel.interceptVector))"
   ]
  },
  {
   "cell_type": "code",
   "execution_count": 56,
   "id": "needed-mistress",
   "metadata": {},
   "outputs": [
    {
     "name": "stdout",
     "output_type": "stream",
     "text": [
      "objectiveHistory:\n",
      "2.3466766002513353\n",
      "2.046847650840424\n",
      "1.9266881255755162\n",
      "1.7915751556022557\n",
      "1.7270246542321832\n",
      "1.6457818604643588\n",
      "1.625777891557425\n",
      "1.551904173552308\n",
      "1.5406666469394823\n",
      "1.5245030448170087\n",
      "1.4911038733211073\n"
     ]
    }
   ],
   "source": [
    "# Obtention de l'objectif par itération\n",
    "objectiveHistory = model_summary.objectiveHistory\n",
    "print(\"objectiveHistory:\")\n",
    "for objective in objectiveHistory:\n",
    "    print(objective)"
   ]
  },
  {
   "cell_type": "code",
   "execution_count": 57,
   "id": "disturbed-cincinnati",
   "metadata": {},
   "outputs": [
    {
     "name": "stdout",
     "output_type": "stream",
     "text": [
      "False positive rate by label:\n",
      "label 0: 0.0970866442612539\n",
      "label 1: 0.16978206868484333\n",
      "label 2: 0.0501507708907124\n",
      "label 3: 0.049720900701496026\n",
      "label 4: 0.017130909533496774\n",
      "label 5: 0.00012083998897335101\n",
      "label 6: 0.07482752833778977\n",
      "label 7: 0.022211072731132167\n",
      "label 8: 0.029690567221037488\n",
      "label 9: 0.03113442957254676\n",
      "label 10: 0.015052619014981212\n",
      "label 11: 0.004446136229614075\n",
      "label 12: 0.00020917659785542718\n",
      "label 13: 0.0\n",
      "label 14: 0.0\n",
      "label 15: 0.0\n",
      "label 16: 0.0\n",
      "label 17: 0.0\n",
      "True positive rate by label:\n",
      "label 0: 0.936635031371039\n",
      "label 1: 0.4620722318291461\n",
      "label 2: 0.47713196760362075\n",
      "label 3: 0.8246389442231076\n",
      "label 4: 0.15978370669677341\n",
      "label 5: 6.592120767652464e-05\n",
      "label 6: 0.4808246710137415\n",
      "label 7: 0.27318890877872354\n",
      "label 8: 0.3422345137821028\n",
      "label 9: 0.22565977409125457\n",
      "label 10: 0.7002037381521835\n",
      "label 11: 0.020257543724774167\n",
      "label 12: 0.013812492360347145\n",
      "label 13: 0.0\n",
      "label 14: 0.0\n",
      "label 15: 0.0\n",
      "label 16: 0.0\n",
      "label 17: 0.0\n",
      "Precision by label:\n",
      "label 0: 0.7352645700680829\n",
      "label 1: 0.3801058718800753\n",
      "label 2: 0.5363319437589911\n",
      "label 3: 0.5948788417668086\n",
      "label 4: 0.40558069381598794\n",
      "label 5: 0.034482758620689655\n",
      "label 6: 0.2747530283582167\n",
      "label 7: 0.4192409037394181\n",
      "label 8: 0.3472797987796358\n",
      "label 9: 0.22559178380077813\n",
      "label 10: 0.5777962954841162\n",
      "label 11: 0.10974593919200333\n",
      "label 12: 0.4538152610441767\n",
      "label 13: 0.0\n",
      "label 14: 0.0\n",
      "label 15: 0.0\n",
      "label 16: 0.0\n",
      "label 17: 0.0\n",
      "Recall by label:\n",
      "label 0: 0.936635031371039\n",
      "label 1: 0.4620722318291461\n",
      "label 2: 0.47713196760362075\n",
      "label 3: 0.8246389442231076\n",
      "label 4: 0.15978370669677341\n",
      "label 5: 6.592120767652464e-05\n",
      "label 6: 0.4808246710137415\n",
      "label 7: 0.27318890877872354\n",
      "label 8: 0.3422345137821028\n",
      "label 9: 0.22565977409125457\n",
      "label 10: 0.7002037381521835\n",
      "label 11: 0.020257543724774167\n",
      "label 12: 0.013812492360347145\n",
      "label 13: 0.0\n",
      "label 14: 0.0\n",
      "label 15: 0.0\n",
      "label 16: 0.0\n",
      "label 17: 0.0\n",
      "F-measure by label:\n",
      "label 0: 0.8238228576153036\n",
      "label 1: 0.41710029690259387\n",
      "label 2: 0.5050029167202222\n",
      "label 3: 0.6911646544437604\n",
      "label 4: 0.2292510337184023\n",
      "label 5: 0.00013159085114607406\n",
      "label 6: 0.34968748966566354\n",
      "label 7: 0.3308117673081177\n",
      "label 8: 0.344738697707753\n",
      "label 9: 0.22562577382395138\n",
      "label 10: 0.6331378956811483\n",
      "label 11: 0.03420190154784697\n",
      "label 12: 0.02680901542111506\n",
      "label 13: 0.0\n",
      "label 14: 0.0\n",
      "label 15: 0.0\n",
      "label 16: 0.0\n",
      "label 17: 0.0\n"
     ]
    }
   ],
   "source": [
    "print(\"False positive rate by label:\")\n",
    "for i, rate in enumerate(model_summary.falsePositiveRateByLabel):\n",
    "    print(\"label %d: %s\" % (i, rate))\n",
    "\n",
    "print(\"True positive rate by label:\")\n",
    "for i, rate in enumerate(model_summary.truePositiveRateByLabel):\n",
    "    print(\"label %d: %s\" % (i, rate))\n",
    "\n",
    "print(\"Precision by label:\")\n",
    "for i, prec in enumerate(model_summary.precisionByLabel):\n",
    "    print(\"label %d: %s\" % (i, prec))\n",
    "\n",
    "print(\"Recall by label:\")\n",
    "for i, rec in enumerate(model_summary.recallByLabel):\n",
    "    print(\"label %d: %s\" % (i, rec))\n",
    "\n",
    "print(\"F-measure by label:\")\n",
    "for i, f in enumerate(model_summary.fMeasureByLabel()):\n",
    "    print(\"label %d: %s\" % (i, f))"
   ]
  },
  {
   "cell_type": "code",
   "execution_count": 58,
   "id": "marine-pressing",
   "metadata": {},
   "outputs": [
    {
     "name": "stdout",
     "output_type": "stream",
     "text": [
      "Accuracy: 0.5104731631838821\n",
      "FPR: 0.07203682694961477\n",
      "TPR: 0.510473163183882\n",
      "F-measure: 0.468505973300628\n",
      "Precision: 0.4581589225159007\n",
      "Recall: 0.510473163183882\n"
     ]
    }
   ],
   "source": [
    "accuracy = model_summary.accuracy\n",
    "falsePositiveRate = model_summary.weightedFalsePositiveRate\n",
    "truePositiveRate = model_summary.weightedTruePositiveRate\n",
    "fMeasure = model_summary.weightedFMeasure()\n",
    "precision = model_summary.weightedPrecision\n",
    "recall = model_summary.weightedRecall\n",
    "print(\"Accuracy: %s\\nFPR: %s\\nTPR: %s\\nF-measure: %s\\nPrecision: %s\\nRecall: %s\"\n",
    "      % (accuracy, falsePositiveRate, truePositiveRate, fMeasure, precision, recall))"
   ]
  },
  {
   "cell_type": "code",
   "execution_count": 154,
   "id": "humanitarian-construction",
   "metadata": {},
   "outputs": [
    {
     "data": {
      "text/plain": [
       "PythonRDD[883] at RDD at PythonRDD.scala:53"
      ]
     },
     "execution_count": 154,
     "metadata": {},
     "output_type": "execute_result"
    }
   ],
   "source": [
    "train_rdd = train.select(['PrimaryType', 'PrimaryType_indexed']).distinct().orderBy('PrimaryType_indexed').rdd.map(lambda l: l.asDict())\n",
    "train_rdd"
   ]
  },
  {
   "cell_type": "markdown",
   "id": "complimentary-sherman",
   "metadata": {},
   "source": [
    "### Predictions"
   ]
  },
  {
   "cell_type": "code",
   "execution_count": 61,
   "id": "cubic-ridge",
   "metadata": {
    "scrolled": true
   },
   "outputs": [
    {
     "name": "stdout",
     "output_type": "stream",
     "text": [
      "+----------+-------------------+\n",
      "|prediction|PrimaryType_indexed|\n",
      "+----------+-------------------+\n",
      "|       4.0|               12.0|\n",
      "|       4.0|               12.0|\n",
      "|       3.0|                3.0|\n",
      "|       9.0|                6.0|\n",
      "|       3.0|                3.0|\n",
      "|       3.0|                3.0|\n",
      "|       4.0|               12.0|\n",
      "|       3.0|                3.0|\n",
      "|       3.0|                3.0|\n",
      "|       1.0|                5.0|\n",
      "|       3.0|                3.0|\n",
      "|       3.0|                3.0|\n",
      "|       1.0|                5.0|\n",
      "|       3.0|                3.0|\n",
      "|       3.0|                3.0|\n",
      "|       3.0|                3.0|\n",
      "|       3.0|                3.0|\n",
      "|       3.0|                3.0|\n",
      "|       3.0|                3.0|\n",
      "|       3.0|                3.0|\n",
      "+----------+-------------------+\n",
      "only showing top 20 rows\n",
      "\n"
     ]
    }
   ],
   "source": [
    "predictions = fittedModel.transform(test)\n",
    "predictions.select(\"prediction\", \"PrimaryType_indexed\").show()"
   ]
  },
  {
   "cell_type": "markdown",
   "id": "clear-relations",
   "metadata": {},
   "source": [
    "### Random Forest"
   ]
  },
  {
   "cell_type": "code",
   "execution_count": 33,
   "id": "modified-notebook",
   "metadata": {},
   "outputs": [],
   "source": [
    "from pyspark.ml.regression import GeneralizedLinearRegression\n",
    "from pyspark.ml.classification import LogisticRegression, DecisionTreeClassifier\n",
    "from pyspark.ml.classification import RandomForestClassifier\n",
    "from pyspark.ml.classification import MultilayerPerceptronClassifier\n",
    "from pyspark.ml.evaluation import MulticlassClassificationEvaluator\n",
    "from pyspark.ml.classification import LinearSVC"
   ]
  },
  {
   "cell_type": "code",
   "execution_count": 34,
   "id": "indoor-artwork",
   "metadata": {},
   "outputs": [],
   "source": [
    "dtc = RandomForestClassifier(labelCol=\"PrimaryType_indexed\",featuresCol=\"features\", numTrees = 100,maxDepth = 4,maxBins = 304)\n",
    "dtc = dtc.fit(train)"
   ]
  },
  {
   "cell_type": "code",
   "execution_count": 35,
   "id": "municipal-craps",
   "metadata": {},
   "outputs": [],
   "source": [
    "predictions = dtc.transform(test)"
   ]
  },
  {
   "cell_type": "code",
   "execution_count": 36,
   "id": "unsigned-curve",
   "metadata": {},
   "outputs": [
    {
     "data": {
      "text/plain": [
       "DataFrame[CaseNumber: string, Date: string, Block: string, PrimaryType: string, LocationDescription: string, Arrest: string, Domestic: string, Beat: string, District: string, Ward: string, CommunityArea: string, FBICode: string, XCoordinate: double, YCoordinate: double, Year: int, UpdatedOn: date, Latitude: double, Longitude: double, LocationDescription_indexed: double, Arrest_indexed: double, Domestic_indexed: double, Beat_indexed: double, District_indexed: double, Ward_indexed: double, CommunityArea_indexed: double, FBICode_indexed: double, Year_indexed: double, PrimaryType_indexed: double, features: vector, rawPrediction: vector, probability: vector, prediction: double]"
      ]
     },
     "execution_count": 36,
     "metadata": {},
     "output_type": "execute_result"
    }
   ],
   "source": [
    "predictions"
   ]
  },
  {
   "cell_type": "code",
   "execution_count": 37,
   "id": "intensive-interface",
   "metadata": {},
   "outputs": [
    {
     "name": "stdout",
     "output_type": "stream",
     "text": [
      "Test set accuracy = 0.5999875598681346\n"
     ]
    }
   ],
   "source": [
    "evaluator = MulticlassClassificationEvaluator(labelCol=\"PrimaryType_indexed\", predictionCol=\"prediction\",\n",
    " metricName=\"accuracy\")\n",
    "accuracy = evaluator.evaluate(predictions)\n",
    "print(\"Test set accuracy = \" + str(accuracy))"
   ]
  },
  {
   "cell_type": "markdown",
   "id": "private-twist",
   "metadata": {},
   "source": [
    "### Bayes Classifier"
   ]
  },
  {
   "cell_type": "code",
   "execution_count": 42,
   "id": "meaning-border",
   "metadata": {},
   "outputs": [],
   "source": [
    "from pyspark.ml.classification import NaiveBayes\n",
    "from pyspark.ml.evaluation import MulticlassClassificationEvaluator"
   ]
  },
  {
   "cell_type": "code",
   "execution_count": 43,
   "id": "alternative-special",
   "metadata": {},
   "outputs": [],
   "source": [
    "nb = NaiveBayes(labelCol='PrimaryType_indexed', featuresCol='features',smoothing=1.0, modelType=\"multinomial\")"
   ]
  },
  {
   "cell_type": "code",
   "execution_count": 44,
   "id": "solar-ocean",
   "metadata": {},
   "outputs": [],
   "source": [
    "# Fit le model\n",
    "model = nb.fit(train)"
   ]
  },
  {
   "cell_type": "code",
   "execution_count": 51,
   "id": "experienced-cancellation",
   "metadata": {},
   "outputs": [
    {
     "data": {
      "text/plain": [
       "NaiveBayesModel: uid=NaiveBayes_a9b77b17559b, modelType=multinomial, numClasses=17, numFeatures=9"
      ]
     },
     "execution_count": 51,
     "metadata": {},
     "output_type": "execute_result"
    }
   ],
   "source": [
    "model.setFeaturesCol(\"features\")"
   ]
  },
  {
   "cell_type": "code",
   "execution_count": 52,
   "id": "laden-gravity",
   "metadata": {},
   "outputs": [
    {
     "data": {
      "text/plain": [
       "1.0"
      ]
     },
     "execution_count": 52,
     "metadata": {},
     "output_type": "execute_result"
    }
   ],
   "source": [
    "model.getSmoothing()"
   ]
  },
  {
   "cell_type": "code",
   "execution_count": 53,
   "id": "earned-effect",
   "metadata": {},
   "outputs": [
    {
     "data": {
      "text/plain": [
       "'PrimaryType_indexed'"
      ]
     },
     "execution_count": 53,
     "metadata": {},
     "output_type": "execute_result"
    }
   ],
   "source": [
    "model.getLabelCol()"
   ]
  },
  {
   "cell_type": "code",
   "execution_count": 54,
   "id": "blind-administration",
   "metadata": {},
   "outputs": [
    {
     "data": {
      "text/plain": [
       "'prediction'"
      ]
     },
     "execution_count": 54,
     "metadata": {},
     "output_type": "execute_result"
    }
   ],
   "source": [
    "model.getPredictionCol()"
   ]
  },
  {
   "cell_type": "code",
   "execution_count": 58,
   "id": "reflected-novelty",
   "metadata": {},
   "outputs": [
    {
     "name": "stdout",
     "output_type": "stream",
     "text": [
      "root\n",
      " |-- CaseNumber: string (nullable = true)\n",
      " |-- Date: string (nullable = true)\n",
      " |-- Block: string (nullable = true)\n",
      " |-- PrimaryType: string (nullable = true)\n",
      " |-- LocationDescription: string (nullable = true)\n",
      " |-- Arrest: string (nullable = true)\n",
      " |-- Domestic: string (nullable = true)\n",
      " |-- Beat: string (nullable = true)\n",
      " |-- District: string (nullable = true)\n",
      " |-- Ward: string (nullable = true)\n",
      " |-- CommunityArea: string (nullable = true)\n",
      " |-- FBICode: string (nullable = true)\n",
      " |-- XCoordinate: double (nullable = true)\n",
      " |-- YCoordinate: double (nullable = true)\n",
      " |-- Year: integer (nullable = true)\n",
      " |-- UpdatedOn: date (nullable = true)\n",
      " |-- Latitude: double (nullable = true)\n",
      " |-- Longitude: double (nullable = true)\n",
      " |-- LocationDescription_indexed: double (nullable = false)\n",
      " |-- Arrest_indexed: double (nullable = false)\n",
      " |-- Domestic_indexed: double (nullable = false)\n",
      " |-- Beat_indexed: double (nullable = false)\n",
      " |-- District_indexed: double (nullable = false)\n",
      " |-- Ward_indexed: double (nullable = false)\n",
      " |-- CommunityArea_indexed: double (nullable = false)\n",
      " |-- FBICode_indexed: double (nullable = false)\n",
      " |-- Year_indexed: double (nullable = false)\n",
      " |-- PrimaryType_indexed: double (nullable = false)\n",
      " |-- features: vector (nullable = true)\n",
      " |-- rawPrediction: vector (nullable = true)\n",
      " |-- probability: vector (nullable = true)\n",
      " |-- prediction: double (nullable = false)\n",
      "\n"
     ]
    }
   ],
   "source": [
    "predictions.printSchema()"
   ]
  },
  {
   "cell_type": "code",
   "execution_count": 60,
   "id": "necessary-superior",
   "metadata": {},
   "outputs": [
    {
     "name": "stdout",
     "output_type": "stream",
     "text": [
      "Test set accuracy = 0.3439429697869872\n"
     ]
    }
   ],
   "source": [
    "evaluator = MulticlassClassificationEvaluator(labelCol=\"PrimaryType_indexed\", predictionCol=\"prediction\",\n",
    " metricName=\"accuracy\")\n",
    "accuracy = evaluator.evaluate(predictions)\n",
    "print(\"Test set accuracy = \" + str(accuracy))"
   ]
  },
  {
   "cell_type": "code",
   "execution_count": 61,
   "id": "antique-stephen",
   "metadata": {},
   "outputs": [
    {
     "name": "stdout",
     "output_type": "stream",
     "text": [
      "+-------------------+----------+--------------------+\n",
      "|PrimaryType_indexed|prediction|         probability|\n",
      "+-------------------+----------+--------------------+\n",
      "|                6.0|       8.0|[7.95322027935241...|\n",
      "|                2.0|       5.0|[3.11339454214646...|\n",
      "|                1.0|      11.0|[1.63270339488149...|\n",
      "|               12.0|      12.0|[5.04594864705636...|\n",
      "|                3.0|       3.0|[1.36974332620380...|\n",
      "|                3.0|       8.0|[2.63126253589758...|\n",
      "|               12.0|       8.0|[1.48829282504429...|\n",
      "|               15.0|      12.0|[6.91556902154661...|\n",
      "|               12.0|       8.0|[1.12657052546990...|\n",
      "|                3.0|       3.0|[1.41578039688462...|\n",
      "|               12.0|      13.0|[1.42615323702761...|\n",
      "|               10.0|       8.0|[7.15256251752953...|\n",
      "|               10.0|      12.0|[4.50895197259987...|\n",
      "|               12.0|      12.0|[7.61212490520277...|\n",
      "|                3.0|       3.0|[1.86579783925165...|\n",
      "|                3.0|       8.0|[6.96074955928512...|\n",
      "|                3.0|      11.0|[1.35989836899251...|\n",
      "|                3.0|       3.0|[7.40391750765779...|\n",
      "|                5.0|      14.0|[3.01515945617447...|\n",
      "|                3.0|       8.0|[1.44957201717584...|\n",
      "+-------------------+----------+--------------------+\n",
      "only showing top 20 rows\n",
      "\n"
     ]
    }
   ],
   "source": [
    "# Prediction sur l'ensemble test\n",
    "predictions = model.transform(test)\n",
    "predictions.select(\"PrimaryType_indexed\", \"prediction\", \"probability\").show()"
   ]
  },
  {
   "cell_type": "markdown",
   "id": "czech-interstate",
   "metadata": {},
   "source": [
    "### MLP"
   ]
  },
  {
   "cell_type": "code",
   "execution_count": 38,
   "id": "referenced-production",
   "metadata": {},
   "outputs": [],
   "source": [
    "# create the trainer and set its parameters\n",
    "from pyspark.ml.classification import MultilayerPerceptronClassifier\n",
    "from pyspark.ml.evaluation import MulticlassClassificationEvaluator\n",
    "\n",
    "layers = [4,5,5,18]\n",
    "trainer = MultilayerPerceptronClassifier(labelCol='PrimaryType_indexed',featuresCol='features',maxIter=100, layers=layers, blockSize=128, seed=1234)"
   ]
  },
  {
   "cell_type": "code",
   "execution_count": 39,
   "id": "established-ultimate",
   "metadata": {},
   "outputs": [],
   "source": [
    "# train the model\n",
    "model = trainer.fit(train)"
   ]
  },
  {
   "cell_type": "code",
   "execution_count": 41,
   "id": "developmental-eagle",
   "metadata": {
    "scrolled": true
   },
   "outputs": [
    {
     "data": {
      "text/plain": [
       "DataFrame[CaseNumber: string, Date: string, Block: string, PrimaryType: string, LocationDescription: string, Arrest: string, Domestic: string, Beat: string, District: string, Ward: string, CommunityArea: string, FBICode: string, XCoordinate: double, YCoordinate: double, Year: int, UpdatedOn: date, Latitude: double, Longitude: double, LocationDescription_indexed: double, Arrest_indexed: double, Domestic_indexed: double, Beat_indexed: double, District_indexed: double, Ward_indexed: double, CommunityArea_indexed: double, FBICode_indexed: double, Year_indexed: double, PrimaryType_indexed: double, features: vector, rawPrediction: vector, probability: vector, prediction: double]"
      ]
     },
     "execution_count": 41,
     "metadata": {},
     "output_type": "execute_result"
    }
   ],
   "source": [
    "#compute accuracy on the test set\n",
    "result = model.transform(test)\n",
    "result"
   ]
  },
  {
   "cell_type": "code",
   "execution_count": 3,
   "id": "copyrighted-protein",
   "metadata": {
    "scrolled": true
   },
   "outputs": [
    {
     "data": {
      "image/jpeg": "[encoded data removed]",
      "text/plain": [
       "<IPython.core.display.Image object>"
      ]
     },
     "execution_count": 3,
     "metadata": {},
     "output_type": "execute_result"
    }
   ],
   "source": [
    "evaluator = MulticlassClassificationEvaluator(labelCol=\"PrimaryType_indexed\", predictionCol=\"prediction\",\n",
    " metricName=\"accuracy\")\n",
    "accuracy = evaluator.evaluate(predictions)\n",
    "print(\"Accuracy = \" + str(accuracy))"
   ]
  }
 ],
 "metadata": {
  "kernelspec": {
   "display_name": "Python 3",
   "language": "python",
   "name": "python3"
  },
  "language_info": {
   "codemirror_mode": {
    "name": "ipython",
    "version": 3
   },
   "file_extension": ".py",
   "mimetype": "text/x-python",
   "name": "python",
   "nbconvert_exporter": "python",
   "pygments_lexer": "ipython3",
   "version": "3.7.9"
  }
 },
 "nbformat": 4,
 "nbformat_minor": 5
}
